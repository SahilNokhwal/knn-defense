{
 "cells": [
  {
   "cell_type": "code",
   "execution_count": 1,
   "metadata": {},
   "outputs": [],
   "source": [
    "%matplotlib inline\n",
    "\n",
    "%load_ext autoreload\n",
    "%autoreload 2"
   ]
  },
  {
   "cell_type": "code",
   "execution_count": 2,
   "metadata": {},
   "outputs": [],
   "source": [
    "import os\n",
    "import time\n",
    "\n",
    "import numpy as np\n",
    "import matplotlib.pyplot as plt\n",
    "import torch\n",
    "import torch.nn as nn\n",
    "\n",
    "from lib.dataset_utils import *\n",
    "from lib.mnist_model import *\n",
    "from lib.adv_model import *\n",
    "from lib.dknn_attack_v2 import DKNNAttackV2\n",
    "from lib.dknn import DKNNL2\n",
    "from lib.utils import *"
   ]
  },
  {
   "cell_type": "code",
   "execution_count": 3,
   "metadata": {},
   "outputs": [],
   "source": [
    "import os\n",
    "os.environ[\"CUDA_DEVICE_ORDER\"] = \"PCI_BUS_ID\"\n",
    "os.environ[\"CUDA_VISIBLE_DEVICES\"] = \"0\""
   ]
  },
  {
   "cell_type": "code",
   "execution_count": 4,
   "metadata": {},
   "outputs": [],
   "source": [
    "# Set all random seeds\n",
    "seed = 2020\n",
    "np.random.seed(seed)\n",
    "torch.manual_seed(seed)\n",
    "\n",
    "device = 'cuda' if torch.cuda.is_available() else 'cpu'"
   ]
  },
  {
   "cell_type": "code",
   "execution_count": 5,
   "metadata": {},
   "outputs": [],
   "source": [
    "(x_train, y_train), (x_valid, y_valid), (x_test, y_test) = load_mnist_all(\n",
    "    '/data', val_size=0.1, shuffle=True, seed=seed)"
   ]
  },
  {
   "cell_type": "markdown",
   "metadata": {},
   "source": [
    "Create model. Here is `mnist_at.h5`."
   ]
  },
  {
   "cell_type": "code",
   "execution_count": 6,
   "metadata": {},
   "outputs": [],
   "source": [
    "model_name = 'mnist_at.h5'\n",
    "basic_net = BasicModel()\n",
    "config = {'epsilon': 0.3,\n",
    "          'num_steps': 40,\n",
    "          'step_size': 0.01,\n",
    "          'random_start': True,\n",
    "          'loss_func': 'xent'}\n",
    "net = PGDL2Model(basic_net, config)"
   ]
  },
  {
   "cell_type": "markdown",
   "metadata": {},
   "source": [
    "Load model weight"
   ]
  },
  {
   "cell_type": "code",
   "execution_count": 8,
   "metadata": {},
   "outputs": [
    {
     "data": {
      "text/plain": [
       "BasicModel(\n",
       "  (conv1): Conv2d(1, 64, kernel_size=(8, 8), stride=(2, 2), padding=(3, 3))\n",
       "  (relu1): ReLU(inplace=True)\n",
       "  (conv2): Conv2d(64, 128, kernel_size=(6, 6), stride=(2, 2), padding=(3, 3))\n",
       "  (relu2): ReLU(inplace=True)\n",
       "  (conv3): Conv2d(128, 128, kernel_size=(5, 5), stride=(1, 1))\n",
       "  (relu3): ReLU(inplace=True)\n",
       "  (fc): Linear(in_features=2048, out_features=10, bias=True)\n",
       ")"
      ]
     },
     "execution_count": 8,
     "metadata": {},
     "output_type": "execute_result"
    }
   ],
   "source": [
    "# Set up model directory\n",
    "save_dir = os.path.join(os.getcwd(), 'saved_models/mnist/')\n",
    "if not os.path.isdir(save_dir):\n",
    "    os.makedirs(save_dir)\n",
    "model_path = os.path.join(save_dir, model_name)\n",
    "\n",
    "net = net.to(device)\n",
    "net.load_state_dict(torch.load(model_path))\n",
    "net = net.basic_net\n",
    "net.eval()"
   ]
  },
  {
   "cell_type": "markdown",
   "metadata": {},
   "source": [
    "Build DkNN"
   ]
  },
  {
   "cell_type": "code",
   "execution_count": 9,
   "metadata": {},
   "outputs": [],
   "source": [
    "layers = ['relu1', 'relu2', 'relu3', 'fc']\n",
    "\n",
    "dknn = DKNNL2(net, x_train, y_train, x_valid, y_valid, layers, \n",
    "              k=75, cosine=True, num_classes=10)"
   ]
  },
  {
   "cell_type": "markdown",
   "metadata": {},
   "source": [
    "Build kNN on neural network representation"
   ]
  },
  {
   "cell_type": "code",
   "execution_count": null,
   "metadata": {},
   "outputs": [],
   "source": [
    "layers = ['relu3']\n",
    "\n",
    "dknn = DKNNL2(net, x_train, y_train, x_valid, y_valid, layers, \n",
    "              k=15, cosine=False, num_classes=10)"
   ]
  },
  {
   "cell_type": "markdown",
   "metadata": {},
   "source": [
    "This is how to build an ordinary kNN without neural network components"
   ]
  },
  {
   "cell_type": "code",
   "execution_count": 24,
   "metadata": {},
   "outputs": [],
   "source": [
    "net_knn = KNNModel()\n",
    "layers = ['identity']\n",
    "dknn = DKNNL2(net_knn, x_train, y_train, x_test, y_test, \n",
    "              layers, k=5, num_classes=10)"
   ]
  },
  {
   "cell_type": "markdown",
   "metadata": {},
   "source": [
    "Check clean accuracy"
   ]
  },
  {
   "cell_type": "code",
   "execution_count": 25,
   "metadata": {},
   "outputs": [
    {
     "name": "stdout",
     "output_type": "stream",
     "text": [
      "0.9671\n"
     ]
    }
   ],
   "source": [
    "with torch.no_grad():\n",
    "    y_pred = dknn.classify(x_test)\n",
    "    ind = np.where(y_pred.argmax(1) == y_test.numpy())[0]\n",
    "    print((y_pred.argmax(1) == y_test.numpy()).sum() / y_test.size(0))"
   ]
  },
  {
   "cell_type": "markdown",
   "metadata": {},
   "source": [
    "Helper functions we use in the evaluation section. Set attack parameters in `attack_batch`."
   ]
  },
  {
   "cell_type": "code",
   "execution_count": 35,
   "metadata": {},
   "outputs": [],
   "source": [
    "def attack_batch(attack, x, y, init_mode, init_mode_k, batch_size):\n",
    "    x_adv = torch.zeros_like(x)\n",
    "    total_num = x.size(0)\n",
    "    num_batches = int(np.ceil(total_num / batch_size))\n",
    "    for i in range(num_batches):\n",
    "        begin = i * batch_size\n",
    "        end = (i + 1) * batch_size\n",
    "        x_adv[begin:end] = attack(\n",
    "            x[begin:end], y[begin:end], 2, guide_layer=layers, m=6,\n",
    "            init_mode=init_mode, init_mode_k=init_mode_k,\n",
    "            binary_search_steps=10, max_iterations=1000, learning_rate=1e-1,\n",
    "            initial_const=1e0, max_linf=None, random_start=True,\n",
    "            thres_steps=200, check_adv_steps=200, verbose=False)\n",
    "    return x_adv\n",
    "\n",
    "num = 2\n",
    "\n",
    "def full_eval(dknn):\n",
    "    with torch.no_grad():\n",
    "        y_pred = dknn.classify(x_test)\n",
    "        ind = np.where(y_pred.argmax(1) == y_test.numpy())[0]\n",
    "    print((y_pred.argmax(1) == y_test.numpy()).sum() / y_test.size(0))\n",
    "    \n",
    "    dist_all = np.zeros(num) + 1e9\n",
    "    x_adv_all = x_test[ind][:num].clone()\n",
    "    attack = DKNNAttackV2(dknn)\n",
    "    \n",
    "    x_adv = attack_batch(\n",
    "        attack, x_test[ind][:num].cuda(), y_test[ind][:num], 1, 1, 100)\n",
    "    with torch.no_grad():\n",
    "        y_pred = dknn.classify(x_adv)\n",
    "        ind_adv = y_pred.argmax(1) != y_test[ind][:num].numpy()\n",
    "        dist = (x_adv.cpu() - x_test[ind][:num]).view(\n",
    "            num, -1).norm(2, 1).numpy()\n",
    "    for i in range(num):\n",
    "        if ind_adv[i] and (dist[i] < dist_all[i]):\n",
    "            dist_all[i] = dist[i]\n",
    "            x_adv_all[i] = x_adv[i]\n",
    "            \n",
    "    for k in range(1, 3):\n",
    "        x_adv = attack_batch(\n",
    "            attack, x_test[ind][:num].cuda(), y_test[ind][:num], 2, k, 100)\n",
    "        with torch.no_grad():\n",
    "            y_pred = dknn.classify(x_adv)\n",
    "            ind_adv = y_pred.argmax(1) != y_test[ind][:num].numpy()\n",
    "            dist = (x_adv.cpu() - x_test[ind][:num]).view(\n",
    "                num, -1).norm(2, 1).numpy()\n",
    "        for i in range(num):\n",
    "            if ind_adv[i] and (dist[i] < dist_all[i]):\n",
    "                dist_all[i] = dist[i]\n",
    "                x_adv_all[i] = x_adv[i]\n",
    "                \n",
    "    adv_acc = (dist_all == 1e9).mean()\n",
    "    print('adv accuracy: %.4f, mean dist: %.4f' % (\n",
    "        adv_acc, dist_all[dist_all < 1e9].mean()))\n",
    "    return dist_all, x_adv_all"
   ]
  },
  {
   "cell_type": "markdown",
   "metadata": {},
   "source": [
    "Running the attack with full evaluation"
   ]
  },
  {
   "cell_type": "code",
   "execution_count": 36,
   "metadata": {
    "scrolled": true
   },
   "outputs": [
    {
     "name": "stdout",
     "output_type": "stream",
     "text": [
      "0.9671\n",
      "adv accuracy: 0.0000, mean dist: 2.6631\n",
      "Total time 73.4050s\n"
     ]
    }
   ],
   "source": [
    "start = time.time()\n",
    "dist, x_adv = full_eval(dknn)\n",
    "print('Total time %.4fs' % (time.time() - start))"
   ]
  },
  {
   "cell_type": "code",
   "execution_count": 37,
   "metadata": {},
   "outputs": [
    {
     "data": {
      "text/plain": [
       "2.663069009780884"
      ]
     },
     "execution_count": 37,
     "metadata": {},
     "output_type": "execute_result"
    }
   ],
   "source": [
    "dist.mean()"
   ]
  },
  {
   "cell_type": "markdown",
   "metadata": {},
   "source": [
    "Showing some examples"
   ]
  },
  {
   "cell_type": "code",
   "execution_count": 40,
   "metadata": {},
   "outputs": [
    {
     "name": "stdout",
     "output_type": "stream",
     "text": [
      "clean\n"
     ]
    },
    {
     "data": {
      "image/png": "[encoded data removed]",
      "text/plain": [
       "<Figure size 432x288 with 1 Axes>"
      ]
     },
     "metadata": {
      "needs_background": "light"
     },
     "output_type": "display_data"
    },
    {
     "name": "stdout",
     "output_type": "stream",
     "text": [
      "adv\n"
     ]
    },
    {
     "data": {
      "image/png": "[encoded data removed]",
      "text/plain": [
       "<Figure size 432x288 with 1 Axes>"
      ]
     },
     "metadata": {
      "needs_background": "light"
     },
     "output_type": "display_data"
    }
   ],
   "source": [
    "i = 0\n",
    "print('clean')\n",
    "plt.imshow(x_test[i].detach().reshape(28, 28), cmap='gray')\n",
    "plt.show()\n",
    "print('adv')\n",
    "plt.imshow(x_adv[i].detach().reshape(28, 28), cmap='gray')\n",
    "plt.show()"
   ]
  }
 ],
 "metadata": {
  "kernelspec": {
   "display_name": "Python 3",
   "language": "python",
   "name": "python3"
  },
  "language_info": {
   "codemirror_mode": {
    "name": "ipython",
    "version": 3
   },
   "file_extension": ".py",
   "mimetype": "text/x-python",
   "name": "python",
   "nbconvert_exporter": "python",
   "pygments_lexer": "ipython3",
   "version": "3.6.5"
  }
 },
 "nbformat": 4,
 "nbformat_minor": 4
}
