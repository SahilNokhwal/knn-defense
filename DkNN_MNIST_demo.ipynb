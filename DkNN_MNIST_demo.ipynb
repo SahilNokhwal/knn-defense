{
 "cells": [
  {
   "cell_type": "code",
   "execution_count": 1,
   "metadata": {},
   "outputs": [],
   "source": [
    "%matplotlib inline\n",
    "\n",
    "%load_ext autoreload\n",
    "%autoreload 2 "
   ]
  },
  {
   "cell_type": "code",
   "execution_count": 2,
   "metadata": {},
   "outputs": [
    {
     "name": "stderr",
     "output_type": "stream",
     "text": [
      "Loading faiss with AVX2 support.\n"
     ]
    }
   ],
   "source": [
    "import logging\n",
    "import os\n",
    "import time\n",
    "\n",
    "import numpy as np\n",
    "import matplotlib.pyplot as plt\n",
    "import foolbox\n",
    "import torch\n",
    "import torch.backends.cudnn as cudnn\n",
    "import torch.nn as nn\n",
    "import torch.optim as optim\n",
    "\n",
    "from lib.dataset_utils import *\n",
    "from lib.mnist_model import *\n",
    "from lib.adv_model import *\n",
    "from lib.dknn_attack import DKNNAttack\n",
    "from lib.dknn_attack_v2 import DKNNAttackV2\n",
    "from lib.cwl2_attack import CWL2Attack\n",
    "from lib.dknn import DKNNL2\n",
    "from lib.utils import *\n",
    "from lib.lip_model import *"
   ]
  },
  {
   "cell_type": "code",
   "execution_count": 3,
   "metadata": {},
   "outputs": [],
   "source": [
    "import os\n",
    "os.environ[\"CUDA_DEVICE_ORDER\"] = \"PCI_BUS_ID\"\n",
    "os.environ[\"CUDA_VISIBLE_DEVICES\"] = \"0\""
   ]
  },
  {
   "cell_type": "code",
   "execution_count": 4,
   "metadata": {},
   "outputs": [],
   "source": [
    "# Set all random seeds\n",
    "seed = 2019\n",
    "np.random.seed(seed)\n",
    "torch.manual_seed(seed)\n",
    "\n",
    "device = 'cuda' if torch.cuda.is_available() else 'cpu'"
   ]
  },
  {
   "cell_type": "code",
   "execution_count": 5,
   "metadata": {},
   "outputs": [],
   "source": [
    "(x_train, y_train), (x_valid, y_valid), (x_test, y_test) = load_mnist_all(\n",
    "    '/data', val_size=0.1, seed=seed)"
   ]
  },
  {
   "cell_type": "code",
   "execution_count": 6,
   "metadata": {},
   "outputs": [],
   "source": [
    "model_name = 'mnist_basic.h5'\n",
    "net = BasicModel()\n",
    "\n",
    "# model_name = 'train_mnist_nca_exp2.h5'\n",
    "# model_name = 'adv_mnist_nca_exp42_epoch119.h5'\n",
    "# model_name = 'adv_mnist_nca_exp19.h5'\n",
    "# net = NCAModel(output_dim=100, init_it=1, train_data=(x_train, y_train))\n",
    "# net = NCAModelV3(output_dim=100, init_it=1, train_data=(x_train, y_train))\n",
    "\n",
    "# model_name = 'train_mnist_snnl_exp%d.h5' % exp_id\n",
    "# net = SNNLModel(train_it=True)\n",
    "\n",
    "# model_name = 'train_mnist_hidden_mixup_exp%d.h5' % exp_id\n",
    "# net = HiddenMixupModel()\n",
    "\n",
    "# model_name = 'train_mnist_vae_exp%d.h5' % exp_id\n",
    "# # net = VAE((1, 28, 28), num_classes=10, latent_dim=20)\n",
    "# net = VAE2((1, 28, 28), num_classes=10, latent_dim=128)\n",
    "\n",
    "# model_name = 'train_mnist_cav_exp%d.h5' % exp_id\n",
    "# net = ClassAuxVAE((1, 28, 28), num_classes=10, latent_dim=20)\n",
    "\n",
    "# model_name = 'lip_mnist_exp%d.h5' % exp_id\n",
    "# net = LipschitzModel()\n",
    "\n",
    "# model_name = 'dist_mnist_exp%d.h5' % exp_id\n",
    "# init_it = 1\n",
    "# train_it = False\n",
    "# net = NeighborModel(num_classes=10, init_it=init_it, train_it=train_it)\n",
    "\n",
    "# model_name = 'mnist_at.h5'\n",
    "# model_name = 'adv_mnist_exp6.h5'\n",
    "# basic_net = BasicModel()\n",
    "# # basic_net = BasicModelV2()\n",
    "# config = {'epsilon': 0.3,\n",
    "#           'num_steps': 40,\n",
    "#           'step_size': 0.01,\n",
    "#           'random_start': True,\n",
    "#           'loss_func': 'xent'}\n",
    "# net = PGDL2Model(basic_net, config)\n",
    "\n",
    "# model_name = 'lipae_mnist_exp%d.h5' % exp_id\n",
    "# init_it = 1\n",
    "# train_it = False\n",
    "# latent_dim = 128\n",
    "# alpha = 1e2\n",
    "# net = NCA_AE(latent_dim=latent_dim, init_it=init_it,\n",
    "#              train_it=train_it, alpha=alpha)\n",
    "\n",
    "# orig_model = 'adv_mnist_exp2.h5'\n",
    "# model_name = 'tune%d_%s' % (exp_id, orig_model)\n",
    "# net = BasicModel()\n",
    "# from tune_mnist import Identity\n",
    "# net.fc = Identity()\n",
    "\n",
    "# model_name = 'rot_mnist_exp%d.h5' % exp_id\n",
    "# net = BasicModel(num_classes=4)\n",
    "\n",
    "# model_name = 'adv_rot_mnist_exp%d.h5' % exp_id\n",
    "# basic_net = BasicModel(num_classes=4)\n",
    "# config = {'num_steps': 20,\n",
    "#           'step_size': 0.05,\n",
    "#           'random_start': True,\n",
    "#           'loss_func': 'xent'}\n",
    "# net = PGDL2Model(basic_net, config)\n",
    "\n",
    "# model_name = 'ae_mnist_exp%d.h5' % exp_id\n",
    "# net = Autoencoder((1, 28, 28), 128)\n",
    "\n",
    "# model_name = 'adv_mnist_ae_exp%d.h5' % exp_id\n",
    "# basic_net = Autoencoder((1, 28, 28), latent_dim=128)\n",
    "# config = {'num_steps': 40,\n",
    "#               'step_size': 0.1,\n",
    "#               'random_start': True,\n",
    "#               'loss_func': 'xent'}\n",
    "# net = PGDL2Model(basic_net, config)"
   ]
  },
  {
   "cell_type": "code",
   "execution_count": 7,
   "metadata": {
    "scrolled": true
   },
   "outputs": [
    {
     "data": {
      "text/plain": [
       "BasicModel(\n",
       "  (conv1): Conv2d(1, 64, kernel_size=(8, 8), stride=(2, 2), padding=(3, 3))\n",
       "  (relu1): ReLU(inplace=True)\n",
       "  (conv2): Conv2d(64, 128, kernel_size=(6, 6), stride=(2, 2), padding=(3, 3))\n",
       "  (relu2): ReLU(inplace=True)\n",
       "  (conv3): Conv2d(128, 128, kernel_size=(5, 5), stride=(1, 1))\n",
       "  (relu3): ReLU(inplace=True)\n",
       "  (fc): Linear(in_features=2048, out_features=10, bias=True)\n",
       ")"
      ]
     },
     "execution_count": 7,
     "metadata": {},
     "output_type": "execute_result"
    }
   ],
   "source": [
    "# Set up model directory\n",
    "save_dir = os.path.join(os.getcwd(), 'saved_models/mnist/')\n",
    "# save_dir = os.path.join(os.getcwd(), 'saved_models/')\n",
    "if not os.path.isdir(save_dir):\n",
    "    os.makedirs(save_dir)\n",
    "model_path = os.path.join(save_dir, model_name)\n",
    "\n",
    "net = net.to(device)\n",
    "# if device == 'cuda':\n",
    "#     net = torch.nn.DataParallel(net)\n",
    "#     cudnn.benchmark = True\n",
    "net.load_state_dict(torch.load(model_path))\n",
    "# net = net.module\n",
    "# net = net.basic_net\n",
    "net.eval()"
   ]
  },
  {
   "cell_type": "code",
   "execution_count": 8,
   "metadata": {},
   "outputs": [
    {
     "name": "stdout",
     "output_type": "stream",
     "text": [
      "acc:  0.9878\n"
     ]
    }
   ],
   "source": [
    "with torch.no_grad():\n",
    "    y_pred = net(x_test.to(device))\n",
    "    ind = np.where(y_pred.argmax(1).cpu() == y_test)[0]\n",
    "    print('acc: ', len(ind) / y_test.size(0))"
   ]
  },
  {
   "cell_type": "code",
   "execution_count": 12,
   "metadata": {},
   "outputs": [],
   "source": [
    "net_knn = KNNModel()\n",
    "layers = ['identity']\n",
    "dknn = DKNNL2(net_knn, x_train, y_train, \n",
    "              x_test, y_test, layers, \n",
    "              k=100, num_classes=10)"
   ]
  },
  {
   "cell_type": "code",
   "execution_count": 10,
   "metadata": {
    "scrolled": true
   },
   "outputs": [],
   "source": [
    "layers = ['relu1', 'relu2', 'relu3', 'fc']\n",
    "# layers = ['relu3']\n",
    "# layers = ['fc']\n",
    "# layers = ['en_conv3']\n",
    "# layers = ['en_mu']\n",
    "# layers = ['maxpool1', 'maxpool2', 'relu3', 'fc2']\n",
    "# layers = ['maxpool2']\n",
    "\n",
    "# dknn = DKNN(net, x_train, y_train, x_valid, y_valid, layers, \n",
    "#             k=75, num_classes=10)\n",
    "dknn = DKNNL2(net, x_train, y_train, x_valid, y_valid, layers, \n",
    "              cosine=True, k=75, num_classes=10)"
   ]
  },
  {
   "cell_type": "code",
   "execution_count": null,
   "metadata": {},
   "outputs": [],
   "source": [
    "with torch.no_grad():\n",
    "    y_pred = dknn.classify(x_test)\n",
    "    ind = np.where(y_pred.argmax(1) == y_test.numpy())[0]\n",
    "    print((y_pred.argmax(1) == y_test.numpy()).sum() / y_test.size(0))"
   ]
  },
  {
   "cell_type": "code",
   "execution_count": 96,
   "metadata": {},
   "outputs": [
    {
     "data": {
      "text/plain": [
       "0.9704"
      ]
     },
     "execution_count": 96,
     "metadata": {},
     "output_type": "execute_result"
    }
   ],
   "source": [
    "(np.take_along_axis(y_pred, y_test.unsqueeze(-1).numpy(), axis=1).flatten() == y_pred.max(1)).mean()"
   ]
  },
  {
   "cell_type": "code",
   "execution_count": 12,
   "metadata": {},
   "outputs": [],
   "source": [
    "cred = dknn.credibility(y_pred)"
   ]
  },
  {
   "cell_type": "code",
   "execution_count": 13,
   "metadata": {},
   "outputs": [
    {
     "data": {
      "text/plain": [
       "(array([ 958.,  959.,  956.,  785., 1190.,    0.,    0.,    0.,    0.,\n",
       "        5152.]),\n",
       " array([0.00366667, 0.1033    , 0.20293333, 0.30256667, 0.4022    ,\n",
       "        0.50183333, 0.60146667, 0.7011    , 0.80073333, 0.90036667,\n",
       "        1.        ]),\n",
       " <a list of 10 Patch objects>)"
      ]
     },
     "execution_count": 13,
     "metadata": {},
     "output_type": "execute_result"
    },
    {
     "data": {
      "image/png": "[encoded data removed]",
      "text/plain": [
       "<Figure size 432x288 with 1 Axes>"
      ]
     },
     "metadata": {
      "needs_background": "light"
     },
     "output_type": "display_data"
    }
   ],
   "source": [
    "plt.hist(cred)"
   ]
  },
  {
   "cell_type": "code",
   "execution_count": 21,
   "metadata": {},
   "outputs": [],
   "source": [
    "correct = np.argmax(y_pred, 1) == y_test.numpy()\n",
    "num_correct_by_cred = np.zeros((10, ))\n",
    "num_cred = np.zeros((10, ))\n",
    "for i in np.arange(10):\n",
    "    ind = (cred > i * 0.1) & (cred <= i* 0.1 + 0.1)\n",
    "    num_cred[i] = np.sum(ind)\n",
    "    num_correct_by_cred[i] = np.sum(correct[ind])"
   ]
  },
  {
   "cell_type": "code",
   "execution_count": 22,
   "metadata": {},
   "outputs": [
    {
     "data": {
      "text/plain": [
       "<BarContainer object of 10 artists>"
      ]
     },
     "execution_count": 22,
     "metadata": {},
     "output_type": "execute_result"
    },
    {
     "data": {
      "image/png": "[encoded data removed]",
      "text/plain": [
       "<Figure size 432x288 with 1 Axes>"
      ]
     },
     "metadata": {
      "needs_background": "light"
     },
     "output_type": "display_data"
    }
   ],
   "source": [
    "fig = plt.figure()\n",
    "ax = fig.add_subplot(111)\n",
    "ax.bar(np.arange(10) * 0.1, num_cred, width=0.05)\n",
    "ax.bar(np.arange(10) * 0.1 + 0.05, num_correct_by_cred, width=0.05)"
   ]
  },
  {
   "cell_type": "code",
   "execution_count": 15,
   "metadata": {},
   "outputs": [
    {
     "name": "stderr",
     "output_type": "stream",
     "text": [
      "/home/user/miniconda/envs/py36/lib/python3.6/site-packages/ipykernel_launcher.py:1: RuntimeWarning: invalid value encountered in true_divide\n",
      "  \"\"\"Entry point for launching an IPython kernel.\n"
     ]
    },
    {
     "data": {
      "text/plain": [
       "array([0.52764613, 0.83124478, 0.94539249, 0.98878343, 0.99498495,\n",
       "              nan,        nan,        nan,        nan, 0.99922103])"
      ]
     },
     "execution_count": 15,
     "metadata": {},
     "output_type": "execute_result"
    }
   ],
   "source": [
    "num_correct_by_cred / num_cred"
   ]
  },
  {
   "cell_type": "markdown",
   "metadata": {},
   "source": [
    "---\n",
    "\n",
    "## DkNN Attack"
   ]
  },
  {
   "cell_type": "code",
   "execution_count": 105,
   "metadata": {
    "scrolled": true
   },
   "outputs": [
    {
     "name": "stdout",
     "output_type": "stream",
     "text": [
      "    step: 0; loss: 0.869; l2dist: 0.000\n",
      "    step: 100; loss: 0.866; l2dist: 0.044\n",
      "    step: 200; loss: 0.867; l2dist: 0.047\n",
      "binary step: 0; num successful adv: 1/100\n",
      "binary step: 0; num successful adv so far: 1/100\n",
      "    step: 0; loss: 8.632; l2dist: 0.000\n",
      "    step: 100; loss: 8.325; l2dist: 0.472\n",
      "    step: 200; loss: 8.325; l2dist: 0.472\n",
      "binary step: 1; num successful adv: 7/100\n",
      "binary step: 1; num successful adv so far: 7/100\n",
      "    step: 0; loss: 82.638; l2dist: 0.000\n",
      "    step: 100; loss: 64.817; l2dist: 2.652\n",
      "    step: 200; loss: 59.685; l2dist: 2.772\n",
      "    step: 300; loss: 53.118; l2dist: 3.369\n",
      "    step: 400; loss: 52.504; l2dist: 3.457\n",
      "    step: 500; loss: 52.339; l2dist: 3.486\n",
      "    step: 600; loss: 52.294; l2dist: 3.498\n",
      "    step: 700; loss: 52.278; l2dist: 3.503\n",
      "    step: 800; loss: 52.273; l2dist: 3.505\n",
      "binary step: 2; num successful adv: 75/100\n",
      "binary step: 2; num successful adv so far: 77/100\n",
      "    step: 0; loss: 249.718; l2dist: 0.000\n",
      "    step: 100; loss: 207.365; l2dist: 2.538\n",
      "    step: 200; loss: 169.587; l2dist: 2.788\n",
      "    step: 300; loss: 161.377; l2dist: 3.210\n",
      "    step: 400; loss: 160.912; l2dist: 3.344\n",
      "    step: 500; loss: 160.715; l2dist: 3.392\n",
      "    step: 600; loss: 160.636; l2dist: 3.409\n",
      "    step: 700; loss: 160.613; l2dist: 3.418\n",
      "    step: 800; loss: 160.603; l2dist: 3.441\n",
      "binary step: 3; num successful adv: 72/100\n",
      "binary step: 3; num successful adv so far: 96/100\n",
      "    step: 0; loss: 491.773; l2dist: 0.000\n",
      "    step: 100; loss: 417.167; l2dist: 2.346\n",
      "    step: 200; loss: 354.969; l2dist: 2.559\n",
      "    step: 300; loss: 346.283; l2dist: 3.036\n",
      "    step: 400; loss: 345.687; l2dist: 3.169\n",
      "    step: 500; loss: 345.499; l2dist: 3.208\n",
      "    step: 600; loss: 345.415; l2dist: 3.228\n",
      "    step: 700; loss: 345.386; l2dist: 3.238\n",
      "binary step: 4; num successful adv: 66/100\n",
      "binary step: 4; num successful adv so far: 98/100\n",
      "    step: 0; loss: 1993.351; l2dist: 0.000\n",
      "    step: 100; loss: 1726.367; l2dist: 2.223\n",
      "    step: 200; loss: 1486.220; l2dist: 2.390\n",
      "    step: 300; loss: 1472.505; l2dist: 2.932\n",
      "    step: 400; loss: 1471.543; l2dist: 3.043\n",
      "    step: 500; loss: 1471.272; l2dist: 3.083\n",
      "    step: 600; loss: 1471.163; l2dist: 3.110\n",
      "binary step: 5; num successful adv: 61/100\n",
      "binary step: 5; num successful adv so far: 99/100\n",
      "    step: 0; loss: 9579.433; l2dist: 0.000\n",
      "    step: 100; loss: 8845.111; l2dist: 2.111\n",
      "    step: 200; loss: 7858.021; l2dist: 2.241\n",
      "    step: 300; loss: 7829.258; l2dist: 2.773\n",
      "    step: 400; loss: 7828.405; l2dist: 2.917\n",
      "    step: 500; loss: 7828.115; l2dist: 2.980\n",
      "binary step: 6; num successful adv: 48/100\n",
      "binary step: 6; num successful adv so far: 99/100\n",
      "    step: 0; loss: 89883.758; l2dist: 0.000\n",
      "    step: 100; loss: 83622.070; l2dist: 2.087\n",
      "    step: 200; loss: 74529.055; l2dist: 2.203\n",
      "    step: 300; loss: 74317.867; l2dist: 2.753\n",
      "    step: 400; loss: 74316.383; l2dist: 2.906\n",
      "binary step: 7; num successful adv: 44/100\n",
      "binary step: 7; num successful adv so far: 99/100\n",
      "    step: 0; loss: 895136.125; l2dist: 0.000\n",
      "    step: 100; loss: 833173.688; l2dist: 2.103\n",
      "    step: 200; loss: 742706.688; l2dist: 2.224\n",
      "    step: 300; loss: 740655.312; l2dist: 2.797\n",
      "    step: 400; loss: 740647.750; l2dist: 2.963\n",
      "binary step: 8; num successful adv: 56/100\n",
      "binary step: 8; num successful adv so far: 99/100\n",
      "    step: 0; loss: 8948251687596851200.000; l2dist: 0.000\n",
      "    step: 100; loss: 8329156822170599424.000; l2dist: 2.166\n",
      "    step: 200; loss: 7424856337080647680.000; l2dist: 2.291\n",
      "    step: 300; loss: 7404408169583083520.000; l2dist: 2.889\n",
      "    step: 400; loss: 7404343298397044736.000; l2dist: 3.026\n",
      "binary step: 9; num successful adv: 90/100\n",
      "binary step: 9; num successful adv so far: 99/100\n"
     ]
    }
   ],
   "source": [
    "# Attack for L2 DkNN\n",
    "\n",
    "attack = DKNNAttackV2()\n",
    "\n",
    "def attack_batch(x, y, batch_size):\n",
    "    x_adv = torch.zeros_like(x)\n",
    "    total_num = x.size(0)\n",
    "    num_batches = int(np.ceil(total_num / batch_size))\n",
    "    for i in range(num_batches):\n",
    "        begin = i * batch_size\n",
    "        end = (i + 1) * batch_size\n",
    "        x_adv[begin:end] = attack(\n",
    "            dknn, x[begin:end], y[begin:end],\n",
    "            guide_layer=layers[0], m=10, binary_search_steps=10,\n",
    "            max_iterations=1000, learning_rate=1e-2, guide_mode=2,\n",
    "            initial_const=1e-1, abort_early=True, random_start=False)\n",
    "    return x_adv\n",
    "\n",
    "num = 100\n",
    "x_adv = attack_batch(x_test[:num].cuda(), y_test[:num], 100)"
   ]
  },
  {
   "cell_type": "code",
   "execution_count": 98,
   "metadata": {
    "scrolled": true
   },
   "outputs": [
    {
     "name": "stdout",
     "output_type": "stream",
     "text": [
      "    step: 0; loss: 9.193; l2dist: 0.000\n",
      "    step: 100; loss: 5.806; l2dist: 1.497\n",
      "    step: 200; loss: 5.825; l2dist: 1.508\n",
      "    step: 300; loss: 5.700; l2dist: 1.489\n",
      "    step: 400; loss: 5.724; l2dist: 1.498\n",
      "    step: 500; loss: 5.719; l2dist: 1.494\n",
      "    step: 600; loss: 5.708; l2dist: 1.508\n",
      "    step: 700; loss: 5.735; l2dist: 1.511\n",
      "    step: 800; loss: 5.710; l2dist: 1.516\n",
      "    step: 900; loss: 5.742; l2dist: 1.515\n",
      "binary step: 0; num successful adv: 18/100\n",
      "binary step: 0; num successful adv so far: 22/100\n",
      "    step: 0; loss: 85.556; l2dist: 0.000\n",
      "    step: 100; loss: 14.715; l2dist: 2.686\n",
      "    step: 200; loss: 13.328; l2dist: 2.651\n",
      "    step: 300; loss: 11.021; l2dist: 2.637\n",
      "    step: 400; loss: 11.123; l2dist: 2.609\n",
      "    step: 500; loss: 10.034; l2dist: 2.641\n",
      "    step: 600; loss: 10.146; l2dist: 2.640\n",
      "    step: 700; loss: 9.722; l2dist: 2.641\n",
      "    step: 800; loss: 9.791; l2dist: 2.627\n",
      "    step: 900; loss: 9.821; l2dist: 2.661\n",
      "binary step: 1; num successful adv: 79/100\n",
      "binary step: 1; num successful adv so far: 98/100\n",
      "    step: 0; loss: 125.340; l2dist: 0.000\n",
      "    step: 100; loss: 23.663; l2dist: 2.574\n",
      "    step: 200; loss: 17.133; l2dist: 2.581\n",
      "    step: 300; loss: 13.227; l2dist: 2.558\n",
      "    step: 400; loss: 13.981; l2dist: 2.563\n",
      "    step: 500; loss: 12.683; l2dist: 2.580\n",
      "    step: 600; loss: 12.144; l2dist: 2.562\n",
      "    step: 700; loss: 11.813; l2dist: 2.571\n",
      "    step: 800; loss: 11.949; l2dist: 2.590\n",
      "    step: 900; loss: 12.002; l2dist: 2.622\n",
      "binary step: 2; num successful adv: 72/100\n",
      "binary step: 2; num successful adv so far: 99/100\n",
      "    step: 0; loss: 159.852; l2dist: 0.000\n",
      "    step: 100; loss: 45.072; l2dist: 2.445\n",
      "    step: 200; loss: 42.559; l2dist: 2.422\n",
      "    step: 300; loss: 31.647; l2dist: 2.475\n",
      "    step: 400; loss: 23.996; l2dist: 2.471\n",
      "    step: 500; loss: 15.516; l2dist: 2.476\n",
      "    step: 600; loss: 14.397; l2dist: 2.463\n",
      "    step: 700; loss: 11.872; l2dist: 2.462\n",
      "    step: 800; loss: 10.607; l2dist: 2.501\n",
      "    step: 900; loss: 8.957; l2dist: 2.492\n",
      "binary step: 3; num successful adv: 63/100\n",
      "binary step: 3; num successful adv so far: 100/100\n",
      "    step: 0; loss: 102.661; l2dist: 0.000\n",
      "    step: 100; loss: 29.743; l2dist: 2.389\n",
      "    step: 200; loss: 27.542; l2dist: 2.381\n",
      "    step: 300; loss: 21.222; l2dist: 2.427\n",
      "    step: 400; loss: 17.131; l2dist: 2.407\n",
      "    step: 500; loss: 12.552; l2dist: 2.446\n",
      "    step: 600; loss: 10.815; l2dist: 2.437\n",
      "    step: 700; loss: 9.093; l2dist: 2.419\n",
      "    step: 800; loss: 8.829; l2dist: 2.418\n",
      "    step: 900; loss: 8.777; l2dist: 2.413\n",
      "binary step: 4; num successful adv: 61/100\n",
      "binary step: 4; num successful adv so far: 100/100\n",
      "    step: 0; loss: 77.464; l2dist: 0.000\n",
      "    step: 100; loss: 22.912; l2dist: 2.352\n",
      "    step: 200; loss: 21.406; l2dist: 2.336\n",
      "    step: 300; loss: 19.048; l2dist: 2.354\n",
      "    step: 400; loss: 18.736; l2dist: 2.353\n",
      "    step: 500; loss: 17.466; l2dist: 2.380\n",
      "    step: 600; loss: 14.552; l2dist: 2.395\n",
      "    step: 700; loss: 14.737; l2dist: 2.397\n",
      "    step: 800; loss: 12.209; l2dist: 2.396\n",
      "    step: 900; loss: 11.614; l2dist: 2.398\n",
      "binary step: 5; num successful adv: 59/100\n",
      "binary step: 5; num successful adv so far: 100/100\n",
      "    step: 0; loss: 76.632; l2dist: 0.000\n",
      "    step: 100; loss: 24.103; l2dist: 2.240\n",
      "    step: 200; loss: 23.804; l2dist: 2.238\n",
      "    step: 300; loss: 17.945; l2dist: 2.244\n",
      "    step: 400; loss: 15.481; l2dist: 2.257\n",
      "    step: 500; loss: 11.249; l2dist: 2.299\n",
      "    step: 600; loss: 9.759; l2dist: 2.324\n",
      "    step: 700; loss: 9.071; l2dist: 2.299\n",
      "    step: 800; loss: 9.055; l2dist: 2.285\n",
      "    step: 900; loss: 9.023; l2dist: 2.311\n",
      "binary step: 6; num successful adv: 36/100\n",
      "binary step: 6; num successful adv so far: 100/100\n",
      "    step: 0; loss: 61.882; l2dist: 0.000\n",
      "    step: 100; loss: 19.054; l2dist: 2.222\n",
      "    step: 200; loss: 17.819; l2dist: 2.236\n",
      "    step: 300; loss: 15.449; l2dist: 2.266\n",
      "    step: 400; loss: 15.717; l2dist: 2.224\n",
      "    step: 500; loss: 15.133; l2dist: 2.267\n",
      "    step: 600; loss: 12.533; l2dist: 2.267\n",
      "    step: 700; loss: 13.979; l2dist: 2.255\n",
      "    step: 800; loss: 10.068; l2dist: 2.258\n",
      "    step: 900; loss: 10.118; l2dist: 2.269\n",
      "binary step: 7; num successful adv: 42/100\n",
      "binary step: 7; num successful adv so far: 100/100\n",
      "    step: 0; loss: 59.055; l2dist: 0.000\n",
      "    step: 100; loss: 18.407; l2dist: 2.212\n",
      "    step: 200; loss: 17.104; l2dist: 2.202\n",
      "    step: 300; loss: 15.065; l2dist: 2.240\n",
      "    step: 400; loss: 15.223; l2dist: 2.244\n",
      "    step: 500; loss: 13.442; l2dist: 2.231\n",
      "    step: 600; loss: 13.877; l2dist: 2.248\n",
      "    step: 700; loss: 12.815; l2dist: 2.234\n",
      "    step: 800; loss: 12.956; l2dist: 2.242\n",
      "    step: 900; loss: 12.763; l2dist: 2.240\n",
      "binary step: 8; num successful adv: 40/100\n",
      "binary step: 8; num successful adv so far: 100/100\n",
      "    step: 0; loss: 60.889; l2dist: 0.000\n",
      "    step: 100; loss: 18.896; l2dist: 2.183\n",
      "    step: 200; loss: 17.636; l2dist: 2.210\n",
      "    step: 300; loss: 15.287; l2dist: 2.237\n",
      "    step: 400; loss: 15.369; l2dist: 2.231\n",
      "    step: 500; loss: 14.871; l2dist: 2.264\n",
      "    step: 600; loss: 12.441; l2dist: 2.261\n",
      "    step: 700; loss: 13.796; l2dist: 2.233\n",
      "    step: 800; loss: 9.654; l2dist: 2.215\n",
      "    step: 900; loss: 9.824; l2dist: 2.215\n",
      "binary step: 9; num successful adv: 70/100\n",
      "binary step: 9; num successful adv so far: 100/100\n"
     ]
    }
   ],
   "source": [
    "from lib.dknn_attack_exp import DKNNExpAttack\n",
    "attack = DKNNExpAttack(dknn)\n",
    "\n",
    "def attack_batch(x, y, batch_size):\n",
    "    x_adv = torch.zeros_like(x)\n",
    "    total_num = x.size(0)\n",
    "    num_batches = int(np.ceil(total_num / batch_size))\n",
    "    for i in range(num_batches):\n",
    "        begin = i * batch_size\n",
    "        end = (i + 1) * batch_size\n",
    "        x_adv[begin:end] = attack(\n",
    "            x[begin:end], y[begin:end],\n",
    "            guide_layer=layers[0], m=10, init_mode=1, \n",
    "            binary_search_steps=10, max_iterations=1000, learning_rate=1e-1,\n",
    "            initial_const=1e-1, random_start=False,\n",
    "            thres_steps=200, check_adv_steps=200, verbose=True,\n",
    "            max_linf=None)\n",
    "    return x_adv\n",
    "\n",
    "num = 100\n",
    "x_adv = attack_batch(x_test[ind][:num].cuda(), y_test[ind][:num], 100)"
   ]
  },
  {
   "cell_type": "code",
   "execution_count": 13,
   "metadata": {
    "scrolled": true
   },
   "outputs": [],
   "source": [
    "def attack_batch(attack, x, y, init_mode, init_mode_k, batch_size):\n",
    "    x_adv = torch.zeros_like(x)\n",
    "    total_num = x.size(0)\n",
    "    num_batches = total_num // batch_size\n",
    "    for i in range(num_batches):\n",
    "        begin = i * batch_size\n",
    "        end = (i + 1) * batch_size\n",
    "        x_adv[begin:end] = attack(\n",
    "            x[begin:end], y[begin:end], 2, guide_layer=layers, m=150,\n",
    "            init_mode=init_mode, init_mode_k=init_mode_k,\n",
    "            binary_search_steps=10, max_iterations=1000, learning_rate=1e-1,\n",
    "            initial_const=1e-1, max_linf=None, random_start=True,\n",
    "            thres_steps=200, check_adv_steps=200, verbose=False)\n",
    "    return x_adv\n",
    "\n",
    "num = 100\n",
    "\n",
    "def full_eval(dknn):\n",
    "    with torch.no_grad():\n",
    "        y_pred = dknn.classify(x_test)\n",
    "        ind = np.where(y_pred.argmax(1) == y_test.numpy())[0]\n",
    "    print((y_pred.argmax(1) == y_test.numpy()).sum() / y_test.size(0))\n",
    "    \n",
    "    dist_all = np.zeros(num) + 1e9\n",
    "    attack = DKNNAttackV2(dknn)\n",
    "    \n",
    "    x_adv = attack_batch(\n",
    "        attack, x_test[ind][:num].cuda(), y_test[ind][:num], 1, 1, 100)\n",
    "    with torch.no_grad():\n",
    "        y_pred = dknn.classify(x_adv)\n",
    "        ind_adv = y_pred.argmax(1) != y_test[ind][:num].numpy()\n",
    "        dist = (x_adv.cpu() - x_test[ind][:num]).view(\n",
    "            num, -1).norm(2, 1).numpy()\n",
    "    for i in range(num):\n",
    "        if ind_adv[i] and (dist[i] < dist_all[i]):\n",
    "            dist_all[i] = dist[i]\n",
    "            \n",
    "    for k in range(1, 6):\n",
    "        x_adv = attack_batch(\n",
    "            attack, x_test[ind][:num].cuda(), y_test[ind][:num], 2, k, 100)\n",
    "        with torch.no_grad():\n",
    "            y_pred = dknn.classify(x_adv)\n",
    "            ind_adv = y_pred.argmax(1) != y_test[ind][:num].numpy()\n",
    "            dist = (x_adv.cpu() - x_test[ind][:num]).view(\n",
    "                num, -1).norm(2, 1).numpy()\n",
    "        for i in range(num):\n",
    "            if ind_adv[i] and (dist[i] < dist_all[i]):\n",
    "                dist_all[i] = dist[i]\n",
    "                \n",
    "    adv_acc = (dist_all == 1e9).mean()\n",
    "    print('adv accuracy: %.4f, mean dist: %.4f' % (\n",
    "        adv_acc, dist_all[dist_all < 1e9].mean()))\n",
    "    return dist_all"
   ]
  },
  {
   "cell_type": "code",
   "execution_count": null,
   "metadata": {
    "scrolled": true
   },
   "outputs": [
    {
     "name": "stdout",
     "output_type": "stream",
     "text": [
      "0.9877\n"
     ]
    }
   ],
   "source": [
    "start = time.time()\n",
    "dist = full_eval(dknn)\n",
    "print(time.time() - start)"
   ]
  },
  {
   "cell_type": "code",
   "execution_count": 15,
   "metadata": {},
   "outputs": [
    {
     "data": {
      "text/plain": [
       "1.753950898051262"
      ]
     },
     "execution_count": 15,
     "metadata": {},
     "output_type": "execute_result"
    }
   ],
   "source": [
    "dist.mean()"
   ]
  },
  {
   "cell_type": "code",
   "execution_count": 24,
   "metadata": {},
   "outputs": [
    {
     "data": {
      "image/png": "[encoded data removed]",
      "text/plain": [
       "<Figure size 432x288 with 1 Axes>"
      ]
     },
     "metadata": {
      "needs_background": "light"
     },
     "output_type": "display_data"
    },
    {
     "data": {
      "image/png": "[encoded data removed]",
      "text/plain": [
       "<Figure size 432x288 with 1 Axes>"
      ]
     },
     "metadata": {
      "needs_background": "light"
     },
     "output_type": "display_data"
    },
    {
     "name": "stdout",
     "output_type": "stream",
     "text": [
      "4.7507405281066895\n"
     ]
    }
   ],
   "source": [
    "i = 0\n",
    "plt.imshow(x_adv[i].detach().cpu().numpy().reshape(28, 28), cmap='gray')\n",
    "plt.show()\n",
    "plt.imshow(x_test[i].detach().cpu().numpy().reshape(28, 28), cmap='gray')\n",
    "plt.show()\n",
    "print((x_adv[i].cpu() - x_test[i]).view(-1).norm().item())"
   ]
  },
  {
   "cell_type": "code",
   "execution_count": 106,
   "metadata": {},
   "outputs": [
    {
     "name": "stdout",
     "output_type": "stream",
     "text": [
      "0.02\n"
     ]
    }
   ],
   "source": [
    "with torch.no_grad():\n",
    "    y_pred = dknn.classify(x_adv)\n",
    "    ind_adv = np.where(y_pred.argmax(1) != y_test[ind][:num].numpy())[0]\n",
    "    print((y_pred.argmax(1) == y_test[ind][:num].numpy()).sum() / y_pred.shape[0])"
   ]
  },
  {
   "cell_type": "code",
   "execution_count": 107,
   "metadata": {},
   "outputs": [
    {
     "data": {
      "text/plain": [
       "4.4058709144592285"
      ]
     },
     "execution_count": 107,
     "metadata": {},
     "output_type": "execute_result"
    }
   ],
   "source": [
    "(x_adv.cpu() - x_test[ind][:num]).view(num, -1).norm(2, 1)[ind_adv].mean().item()"
   ]
  },
  {
   "cell_type": "code",
   "execution_count": 28,
   "metadata": {},
   "outputs": [
    {
     "name": "stdout",
     "output_type": "stream",
     "text": [
      "tensor(0.7600)\n"
     ]
    }
   ],
   "source": [
    "logits = net.compute_logits(x_adv.cuda())\n",
    "acc = (logits.argmax(1).cpu() == y_test[ind][:num]).float().mean()\n",
    "print(acc)"
   ]
  },
  {
   "cell_type": "code",
   "execution_count": 18,
   "metadata": {},
   "outputs": [
    {
     "data": {
      "text/plain": [
       "(array([  0.,   0.,   0.,   0.,   0., 100.,   0.,   0.,   0.,   0.]),\n",
       " array([0.5, 0.6, 0.7, 0.8, 0.9, 1. , 1.1, 1.2, 1.3, 1.4, 1.5]),\n",
       " <a list of 10 Patch objects>)"
      ]
     },
     "execution_count": 18,
     "metadata": {},
     "output_type": "execute_result"
    },
    {
     "data": {
      "image/png": "[encoded data removed]",
      "text/plain": [
       "<Figure size 432x288 with 1 Axes>"
      ]
     },
     "metadata": {
      "needs_background": "light"
     },
     "output_type": "display_data"
    }
   ],
   "source": [
    "cred = dknn.credibility(y_pred)\n",
    "plt.hist(cred)"
   ]
  },
  {
   "cell_type": "code",
   "execution_count": 19,
   "metadata": {
    "scrolled": true
   },
   "outputs": [
    {
     "data": {
      "image/png": "[encoded data removed]",
      "text/plain": [
       "<Figure size 432x288 with 1 Axes>"
      ]
     },
     "metadata": {
      "needs_background": "light"
     },
     "output_type": "display_data"
    },
    {
     "data": {
      "image/png": "[encoded data removed]",
      "text/plain": [
       "<Figure size 432x288 with 1 Axes>"
      ]
     },
     "metadata": {
      "needs_background": "light"
     },
     "output_type": "display_data"
    },
    {
     "data": {
      "image/png": "[encoded data removed]",
      "text/plain": [
       "<Figure size 432x288 with 1 Axes>"
      ]
     },
     "metadata": {
      "needs_background": "light"
     },
     "output_type": "display_data"
    },
    {
     "data": {
      "image/png": "[encoded data removed]",
      "text/plain": [
       "<Figure size 432x288 with 1 Axes>"
      ]
     },
     "metadata": {
      "needs_background": "light"
     },
     "output_type": "display_data"
    },
    {
     "data": {
      "image/png": "[encoded data removed]",
      "text/plain": [
       "<Figure size 432x288 with 1 Axes>"
      ]
     },
     "metadata": {
      "needs_background": "light"
     },
     "output_type": "display_data"
    }
   ],
   "source": [
    "for i in range(5):\n",
    "    plt.imshow(x_adv[i].cpu().detach().numpy().squeeze(), cmap='gray')\n",
    "    plt.show()"
   ]
  },
  {
   "cell_type": "code",
   "execution_count": 14,
   "metadata": {},
   "outputs": [],
   "source": []
  },
  {
   "cell_type": "code",
   "execution_count": 15,
   "metadata": {
    "scrolled": true
   },
   "outputs": [
    {
     "name": "stdout",
     "output_type": "stream",
     "text": [
      "    step: 0; loss: 7807.614\n",
      "    step: 50; loss: 1300.460\n",
      "    step: 100; loss: 740.567\n",
      "    step: 150; loss: 579.734\n",
      "    step: 200; loss: 498.007\n",
      "    step: 250; loss: 458.374\n",
      "    step: 300; loss: 445.230\n",
      "    step: 350; loss: 428.613\n",
      "    step: 400; loss: 425.181\n",
      "    step: 450; loss: 416.420\n",
      "number of successful adv: 80/100\n"
     ]
    }
   ],
   "source": [
    "attack = DKNN_PGD(dknn)\n",
    "\n",
    "def attack_batch(x, y, batch_size):\n",
    "    x_adv = torch.zeros_like(x)\n",
    "    total_num = x.size(0)\n",
    "    num_batches = total_num // batch_size\n",
    "    for i in range(num_batches):\n",
    "        begin = i * batch_size\n",
    "        end = (i + 1) * batch_size\n",
    "        x_adv[begin:end] = attack(\n",
    "            x[begin:end], y[begin:end],\n",
    "            guide_layer=layers[0], m=24, epsilon=0.01,\n",
    "            max_epsilon=0.3, max_iterations=500, num_restart=1,\n",
    "            rand_start=True, thres_steps=100, check_adv_steps=100,\n",
    "            verbose=True)\n",
    "    return x_adv\n",
    "\n",
    "num = 100\n",
    "x_adv = attack_batch(x_test[ind][:num].cuda(), y_test[ind][:num], 100)"
   ]
  },
  {
   "cell_type": "markdown",
   "metadata": {},
   "source": [
    "## CW L2 Attack\n",
    "\n",
    "without DkNN"
   ]
  },
  {
   "cell_type": "code",
   "execution_count": 19,
   "metadata": {
    "scrolled": true
   },
   "outputs": [
    {
     "name": "stdout",
     "output_type": "stream",
     "text": [
      "    step: 0; loss: 13.405; l2dist: 0.000\n",
      "    step: 100; loss: 10.804; l2dist: 1.309\n",
      "    step: 200; loss: 10.790; l2dist: 1.320\n",
      "    step: 300; loss: 10.706; l2dist: 1.327\n",
      "    step: 400; loss: 10.543; l2dist: 1.378\n",
      "    step: 500; loss: 10.419; l2dist: 1.434\n",
      "    step: 600; loss: 10.330; l2dist: 1.472\n",
      "    step: 700; loss: 10.271; l2dist: 1.492\n",
      "    step: 800; loss: 10.225; l2dist: 1.507\n",
      "    step: 900; loss: 10.189; l2dist: 1.519\n",
      "binary step: 0; number of successful adv: 18/100\n",
      "    step: 0; loss: 111.046; l2dist: 0.324\n",
      "    step: 100; loss: 41.892; l2dist: 3.591\n",
      "    step: 200; loss: 32.390; l2dist: 3.909\n",
      "    step: 300; loss: 21.221; l2dist: 3.721\n",
      "    step: 400; loss: 16.908; l2dist: 3.518\n",
      "    step: 500; loss: 14.763; l2dist: 3.400\n",
      "    step: 600; loss: 13.892; l2dist: 3.331\n",
      "    step: 700; loss: 13.365; l2dist: 3.281\n",
      "    step: 800; loss: 13.029; l2dist: 3.245\n",
      "    step: 900; loss: 12.853; l2dist: 3.222\n",
      "binary step: 1; number of successful adv: 97/100\n",
      "    step: 0; loss: 201.791; l2dist: 0.321\n",
      "    step: 100; loss: 50.556; l2dist: 3.838\n",
      "    step: 200; loss: 33.668; l2dist: 3.861\n",
      "    step: 300; loss: 21.572; l2dist: 3.707\n",
      "    step: 400; loss: 16.804; l2dist: 3.532\n",
      "    step: 500; loss: 14.430; l2dist: 3.405\n",
      "    step: 600; loss: 13.517; l2dist: 3.339\n",
      "    step: 700; loss: 13.134; l2dist: 3.308\n",
      "    step: 800; loss: 12.783; l2dist: 3.260\n",
      "    step: 900; loss: 12.587; l2dist: 3.239\n",
      "binary step: 2; number of successful adv: 100/100\n",
      "    step: 0; loss: 119.541; l2dist: 0.325\n",
      "    step: 100; loss: 37.933; l2dist: 3.471\n",
      "    step: 200; loss: 28.409; l2dist: 3.526\n",
      "    step: 300; loss: 21.222; l2dist: 3.471\n",
      "    step: 400; loss: 17.560; l2dist: 3.439\n",
      "    step: 500; loss: 15.098; l2dist: 3.396\n",
      "    step: 600; loss: 13.775; l2dist: 3.312\n",
      "    step: 700; loss: 13.146; l2dist: 3.266\n",
      "    step: 800; loss: 12.790; l2dist: 3.257\n",
      "    step: 900; loss: 12.614; l2dist: 3.249\n",
      "binary step: 3; number of successful adv: 100/100\n",
      "    step: 0; loss: 88.786; l2dist: 0.323\n",
      "    step: 100; loss: 32.492; l2dist: 3.273\n",
      "    step: 200; loss: 26.443; l2dist: 3.387\n",
      "    step: 300; loss: 20.771; l2dist: 3.392\n",
      "    step: 400; loss: 17.567; l2dist: 3.388\n",
      "    step: 500; loss: 15.544; l2dist: 3.367\n",
      "    step: 600; loss: 14.213; l2dist: 3.316\n",
      "    step: 700; loss: 13.263; l2dist: 3.270\n",
      "    step: 800; loss: 12.882; l2dist: 3.238\n",
      "    step: 900; loss: 12.661; l2dist: 3.218\n",
      "binary step: 4; number of successful adv: 100/100\n",
      "    step: 0; loss: 69.050; l2dist: 0.322\n",
      "    step: 100; loss: 28.858; l2dist: 3.083\n",
      "    step: 200; loss: 25.065; l2dist: 3.208\n",
      "    step: 300; loss: 20.596; l2dist: 3.235\n",
      "    step: 400; loss: 17.934; l2dist: 3.267\n",
      "    step: 500; loss: 16.185; l2dist: 3.307\n",
      "    step: 600; loss: 14.754; l2dist: 3.306\n",
      "    step: 700; loss: 13.884; l2dist: 3.281\n",
      "    step: 800; loss: 13.036; l2dist: 3.251\n",
      "    step: 900; loss: 12.671; l2dist: 3.222\n",
      "binary step: 5; number of successful adv: 100/100\n",
      "    step: 0; loss: 61.887; l2dist: 0.323\n",
      "    step: 100; loss: 27.285; l2dist: 2.980\n",
      "    step: 200; loss: 24.364; l2dist: 3.130\n",
      "    step: 300; loss: 20.420; l2dist: 3.168\n",
      "    step: 400; loss: 17.883; l2dist: 3.212\n",
      "    step: 500; loss: 16.216; l2dist: 3.269\n",
      "    step: 600; loss: 15.136; l2dist: 3.286\n",
      "    step: 700; loss: 14.158; l2dist: 3.300\n",
      "    step: 800; loss: 13.361; l2dist: 3.287\n",
      "    step: 900; loss: 12.928; l2dist: 3.266\n",
      "binary step: 6; number of successful adv: 100/100\n",
      "    step: 0; loss: 60.544; l2dist: 0.322\n",
      "    step: 100; loss: 26.717; l2dist: 2.964\n",
      "    step: 200; loss: 24.158; l2dist: 3.102\n",
      "    step: 300; loss: 20.385; l2dist: 3.145\n",
      "    step: 400; loss: 17.967; l2dist: 3.186\n",
      "    step: 500; loss: 16.332; l2dist: 3.237\n",
      "    step: 600; loss: 15.356; l2dist: 3.251\n",
      "    step: 700; loss: 14.281; l2dist: 3.268\n",
      "    step: 800; loss: 13.545; l2dist: 3.260\n",
      "    step: 900; loss: 13.056; l2dist: 3.247\n",
      "binary step: 7; number of successful adv: 100/100\n",
      "    step: 0; loss: 59.336; l2dist: 0.322\n",
      "    step: 100; loss: 26.360; l2dist: 2.961\n",
      "    step: 200; loss: 24.040; l2dist: 3.101\n",
      "    step: 300; loss: 20.290; l2dist: 3.153\n",
      "    step: 400; loss: 17.576; l2dist: 3.222\n",
      "    step: 500; loss: 15.896; l2dist: 3.254\n",
      "    step: 600; loss: 14.845; l2dist: 3.255\n",
      "    step: 700; loss: 14.194; l2dist: 3.261\n",
      "    step: 800; loss: 13.645; l2dist: 3.243\n",
      "    step: 900; loss: 12.958; l2dist: 3.226\n",
      "binary step: 8; number of successful adv: 100/100\n",
      "    step: 0; loss: 60.299; l2dist: 0.322\n",
      "    step: 100; loss: 26.585; l2dist: 2.960\n",
      "    step: 200; loss: 24.215; l2dist: 3.093\n",
      "    step: 300; loss: 20.469; l2dist: 3.146\n",
      "    step: 400; loss: 17.914; l2dist: 3.198\n",
      "    step: 500; loss: 16.189; l2dist: 3.243\n",
      "    step: 600; loss: 15.083; l2dist: 3.255\n",
      "    step: 700; loss: 14.236; l2dist: 3.261\n",
      "    step: 800; loss: 13.342; l2dist: 3.261\n",
      "    step: 900; loss: 12.885; l2dist: 3.235\n",
      "binary step: 9; number of successful adv: 100/100\n",
      "    step: 0; loss: 40.921; l2dist: 6.239\n",
      "    step: 100; loss: 21.351; l2dist: 4.215\n",
      "    step: 200; loss: 18.259; l2dist: 3.814\n",
      "    step: 300; loss: 10.785; l2dist: 2.356\n",
      "    step: 400; loss: 10.331; l2dist: 2.220\n",
      "    step: 500; loss: 10.111; l2dist: 2.185\n",
      "    step: 600; loss: 9.973; l2dist: 2.169\n",
      "    step: 700; loss: 9.882; l2dist: 2.166\n",
      "    step: 800; loss: 9.824; l2dist: 2.166\n",
      "    step: 900; loss: 9.761; l2dist: 2.157\n",
      "binary step: 0; number of successful adv: 100/100\n",
      "    step: 0; loss: 47.400; l2dist: 6.240\n",
      "    step: 100; loss: 23.619; l2dist: 4.709\n",
      "    step: 200; loss: 20.454; l2dist: 4.377\n",
      "    step: 300; loss: 14.267; l2dist: 3.517\n",
      "    step: 400; loss: 13.228; l2dist: 3.334\n",
      "    step: 500; loss: 12.667; l2dist: 3.244\n",
      "    step: 600; loss: 12.339; l2dist: 3.195\n",
      "    step: 700; loss: 12.087; l2dist: 3.158\n",
      "    step: 800; loss: 11.879; l2dist: 3.126\n",
      "    step: 900; loss: 11.772; l2dist: 3.109\n",
      "binary step: 1; number of successful adv: 100/100\n",
      "    step: 0; loss: 54.092; l2dist: 6.241\n",
      "    step: 100; loss: 23.885; l2dist: 4.733\n",
      "    step: 200; loss: 20.634; l2dist: 4.398\n",
      "    step: 300; loss: 14.319; l2dist: 3.552\n",
      "    step: 400; loss: 13.430; l2dist: 3.410\n",
      "    step: 500; loss: 13.053; l2dist: 3.360\n",
      "    step: 600; loss: 12.716; l2dist: 3.319\n",
      "    step: 700; loss: 12.446; l2dist: 3.284\n",
      "    step: 800; loss: 12.332; l2dist: 3.264\n",
      "    step: 900; loss: 12.081; l2dist: 3.226\n",
      "binary step: 2; number of successful adv: 100/100\n",
      "    step: 0; loss: 48.394; l2dist: 6.245\n",
      "    step: 100; loss: 23.476; l2dist: 4.660\n",
      "    step: 200; loss: 20.291; l2dist: 4.343\n",
      "    step: 300; loss: 13.941; l2dist: 3.484\n",
      "    step: 400; loss: 13.064; l2dist: 3.350\n",
      "    step: 500; loss: 12.599; l2dist: 3.286\n",
      "    step: 600; loss: 12.339; l2dist: 3.251\n",
      "    step: 700; loss: 12.147; l2dist: 3.224\n",
      "    step: 800; loss: 11.978; l2dist: 3.213\n",
      "    step: 900; loss: 11.906; l2dist: 3.184\n",
      "binary step: 3; number of successful adv: 100/100\n",
      "    step: 0; loss: 45.846; l2dist: 6.244\n",
      "    step: 100; loss: 23.325; l2dist: 4.627\n",
      "    step: 200; loss: 20.133; l2dist: 4.311\n",
      "    step: 300; loss: 13.759; l2dist: 3.441\n",
      "    step: 400; loss: 12.879; l2dist: 3.314\n",
      "    step: 500; loss: 12.491; l2dist: 3.270\n",
      "    step: 600; loss: 12.216; l2dist: 3.239\n",
      "    step: 700; loss: 12.087; l2dist: 3.226\n",
      "    step: 800; loss: 12.080; l2dist: 3.225\n",
      "    step: 900; loss: 11.842; l2dist: 3.189\n",
      "binary step: 4; number of successful adv: 100/100\n",
      "    step: 0; loss: 44.825; l2dist: 6.242\n",
      "    step: 100; loss: 23.222; l2dist: 4.621\n",
      "    step: 200; loss: 20.036; l2dist: 4.294\n",
      "    step: 300; loss: 13.712; l2dist: 3.421\n",
      "    step: 400; loss: 12.910; l2dist: 3.309\n",
      "    step: 500; loss: 12.519; l2dist: 3.256\n",
      "    step: 600; loss: 12.281; l2dist: 3.223\n",
      "    step: 700; loss: 12.057; l2dist: 3.196\n",
      "    step: 800; loss: 11.933; l2dist: 3.183\n",
      "    step: 900; loss: 11.836; l2dist: 3.171\n",
      "binary step: 5; number of successful adv: 100/100\n",
      "    step: 0; loss: 44.489; l2dist: 6.242\n",
      "    step: 100; loss: 23.203; l2dist: 4.611\n",
      "    step: 200; loss: 20.044; l2dist: 4.293\n",
      "    step: 300; loss: 13.684; l2dist: 3.423\n",
      "    step: 400; loss: 12.850; l2dist: 3.294\n",
      "    step: 500; loss: 12.486; l2dist: 3.245\n",
      "    step: 600; loss: 12.221; l2dist: 3.213\n",
      "    step: 700; loss: 12.031; l2dist: 3.189\n",
      "    step: 800; loss: 11.890; l2dist: 3.176\n",
      "    step: 900; loss: 11.813; l2dist: 3.163\n",
      "binary step: 6; number of successful adv: 100/100\n",
      "    step: 0; loss: 44.347; l2dist: 6.245\n",
      "    step: 100; loss: 23.169; l2dist: 4.613\n",
      "    step: 200; loss: 20.064; l2dist: 4.298\n",
      "    step: 300; loss: 13.623; l2dist: 3.410\n",
      "    step: 400; loss: 12.853; l2dist: 3.296\n",
      "    step: 500; loss: 12.445; l2dist: 3.237\n",
      "    step: 600; loss: 12.178; l2dist: 3.207\n",
      "    step: 700; loss: 11.985; l2dist: 3.183\n",
      "    step: 800; loss: 11.844; l2dist: 3.165\n",
      "    step: 900; loss: 11.778; l2dist: 3.151\n",
      "binary step: 7; number of successful adv: 100/100\n",
      "    step: 0; loss: 44.436; l2dist: 6.243\n",
      "    step: 100; loss: 23.160; l2dist: 4.604\n",
      "    step: 200; loss: 20.039; l2dist: 4.291\n",
      "    step: 300; loss: 13.612; l2dist: 3.408\n",
      "    step: 400; loss: 12.808; l2dist: 3.285\n",
      "    step: 500; loss: 12.405; l2dist: 3.234\n",
      "    step: 600; loss: 12.140; l2dist: 3.199\n",
      "    step: 700; loss: 11.949; l2dist: 3.175\n",
      "    step: 800; loss: 11.822; l2dist: 3.160\n",
      "    step: 900; loss: 11.748; l2dist: 3.150\n",
      "binary step: 8; number of successful adv: 100/100\n",
      "    step: 0; loss: 44.515; l2dist: 6.247\n",
      "    step: 100; loss: 23.214; l2dist: 4.613\n",
      "    step: 200; loss: 20.142; l2dist: 4.300\n",
      "    step: 300; loss: 13.644; l2dist: 3.411\n",
      "    step: 400; loss: 12.854; l2dist: 3.291\n",
      "    step: 500; loss: 12.482; l2dist: 3.248\n",
      "    step: 600; loss: 12.189; l2dist: 3.204\n",
      "    step: 700; loss: 12.027; l2dist: 3.183\n",
      "    step: 800; loss: 11.873; l2dist: 3.167\n",
      "    step: 900; loss: 11.777; l2dist: 3.154\n",
      "binary step: 9; number of successful adv: 100/100\n"
     ]
    }
   ],
   "source": [
    "from lib.cwl2_attack import CWL2Attack\n",
    "\n",
    "attack = CWL2Attack(net, x_train=x_train, y_train=y_train)\n",
    "\n",
    "def attack_batch(x, y, batch_size):\n",
    "    x_adv = torch.zeros_like(x)\n",
    "    total_num = x.size(0)\n",
    "    num_batches = total_num // batch_size\n",
    "    for i in range(num_batches):\n",
    "        begin = i * batch_size\n",
    "        end = (i + 1) * batch_size\n",
    "        x_adv[begin:end] = attack(\n",
    "            x[begin:end], y[begin:end], targeted=False,\n",
    "            init_mode=2, binary_search_steps=10, max_iterations=1000,\n",
    "            confidence=0, learning_rate=1e-2, initial_const=1e1, \n",
    "            abort_early=False, rand_start_std=0.1, check_adv_steps=100)\n",
    "    return x_adv\n",
    "\n",
    "num = 100\n",
    "x_adv = attack_batch(x_test[ind][:num].cuda(), y_test[ind][:num].cuda(), 100)"
   ]
  },
  {
   "cell_type": "code",
   "execution_count": 20,
   "metadata": {},
   "outputs": [
    {
     "name": "stdout",
     "output_type": "stream",
     "text": [
      "0.0\n",
      "2.9907801151275635 3.2651774883270264\n"
     ]
    }
   ],
   "source": [
    "y_pred = net(x_adv).argmax(1).cpu()\n",
    "print((y_pred == y_test[ind][:num]).numpy().sum() / y_pred.size(0))\n",
    "dist = (x_adv.cpu() - x_test[ind][:num]).view(num, -1).norm(2, 1)\n",
    "print(dist.mean().item(), dist.median().item())"
   ]
  },
  {
   "cell_type": "code",
   "execution_count": null,
   "metadata": {},
   "outputs": [],
   "source": [
    "y_pred = dknn.classify(x_adv)\n",
    "(y_pred.argmax(1) == y_test[:10000].numpy()).sum() / len(y_pred)"
   ]
  },
  {
   "cell_type": "code",
   "execution_count": 90,
   "metadata": {},
   "outputs": [
    {
     "data": {
      "text/plain": [
       "(array([139.,  46.,  23.,  19.,   3.,   3.,   4.,   2.,   2.,   3.]),\n",
       " array([0.0165    , 0.08763333, 0.15876667, 0.2299    , 0.30103333,\n",
       "        0.37216667, 0.4433    , 0.51443333, 0.58556667, 0.6567    ,\n",
       "        0.72783333]),\n",
       " <a list of 10 Patch objects>)"
      ]
     },
     "execution_count": 90,
     "metadata": {},
     "output_type": "execute_result"
    },
    {
     "data": {
      "image/png": "[encoded data removed]",
      "text/plain": [
       "<Figure size 432x288 with 1 Axes>"
      ]
     },
     "metadata": {
      "needs_background": "light"
     },
     "output_type": "display_data"
    }
   ],
   "source": [
    "cred = dknn.credibility(y_pred)\n",
    "suc_ind = y_pred.argmax(1) != y_test[:10000].numpy()\n",
    "plt.hist(cred[suc_ind])"
   ]
  },
  {
   "cell_type": "code",
   "execution_count": 87,
   "metadata": {},
   "outputs": [
    {
     "data": {
      "text/plain": [
       "<matplotlib.image.AxesImage at 0x7f5e5ddbbac8>"
      ]
     },
     "execution_count": 87,
     "metadata": {},
     "output_type": "execute_result"
    },
    {
     "data": {
      "image/png": "[encoded data removed]",
      "text/plain": [
       "<Figure size 432x288 with 1 Axes>"
      ]
     },
     "metadata": {
      "needs_background": "light"
     },
     "output_type": "display_data"
    }
   ],
   "source": [
    "plt.imshow(x_adv[0].cpu().detach().numpy().squeeze(), cmap='gray')"
   ]
  },
  {
   "cell_type": "code",
   "execution_count": 28,
   "metadata": {},
   "outputs": [
    {
     "data": {
      "text/plain": [
       "tensor(1.3970, grad_fn=<MeanBackward1>)"
      ]
     },
     "execution_count": 28,
     "metadata": {},
     "output_type": "execute_result"
    }
   ],
   "source": [
    "(x_adv.cpu() - x_test[:10000]).view(10000, -1).norm(2, 1).mean()"
   ]
  },
  {
   "cell_type": "code",
   "execution_count": null,
   "metadata": {},
   "outputs": [],
   "source": []
  },
  {
   "cell_type": "code",
   "execution_count": null,
   "metadata": {},
   "outputs": [],
   "source": []
  },
  {
   "cell_type": "code",
   "execution_count": 90,
   "metadata": {},
   "outputs": [
    {
     "data": {
      "text/plain": [
       "tensor(2.6813, grad_fn=<MeanBackward0>)"
      ]
     },
     "execution_count": 90,
     "metadata": {},
     "output_type": "execute_result"
    }
   ],
   "source": [
    "(x_adv.cpu() - x_test[:100]).view(100, -1).norm(2, 1).mean()"
   ]
  },
  {
   "cell_type": "code",
   "execution_count": null,
   "metadata": {},
   "outputs": [],
   "source": [
    "x_adv = pickle.load(open('x_adv/x_adv_adv_cifar10_exp0.h5.p', 'rb'))\n",
    "# x_adv = pickle.load(open('x_adv/x_ba_cifar10_adv2_0.2_0.001.p', 'rb'))\n",
    "# x_adv = pickle.load(open('x_adv/x_adv_cifar10_resnet_exp2.h5.p', 'rb'))"
   ]
  },
  {
   "cell_type": "code",
   "execution_count": 38,
   "metadata": {},
   "outputs": [],
   "source": [
    "torchvision.utils.save_image(x_adv[:15], 'mnist_cw_basic.png', nrow=15, padding=0)"
   ]
  },
  {
   "cell_type": "code",
   "execution_count": 28,
   "metadata": {
    "collapsed": true,
    "jupyter": {
     "outputs_hidden": true
    }
   },
   "outputs": [
    {
     "data": {
      "image/png": "[encoded data removed]",
      "text/plain": [
       "<Figure size 432x288 with 1 Axes>"
      ]
     },
     "metadata": {
      "needs_background": "light"
     },
     "output_type": "display_data"
    },
    {
     "data": {
      "image/png": "[encoded data removed]",
      "text/plain": [
       "<Figure size 432x288 with 1 Axes>"
      ]
     },
     "metadata": {
      "needs_background": "light"
     },
     "output_type": "display_data"
    },
    {
     "data": {
      "image/png": "[encoded data removed]",
      "text/plain": [
       "<Figure size 432x288 with 1 Axes>"
      ]
     },
     "metadata": {
      "needs_background": "light"
     },
     "output_type": "display_data"
    },
    {
     "data": {
      "image/png": "[encoded data removed]",
      "text/plain": [
       "<Figure size 432x288 with 1 Axes>"
      ]
     },
     "metadata": {
      "needs_background": "light"
     },
     "output_type": "display_data"
    },
    {
     "data": {
      "image/png": "[encoded data removed]",
      "text/plain": [
       "<Figure size 432x288 with 1 Axes>"
      ]
     },
     "metadata": {
      "needs_background": "light"
     },
     "output_type": "display_data"
    },
    {
     "data": {
      "image/png": "[encoded data removed]",
      "text/plain": [
       "<Figure size 432x288 with 1 Axes>"
      ]
     },
     "metadata": {
      "needs_background": "light"
     },
     "output_type": "display_data"
    },
    {
     "data": {
      "image/png": "[encoded data removed]",
      "text/plain": [
       "<Figure size 432x288 with 1 Axes>"
      ]
     },
     "metadata": {
      "needs_background": "light"
     },
     "output_type": "display_data"
    },
    {
     "data": {
      "image/png": "[encoded data removed]",
      "text/plain": [
       "<Figure size 432x288 with 1 Axes>"
      ]
     },
     "metadata": {
      "needs_background": "light"
     },
     "output_type": "display_data"
    },
    {
     "data": {
      "image/png": "[encoded data removed]",
      "text/plain": [
       "<Figure size 432x288 with 1 Axes>"
      ]
     },
     "metadata": {
      "needs_background": "light"
     },
     "output_type": "display_data"
    },
    {
     "data": {
      "image/png": "[encoded data removed]",
      "text/plain": [
       "<Figure size 432x288 with 1 Axes>"
      ]
     },
     "metadata": {
      "needs_background": "light"
     },
     "output_type": "display_data"
    },
    {
     "data": {
      "image/png": "[encoded data removed]",
      "text/plain": [
       "<Figure size 432x288 with 1 Axes>"
      ]
     },
     "metadata": {
      "needs_background": "light"
     },
     "output_type": "display_data"
    },
    {
     "data": {
      "image/png": "[encoded data removed]",
      "text/plain": [
       "<Figure size 432x288 with 1 Axes>"
      ]
     },
     "metadata": {
      "needs_background": "light"
     },
     "output_type": "display_data"
    },
    {
     "data": {
      "image/png": "[encoded data removed]",
      "text/plain": [
       "<Figure size 432x288 with 1 Axes>"
      ]
     },
     "metadata": {
      "needs_background": "light"
     },
     "output_type": "display_data"
    },
    {
     "data": {
      "image/png": "[encoded data removed]",
      "text/plain": [
       "<Figure size 432x288 with 1 Axes>"
      ]
     },
     "metadata": {
      "needs_background": "light"
     },
     "output_type": "display_data"
    },
    {
     "data": {
      "image/png": "[encoded data removed]",
      "text/plain": [
       "<Figure size 432x288 with 1 Axes>"
      ]
     },
     "metadata": {
      "needs_background": "light"
     },
     "output_type": "display_data"
    },
    {
     "data": {
      "image/png": "[encoded data removed]",
      "text/plain": [
       "<Figure size 432x288 with 1 Axes>"
      ]
     },
     "metadata": {
      "needs_background": "light"
     },
     "output_type": "display_data"
    },
    {
     "data": {
      "image/png": "[encoded data removed]",
      "text/plain": [
       "<Figure size 432x288 with 1 Axes>"
      ]
     },
     "metadata": {
      "needs_background": "light"
     },
     "output_type": "display_data"
    },
    {
     "data": {
      "image/png": "[encoded data removed]",
      "text/plain": [
       "<Figure size 432x288 with 1 Axes>"
      ]
     },
     "metadata": {
      "needs_background": "light"
     },
     "output_type": "display_data"
    },
    {
     "data": {
      "image/png": "[encoded data removed]",
      "text/plain": [
       "<Figure size 432x288 with 1 Axes>"
      ]
     },
     "metadata": {
      "needs_background": "light"
     },
     "output_type": "display_data"
    },
    {
     "data": {
      "image/png": "[encoded data removed]",
      "text/plain": [
       "<Figure size 432x288 with 1 Axes>"
      ]
     },
     "metadata": {
      "needs_background": "light"
     },
     "output_type": "display_data"
    }
   ],
   "source": [
    "for i in range(20):\n",
    "    plt.imshow(x_adv[i].view(28, 28).cpu().detach().numpy())\n",
    "    plt.show()"
   ]
  },
  {
   "cell_type": "code",
   "execution_count": null,
   "metadata": {},
   "outputs": [],
   "source": []
  },
  {
   "cell_type": "code",
   "execution_count": 4,
   "metadata": {},
   "outputs": [
    {
     "name": "stderr",
     "output_type": "stream",
     "text": [
      "Using TensorFlow backend.\n"
     ]
    }
   ],
   "source": [
    "# Subsamples dataset and reduces to two classes (1 and 7)\n",
    "# Code adapted from https://github.com/yangarbiter/adversarial-nonparametrics\n",
    "\n",
    "num_samples = 2200\n",
    "num_val = 300 # can pick anything > 0, does not really get used here\n",
    "\n",
    "from keras.datasets import mnist\n",
    "(X, y), (_, _) = mnist.load_data()\n",
    "np.random.seed(2019)\n",
    "idx1 = np.random.choice(\n",
    "    np.where(y == 1)[0], num_samples // 2, replace=False)\n",
    "idx2 = np.random.choice(\n",
    "    np.where(y == 7)[0], num_samples // 2, replace=False)\n",
    "y[idx1] = 0\n",
    "y[idx2] = 1\n",
    "X = np.vstack((X[idx1], X[idx2])).astype(np.float32) / 255.\n",
    "y = np.concatenate((y[idx1], y[idx2]))\n",
    "\n",
    "idxs = np.arange(num_samples)\n",
    "np.random.shuffle(idxs)\n",
    "x_train_sub = torch.tensor(X[idxs[:-200]])\n",
    "x_test_sub = torch.tensor(X[idxs[-200:]])\n",
    "y_train_sub = torch.tensor(y[idxs[:-200]])\n",
    "y_test_sub = torch.tensor(y[idxs[-200:]])"
   ]
  },
  {
   "cell_type": "code",
   "execution_count": 5,
   "metadata": {},
   "outputs": [],
   "source": [
    "net_knn = KNNModel()"
   ]
  },
  {
   "cell_type": "code",
   "execution_count": 6,
   "metadata": {},
   "outputs": [],
   "source": [
    "layers = ['identity']\n",
    "knn = DKNNL2(net_knn, x_train_sub, y_train_sub, \n",
    "             x_test_sub, y_test_sub, layers, \n",
    "             k=1, num_classes=2)"
   ]
  },
  {
   "cell_type": "code",
   "execution_count": 7,
   "metadata": {},
   "outputs": [
    {
     "name": "stdout",
     "output_type": "stream",
     "text": [
      "0.99\n"
     ]
    }
   ],
   "source": [
    "with torch.no_grad():\n",
    "    y_pred = knn.classify(x_test_sub)\n",
    "    ind = np.where(y_pred.argmax(1) == y_test_sub.numpy())[0]\n",
    "    print((y_pred.argmax(1) == y_test_sub.numpy()).sum() / y_test_sub.size(0))"
   ]
  },
  {
   "cell_type": "code",
   "execution_count": 56,
   "metadata": {
    "scrolled": true
   },
   "outputs": [
    {
     "name": "stdout",
     "output_type": "stream",
     "text": [
      "    step: 0; loss: 0.454; l2dist: 0.000\n",
      "tensor(2., device='cuda:0')\n",
      "    step: 100; loss: 0.451; l2dist: 0.053\n",
      "tensor(2., device='cuda:0')\n",
      "    step: 200; loss: 0.451; l2dist: 0.053\n",
      "tensor(2., device='cuda:0')\n",
      "    step: 300; loss: 0.451; l2dist: 0.053\n",
      "tensor(2., device='cuda:0')\n",
      "    step: 400; loss: 0.451; l2dist: 0.053\n",
      "tensor(2., device='cuda:0')\n",
      "    step: 500; loss: 0.451; l2dist: 0.053\n",
      "tensor(2., device='cuda:0')\n",
      "    step: 600; loss: 0.451; l2dist: 0.053\n",
      "tensor(2., device='cuda:0')\n",
      "    step: 700; loss: 0.451; l2dist: 0.053\n",
      "tensor(2., device='cuda:0')\n",
      "    step: 800; loss: 0.451; l2dist: 0.053\n",
      "tensor(2., device='cuda:0')\n",
      "    step: 900; loss: 0.451; l2dist: 0.053\n",
      "tensor(2., device='cuda:0')\n",
      "tensor(2., device='cuda:0')\n",
      "binary step: 0; number of successful adv: 2/200\n",
      "    step: 0; loss: 4.519; l2dist: 0.000\n",
      "tensor(2., device='cuda:0')\n",
      "    step: 100; loss: 4.229; l2dist: 0.483\n",
      "tensor(3., device='cuda:0')\n",
      "    step: 200; loss: 4.229; l2dist: 0.484\n",
      "tensor(3., device='cuda:0')\n",
      "    step: 300; loss: 4.124; l2dist: 0.577\n",
      "tensor(3., device='cuda:0')\n",
      "    step: 400; loss: 4.112; l2dist: 0.587\n",
      "tensor(3., device='cuda:0')\n",
      "    step: 500; loss: 4.110; l2dist: 0.589\n",
      "tensor(3., device='cuda:0')\n",
      "    step: 600; loss: 4.109; l2dist: 0.590\n",
      "tensor(3., device='cuda:0')\n",
      "    step: 700; loss: 4.109; l2dist: 0.590\n",
      "tensor(3., device='cuda:0')\n",
      "    step: 800; loss: 4.109; l2dist: 0.590\n",
      "tensor(3., device='cuda:0')\n",
      "    step: 900; loss: 4.108; l2dist: 0.590\n",
      "tensor(3., device='cuda:0')\n",
      "tensor(3., device='cuda:0')\n",
      "binary step: 1; number of successful adv: 3/200\n",
      "    step: 0; loss: 45.074; l2dist: 0.000\n",
      "tensor(2., device='cuda:0')\n",
      "    step: 100; loss: 23.548; l2dist: 3.334\n",
      "tensor(150., device='cuda:0')\n",
      "    step: 200; loss: 22.551; l2dist: 3.233\n",
      "tensor(143., device='cuda:0')\n",
      "    step: 300; loss: 22.542; l2dist: 3.233\n",
      "tensor(143., device='cuda:0')\n",
      "    step: 400; loss: 22.541; l2dist: 3.233\n",
      "tensor(143., device='cuda:0')\n",
      "    step: 500; loss: 22.540; l2dist: 3.233\n",
      "tensor(143., device='cuda:0')\n",
      "    step: 600; loss: 22.540; l2dist: 3.233\n",
      "tensor(143., device='cuda:0')\n",
      "    step: 700; loss: 22.540; l2dist: 3.233\n",
      "tensor(143., device='cuda:0')\n",
      "    step: 800; loss: 22.540; l2dist: 3.233\n",
      "tensor(143., device='cuda:0')\n",
      "    step: 900; loss: 22.540; l2dist: 3.233\n",
      "tensor(143., device='cuda:0')\n",
      "tensor(143., device='cuda:0')\n",
      "binary step: 2; number of successful adv: 159/200\n",
      "    step: 0; loss: 137.673; l2dist: 0.000\n",
      "tensor(2., device='cuda:0')\n",
      "    step: 100; loss: 24.829; l2dist: 3.064\n",
      "tensor(64., device='cuda:0')\n",
      "    step: 200; loss: 22.707; l2dist: 3.297\n",
      "tensor(83., device='cuda:0')\n",
      "    step: 300; loss: 22.623; l2dist: 3.282\n",
      "tensor(82., device='cuda:0')\n",
      "    step: 400; loss: 22.621; l2dist: 3.283\n",
      "tensor(82., device='cuda:0')\n",
      "    step: 500; loss: 22.621; l2dist: 3.283\n",
      "tensor(82., device='cuda:0')\n",
      "    step: 600; loss: 22.620; l2dist: 3.283\n",
      "tensor(82., device='cuda:0')\n",
      "    step: 700; loss: 22.620; l2dist: 3.283\n",
      "tensor(82., device='cuda:0')\n",
      "    step: 800; loss: 22.620; l2dist: 3.283\n",
      "tensor(82., device='cuda:0')\n",
      "    step: 900; loss: 22.620; l2dist: 3.283\n",
      "tensor(82., device='cuda:0')\n",
      "tensor(82., device='cuda:0')\n",
      "binary step: 3; number of successful adv: 200/200\n",
      "    step: 0; loss: 89.472; l2dist: 0.000\n",
      "tensor(2., device='cuda:0')\n",
      "    step: 100; loss: 25.279; l2dist: 3.561\n",
      "tensor(104., device='cuda:0')\n",
      "    step: 200; loss: 23.782; l2dist: 3.424\n",
      "tensor(106., device='cuda:0')\n",
      "    step: 300; loss: 23.770; l2dist: 3.423\n",
      "tensor(106., device='cuda:0')\n",
      "    step: 400; loss: 23.768; l2dist: 3.423\n",
      "tensor(106., device='cuda:0')\n",
      "    step: 500; loss: 23.768; l2dist: 3.423\n",
      "tensor(106., device='cuda:0')\n",
      "    step: 600; loss: 23.768; l2dist: 3.423\n",
      "tensor(106., device='cuda:0')\n",
      "    step: 700; loss: 23.768; l2dist: 3.423\n",
      "tensor(106., device='cuda:0')\n",
      "    step: 800; loss: 23.768; l2dist: 3.423\n",
      "tensor(106., device='cuda:0')\n",
      "    step: 900; loss: 23.768; l2dist: 3.423\n",
      "tensor(106., device='cuda:0')\n",
      "tensor(106., device='cuda:0')\n",
      "binary step: 4; number of successful adv: 200/200\n",
      "    step: 0; loss: 63.769; l2dist: 0.000\n",
      "tensor(2., device='cuda:0')\n",
      "    step: 100; loss: 24.480; l2dist: 3.374\n",
      "tensor(109., device='cuda:0')\n",
      "    step: 200; loss: 23.155; l2dist: 3.325\n",
      "tensor(119., device='cuda:0')\n",
      "    step: 300; loss: 23.144; l2dist: 3.327\n",
      "tensor(120., device='cuda:0')\n",
      "    step: 400; loss: 23.142; l2dist: 3.327\n",
      "tensor(120., device='cuda:0')\n",
      "    step: 500; loss: 23.142; l2dist: 3.327\n",
      "tensor(120., device='cuda:0')\n",
      "    step: 600; loss: 23.142; l2dist: 3.327\n",
      "tensor(120., device='cuda:0')\n",
      "    step: 700; loss: 23.142; l2dist: 3.327\n",
      "tensor(120., device='cuda:0')\n",
      "    step: 800; loss: 23.142; l2dist: 3.327\n",
      "tensor(120., device='cuda:0')\n",
      "    step: 900; loss: 23.142; l2dist: 3.327\n",
      "tensor(120., device='cuda:0')\n",
      "tensor(120., device='cuda:0')\n",
      "binary step: 5; number of successful adv: 200/200\n",
      "    step: 0; loss: 50.559; l2dist: 0.000\n",
      "tensor(2., device='cuda:0')\n",
      "    step: 100; loss: 23.481; l2dist: 3.178\n",
      "tensor(113., device='cuda:0')\n",
      "    step: 200; loss: 22.225; l2dist: 3.188\n",
      "tensor(119., device='cuda:0')\n",
      "    step: 300; loss: 22.214; l2dist: 3.188\n",
      "tensor(119., device='cuda:0')\n",
      "    step: 400; loss: 22.212; l2dist: 3.189\n",
      "tensor(120., device='cuda:0')\n",
      "    step: 500; loss: 22.212; l2dist: 3.189\n",
      "tensor(121., device='cuda:0')\n",
      "    step: 600; loss: 22.212; l2dist: 3.189\n",
      "tensor(121., device='cuda:0')\n",
      "    step: 700; loss: 22.212; l2dist: 3.189\n",
      "tensor(121., device='cuda:0')\n",
      "    step: 800; loss: 22.212; l2dist: 3.189\n",
      "tensor(121., device='cuda:0')\n",
      "    step: 900; loss: 22.212; l2dist: 3.189\n",
      "tensor(121., device='cuda:0')\n",
      "tensor(121., device='cuda:0')\n",
      "binary step: 6; number of successful adv: 200/200\n",
      "    step: 0; loss: 43.985; l2dist: 0.000\n",
      "tensor(2., device='cuda:0')\n",
      "    step: 100; loss: 22.621; l2dist: 3.044\n",
      "tensor(113., device='cuda:0')\n",
      "    step: 200; loss: 21.433; l2dist: 3.069\n",
      "tensor(129., device='cuda:0')\n",
      "    step: 300; loss: 21.422; l2dist: 3.069\n",
      "tensor(129., device='cuda:0')\n",
      "    step: 400; loss: 21.421; l2dist: 3.070\n",
      "tensor(129., device='cuda:0')\n",
      "    step: 500; loss: 21.420; l2dist: 3.070\n",
      "tensor(129., device='cuda:0')\n",
      "    step: 600; loss: 21.420; l2dist: 3.070\n",
      "tensor(129., device='cuda:0')\n",
      "    step: 700; loss: 21.420; l2dist: 3.070\n",
      "tensor(129., device='cuda:0')\n",
      "    step: 800; loss: 21.420; l2dist: 3.070\n",
      "tensor(130., device='cuda:0')\n",
      "    step: 900; loss: 21.420; l2dist: 3.070\n",
      "tensor(130., device='cuda:0')\n",
      "tensor(130., device='cuda:0')\n",
      "binary step: 7; number of successful adv: 200/200\n",
      "    step: 0; loss: 40.633; l2dist: 0.000\n",
      "tensor(2., device='cuda:0')\n",
      "    step: 100; loss: 22.046; l2dist: 2.970\n",
      "tensor(104., device='cuda:0')\n",
      "    step: 200; loss: 20.859; l2dist: 2.983\n",
      "tensor(139., device='cuda:0')\n",
      "    step: 300; loss: 20.846; l2dist: 2.983\n",
      "tensor(143., device='cuda:0')\n",
      "    step: 400; loss: 20.845; l2dist: 2.983\n",
      "tensor(143., device='cuda:0')\n",
      "    step: 500; loss: 20.845; l2dist: 2.984\n",
      "tensor(143., device='cuda:0')\n",
      "    step: 600; loss: 20.845; l2dist: 2.984\n",
      "tensor(143., device='cuda:0')\n",
      "    step: 700; loss: 20.845; l2dist: 2.984\n",
      "tensor(143., device='cuda:0')\n",
      "    step: 800; loss: 20.845; l2dist: 2.984\n",
      "tensor(143., device='cuda:0')\n",
      "    step: 900; loss: 20.845; l2dist: 2.984\n",
      "tensor(142., device='cuda:0')\n",
      "tensor(142., device='cuda:0')\n",
      "binary step: 8; number of successful adv: 200/200\n",
      "    step: 0; loss: 38.943; l2dist: 0.000\n",
      "tensor(2., device='cuda:0')\n",
      "    step: 100; loss: 21.720; l2dist: 2.931\n",
      "tensor(86., device='cuda:0')\n",
      "    step: 200; loss: 20.507; l2dist: 2.930\n",
      "tensor(105., device='cuda:0')\n",
      "    step: 300; loss: 20.493; l2dist: 2.931\n",
      "tensor(109., device='cuda:0')\n",
      "    step: 400; loss: 20.492; l2dist: 2.931\n",
      "tensor(111., device='cuda:0')\n",
      "    step: 500; loss: 20.492; l2dist: 2.931\n",
      "tensor(110., device='cuda:0')\n",
      "    step: 600; loss: 20.491; l2dist: 2.931\n",
      "tensor(110., device='cuda:0')\n",
      "    step: 700; loss: 20.491; l2dist: 2.931\n",
      "tensor(110., device='cuda:0')\n",
      "    step: 800; loss: 20.491; l2dist: 2.931\n",
      "tensor(110., device='cuda:0')\n",
      "    step: 900; loss: 20.491; l2dist: 2.931\n",
      "tensor(110., device='cuda:0')\n",
      "tensor(110., device='cuda:0')\n",
      "binary step: 9; number of successful adv: 200/200\n",
      "    step: 0; loss: 38.568; l2dist: 0.000\n",
      "tensor(2., device='cuda:0')\n",
      "    step: 100; loss: 21.648; l2dist: 2.925\n",
      "tensor(88., device='cuda:0')\n",
      "    step: 200; loss: 20.419; l2dist: 2.918\n",
      "tensor(96., device='cuda:0')\n",
      "    step: 300; loss: 20.406; l2dist: 2.918\n",
      "tensor(104., device='cuda:0')\n",
      "    step: 400; loss: 20.404; l2dist: 2.919\n",
      "tensor(111., device='cuda:0')\n",
      "    step: 500; loss: 20.404; l2dist: 2.919\n",
      "tensor(110., device='cuda:0')\n",
      "    step: 600; loss: 20.404; l2dist: 2.919\n",
      "tensor(110., device='cuda:0')\n",
      "    step: 700; loss: 20.404; l2dist: 2.919\n",
      "tensor(110., device='cuda:0')\n",
      "    step: 800; loss: 20.404; l2dist: 2.919\n",
      "tensor(110., device='cuda:0')\n",
      "    step: 900; loss: 20.404; l2dist: 2.919\n",
      "tensor(109., device='cuda:0')\n",
      "tensor(109., device='cuda:0')\n",
      "binary step: 10; number of successful adv: 200/200\n",
      "    step: 0; loss: 38.358; l2dist: 0.000\n",
      "tensor(2., device='cuda:0')\n",
      "    step: 100; loss: 21.613; l2dist: 2.921\n",
      "tensor(76., device='cuda:0')\n",
      "    step: 200; loss: 20.370; l2dist: 2.911\n",
      "tensor(98., device='cuda:0')\n",
      "    step: 300; loss: 20.357; l2dist: 2.911\n",
      "tensor(105., device='cuda:0')\n",
      "    step: 400; loss: 20.355; l2dist: 2.912\n",
      "tensor(110., device='cuda:0')\n",
      "    step: 500; loss: 20.355; l2dist: 2.912\n",
      "tensor(111., device='cuda:0')\n",
      "    step: 600; loss: 20.355; l2dist: 2.912\n",
      "tensor(106., device='cuda:0')\n",
      "    step: 700; loss: 20.355; l2dist: 2.912\n",
      "tensor(107., device='cuda:0')\n",
      "    step: 800; loss: 20.355; l2dist: 2.912\n",
      "tensor(107., device='cuda:0')\n",
      "    step: 900; loss: 20.355; l2dist: 2.912\n",
      "tensor(106., device='cuda:0')\n",
      "tensor(108., device='cuda:0')\n",
      "binary step: 11; number of successful adv: 200/200\n",
      "    step: 0; loss: 38.345; l2dist: 0.000\n",
      "tensor(2., device='cuda:0')\n",
      "    step: 100; loss: 21.610; l2dist: 2.921\n",
      "tensor(77., device='cuda:0')\n",
      "    step: 200; loss: 20.367; l2dist: 2.911\n",
      "tensor(92., device='cuda:0')\n",
      "    step: 300; loss: 20.353; l2dist: 2.911\n",
      "tensor(95., device='cuda:0')\n",
      "    step: 400; loss: 20.352; l2dist: 2.911\n",
      "tensor(96., device='cuda:0')\n",
      "    step: 500; loss: 20.352; l2dist: 2.911\n",
      "tensor(98., device='cuda:0')\n",
      "    step: 600; loss: 20.352; l2dist: 2.911\n",
      "tensor(98., device='cuda:0')\n",
      "    step: 700; loss: 20.352; l2dist: 2.911\n",
      "tensor(98., device='cuda:0')\n",
      "    step: 800; loss: 20.352; l2dist: 2.911\n",
      "tensor(97., device='cuda:0')\n",
      "    step: 900; loss: 20.352; l2dist: 2.911\n",
      "tensor(97., device='cuda:0')\n",
      "tensor(98., device='cuda:0')\n",
      "binary step: 12; number of successful adv: 200/200\n",
      "    step: 0; loss: 38.330; l2dist: 0.000\n",
      "tensor(2., device='cuda:0')\n",
      "    step: 100; loss: 21.607; l2dist: 2.920\n",
      "tensor(77., device='cuda:0')\n",
      "    step: 200; loss: 20.364; l2dist: 2.910\n",
      "tensor(93., device='cuda:0')\n",
      "    step: 300; loss: 20.351; l2dist: 2.910\n",
      "tensor(92., device='cuda:0')\n",
      "    step: 400; loss: 20.349; l2dist: 2.911\n",
      "tensor(107., device='cuda:0')\n",
      "    step: 500; loss: 20.349; l2dist: 2.911\n",
      "tensor(109., device='cuda:0')\n",
      "    step: 600; loss: 20.349; l2dist: 2.911\n",
      "tensor(109., device='cuda:0')\n",
      "    step: 700; loss: 20.349; l2dist: 2.911\n",
      "tensor(107., device='cuda:0')\n",
      "    step: 800; loss: 20.349; l2dist: 2.911\n",
      "tensor(109., device='cuda:0')\n",
      "    step: 900; loss: 20.349; l2dist: 2.911\n",
      "tensor(107., device='cuda:0')\n",
      "tensor(109., device='cuda:0')\n",
      "binary step: 13; number of successful adv: 200/200\n",
      "    step: 0; loss: 38.384; l2dist: 0.000\n",
      "tensor(2., device='cuda:0')\n",
      "    step: 100; loss: 21.618; l2dist: 2.922\n",
      "tensor(77., device='cuda:0')\n",
      "    step: 200; loss: 20.377; l2dist: 2.912\n",
      "tensor(117., device='cuda:0')\n",
      "    step: 300; loss: 20.364; l2dist: 2.912\n",
      "tensor(147., device='cuda:0')\n",
      "    step: 400; loss: 20.362; l2dist: 2.913\n",
      "tensor(180., device='cuda:0')\n",
      "    step: 500; loss: 20.362; l2dist: 2.913\n",
      "tensor(190., device='cuda:0')\n",
      "    step: 600; loss: 20.362; l2dist: 2.913\n",
      "tensor(196., device='cuda:0')\n",
      "    step: 700; loss: 20.362; l2dist: 2.913\n",
      "tensor(197., device='cuda:0')\n",
      "    step: 800; loss: 20.362; l2dist: 2.913\n",
      "tensor(199., device='cuda:0')\n",
      "    step: 900; loss: 20.362; l2dist: 2.913\n",
      "tensor(196., device='cuda:0')\n",
      "tensor(200., device='cuda:0')\n",
      "binary step: 14; number of successful adv: 200/200\n"
     ]
    }
   ],
   "source": [
    "# Attack for L2 DkNN\n",
    "\n",
    "# attack = DKNNL2Attack()\n",
    "# attack = DKNNLinfAttack()\n",
    "from lib.dknn_attack_exp import DKNNExpAttack\n",
    "attack = DKNNExpAttack()\n",
    "\n",
    "def attack_batch(x, y, batch_size):\n",
    "    x_adv = torch.zeros_like(x)\n",
    "    total_num = x.size(0)\n",
    "    num_batches = total_num // batch_size\n",
    "    for i in range(num_batches):\n",
    "        begin = i * batch_size\n",
    "        end = (i + 1) * batch_size\n",
    "        x_adv[begin:end] = attack(\n",
    "            knn, x[begin:end], y[begin:end],\n",
    "            guide_layer=layers[0], m=1, binary_search_steps=15,\n",
    "            max_iterations=1000, learning_rate=1e-1, guide_mode=1,\n",
    "            initial_const=1e-2, abort_early=True, random_start=False)\n",
    "    return x_adv\n",
    "\n",
    "num = 200\n",
    "x_adv = attack_batch(x_test_sub[:num].cuda(), y_test_sub[:num], 200)"
   ]
  },
  {
   "cell_type": "code",
   "execution_count": 57,
   "metadata": {},
   "outputs": [
    {
     "name": "stdout",
     "output_type": "stream",
     "text": [
      "0.0\n"
     ]
    }
   ],
   "source": [
    "with torch.no_grad():\n",
    "    y_pred = knn.classify(x_adv)\n",
    "    ind = np.where(y_pred.argmax(1) == y_test_sub[:num].numpy())[0]\n",
    "    print(len(ind) / x_adv.size(0))"
   ]
  },
  {
   "cell_type": "code",
   "execution_count": 57,
   "metadata": {
    "collapsed": true,
    "jupyter": {
     "outputs_hidden": true
    }
   },
   "outputs": [
    {
     "data": {
      "text/plain": [
       "[(array([[28.832077 , 35.470264 , 36.02511  , 37.656963 , 38.208473 ,\n",
       "          39.263206 , 39.646885 , 40.205055 , 41.575085 , 42.94713  ,\n",
       "          43.37243  , 43.766434 , 43.78415  , 43.83922  , 44.964108 ,\n",
       "          45.238632 , 45.84772  , 46.177193 , 46.570705 , 47.616356 ,\n",
       "          48.474632 , 48.639538 , 49.064854 , 49.434353 , 49.726173 ,\n",
       "          50.41435  , 50.961292 , 51.059917 , 51.543686 , 51.673344 ,\n",
       "          51.943703 , 52.586143 , 53.02256  , 53.0845   , 53.12081  ,\n",
       "          53.513096 , 53.889782 , 54.112198 , 54.16712  , 55.332428 ,\n",
       "          55.341377 , 55.519882 , 55.823795 , 56.449005 , 56.474342 ,\n",
       "          56.536583 , 56.65898  , 57.060356 , 57.667496 , 57.79631  ],\n",
       "         [ 2.9935718,  3.2781086,  3.3305187,  3.470542 ,  3.671557 ,\n",
       "           3.8215458,  4.0873203,  4.5895424,  4.626682 ,  4.6806917,\n",
       "           4.728166 ,  5.0415072,  5.0883045,  5.372903 ,  5.519185 ,\n",
       "           5.5237226,  5.802368 ,  6.084614 ,  6.2640057,  6.362353 ,\n",
       "           6.3632917,  6.382392 ,  6.387113 ,  6.6033993,  7.062314 ,\n",
       "           7.1004543,  7.166321 ,  7.282937 ,  7.3718576,  7.4765396,\n",
       "           7.6057215,  7.6354017,  7.646305 ,  7.666605 ,  7.849766 ,\n",
       "           7.8835373,  7.9759016,  8.164737 ,  8.32812  ,  8.466698 ,\n",
       "           8.613873 ,  8.614733 ,  8.619869 ,  8.6473055,  8.676586 ,\n",
       "           8.831711 ,  8.864145 ,  8.89504  ,  9.227114 ,  9.242476 ],\n",
       "         [22.809149 , 23.929304 , 27.2822   , 28.217438 , 28.913956 ,\n",
       "          29.79943  , 30.675785 , 31.152664 , 31.820667 , 31.987034 ,\n",
       "          32.151646 , 32.36192  , 32.72489  , 32.763474 , 32.961628 ,\n",
       "          33.57344  , 33.69544  , 33.73766  , 33.937748 , 33.96447  ,\n",
       "          34.856728 , 35.028717 , 35.573204 , 35.582973 , 35.748512 ,\n",
       "          35.8066   , 36.484383 , 36.564304 , 37.057007 , 37.267143 ,\n",
       "          37.380867 , 37.740868 , 37.961063 , 38.08026  , 38.313892 ,\n",
       "          38.414944 , 38.569008 , 39.152344 , 39.180206 , 39.19686  ,\n",
       "          39.212162 , 39.220715 , 39.338135 , 39.602917 , 39.93447  ,\n",
       "          40.13893  , 40.19403  , 40.28129  , 40.395996 , 40.52624  ],\n",
       "         [ 6.448243 ,  7.132657 ,  7.464852 ,  7.9296274,  7.934211 ,\n",
       "           8.089582 ,  8.293901 ,  9.389219 ,  9.646198 , 10.087291 ,\n",
       "          10.385514 , 10.750068 , 10.851057 , 11.117556 , 11.212842 ,\n",
       "          11.533027 , 11.645014 , 11.750496 , 12.063099 , 12.285107 ,\n",
       "          12.29581  , 12.338824 , 12.488598 , 12.788744 , 12.832097 ,\n",
       "          13.017408 , 13.038847 , 13.045122 , 13.241861 , 13.265177 ,\n",
       "          13.532626 , 14.362524 , 14.807291 , 15.386175 , 15.530442 ,\n",
       "          15.6438465, 15.665037 , 15.695656 , 15.808951 , 15.834802 ,\n",
       "          15.84137  , 15.969905 , 16.082598 , 16.25321  , 16.322475 ,\n",
       "          16.37235  , 16.387867 , 16.424976 , 16.439524 , 16.585867 ],\n",
       "         [17.376516 , 18.731089 , 19.329426 , 19.35051  , 21.055946 ,\n",
       "          21.155909 , 22.325672 , 23.265236 , 23.521324 , 23.675924 ,\n",
       "          24.766413 , 24.840033 , 24.984573 , 25.191093 , 25.54871  ,\n",
       "          25.68449  , 25.835384 , 26.119    , 26.431524 , 27.178991 ,\n",
       "          27.277203 , 27.734222 , 28.381424 , 28.420746 , 28.498009 ,\n",
       "          28.850304 , 28.853317 , 29.600464 , 29.955437 , 30.326887 ,\n",
       "          30.336996 , 30.337175 , 30.59014  , 30.73258  , 30.774626 ,\n",
       "          30.997215 , 31.064188 , 31.13707  , 31.384129 , 31.712328 ,\n",
       "          31.788004 , 31.832512 , 31.844105 , 32.045654 , 32.07675  ,\n",
       "          32.094902 , 32.197216 , 32.326797 , 32.448563 , 32.760094 ],\n",
       "         [15.213197 , 17.181068 , 18.101994 , 18.828743 , 20.816765 ,\n",
       "          20.905682 , 21.521801 , 21.577103 , 22.05275  , 22.233204 ,\n",
       "          22.400585 , 22.433693 , 23.512772 , 23.541344 , 23.68417  ,\n",
       "          23.701424 , 23.972672 , 24.564522 , 24.71251  , 24.723827 ,\n",
       "          24.738287 , 25.690857 , 25.753986 , 25.80103  , 26.064743 ,\n",
       "          26.068096 , 26.06976  , 26.109175 , 26.113848 , 26.22925  ,\n",
       "          26.308449 , 26.504608 , 26.520586 , 26.68286  , 26.761293 ,\n",
       "          27.14416  , 27.152601 , 27.524734 , 27.760984 , 27.878876 ,\n",
       "          27.908482 , 27.951988 , 27.971964 , 28.022789 , 28.112892 ,\n",
       "          28.14716  , 28.464993 , 28.633202 , 28.694717 , 28.743084 ],\n",
       "         [ 5.111111 ,  5.6718035,  5.921737 ,  6.0201464,  7.104468 ,\n",
       "           7.98293  ,  8.276094 ,  8.410412 ,  9.362399 ,  9.483153 ,\n",
       "           9.592358 ,  9.643876 ,  9.709497 ,  9.720554 ,  9.730997 ,\n",
       "           9.866114 ,  9.916695 ,  9.994848 , 10.019423 , 10.049351 ,\n",
       "          10.580484 , 10.623037 , 10.631019 , 10.663576 , 10.727905 ,\n",
       "          11.017762 , 11.133211 , 11.200277 , 11.374056 , 11.484353 ,\n",
       "          11.514971 , 11.535609 , 11.567612 , 11.611258 , 11.685721 ,\n",
       "          11.705744 , 11.739886 , 11.926628 , 12.033233 , 12.05401  ,\n",
       "          12.059423 , 12.073865 , 12.083738 , 12.143822 , 12.253672 ,\n",
       "          12.288705 , 12.50596  , 12.5360565, 12.696133 , 12.792742 ],\n",
       "         [47.92503  , 48.959015 , 49.079433 , 49.413174 , 53.30419  ,\n",
       "          53.332245 , 53.974255 , 54.523464 , 54.72957  , 54.86199  ,\n",
       "          55.73478  , 56.350006 , 56.61796  , 56.64321  , 56.889275 ,\n",
       "          56.93747  , 57.165398 , 57.570614 , 57.621716 , 57.64897  ,\n",
       "          57.91779  , 57.96455  , 57.97461  , 58.210304 , 58.25958  ,\n",
       "          58.440247 , 58.79622  , 59.020744 , 59.247807 , 59.380466 ,\n",
       "          59.597523 , 59.599342 , 59.69076  , 59.79572  , 59.87937  ,\n",
       "          60.026512 , 60.225082 , 60.260002 , 60.5457   , 60.626175 ,\n",
       "          60.75285  , 61.154114 , 61.19094  , 61.242798 , 61.63345  ,\n",
       "          61.740517 , 61.76284  , 61.8308   , 61.89235  , 62.10685  ],\n",
       "         [19.91514  , 25.985928 , 28.36915  , 32.733856 , 33.126873 ,\n",
       "          33.25579  , 37.9234   , 37.961308 , 38.183407 , 38.437225 ,\n",
       "          38.50931  , 38.757324 , 39.287598 , 39.44349  , 39.554108 ,\n",
       "          39.659176 , 40.03895  , 40.076508 , 40.114357 , 40.255165 ,\n",
       "          40.44038  , 40.627373 , 41.172073 , 41.175865 , 42.084347 ,\n",
       "          42.240665 , 42.422882 , 42.87503  , 43.97762  , 44.01418  ,\n",
       "          44.025864 , 44.11194  , 44.130047 , 44.303757 , 44.396103 ,\n",
       "          44.429054 , 44.59611  , 44.817177 , 44.853745 , 45.0766   ,\n",
       "          45.336643 , 45.38301  , 45.388237 , 45.480927 , 46.123707 ,\n",
       "          46.268707 , 46.340454 , 46.37232  , 46.60743  , 46.81138  ],\n",
       "         [19.958614 , 20.081585 , 20.793495 , 20.808872 , 21.196247 ,\n",
       "          22.615177 , 23.157032 , 23.400276 , 23.633005 , 23.663021 ,\n",
       "          24.052567 , 24.317398 , 25.757893 , 26.278433 , 26.337791 ,\n",
       "          26.999996 , 27.223454 , 27.290287 , 27.474844 , 27.968103 ,\n",
       "          27.989834 , 28.311232 , 28.721504 , 28.885843 , 29.009598 ,\n",
       "          29.64973  , 30.298805 , 30.35692  , 30.594921 , 30.931267 ,\n",
       "          30.934963 , 31.59043  , 31.98537  , 32.36953  , 32.400967 ,\n",
       "          32.59935  , 32.92143  , 33.108437 , 33.580482 , 33.639244 ,\n",
       "          33.98914  , 34.166504 , 34.270817 , 34.536285 , 34.63981  ,\n",
       "          35.15277  , 35.233036 , 35.402843 , 35.772842 , 36.595306 ]],\n",
       "        dtype=float32),\n",
       "  array([[1751, 1516,  650, 1494, 1364,  804,  395,  484,  655, 1037, 1788,\n",
       "          1175, 1711, 1619, 1987, 1833,  175,  557,  418, 1013,  410,  644,\n",
       "          1359, 1151,  589, 1646,  922,  456, 1944,   26, 1848,  896,   19,\n",
       "          1111, 1000, 1083,  697, 1935,   91, 1636, 1748, 1798,  513, 1391,\n",
       "          1697, 1746,  601, 1617,  108,   74],\n",
       "         [1926,  727, 1207,  831,  144, 1333,  959, 1145, 1916,  929, 1764,\n",
       "           406, 1572,  220,  288, 1816, 1177, 1101,  547,  165, 1462,  605,\n",
       "           378,  821,  565, 1062, 1473, 1773,   77, 1203,  835,  236, 1369,\n",
       "          1797, 1978, 1336,  665,   61,   49,  214,  808, 1296,  404, 1244,\n",
       "          1385,  567,  572, 1645, 1847, 1139],\n",
       "         [1931, 1836, 1269,   73,  362,  995, 1624,   98,  169, 1640,  162,\n",
       "          1754, 1629, 1444, 1774,  499,  916,  936, 1695, 1603, 1674, 1122,\n",
       "            97,  909, 1214, 1382, 1571, 1059,  223, 1478,  806, 1760, 1591,\n",
       "          1555, 1660, 1260, 1281, 1747,  754,  530,  289,  376,  187,  780,\n",
       "          1158, 1487, 1222,  344, 1010, 1610],\n",
       "         [ 619, 1881,  950, 1002, 1285, 1659, 1731, 1682, 1932, 1532, 1720,\n",
       "           563,  138, 1658,   71, 1520,  613, 1637, 1380, 1676, 1220,  371,\n",
       "          1182,  241, 1398, 1338,  651, 1314,  379,  859, 1616, 1968, 1270,\n",
       "           742, 1199,    5, 1267, 1102,  423, 1490,  137,  969,  991,  680,\n",
       "          1531, 1129, 1242, 1598,  735, 1325],\n",
       "         [1547, 1092,  218, 1752, 1938, 1004, 1549,  127,  312, 1021, 1357,\n",
       "            53, 1905,  653, 1913,  348,  486,  457, 1814, 1411, 1464,  199,\n",
       "          1627,  667,  668, 1217, 1468,  117, 1884,  156,   39, 1898, 1652,\n",
       "          1903, 1409,   90, 1890,  129, 1596,  675, 1433,  222,  544, 1866,\n",
       "          1909,  292, 1219,  809,  528, 1793],\n",
       "         [ 368,  601, 1573,  323,  468, 1052,  537, 1872,  277,  668, 1991,\n",
       "           926,  887,  518,  348, 1163,  117,   53, 1302, 1097,  431, 1696,\n",
       "            95,  309,  854,   63,  385,  127,  341, 1262,  723,  699, 1755,\n",
       "          1884,  457, 1620,  177,  648, 1818,  787, 1225, 1071, 1434,  544,\n",
       "           487, 1547, 1889,  190, 1003, 1358],\n",
       "         [1817, 1475,  346,  654, 1297, 1576, 1405,  310,  453,  258, 1312,\n",
       "          1632,  932, 1882, 1246,  790, 1726,  329,  244,  260,  426, 1243,\n",
       "          1706,  354,  524,  811, 1519,  209, 1113,  212,  903,  303,  367,\n",
       "          1744,  488,  753,  939,   38,  512, 1362, 1489, 1825, 1623, 1408,\n",
       "          1032, 1437,  905, 1667, 1244, 1524],\n",
       "         [ 825,  968,  803, 1045,   95,  350,  886,  801,  444, 1034,  854,\n",
       "          1239,  723,  207,  317,  543, 1694, 1679,  947, 1493, 1317, 1672,\n",
       "           964, 1617, 1302, 1595,  937,   39, 1998,  545, 1181,  158, 1809,\n",
       "           380, 1300, 1125,  799, 1470,  938,  422, 1375,  254, 1097, 1339,\n",
       "           225,  896, 1903,  105, 1004,  271],\n",
       "         [ 275, 1331, 1136, 1301, 1334,  419,  136,  402, 1757,  851, 1527,\n",
       "          1567, 1689,  176,  902,  566, 1091,  148,  985, 1386,  500, 1251,\n",
       "          1812, 1876,  987,   23,  933,  199, 1542,  364, 1999, 1426,  473,\n",
       "           217,  990,  594,  756,  843,   12, 1482,  873,  962,  415, 1474,\n",
       "           155,  580,  392, 1038,  455, 1979],\n",
       "         [ 840, 1802, 1770,  764,  357, 1545, 1372, 1612,  910, 1050, 1579,\n",
       "          1460,  313, 1230,   87, 1483,  114,  989, 1562,  118, 1288, 1985,\n",
       "           216,  414,  556,  521,  733, 1824, 1446, 1961,  807, 1785, 1653,\n",
       "          1870,  412, 1955, 1974,  179, 1227,  862,  299, 1976,  112,  578,\n",
       "           335,  194, 1614,   42,  180, 1026]]))]"
      ]
     },
     "execution_count": 57,
     "metadata": {},
     "output_type": "execute_result"
    }
   ],
   "source": [
    "# knn.get_neighbors(x_test_sub[:10], k=50)\n",
    "# for idx in knn.get_neighbors(x_test_sub[:10], k=50)[0][1]:\n",
    "#     print(y_train_sub[idx])"
   ]
  },
  {
   "cell_type": "code",
   "execution_count": 34,
   "metadata": {},
   "outputs": [
    {
     "data": {
      "text/plain": [
       "tensor([1, 0, 0], dtype=torch.uint8)"
      ]
     },
     "execution_count": 34,
     "metadata": {},
     "output_type": "execute_result"
    }
   ],
   "source": [
    "y_test_sub[:3]"
   ]
  },
  {
   "cell_type": "code",
   "execution_count": 37,
   "metadata": {},
   "outputs": [
    {
     "data": {
      "text/plain": [
       "tensor(0, dtype=torch.uint8)"
      ]
     },
     "execution_count": 37,
     "metadata": {},
     "output_type": "execute_result"
    }
   ],
   "source": [
    "y_train_sub[1931]"
   ]
  },
  {
   "cell_type": "code",
   "execution_count": 58,
   "metadata": {},
   "outputs": [
    {
     "data": {
      "image/png": "[encoded data removed]",
      "text/plain": [
       "<Figure size 432x288 with 1 Axes>"
      ]
     },
     "metadata": {
      "needs_background": "light"
     },
     "output_type": "display_data"
    },
    {
     "data": {
      "image/png": "[encoded data removed]",
      "text/plain": [
       "<Figure size 432x288 with 1 Axes>"
      ]
     },
     "metadata": {
      "needs_background": "light"
     },
     "output_type": "display_data"
    }
   ],
   "source": [
    "i = 8\n",
    "plt.imshow(x_adv.cpu().detach().numpy()[i], cmap='gray')\n",
    "plt.show()\n",
    "plt.imshow(x_test_sub.cpu().detach().numpy()[i], cmap='gray')\n",
    "plt.show()"
   ]
  },
  {
   "cell_type": "code",
   "execution_count": 58,
   "metadata": {},
   "outputs": [
    {
     "data": {
      "text/plain": [
       "tensor(2.9113, grad_fn=<MeanBackward0>)"
      ]
     },
     "execution_count": 58,
     "metadata": {},
     "output_type": "execute_result"
    }
   ],
   "source": [
    "(x_test_sub - x_adv.cpu()).view(num, -1).norm(2, 1).mean()"
   ]
  },
  {
   "cell_type": "code",
   "execution_count": 44,
   "metadata": {
    "collapsed": true,
    "jupyter": {
     "outputs_hidden": true
    }
   },
   "outputs": [
    {
     "data": {
      "text/plain": [
       "torch.return_types.min(\n",
       "values=tensor([-0.4831, -0.4931, -0.4981, -0.4964, -0.4972, -0.4926, -0.4997, -0.4477,\n",
       "        -0.4990, -0.4980, -0.4247, -0.4960, -0.4990, -0.4995, -0.4997, -0.4995,\n",
       "        -0.4964, -0.4994, -0.4999, -0.4997, -0.4971, -0.4974, -0.4231, -0.4872,\n",
       "        -0.4995, -0.4903, -0.5000, -0.4987, -0.4945, -0.4995, -0.4998, -0.4999,\n",
       "        -0.4984, -0.4952, -0.5000, -0.4998, -0.4983, -0.4993, -0.4940, -0.4998,\n",
       "        -0.4991, -0.4993, -0.4885, -0.4588, -0.4945, -0.4957, -0.4997, -0.4866,\n",
       "        -0.4411, -0.4933, -0.4999, -0.4949, -0.5000, -0.4998, -0.4995, -0.3135,\n",
       "        -0.4698, -0.4998, -0.5000, -0.4997, -0.4981, -0.4992, -0.4000, -0.4967,\n",
       "        -0.4991, -0.4999, -0.4980, -0.4997, -0.4710, -0.4937, -0.4997, -0.4975,\n",
       "        -0.4815, -0.4997, -0.4986, -0.4990, -0.4982, -0.4090, -0.4999, -0.4967,\n",
       "        -0.4668, -0.4962, -0.4983, -0.4996, -0.4919, -0.4906, -0.4990, -0.4984,\n",
       "        -0.4946, -0.4972, -0.4996, -0.4914, -0.4876, -0.4997, -0.4990, -0.4942,\n",
       "        -0.4982, -0.4999, -0.4978, -0.4985, -0.4988, -0.3804, -0.4939, -0.4961,\n",
       "        -0.5000, -0.4982, -0.4967, -0.4993, -0.4906, -0.4922, -0.4979, -0.4982,\n",
       "        -0.4431, -0.4999, -0.4974, -0.4815, -0.4883, -0.4995, -0.4736, -0.4999,\n",
       "        -0.4956, -0.4996, -0.4922, -0.5000, -0.4964, -0.4986, -0.4896, -0.4886,\n",
       "        -0.4993, -0.4994, -0.4966, -0.4852, -0.4995, -0.4995, -0.4980, -0.4922,\n",
       "        -0.4330, -0.4915, -0.4974, -0.4551, -0.4961, -0.4999, -0.4979, -0.4995,\n",
       "        -0.4988, -0.4960, -0.4998, -0.4969, -0.4992, -0.4985, -0.4607, -0.4831,\n",
       "        -0.4998, -0.3739, -0.4868, -0.4999, -0.4644, -0.4956, -0.4963, -0.4890,\n",
       "        -0.4996, -0.4898, -0.4982, -0.4979, -0.4980, -0.4997, -0.4948, -0.4829,\n",
       "        -0.4999, -0.3412, -0.5000, -0.4993, -0.4945, -0.4853, -0.4910, -0.4459,\n",
       "        -0.4933, -0.4951, -0.4499, -0.4881, -0.4767, -0.4995, -0.4996, -0.4006,\n",
       "        -0.4842, -0.4999, -0.4928, -0.4997, -0.5000, -0.4986, -0.4947, -0.4964,\n",
       "        -0.4912, -0.4985, -0.4996, -0.4034, -0.4996, -0.4997, -0.4982, -0.4920],\n",
       "       grad_fn=<MinBackward0>),\n",
       "indices=tensor([267, 352, 215, 212, 320, 239, 211, 546, 238, 625, 574, 713, 713, 462,\n",
       "        268, 202, 294, 269, 407, 268, 657, 209, 378, 211, 373, 654, 601, 352,\n",
       "        349, 211, 545, 182, 269, 435, 351, 239, 435, 516, 292, 208, 292, 628,\n",
       "        158, 295, 345, 518, 297, 600, 156, 294, 518, 462, 207, 297, 188, 213,\n",
       "        379, 323, 658, 380, 652, 232, 298, 462, 598, 685, 182, 352, 570, 435,\n",
       "        406, 487, 658, 462, 266, 184, 294, 375, 232, 183, 574, 241, 491, 434,\n",
       "        602, 435, 407, 234, 235, 211, 209, 686, 183, 490, 348, 684, 324, 407,\n",
       "        379, 243, 464, 628, 491, 185, 546, 713, 156, 324, 296, 243, 206, 606,\n",
       "        574, 269, 658, 156, 239, 212, 293, 155, 236, 262, 293, 457, 434, 324,\n",
       "        350, 435, 265, 434, 435, 155, 408, 352, 348, 213, 295, 571, 297, 243,\n",
       "        683, 295, 380, 206, 379, 655, 547, 684, 323, 462, 546, 687, 239, 185,\n",
       "        435, 490, 574, 629, 519, 655, 461, 153, 682, 435, 714, 686, 156, 490,\n",
       "        548, 679, 520, 518, 349, 433, 209, 156, 518, 680, 267, 323, 492, 210,\n",
       "        379, 518, 267, 464, 295, 462, 379, 435, 352, 407, 183, 211, 352, 574,\n",
       "        489, 241, 461, 518]))"
      ]
     },
     "execution_count": 44,
     "metadata": {},
     "output_type": "execute_result"
    }
   ],
   "source": [
    "(x_test_sub - x_adv.cpu()).view(num, -1).min(1)"
   ]
  },
  {
   "cell_type": "code",
   "execution_count": null,
   "metadata": {},
   "outputs": [],
   "source": []
  },
  {
   "cell_type": "code",
   "execution_count": null,
   "metadata": {},
   "outputs": [],
   "source": []
  },
  {
   "cell_type": "code",
   "execution_count": 9,
   "metadata": {},
   "outputs": [],
   "source": [
    "net.compute_logits(x_test[0:1], recompute_train_rep=True, requires_grad=False)\n",
    "logits = torch.zeros((x_test.size(0), 10))\n",
    "\n",
    "for i in range(x_test.size(0) // 100):\n",
    "    logits[i * 100:(i + 1) * 100] = net.compute_logits(x_test[i * 100:(i + 1) * 100])"
   ]
  },
  {
   "cell_type": "code",
   "execution_count": 10,
   "metadata": {},
   "outputs": [
    {
     "name": "stdout",
     "output_type": "stream",
     "text": [
      "Acc: 0.9863\n"
     ]
    }
   ],
   "source": [
    "ind = np.where((logits.argmax(1) == y_test).numpy())[0]\n",
    "acc = (logits.argmax(1) == y_test).float().mean()\n",
    "print('Acc: %.4f' % acc)"
   ]
  },
  {
   "cell_type": "code",
   "execution_count": 13,
   "metadata": {
    "scrolled": true
   },
   "outputs": [
    {
     "name": "stdout",
     "output_type": "stream",
     "text": [
      "    step: 0; loss: 99.682; l2dist: 0.000\n",
      "    step: 100; loss: 46.878; l2dist: 1.176\n",
      "    step: 200; loss: 39.503; l2dist: 1.154\n",
      "    step: 300; loss: 39.618; l2dist: 1.202\n",
      "    step: 400; loss: 39.449; l2dist: 1.161\n",
      "    step: 500; loss: 39.968; l2dist: 1.254\n",
      "    step: 600; loss: 39.540; l2dist: 1.173\n",
      "    step: 700; loss: 39.788; l2dist: 1.215\n",
      "    step: 800; loss: 39.506; l2dist: 1.174\n",
      "    step: 900; loss: 39.391; l2dist: 1.156\n",
      "binary step: 0; number of successful adv: 4/10\n",
      "    step: 0; loss: 618.832; l2dist: 0.000\n",
      "    step: 100; loss: 260.767; l2dist: 2.274\n",
      "    step: 200; loss: 256.815; l2dist: 1.813\n",
      "    step: 300; loss: 255.130; l2dist: 1.670\n",
      "    step: 400; loss: 254.723; l2dist: 1.558\n",
      "    step: 500; loss: 254.830; l2dist: 1.611\n",
      "    step: 600; loss: 254.621; l2dist: 1.578\n",
      "    step: 700; loss: 254.493; l2dist: 1.577\n",
      "    step: 800; loss: 254.820; l2dist: 1.609\n",
      "    step: 900; loss: 255.064; l2dist: 1.654\n",
      "binary step: 1; number of successful adv: 5/10\n",
      "    step: 0; loss: 5055.853; l2dist: 0.000\n",
      "    step: 100; loss: 1615.679; l2dist: 3.172\n",
      "    step: 200; loss: 1612.208; l2dist: 2.825\n",
      "    step: 300; loss: 1609.636; l2dist: 2.545\n",
      "    step: 400; loss: 1608.305; l2dist: 2.402\n",
      "    step: 500; loss: 1606.565; l2dist: 2.150\n",
      "    step: 600; loss: 1605.773; l2dist: 2.009\n",
      "    step: 700; loss: 1608.834; l2dist: 2.447\n",
      "    step: 800; loss: 1607.736; l2dist: 2.342\n",
      "    step: 900; loss: 1605.544; l2dist: 2.002\n",
      "binary step: 2; number of successful adv: 6/10\n",
      "    step: 0; loss: 40513.301; l2dist: 0.000\n",
      "    step: 100; loss: 16065.270; l2dist: 3.858\n",
      "    step: 200; loss: 16057.067; l2dist: 3.584\n",
      "    step: 300; loss: 16049.965; l2dist: 3.338\n",
      "    step: 400; loss: 16046.580; l2dist: 3.134\n",
      "    step: 500; loss: 16044.347; l2dist: 2.935\n",
      "    step: 600; loss: 16043.174; l2dist: 2.861\n",
      "    step: 700; loss: 16041.300; l2dist: 2.624\n",
      "    step: 800; loss: 16041.005; l2dist: 2.630\n",
      "    step: 900; loss: 16039.964; l2dist: 2.496\n",
      "binary step: 3; number of successful adv: 6/10\n",
      "    step: 0; loss: 399616.219; l2dist: 0.000\n",
      "    step: 100; loss: 40013.445; l2dist: 5.280\n",
      "    step: 200; loss: 40010.586; l2dist: 5.161\n",
      "    step: 300; loss: 40009.137; l2dist: 5.054\n",
      "    step: 400; loss: 40007.664; l2dist: 4.908\n",
      "    step: 500; loss: 40006.375; l2dist: 4.812\n",
      "    step: 600; loss: 40004.867; l2dist: 4.670\n",
      "    step: 700; loss: 40003.367; l2dist: 4.548\n",
      "    step: 800; loss: 40001.090; l2dist: 4.350\n",
      "    step: 900; loss: 39999.945; l2dist: 4.265\n",
      "binary step: 4; number of successful adv: 8/10\n",
      "    step: 0; loss: 2106370.500; l2dist: 0.000\n",
      "    step: 100; loss: 99945.828; l2dist: 6.229\n",
      "    step: 200; loss: 99944.789; l2dist: 6.143\n",
      "    step: 300; loss: 99943.867; l2dist: 6.068\n",
      "    step: 400; loss: 99942.930; l2dist: 5.998\n",
      "    step: 500; loss: 99941.586; l2dist: 5.892\n",
      "    step: 600; loss: 99940.555; l2dist: 5.776\n",
      "    step: 700; loss: 99940.570; l2dist: 5.812\n",
      "    step: 800; loss: 99937.898; l2dist: 5.592\n",
      "    step: 900; loss: 99939.281; l2dist: 5.642\n",
      "binary step: 5; number of successful adv: 9/10\n",
      "    step: 0; loss: 10594471.000; l2dist: 0.000\n",
      "    step: 100; loss: 45.802; l2dist: 6.699\n",
      "    step: 200; loss: 45.496; l2dist: 6.676\n",
      "    step: 300; loss: 45.043; l2dist: 6.642\n",
      "    step: 400; loss: 44.420; l2dist: 6.595\n",
      "    step: 500; loss: 43.668; l2dist: 6.539\n",
      "    step: 600; loss: 42.510; l2dist: 6.451\n",
      "    step: 700; loss: 41.264; l2dist: 6.356\n",
      "    step: 800; loss: 39.678; l2dist: 6.232\n",
      "    step: 900; loss: 37.476; l2dist: 6.043\n",
      "binary step: 6; number of successful adv: 10/10\n",
      "    step: 0; loss: 5856205.500; l2dist: 0.000\n",
      "    step: 100; loss: 47.005; l2dist: 6.792\n",
      "    step: 200; loss: 46.697; l2dist: 6.769\n",
      "    step: 300; loss: 46.272; l2dist: 6.736\n",
      "    step: 400; loss: 45.688; l2dist: 6.691\n",
      "    step: 500; loss: 44.896; l2dist: 6.629\n",
      "    step: 600; loss: 43.928; l2dist: 6.553\n",
      "    step: 700; loss: 42.544; l2dist: 6.442\n",
      "    step: 800; loss: 40.829; l2dist: 6.298\n",
      "    step: 900; loss: 38.442; l2dist: 6.091\n",
      "binary step: 7; number of successful adv: 10/10\n",
      "    step: 0; loss: 3487072.000; l2dist: 0.000\n",
      "    step: 100; loss: 44.517; l2dist: 6.629\n",
      "    step: 200; loss: 44.127; l2dist: 6.599\n",
      "    step: 300; loss: 43.570; l2dist: 6.556\n",
      "    step: 400; loss: 42.754; l2dist: 6.492\n",
      "    step: 500; loss: 41.800; l2dist: 6.417\n",
      "    step: 600; loss: 40.719; l2dist: 6.329\n",
      "    step: 700; loss: 39.251; l2dist: 6.203\n",
      "    step: 800; loss: 37.304; l2dist: 6.028\n",
      "    step: 900; loss: 34.828; l2dist: 5.792\n",
      "binary step: 8; number of successful adv: 10/10\n",
      "    step: 0; loss: 3487072.000; l2dist: 0.000\n",
      "    step: 100; loss: 43.087; l2dist: 6.544\n",
      "    step: 200; loss: 42.630; l2dist: 6.510\n",
      "    step: 300; loss: 43.905; l2dist: 6.580\n",
      "    step: 400; loss: 43.092; l2dist: 6.515\n",
      "    step: 500; loss: 42.116; l2dist: 6.437\n",
      "    step: 600; loss: 40.960; l2dist: 6.342\n",
      "    step: 700; loss: 39.457; l2dist: 6.213\n",
      "    step: 800; loss: 37.458; l2dist: 6.032\n",
      "    step: 900; loss: 34.884; l2dist: 5.783\n",
      "binary step: 9; number of successful adv: 10/10\n",
      "    step: 0; loss: 99.854; l2dist: 0.000\n",
      "    step: 100; loss: 32.711; l2dist: 1.250\n",
      "    step: 200; loss: 32.749; l2dist: 1.299\n",
      "    step: 300; loss: 32.441; l2dist: 1.213\n",
      "    step: 400; loss: 32.528; l2dist: 1.264\n",
      "    step: 500; loss: 33.173; l2dist: 1.413\n",
      "    step: 600; loss: 32.484; l2dist: 1.271\n",
      "    step: 700; loss: 32.732; l2dist: 1.280\n",
      "    step: 800; loss: 32.546; l2dist: 1.266\n",
      "    step: 900; loss: 32.671; l2dist: 1.340\n",
      "binary step: 0; number of successful adv: 5/10\n",
      "    step: 0; loss: 524.521; l2dist: 0.000\n",
      "    step: 100; loss: 254.507; l2dist: 1.522\n",
      "    step: 200; loss: 254.201; l2dist: 1.460\n",
      "    step: 300; loss: 254.156; l2dist: 1.449\n",
      "    step: 400; loss: 254.188; l2dist: 1.478\n",
      "    step: 500; loss: 255.190; l2dist: 1.653\n",
      "    step: 600; loss: 255.015; l2dist: 1.626\n",
      "    step: 700; loss: 254.532; l2dist: 1.510\n",
      "    step: 800; loss: 254.569; l2dist: 1.506\n",
      "    step: 900; loss: 254.531; l2dist: 1.543\n",
      "binary step: 1; number of successful adv: 5/10\n",
      "    step: 0; loss: 5008.207; l2dist: 0.000\n",
      "    step: 100; loss: 2508.624; l2dist: 2.118\n",
      "    step: 200; loss: 2506.208; l2dist: 1.873\n",
      "    step: 300; loss: 2505.379; l2dist: 1.797\n",
      "    step: 400; loss: 2504.561; l2dist: 1.677\n",
      "    step: 500; loss: 2504.457; l2dist: 1.670\n",
      "    step: 600; loss: 2505.899; l2dist: 1.865\n",
      "    step: 700; loss: 2504.291; l2dist: 1.594\n",
      "    step: 800; loss: 2504.653; l2dist: 1.663\n",
      "    step: 900; loss: 2504.087; l2dist: 1.602\n",
      "binary step: 2; number of successful adv: 5/10\n",
      "    step: 0; loss: 49963.570; l2dist: 0.000\n",
      "    step: 100; loss: 25008.512; l2dist: 2.885\n",
      "    step: 200; loss: 25006.924; l2dist: 2.728\n",
      "    step: 300; loss: 25004.447; l2dist: 2.448\n",
      "    step: 400; loss: 25002.699; l2dist: 2.281\n",
      "    step: 500; loss: 25001.145; l2dist: 2.176\n",
      "    step: 600; loss: 24999.365; l2dist: 1.990\n",
      "    step: 700; loss: 24998.990; l2dist: 1.964\n",
      "    step: 800; loss: 24997.928; l2dist: 1.769\n",
      "    step: 900; loss: 24997.826; l2dist: 1.776\n",
      "binary step: 3; number of successful adv: 5/10\n",
      "    step: 0; loss: 499576.375; l2dist: 0.000\n",
      "    step: 100; loss: 89989.734; l2dist: 4.551\n",
      "    step: 200; loss: 89988.586; l2dist: 4.457\n",
      "    step: 300; loss: 89987.836; l2dist: 4.438\n",
      "    step: 400; loss: 89986.102; l2dist: 4.259\n",
      "    step: 500; loss: 89985.039; l2dist: 4.151\n",
      "    step: 600; loss: 89983.734; l2dist: 4.124\n",
      "    step: 700; loss: 89981.469; l2dist: 3.916\n",
      "    step: 800; loss: 89978.922; l2dist: 3.713\n",
      "    step: 900; loss: 89976.578; l2dist: 3.457\n",
      "binary step: 4; number of successful adv: 7/10\n",
      "    step: 0; loss: 3107207.250; l2dist: 0.000\n",
      "    step: 100; loss: 899640.938; l2dist: 4.957\n",
      "    step: 200; loss: 899636.625; l2dist: 4.878\n",
      "    step: 300; loss: 899636.000; l2dist: 4.857\n",
      "    step: 400; loss: 899634.688; l2dist: 4.733\n",
      "    step: 500; loss: 899634.062; l2dist: 4.764\n",
      "    step: 600; loss: 899632.625; l2dist: 4.672\n",
      "    step: 700; loss: 899630.688; l2dist: 4.447\n",
      "    step: 800; loss: 899629.562; l2dist: 4.360\n",
      "    step: 900; loss: 899628.750; l2dist: 4.268\n",
      "binary step: 5; number of successful adv: 7/10\n",
      "    step: 0; loss: 30037866.000; l2dist: 0.000\n",
      "    step: 100; loss: 3997725.000; l2dist: 6.098\n",
      "    step: 200; loss: 999865.750; l2dist: 6.294\n",
      "    step: 300; loss: 999864.875; l2dist: 6.246\n",
      "    step: 400; loss: 999864.188; l2dist: 6.193\n",
      "    step: 500; loss: 999863.688; l2dist: 6.135\n",
      "    step: 600; loss: 999862.938; l2dist: 6.067\n",
      "    step: 700; loss: 999862.750; l2dist: 6.068\n",
      "    step: 800; loss: 999862.750; l2dist: 6.193\n",
      "    step: 900; loss: 999860.188; l2dist: 5.969\n",
      "binary step: 6; number of successful adv: 9/10\n",
      "    step: 0; loss: 110949208.000; l2dist: 0.000\n",
      "    step: 100; loss: 9998271.000; l2dist: 6.500\n",
      "    step: 200; loss: 9998236.000; l2dist: 6.436\n",
      "    step: 300; loss: 9998234.000; l2dist: 6.368\n",
      "    step: 400; loss: 9998233.000; l2dist: 6.303\n",
      "    step: 500; loss: 9998233.000; l2dist: 6.217\n",
      "    step: 600; loss: 9998233.000; l2dist: 6.311\n",
      "    step: 700; loss: 9998235.000; l2dist: 6.435\n",
      "    step: 800; loss: 9998233.000; l2dist: 6.307\n",
      "    step: 900; loss: 9998233.000; l2dist: 6.211\n",
      "binary step: 7; number of successful adv: 9/10\n",
      "    step: 0; loss: 1005695936.000; l2dist: 0.000\n",
      "    step: 100; loss: 324737.062; l2dist: 6.661\n",
      "    step: 200; loss: 324736.688; l2dist: 6.635\n",
      "    step: 300; loss: 324736.156; l2dist: 6.593\n",
      "    step: 400; loss: 324735.375; l2dist: 6.528\n",
      "    step: 500; loss: 324734.281; l2dist: 6.448\n",
      "    step: 600; loss: 324732.781; l2dist: 6.324\n",
      "    step: 700; loss: 324731.562; l2dist: 6.197\n",
      "    step: 800; loss: 324734.344; l2dist: 6.346\n",
      "    step: 900; loss: 324732.938; l2dist: 6.266\n",
      "binary step: 8; number of successful adv: 10/10\n",
      "    step: 0; loss: 1007943552.000; l2dist: 0.000\n",
      "    step: 100; loss: 549524.000; l2dist: 6.729\n",
      "    step: 200; loss: 549523.375; l2dist: 6.689\n",
      "    step: 300; loss: 549522.938; l2dist: 6.645\n",
      "    step: 400; loss: 549522.062; l2dist: 6.588\n",
      "    step: 500; loss: 549520.938; l2dist: 6.496\n",
      "    step: 600; loss: 549522.562; l2dist: 6.587\n",
      "    step: 700; loss: 549521.438; l2dist: 6.489\n",
      "    step: 800; loss: 549520.375; l2dist: 6.384\n",
      "    step: 900; loss: 549518.500; l2dist: 6.256\n",
      "binary step: 9; number of successful adv: 10/10\n",
      "    step: 0; loss: 95.426; l2dist: 0.000\n",
      "    step: 100; loss: 67.240; l2dist: 0.636\n",
      "    step: 200; loss: 67.216; l2dist: 0.655\n",
      "    step: 300; loss: 67.239; l2dist: 0.667\n",
      "    step: 400; loss: 67.230; l2dist: 0.662\n",
      "    step: 500; loss: 67.214; l2dist: 0.626\n",
      "    step: 600; loss: 67.188; l2dist: 0.632\n",
      "    step: 700; loss: 67.193; l2dist: 0.631\n",
      "    step: 800; loss: 67.184; l2dist: 0.637\n",
      "    step: 900; loss: 67.185; l2dist: 0.636\n",
      "binary step: 0; number of successful adv: 1/10\n",
      "    step: 0; loss: 865.233; l2dist: 0.000\n",
      "    step: 100; loss: 318.329; l2dist: 1.908\n",
      "    step: 200; loss: 316.457; l2dist: 1.659\n",
      "    step: 300; loss: 258.559; l2dist: 1.913\n",
      "    step: 400; loss: 256.924; l2dist: 1.731\n",
      "    step: 500; loss: 256.284; l2dist: 1.615\n",
      "    step: 600; loss: 256.667; l2dist: 1.702\n",
      "    step: 700; loss: 257.737; l2dist: 1.860\n",
      "    step: 800; loss: 256.273; l2dist: 1.627\n",
      "    step: 900; loss: 256.615; l2dist: 1.692\n",
      "binary step: 1; number of successful adv: 5/10\n",
      "    step: 0; loss: 5092.121; l2dist: 0.000\n",
      "    step: 100; loss: 2816.720; l2dist: 2.321\n",
      "    step: 200; loss: 2814.524; l2dist: 2.041\n",
      "    step: 300; loss: 2506.951; l2dist: 2.063\n",
      "    step: 400; loss: 2506.480; l2dist: 2.014\n",
      "    step: 500; loss: 2506.261; l2dist: 1.974\n",
      "    step: 600; loss: 2505.869; l2dist: 1.881\n",
      "    step: 700; loss: 2504.971; l2dist: 1.807\n",
      "    step: 800; loss: 2505.100; l2dist: 1.801\n",
      "    step: 900; loss: 2506.271; l2dist: 1.984\n",
      "binary step: 2; number of successful adv: 5/10\n",
      "    step: 0; loss: 48973.695; l2dist: 0.000\n",
      "    step: 100; loss: 25011.865; l2dist: 3.316\n",
      "    step: 200; loss: 25009.809; l2dist: 3.135\n",
      "    step: 300; loss: 25007.986; l2dist: 2.995\n",
      "    step: 400; loss: 25005.969; l2dist: 2.817\n",
      "    step: 500; loss: 25003.734; l2dist: 2.583\n",
      "    step: 600; loss: 25001.795; l2dist: 2.381\n",
      "    step: 700; loss: 25001.520; l2dist: 2.368\n",
      "    step: 800; loss: 25000.566; l2dist: 2.282\n",
      "    step: 900; loss: 24998.414; l2dist: 1.988\n",
      "binary step: 3; number of successful adv: 5/10\n",
      "    step: 0; loss: 488595.750; l2dist: 0.000\n",
      "    step: 100; loss: 159969.219; l2dist: 4.187\n",
      "    step: 200; loss: 159967.562; l2dist: 4.065\n",
      "    step: 300; loss: 159965.906; l2dist: 3.932\n",
      "    step: 400; loss: 159963.734; l2dist: 3.759\n",
      "    step: 500; loss: 159961.844; l2dist: 3.592\n",
      "    step: 600; loss: 159959.734; l2dist: 3.395\n",
      "    step: 700; loss: 159957.891; l2dist: 3.222\n",
      "    step: 800; loss: 159956.703; l2dist: 3.100\n",
      "    step: 900; loss: 159955.109; l2dist: 2.941\n",
      "binary step: 4; number of successful adv: 6/10\n",
      "    step: 0; loss: 3961905.750; l2dist: 0.000\n",
      "    step: 100; loss: 899650.688; l2dist: 4.926\n",
      "    step: 200; loss: 899649.688; l2dist: 4.887\n",
      "    step: 300; loss: 899648.375; l2dist: 4.778\n",
      "    step: 400; loss: 899647.750; l2dist: 4.735\n",
      "    step: 500; loss: 899646.250; l2dist: 4.737\n",
      "    step: 600; loss: 899645.250; l2dist: 4.688\n",
      "    step: 700; loss: 899645.125; l2dist: 4.753\n",
      "    step: 800; loss: 899642.875; l2dist: 4.558\n",
      "    step: 900; loss: 899640.938; l2dist: 4.367\n",
      "binary step: 5; number of successful adv: 7/10\n",
      "    step: 0; loss: 29879874.000; l2dist: 0.000\n",
      "    step: 100; loss: 3997976.750; l2dist: 5.854\n",
      "    step: 200; loss: 3997952.000; l2dist: 5.866\n",
      "    step: 300; loss: 3997951.250; l2dist: 5.837\n",
      "    step: 400; loss: 3997950.750; l2dist: 5.809\n",
      "    step: 500; loss: 3997944.250; l2dist: 5.817\n",
      "    step: 600; loss: 3997934.250; l2dist: 5.803\n",
      "    step: 700; loss: 3997931.500; l2dist: 5.798\n",
      "    step: 800; loss: 3997929.500; l2dist: 5.743\n",
      "    step: 900; loss: 3997928.250; l2dist: 5.670\n",
      "binary step: 6; number of successful adv: 9/10\n",
      "    step: 0; loss: 108796104.000; l2dist: 0.000\n",
      "    step: 100; loss: 21093714.000; l2dist: 5.967\n",
      "    step: 200; loss: 21093670.000; l2dist: 5.988\n",
      "    step: 300; loss: 21093568.000; l2dist: 5.997\n",
      "    step: 400; loss: 21093536.000; l2dist: 6.023\n",
      "    step: 500; loss: 21093536.000; l2dist: 5.985\n",
      "    step: 600; loss: 21093536.000; l2dist: 5.980\n",
      "    step: 700; loss: 21093536.000; l2dist: 5.946\n",
      "    step: 800; loss: 21093534.000; l2dist: 5.931\n",
      "    step: 900; loss: 10000020.000; l2dist: 6.336\n",
      "binary step: 7; number of successful adv: 9/10\n",
      "    step: 0; loss: 983683136.000; l2dist: 0.000\n",
      "    step: 100; loss: 324709.000; l2dist: 6.645\n",
      "    step: 200; loss: 324693.125; l2dist: 6.632\n",
      "    step: 300; loss: 324690.750; l2dist: 6.587\n",
      "    step: 400; loss: 324689.625; l2dist: 6.533\n",
      "    step: 500; loss: 324688.688; l2dist: 6.490\n",
      "    step: 600; loss: 324687.031; l2dist: 6.382\n",
      "    step: 700; loss: 324687.406; l2dist: 6.417\n",
      "    step: 800; loss: 324686.438; l2dist: 6.338\n",
      "    step: 900; loss: 324687.125; l2dist: 6.365\n",
      "binary step: 8; number of successful adv: 10/10\n",
      "    step: 0; loss: 985881280.000; l2dist: 0.000\n",
      "    step: 100; loss: 745184.875; l2dist: 6.627\n",
      "    step: 200; loss: 549443.125; l2dist: 6.664\n",
      "    step: 300; loss: 549442.875; l2dist: 6.637\n",
      "    step: 400; loss: 549442.625; l2dist: 6.605\n",
      "    step: 500; loss: 549442.125; l2dist: 6.555\n",
      "    step: 600; loss: 549441.875; l2dist: 6.528\n",
      "    step: 700; loss: 549441.250; l2dist: 6.483\n",
      "    step: 800; loss: 549440.750; l2dist: 6.430\n",
      "    step: 900; loss: 549440.375; l2dist: 6.398\n",
      "binary step: 9; number of successful adv: 10/10\n",
      "    step: 0; loss: 99.983; l2dist: 0.000\n",
      "    step: 100; loss: 51.358; l2dist: 0.859\n",
      "    step: 200; loss: 51.137; l2dist: 0.846\n",
      "    step: 300; loss: 51.346; l2dist: 0.916\n",
      "    step: 400; loss: 51.426; l2dist: 0.877\n",
      "    step: 500; loss: 51.472; l2dist: 0.944\n",
      "    step: 600; loss: 51.020; l2dist: 0.837\n",
      "    step: 700; loss: 50.999; l2dist: 0.818\n",
      "    step: 800; loss: 51.357; l2dist: 0.924\n",
      "    step: 900; loss: 51.097; l2dist: 0.864\n",
      "binary step: 0; number of successful adv: 3/10\n",
      "    step: 0; loss: 714.893; l2dist: 0.000\n",
      "    step: 100; loss: 388.467; l2dist: 1.818\n",
      "    step: 200; loss: 387.156; l2dist: 1.682\n",
      "    step: 300; loss: 386.748; l2dist: 1.649\n",
      "    step: 400; loss: 363.525; l2dist: 1.569\n",
      "    step: 500; loss: 362.920; l2dist: 1.498\n",
      "    step: 600; loss: 363.220; l2dist: 1.535\n",
      "    step: 700; loss: 362.928; l2dist: 1.491\n",
      "    step: 800; loss: 362.976; l2dist: 1.461\n",
      "    step: 900; loss: 362.793; l2dist: 1.415\n",
      "binary step: 1; number of successful adv: 4/10\n",
      "    step: 0; loss: 6061.559; l2dist: 0.000\n",
      "    step: 100; loss: 1613.732; l2dist: 2.897\n",
      "    step: 200; loss: 1611.028; l2dist: 2.601\n",
      "    step: 300; loss: 1611.315; l2dist: 2.656\n",
      "    step: 400; loss: 1608.874; l2dist: 2.328\n",
      "    step: 500; loss: 1609.688; l2dist: 2.460\n",
      "    step: 600; loss: 1607.896; l2dist: 2.223\n",
      "    step: 700; loss: 1607.786; l2dist: 2.191\n",
      "    step: 800; loss: 1610.010; l2dist: 2.357\n",
      "    step: 900; loss: 1609.645; l2dist: 2.365\n",
      "binary step: 2; number of successful adv: 6/10\n",
      "    step: 0; loss: 41130.055; l2dist: 0.000\n",
      "    step: 100; loss: 4027.428; l2dist: 4.572\n",
      "    step: 200; loss: 4025.031; l2dist: 4.365\n",
      "    step: 300; loss: 4023.105; l2dist: 4.190\n",
      "    step: 400; loss: 4020.841; l2dist: 3.993\n",
      "    step: 500; loss: 4019.058; l2dist: 3.812\n",
      "    step: 600; loss: 4017.077; l2dist: 3.634\n",
      "    step: 700; loss: 4014.552; l2dist: 3.328\n",
      "    step: 800; loss: 4014.465; l2dist: 3.305\n",
      "    step: 900; loss: 4012.087; l2dist: 3.055\n",
      "binary step: 3; number of successful adv: 8/10\n",
      "    step: 0; loss: 211650.422; l2dist: 0.000\n",
      "    step: 100; loss: 10036.087; l2dist: 5.425\n",
      "    step: 200; loss: 10034.370; l2dist: 5.290\n",
      "    step: 300; loss: 10032.893; l2dist: 5.167\n",
      "    step: 400; loss: 10031.308; l2dist: 5.052\n",
      "    step: 500; loss: 10029.307; l2dist: 4.884\n",
      "    step: 600; loss: 10027.304; l2dist: 4.690\n",
      "    step: 700; loss: 10024.693; l2dist: 4.452\n",
      "    step: 800; loss: 10025.568; l2dist: 4.485\n",
      "    step: 900; loss: 10023.038; l2dist: 4.251\n",
      "binary step: 4; number of successful adv: 9/10\n",
      "    step: 0; loss: 1061832.250; l2dist: 0.000\n",
      "    step: 100; loss: 100040.945; l2dist: 5.741\n",
      "    step: 200; loss: 100038.320; l2dist: 5.590\n",
      "    step: 300; loss: 100037.219; l2dist: 5.518\n",
      "    step: 400; loss: 100035.805; l2dist: 5.439\n",
      "    step: 500; loss: 100034.648; l2dist: 5.351\n",
      "    step: 600; loss: 100033.445; l2dist: 5.249\n",
      "    step: 700; loss: 100032.211; l2dist: 5.154\n",
      "    step: 800; loss: 100030.719; l2dist: 5.025\n",
      "    step: 900; loss: 100028.914; l2dist: 4.850\n",
      "binary step: 5; number of successful adv: 9/10\n",
      "    step: 0; loss: 10036048.000; l2dist: 0.000\n",
      "    step: 100; loss: 34.754; l2dist: 5.818\n",
      "    step: 200; loss: 34.409; l2dist: 5.787\n",
      "    step: 300; loss: 34.075; l2dist: 5.759\n",
      "    step: 400; loss: 33.937; l2dist: 5.748\n",
      "    step: 500; loss: 33.678; l2dist: 5.729\n",
      "    step: 600; loss: 33.072; l2dist: 5.672\n",
      "    step: 700; loss: 32.738; l2dist: 5.642\n",
      "    step: 800; loss: 32.266; l2dist: 5.599\n",
      "    step: 900; loss: 30.819; l2dist: 5.454\n",
      "binary step: 6; number of successful adv: 10/10\n",
      "    step: 0; loss: 5524076.500; l2dist: 0.000\n",
      "    step: 100; loss: 550056.375; l2dist: 5.885\n",
      "    step: 200; loss: 550046.938; l2dist: 5.846\n",
      "    step: 300; loss: 550045.125; l2dist: 5.797\n",
      "    step: 400; loss: 550043.250; l2dist: 5.739\n",
      "    step: 500; loss: 550037.000; l2dist: 5.734\n",
      "    step: 600; loss: 550035.688; l2dist: 5.645\n",
      "    step: 700; loss: 550034.562; l2dist: 5.569\n",
      "    step: 800; loss: 550033.438; l2dist: 5.484\n",
      "    step: 900; loss: 550032.688; l2dist: 5.413\n",
      "binary step: 7; number of successful adv: 10/10\n",
      "    step: 0; loss: 7767631.000; l2dist: 0.000\n",
      "    step: 100; loss: 775061.875; l2dist: 5.887\n",
      "    step: 200; loss: 775046.250; l2dist: 5.878\n",
      "    step: 300; loss: 775045.188; l2dist: 5.837\n",
      "    step: 400; loss: 775044.062; l2dist: 5.789\n",
      "    step: 500; loss: 775036.250; l2dist: 5.783\n",
      "    step: 600; loss: 775035.312; l2dist: 5.712\n",
      "    step: 700; loss: 775034.125; l2dist: 5.629\n",
      "    step: 800; loss: 775033.188; l2dist: 5.549\n",
      "    step: 900; loss: 775032.625; l2dist: 5.498\n",
      "binary step: 8; number of successful adv: 10/10\n",
      "    step: 0; loss: 10017401.000; l2dist: 0.000\n",
      "    step: 100; loss: 34.772; l2dist: 5.816\n",
      "    step: 200; loss: 34.417; l2dist: 5.771\n",
      "    step: 300; loss: 34.079; l2dist: 5.759\n",
      "    step: 400; loss: 33.836; l2dist: 5.738\n",
      "    step: 500; loss: 33.437; l2dist: 5.703\n",
      "    step: 600; loss: 33.082; l2dist: 5.671\n",
      "    step: 700; loss: 32.631; l2dist: 5.628\n",
      "    step: 800; loss: 31.762; l2dist: 5.544\n",
      "    step: 900; loss: 30.816; l2dist: 5.462\n",
      "binary step: 9; number of successful adv: 10/10\n",
      "    step: 0; loss: 99.958; l2dist: 0.000\n",
      "    step: 100; loss: 21.215; l2dist: 1.724\n",
      "    step: 200; loss: 20.489; l2dist: 1.612\n",
      "    step: 300; loss: 20.633; l2dist: 1.658\n",
      "    step: 400; loss: 20.546; l2dist: 1.638\n",
      "    step: 500; loss: 20.391; l2dist: 1.591\n",
      "    step: 600; loss: 20.630; l2dist: 1.661\n",
      "    step: 700; loss: 20.741; l2dist: 1.645\n",
      "    step: 800; loss: 20.473; l2dist: 1.652\n",
      "    step: 900; loss: 20.449; l2dist: 1.636\n",
      "binary step: 0; number of successful adv: 6/10\n",
      "    step: 0; loss: 429.874; l2dist: 0.000\n",
      "    step: 100; loss: 166.108; l2dist: 2.090\n",
      "    step: 200; loss: 165.018; l2dist: 1.931\n",
      "    step: 300; loss: 165.453; l2dist: 2.011\n",
      "    step: 400; loss: 164.911; l2dist: 1.895\n",
      "    step: 500; loss: 164.927; l2dist: 1.937\n",
      "    step: 600; loss: 164.755; l2dist: 1.870\n",
      "    step: 700; loss: 164.936; l2dist: 1.918\n",
      "    step: 800; loss: 165.192; l2dist: 1.936\n",
      "    step: 900; loss: 165.260; l2dist: 1.960\n",
      "binary step: 1; number of successful adv: 6/10\n",
      "    step: 0; loss: 4013.891; l2dist: 0.000\n",
      "    step: 100; loss: 915.246; l2dist: 3.262\n",
      "    step: 200; loss: 910.479; l2dist: 2.685\n",
      "    step: 300; loss: 909.312; l2dist: 2.517\n",
      "    step: 400; loss: 906.450; l2dist: 2.112\n",
      "    step: 500; loss: 908.540; l2dist: 2.328\n",
      "    step: 600; loss: 907.857; l2dist: 2.279\n",
      "    step: 700; loss: 907.621; l2dist: 2.255\n",
      "    step: 800; loss: 906.713; l2dist: 2.133\n",
      "    step: 900; loss: 905.913; l2dist: 2.046\n",
      "binary step: 2; number of successful adv: 7/10\n",
      "    step: 0; loss: 30549.660; l2dist: 0.000\n",
      "    step: 100; loss: 1029.177; l2dist: 5.008\n",
      "    step: 200; loss: 1024.410; l2dist: 4.594\n",
      "    step: 300; loss: 1020.906; l2dist: 4.228\n",
      "    step: 400; loss: 1018.126; l2dist: 3.922\n",
      "    step: 500; loss: 1015.917; l2dist: 3.638\n",
      "    step: 600; loss: 1013.952; l2dist: 3.392\n",
      "    step: 700; loss: 1012.144; l2dist: 3.169\n",
      "    step: 800; loss: 1010.930; l2dist: 2.996\n",
      "    step: 900; loss: 1010.118; l2dist: 2.936\n",
      "binary step: 3; number of successful adv: 9/10\n",
      "    step: 0; loss: 111302.086; l2dist: 0.000\n",
      "    step: 100; loss: 31.825; l2dist: 5.537\n",
      "    step: 200; loss: 29.261; l2dist: 5.308\n",
      "    step: 300; loss: 26.852; l2dist: 5.092\n",
      "    step: 400; loss: 25.268; l2dist: 4.931\n",
      "    step: 500; loss: 22.199; l2dist: 4.609\n",
      "    step: 600; loss: 18.770; l2dist: 4.198\n",
      "    step: 700; loss: 20.877; l2dist: 4.358\n",
      "    step: 800; loss: 17.909; l2dist: 3.957\n",
      "    step: 900; loss: 15.635; l2dist: 3.594\n",
      "binary step: 4; number of successful adv: 10/10\n",
      "    step: 0; loss: 61701.453; l2dist: 0.000\n",
      "    step: 100; loss: 29.696; l2dist: 5.363\n",
      "    step: 200; loss: 26.765; l2dist: 5.084\n",
      "    step: 300; loss: 25.245; l2dist: 4.937\n",
      "    step: 400; loss: 21.953; l2dist: 4.588\n",
      "    step: 500; loss: 19.284; l2dist: 4.260\n",
      "    step: 600; loss: 15.987; l2dist: 3.820\n",
      "    step: 700; loss: 16.231; l2dist: 3.753\n",
      "    step: 800; loss: 13.735; l2dist: 3.340\n",
      "    step: 900; loss: 17.599; l2dist: 3.882\n",
      "binary step: 5; number of successful adv: 10/10\n",
      "    step: 0; loss: 36901.141; l2dist: 0.000\n",
      "    step: 100; loss: 3280.736; l2dist: 5.172\n",
      "    step: 200; loss: 3277.927; l2dist: 4.940\n",
      "    step: 300; loss: 3274.821; l2dist: 4.672\n",
      "    step: 400; loss: 3271.250; l2dist: 4.329\n",
      "    step: 500; loss: 3267.515; l2dist: 3.923\n",
      "    step: 600; loss: 3264.142; l2dist: 3.540\n",
      "    step: 700; loss: 3262.420; l2dist: 3.289\n",
      "    step: 800; loss: 3261.717; l2dist: 3.190\n",
      "    step: 900; loss: 3260.258; l2dist: 3.004\n",
      "binary step: 6; number of successful adv: 10/10\n",
      "    step: 0; loss: 46995.188; l2dist: 0.000\n",
      "    step: 100; loss: 42.346; l2dist: 5.277\n",
      "    step: 200; loss: 39.882; l2dist: 5.024\n",
      "    step: 300; loss: 37.734; l2dist: 4.859\n",
      "    step: 400; loss: 34.884; l2dist: 4.538\n",
      "    step: 500; loss: 19.169; l2dist: 4.262\n",
      "    step: 600; loss: 18.141; l2dist: 4.015\n",
      "    step: 700; loss: 15.440; l2dist: 3.551\n",
      "    step: 800; loss: 13.686; l2dist: 3.379\n",
      "    step: 900; loss: 12.214; l2dist: 3.128\n",
      "binary step: 7; number of successful adv: 10/10\n",
      "    step: 0; loss: 40795.188; l2dist: 0.000\n",
      "    step: 100; loss: 29.433; l2dist: 5.336\n",
      "    step: 200; loss: 26.560; l2dist: 5.056\n",
      "    step: 300; loss: 23.976; l2dist: 4.812\n",
      "    step: 400; loss: 20.734; l2dist: 4.431\n",
      "    step: 500; loss: 17.191; l2dist: 3.956\n",
      "    step: 600; loss: 13.925; l2dist: 3.475\n",
      "    step: 700; loss: 17.215; l2dist: 3.850\n",
      "    step: 800; loss: 13.946; l2dist: 3.286\n",
      "    step: 900; loss: 14.818; l2dist: 3.460\n",
      "binary step: 8; number of successful adv: 10/10\n",
      "    step: 0; loss: 40795.305; l2dist: 0.000\n",
      "    step: 100; loss: 38.768; l2dist: 5.068\n",
      "    step: 200; loss: 35.894; l2dist: 4.787\n",
      "    step: 300; loss: 32.676; l2dist: 4.422\n",
      "    step: 400; loss: 30.111; l2dist: 4.156\n",
      "    step: 500; loss: 19.505; l2dist: 4.245\n",
      "    step: 600; loss: 15.081; l2dist: 3.623\n",
      "    step: 700; loss: 14.582; l2dist: 3.468\n",
      "    step: 800; loss: 13.791; l2dist: 3.328\n",
      "    step: 900; loss: 11.677; l2dist: 2.958\n",
      "binary step: 9; number of successful adv: 10/10\n",
      "    step: 0; loss: 99.975; l2dist: 0.000\n",
      "    step: 100; loss: 66.479; l2dist: 0.817\n",
      "    step: 200; loss: 66.104; l2dist: 0.764\n",
      "    step: 300; loss: 66.036; l2dist: 0.761\n",
      "    step: 400; loss: 65.956; l2dist: 0.739\n",
      "    step: 500; loss: 66.383; l2dist: 0.802\n",
      "    step: 600; loss: 66.102; l2dist: 0.779\n",
      "    step: 700; loss: 66.302; l2dist: 0.806\n",
      "    step: 800; loss: 66.143; l2dist: 0.788\n",
      "    step: 900; loss: 66.397; l2dist: 0.824\n",
      "binary step: 0; number of successful adv: 2/10\n",
      "    step: 0; loss: 809.789; l2dist: 0.000\n",
      "    step: 100; loss: 642.511; l2dist: 0.914\n",
      "    step: 200; loss: 642.062; l2dist: 0.853\n",
      "    step: 300; loss: 641.968; l2dist: 0.866\n",
      "    step: 400; loss: 642.187; l2dist: 0.898\n",
      "    step: 500; loss: 641.994; l2dist: 0.832\n",
      "    step: 600; loss: 642.056; l2dist: 0.862\n",
      "    step: 700; loss: 641.919; l2dist: 0.855\n",
      "    step: 800; loss: 642.179; l2dist: 0.898\n",
      "    step: 900; loss: 641.930; l2dist: 0.867\n",
      "binary step: 1; number of successful adv: 2/10\n",
      "    step: 0; loss: 8002.906; l2dist: 0.000\n",
      "    step: 100; loss: 4906.471; l2dist: 1.734\n",
      "    step: 200; loss: 4905.255; l2dist: 1.621\n",
      "    step: 300; loss: 4904.299; l2dist: 1.520\n",
      "    step: 400; loss: 4903.538; l2dist: 1.424\n",
      "    step: 500; loss: 4902.919; l2dist: 1.340\n",
      "    step: 600; loss: 4903.121; l2dist: 1.384\n",
      "    step: 700; loss: 4904.941; l2dist: 1.541\n",
      "    step: 800; loss: 4904.557; l2dist: 1.518\n",
      "    step: 900; loss: 4904.324; l2dist: 1.502\n",
      "binary step: 2; number of successful adv: 3/10\n",
      "    step: 0; loss: 70535.406; l2dist: 0.000\n",
      "    step: 100; loss: 36001.430; l2dist: 2.661\n",
      "    step: 200; loss: 36000.324; l2dist: 2.602\n",
      "    step: 300; loss: 35999.336; l2dist: 2.526\n",
      "    step: 400; loss: 35998.223; l2dist: 2.434\n",
      "    step: 500; loss: 35997.199; l2dist: 2.353\n",
      "    step: 600; loss: 35995.883; l2dist: 2.232\n",
      "    step: 700; loss: 35994.773; l2dist: 2.099\n",
      "    step: 800; loss: 35993.812; l2dist: 1.996\n",
      "    step: 900; loss: 35993.078; l2dist: 1.913\n",
      "binary step: 3; number of successful adv: 4/10\n",
      "    step: 0; loss: 605672.312; l2dist: 0.000\n",
      "    step: 100; loss: 89973.516; l2dist: 4.940\n",
      "    step: 200; loss: 89972.117; l2dist: 4.860\n",
      "    step: 300; loss: 89969.078; l2dist: 4.845\n",
      "    step: 400; loss: 89967.828; l2dist: 4.764\n",
      "    step: 500; loss: 89966.516; l2dist: 4.666\n",
      "    step: 600; loss: 89965.008; l2dist: 4.561\n",
      "    step: 700; loss: 89963.000; l2dist: 4.431\n",
      "    step: 800; loss: 89961.086; l2dist: 4.274\n",
      "    step: 900; loss: 89967.586; l2dist: 4.346\n",
      "binary step: 4; number of successful adv: 7/10\n",
      "    step: 0; loss: 3167398.250; l2dist: 0.000\n",
      "    step: 100; loss: 616038.938; l2dist: 5.204\n",
      "    step: 200; loss: 616030.375; l2dist: 5.118\n",
      "    step: 300; loss: 616018.438; l2dist: 5.154\n",
      "    step: 400; loss: 616000.875; l2dist: 5.140\n",
      "    step: 500; loss: 615997.562; l2dist: 5.136\n",
      "    step: 600; loss: 615995.875; l2dist: 5.060\n",
      "    step: 700; loss: 615994.375; l2dist: 4.992\n",
      "    step: 800; loss: 615992.562; l2dist: 4.876\n",
      "    step: 900; loss: 615990.875; l2dist: 4.746\n",
      "binary step: 5; number of successful adv: 8/10\n",
      "    step: 0; loss: 20685742.000; l2dist: 0.000\n",
      "    step: 100; loss: 3995681.500; l2dist: 6.029\n",
      "    step: 200; loss: 3995662.750; l2dist: 5.997\n",
      "    step: 300; loss: 3995657.500; l2dist: 5.942\n",
      "    step: 400; loss: 3995650.750; l2dist: 5.900\n",
      "    step: 500; loss: 3995647.250; l2dist: 5.867\n",
      "    step: 600; loss: 3995646.000; l2dist: 5.795\n",
      "    step: 700; loss: 3995645.250; l2dist: 5.734\n",
      "    step: 800; loss: 3995645.250; l2dist: 5.710\n",
      "    step: 900; loss: 3995644.000; l2dist: 5.639\n",
      "binary step: 6; number of successful adv: 8/10\n",
      "    step: 0; loss: 200346000.000; l2dist: 0.000\n",
      "    step: 100; loss: 39956184.000; l2dist: 6.225\n",
      "    step: 200; loss: 39956152.000; l2dist: 6.199\n",
      "    step: 300; loss: 39956152.000; l2dist: 6.169\n",
      "    step: 400; loss: 39956140.000; l2dist: 6.143\n",
      "    step: 500; loss: 39956136.000; l2dist: 6.138\n",
      "    step: 600; loss: 39956132.000; l2dist: 6.085\n",
      "    step: 700; loss: 39956132.000; l2dist: 6.059\n",
      "    step: 800; loss: 39956132.000; l2dist: 6.019\n",
      "    step: 900; loss: 39956132.000; l2dist: 5.978\n",
      "binary step: 7; number of successful adv: 8/10\n",
      "    step: 0; loss: 1999412224.000; l2dist: 0.000\n",
      "    step: 100; loss: 399560928.000; l2dist: 6.303\n",
      "    step: 200; loss: 399560928.000; l2dist: 6.270\n",
      "    step: 300; loss: 399560928.000; l2dist: 6.247\n",
      "    step: 400; loss: 399560928.000; l2dist: 6.224\n",
      "    step: 500; loss: 399560896.000; l2dist: 6.219\n",
      "    step: 600; loss: 399560928.000; l2dist: 6.196\n",
      "    step: 700; loss: 399560928.000; l2dist: 6.166\n",
      "    step: 800; loss: 399560928.000; l2dist: 6.152\n",
      "    step: 900; loss: 399560864.000; l2dist: 6.131\n",
      "binary step: 8; number of successful adv: 8/10\n",
      "    step: 0; loss: 200216368.000; l2dist: 0.000\n",
      "    step: 100; loss: 39956148.000; l2dist: 6.130\n",
      "    step: 200; loss: 39956148.000; l2dist: 6.104\n",
      "    step: 300; loss: 39956148.000; l2dist: 6.081\n",
      "    step: 400; loss: 39956136.000; l2dist: 6.061\n",
      "    step: 500; loss: 39956132.000; l2dist: 6.047\n",
      "    step: 600; loss: 39956132.000; l2dist: 6.012\n",
      "    step: 700; loss: 39956132.000; l2dist: 5.984\n",
      "    step: 800; loss: 39956124.000; l2dist: 5.955\n",
      "    step: 900; loss: 39956132.000; l2dist: 5.903\n",
      "binary step: 9; number of successful adv: 8/10\n",
      "    step: 0; loss: 94.825; l2dist: 0.000\n",
      "    step: 100; loss: 37.850; l2dist: 0.866\n",
      "    step: 200; loss: 38.478; l2dist: 1.005\n",
      "    step: 300; loss: 38.035; l2dist: 0.943\n",
      "    step: 400; loss: 38.031; l2dist: 0.879\n",
      "    step: 500; loss: 37.935; l2dist: 0.876\n",
      "    step: 600; loss: 37.913; l2dist: 0.914\n",
      "    step: 700; loss: 37.885; l2dist: 0.908\n",
      "    step: 800; loss: 37.902; l2dist: 0.904\n",
      "    step: 900; loss: 38.092; l2dist: 0.962\n",
      "binary step: 0; number of successful adv: 4/10\n",
      "    step: 0; loss: 602.534; l2dist: 0.000\n",
      "    step: 100; loss: 363.137; l2dist: 1.160\n",
      "    step: 200; loss: 362.036; l2dist: 0.972\n",
      "    step: 300; loss: 361.706; l2dist: 0.900\n",
      "    step: 400; loss: 361.751; l2dist: 0.949\n",
      "    step: 500; loss: 361.782; l2dist: 0.920\n",
      "    step: 600; loss: 361.635; l2dist: 0.906\n",
      "    step: 700; loss: 361.769; l2dist: 0.953\n",
      "    step: 800; loss: 362.046; l2dist: 1.016\n",
      "    step: 900; loss: 361.749; l2dist: 0.936\n",
      "binary step: 1; number of successful adv: 4/10\n",
      "    step: 0; loss: 5852.480; l2dist: 0.000\n",
      "    step: 100; loss: 2507.936; l2dist: 2.102\n",
      "    step: 200; loss: 2505.087; l2dist: 1.740\n",
      "    step: 300; loss: 2503.558; l2dist: 1.558\n",
      "    step: 400; loss: 2502.931; l2dist: 1.474\n",
      "    step: 500; loss: 2502.446; l2dist: 1.381\n",
      "    step: 600; loss: 2501.976; l2dist: 1.264\n",
      "    step: 700; loss: 2502.005; l2dist: 1.307\n",
      "    step: 800; loss: 2502.347; l2dist: 1.373\n",
      "    step: 900; loss: 2502.005; l2dist: 1.291\n",
      "binary step: 2; number of successful adv: 5/10\n",
      "    step: 0; loss: 49233.938; l2dist: 0.000\n",
      "    step: 100; loss: 16002.649; l2dist: 3.331\n",
      "    step: 200; loss: 16001.018; l2dist: 3.164\n",
      "    step: 300; loss: 15999.403; l2dist: 2.983\n",
      "    step: 400; loss: 15997.492; l2dist: 2.752\n",
      "    step: 500; loss: 15995.781; l2dist: 2.571\n",
      "    step: 600; loss: 15994.403; l2dist: 2.396\n",
      "    step: 700; loss: 15993.247; l2dist: 2.227\n",
      "    step: 800; loss: 15992.022; l2dist: 2.043\n",
      "    step: 900; loss: 15991.259; l2dist: 1.942\n",
      "binary step: 3; number of successful adv: 6/10\n",
      "    step: 0; loss: 395239.938; l2dist: 0.000\n",
      "    step: 100; loss: 89915.648; l2dist: 4.202\n",
      "    step: 200; loss: 89914.539; l2dist: 4.112\n",
      "    step: 300; loss: 89913.422; l2dist: 4.013\n",
      "    step: 400; loss: 89912.297; l2dist: 3.913\n",
      "    step: 500; loss: 89911.281; l2dist: 3.785\n",
      "    step: 600; loss: 89909.875; l2dist: 3.660\n",
      "    step: 700; loss: 89908.180; l2dist: 3.490\n",
      "    step: 800; loss: 89906.055; l2dist: 3.260\n",
      "    step: 900; loss: 40014.477; l2dist: 3.517\n",
      "binary step: 4; number of successful adv: 8/10\n",
      "    step: 0; loss: 2058467.625; l2dist: 0.000\n",
      "    step: 100; loss: 210792.438; l2dist: 4.891\n",
      "    step: 200; loss: 210791.297; l2dist: 4.838\n",
      "    step: 300; loss: 210790.172; l2dist: 4.765\n",
      "    step: 400; loss: 210789.219; l2dist: 4.710\n",
      "    step: 500; loss: 210788.891; l2dist: 4.705\n",
      "    step: 600; loss: 100011.578; l2dist: 5.061\n",
      "    step: 700; loss: 100009.477; l2dist: 4.884\n",
      "    step: 800; loss: 100008.250; l2dist: 4.773\n",
      "    step: 900; loss: 100006.578; l2dist: 4.616\n",
      "binary step: 5; number of successful adv: 9/10\n",
      "    step: 0; loss: 10340694.000; l2dist: 0.000\n",
      "    step: 100; loss: 2004430.875; l2dist: 5.294\n",
      "    step: 200; loss: 2004428.875; l2dist: 5.146\n",
      "    step: 300; loss: 2004428.125; l2dist: 5.045\n",
      "    step: 400; loss: 2004428.000; l2dist: 5.036\n",
      "    step: 500; loss: 2003523.125; l2dist: 5.443\n",
      "    step: 600; loss: 2003518.000; l2dist: 5.363\n",
      "    step: 700; loss: 999854.938; l2dist: 5.470\n",
      "    step: 800; loss: 999854.438; l2dist: 5.484\n",
      "    step: 900; loss: 999853.500; l2dist: 5.416\n",
      "binary step: 6; number of successful adv: 9/10\n",
      "    step: 0; loss: 97754168.000; l2dist: 0.000\n",
      "    step: 100; loss: 19983422.000; l2dist: 5.257\n",
      "    step: 200; loss: 19983420.000; l2dist: 5.226\n",
      "    step: 300; loss: 19983502.000; l2dist: 5.340\n",
      "    step: 400; loss: 19974380.000; l2dist: 5.767\n",
      "    step: 500; loss: 19974376.000; l2dist: 5.761\n",
      "    step: 600; loss: 19974372.000; l2dist: 5.725\n",
      "    step: 700; loss: 19974068.000; l2dist: 5.796\n",
      "    step: 800; loss: 19974066.000; l2dist: 5.855\n",
      "    step: 900; loss: 19974064.000; l2dist: 5.824\n",
      "binary step: 7; number of successful adv: 9/10\n",
      "    step: 0; loss: 974195392.000; l2dist: 0.000\n",
      "    step: 100; loss: 99981944.000; l2dist: 5.899\n",
      "    step: 200; loss: 99981928.000; l2dist: 5.892\n",
      "    step: 300; loss: 99981936.000; l2dist: 5.902\n",
      "    step: 400; loss: 99981912.000; l2dist: 5.898\n",
      "    step: 500; loss: 99981936.000; l2dist: 5.897\n",
      "    step: 600; loss: 99981936.000; l2dist: 5.921\n",
      "    step: 700; loss: 99981912.000; l2dist: 5.907\n",
      "    step: 800; loss: 99981936.000; l2dist: 5.888\n",
      "    step: 900; loss: 99981912.000; l2dist: 5.869\n",
      "binary step: 8; number of successful adv: 9/10\n",
      "    step: 0; loss: 97644296.000; l2dist: 0.000\n",
      "    step: 100; loss: 19984544.000; l2dist: 5.200\n",
      "    step: 200; loss: 19984542.000; l2dist: 5.167\n",
      "    step: 300; loss: 19976908.000; l2dist: 5.386\n",
      "    step: 400; loss: 19975190.000; l2dist: 5.760\n",
      "    step: 500; loss: 19975182.000; l2dist: 5.760\n",
      "    step: 600; loss: 19975182.000; l2dist: 5.705\n",
      "    step: 700; loss: 19975180.000; l2dist: 5.628\n",
      "    step: 800; loss: 19975174.000; l2dist: 5.699\n",
      "    step: 900; loss: 19975062.000; l2dist: 5.781\n",
      "binary step: 9; number of successful adv: 9/10\n",
      "    step: 0; loss: 97.515; l2dist: 0.000\n",
      "    step: 100; loss: 51.944; l2dist: 1.002\n",
      "    step: 200; loss: 51.615; l2dist: 0.983\n",
      "    step: 300; loss: 51.269; l2dist: 0.905\n",
      "    step: 400; loss: 51.221; l2dist: 0.900\n",
      "    step: 500; loss: 51.480; l2dist: 0.970\n",
      "    step: 600; loss: 51.064; l2dist: 0.886\n",
      "    step: 700; loss: 51.221; l2dist: 0.915\n",
      "    step: 800; loss: 51.055; l2dist: 0.875\n",
      "    step: 900; loss: 51.026; l2dist: 0.864\n",
      "binary step: 0; number of successful adv: 3/10\n",
      "    step: 0; loss: 705.374; l2dist: 0.000\n",
      "    step: 100; loss: 364.265; l2dist: 1.377\n",
      "    step: 200; loss: 363.281; l2dist: 1.234\n",
      "    step: 300; loss: 362.831; l2dist: 1.158\n",
      "    step: 400; loss: 362.901; l2dist: 1.180\n",
      "    step: 500; loss: 362.880; l2dist: 1.160\n",
      "    step: 600; loss: 362.896; l2dist: 1.170\n",
      "    step: 700; loss: 362.674; l2dist: 1.117\n",
      "    step: 800; loss: 362.651; l2dist: 1.120\n",
      "    step: 900; loss: 362.854; l2dist: 1.175\n",
      "binary step: 1; number of successful adv: 4/10\n",
      "    step: 0; loss: 5985.637; l2dist: 0.000\n",
      "    step: 100; loss: 2513.529; l2dist: 2.677\n",
      "    step: 200; loss: 2510.731; l2dist: 2.406\n",
      "    step: 300; loss: 2508.021; l2dist: 2.108\n",
      "    step: 400; loss: 2506.001; l2dist: 1.884\n",
      "    step: 500; loss: 2504.632; l2dist: 1.678\n",
      "    step: 600; loss: 2504.200; l2dist: 1.616\n",
      "    step: 700; loss: 2503.936; l2dist: 1.582\n",
      "    step: 800; loss: 2503.974; l2dist: 1.607\n",
      "    step: 900; loss: 2504.137; l2dist: 1.589\n",
      "binary step: 2; number of successful adv: 5/10\n",
      "    step: 0; loss: 49949.059; l2dist: 0.000\n",
      "    step: 100; loss: 4025.897; l2dist: 4.623\n",
      "    step: 200; loss: 4023.788; l2dist: 4.503\n",
      "    step: 300; loss: 4022.515; l2dist: 4.385\n",
      "    step: 400; loss: 4020.883; l2dist: 4.221\n",
      "    step: 500; loss: 4019.185; l2dist: 4.068\n",
      "    step: 600; loss: 4017.383; l2dist: 3.869\n",
      "    step: 700; loss: 4019.235; l2dist: 3.794\n",
      "    step: 800; loss: 4014.371; l2dist: 3.483\n",
      "    step: 900; loss: 4011.725; l2dist: 3.215\n",
      "binary step: 3; number of successful adv: 8/10\n",
      "    step: 0; loss: 214101.312; l2dist: 0.000\n",
      "    step: 100; loss: 40006.898; l2dist: 4.806\n",
      "    step: 200; loss: 40005.742; l2dist: 4.707\n",
      "    step: 300; loss: 40004.676; l2dist: 4.631\n",
      "    step: 400; loss: 40003.570; l2dist: 4.538\n",
      "    step: 500; loss: 40002.375; l2dist: 4.436\n",
      "    step: 600; loss: 40001.148; l2dist: 4.323\n",
      "    step: 700; loss: 39999.820; l2dist: 4.202\n",
      "    step: 800; loss: 39997.891; l2dist: 4.015\n",
      "    step: 900; loss: 39995.848; l2dist: 3.800\n",
      "binary step: 4; number of successful adv: 8/10\n",
      "    step: 0; loss: 1984499.125; l2dist: 0.000\n",
      "    step: 100; loss: 399806.344; l2dist: 4.969\n",
      "    step: 200; loss: 399805.125; l2dist: 4.830\n",
      "    step: 300; loss: 399804.281; l2dist: 4.741\n",
      "    step: 400; loss: 399805.156; l2dist: 4.845\n",
      "    step: 500; loss: 399803.188; l2dist: 4.654\n",
      "    step: 600; loss: 399802.656; l2dist: 4.613\n",
      "    step: 700; loss: 399801.906; l2dist: 4.541\n",
      "    step: 800; loss: 399801.469; l2dist: 4.506\n",
      "    step: 900; loss: 399800.906; l2dist: 4.445\n",
      "binary step: 5; number of successful adv: 8/10\n",
      "    step: 0; loss: 19752914.000; l2dist: 0.000\n",
      "    step: 100; loss: 999858.125; l2dist: 5.825\n",
      "    step: 200; loss: 999857.250; l2dist: 5.793\n",
      "    step: 300; loss: 999856.750; l2dist: 5.784\n",
      "    step: 400; loss: 999856.625; l2dist: 5.780\n",
      "    step: 500; loss: 999856.188; l2dist: 5.726\n",
      "    step: 600; loss: 999855.562; l2dist: 5.703\n",
      "    step: 700; loss: 999855.750; l2dist: 5.725\n",
      "    step: 800; loss: 999855.125; l2dist: 5.685\n",
      "    step: 900; loss: 999854.625; l2dist: 5.673\n",
      "binary step: 6; number of successful adv: 9/10\n",
      "    step: 0; loss: 104179688.000; l2dist: 0.000\n",
      "    step: 100; loss: 9998535.000; l2dist: 6.088\n",
      "    step: 200; loss: 9998443.000; l2dist: 6.061\n",
      "    step: 300; loss: 9998241.000; l2dist: 6.037\n",
      "    step: 400; loss: 9998230.000; l2dist: 5.997\n",
      "    step: 500; loss: 9998229.000; l2dist: 6.022\n",
      "    step: 600; loss: 9998231.000; l2dist: 6.019\n",
      "    step: 700; loss: 9998229.000; l2dist: 5.987\n",
      "    step: 800; loss: 9998228.000; l2dist: 5.955\n",
      "    step: 900; loss: 9998228.000; l2dist: 5.893\n",
      "binary step: 7; number of successful adv: 9/10\n",
      "    step: 0; loss: 990665984.000; l2dist: 0.000\n",
      "    step: 100; loss: 99981936.000; l2dist: 6.096\n",
      "    step: 200; loss: 99981936.000; l2dist: 6.075\n",
      "    step: 300; loss: 99981936.000; l2dist: 6.064\n",
      "    step: 400; loss: 99981912.000; l2dist: 6.035\n",
      "    step: 500; loss: 99981912.000; l2dist: 6.001\n",
      "    step: 600; loss: 99981912.000; l2dist: 5.963\n",
      "    step: 700; loss: 99981912.000; l2dist: 5.986\n",
      "    step: 800; loss: 99981912.000; l2dist: 5.975\n",
      "    step: 900; loss: 99981936.000; l2dist: 5.950\n",
      "binary step: 8; number of successful adv: 9/10\n",
      "    step: 0; loss: 101957648.000; l2dist: 0.000\n",
      "    step: 100; loss: 9998236.000; l2dist: 6.029\n",
      "    step: 200; loss: 9998228.000; l2dist: 5.959\n",
      "    step: 300; loss: 9998230.000; l2dist: 5.910\n",
      "    step: 400; loss: 9998230.000; l2dist: 5.883\n",
      "    step: 500; loss: 9998230.000; l2dist: 5.915\n",
      "    step: 600; loss: 9998228.000; l2dist: 5.897\n",
      "    step: 700; loss: 9998229.000; l2dist: 5.870\n",
      "    step: 800; loss: 9998226.000; l2dist: 5.839\n",
      "    step: 900; loss: 9998228.000; l2dist: 5.789\n",
      "binary step: 9; number of successful adv: 9/10\n",
      "    step: 0; loss: 99.589; l2dist: 0.000\n",
      "    step: 100; loss: 66.095; l2dist: 0.739\n",
      "    step: 200; loss: 65.848; l2dist: 0.710\n",
      "    step: 300; loss: 66.126; l2dist: 0.775\n",
      "    step: 400; loss: 66.083; l2dist: 0.744\n",
      "    step: 500; loss: 66.114; l2dist: 0.778\n",
      "    step: 600; loss: 65.930; l2dist: 0.728\n",
      "    step: 700; loss: 65.754; l2dist: 0.710\n",
      "    step: 800; loss: 66.002; l2dist: 0.758\n",
      "    step: 900; loss: 65.796; l2dist: 0.720\n",
      "binary step: 0; number of successful adv: 2/10\n",
      "    step: 0; loss: 808.180; l2dist: 0.000\n",
      "    step: 100; loss: 495.136; l2dist: 1.314\n",
      "    step: 200; loss: 494.285; l2dist: 1.244\n",
      "    step: 300; loss: 493.569; l2dist: 1.140\n",
      "    step: 400; loss: 493.317; l2dist: 1.126\n",
      "    step: 500; loss: 492.726; l2dist: 1.025\n",
      "    step: 600; loss: 492.900; l2dist: 1.035\n",
      "    step: 700; loss: 493.187; l2dist: 1.096\n",
      "    step: 800; loss: 493.137; l2dist: 1.077\n",
      "    step: 900; loss: 492.988; l2dist: 1.064\n",
      "binary step: 1; number of successful adv: 3/10\n",
      "    step: 0; loss: 7044.934; l2dist: 0.000\n",
      "    step: 100; loss: 2518.002; l2dist: 2.993\n",
      "    step: 200; loss: 2514.442; l2dist: 2.599\n",
      "    step: 300; loss: 2510.631; l2dist: 2.273\n",
      "    step: 400; loss: 2508.966; l2dist: 2.121\n",
      "    step: 500; loss: 2508.287; l2dist: 2.006\n",
      "    step: 600; loss: 2507.784; l2dist: 1.969\n",
      "    step: 700; loss: 2508.469; l2dist: 2.038\n",
      "    step: 800; loss: 2508.245; l2dist: 2.029\n",
      "    step: 900; loss: 2510.757; l2dist: 2.180\n",
      "binary step: 2; number of successful adv: 5/10\n",
      "    step: 0; loss: 51028.469; l2dist: 0.000\n",
      "    step: 100; loss: 16027.893; l2dist: 3.995\n",
      "    step: 200; loss: 16025.377; l2dist: 3.834\n",
      "    step: 300; loss: 16022.851; l2dist: 3.628\n",
      "    step: 400; loss: 16020.261; l2dist: 3.402\n",
      "    step: 500; loss: 16017.595; l2dist: 3.149\n",
      "    step: 600; loss: 16015.116; l2dist: 2.887\n",
      "    step: 700; loss: 16016.140; l2dist: 2.997\n",
      "    step: 800; loss: 16012.949; l2dist: 2.660\n",
      "    step: 900; loss: 16011.264; l2dist: 2.468\n",
      "binary step: 3; number of successful adv: 6/10\n",
      "    step: 0; loss: 405328.062; l2dist: 0.000\n",
      "    step: 100; loss: 90050.258; l2dist: 5.279\n",
      "    step: 200; loss: 90043.328; l2dist: 5.209\n",
      "    step: 300; loss: 90040.531; l2dist: 5.132\n",
      "    step: 400; loss: 90038.117; l2dist: 5.023\n",
      "    step: 500; loss: 90035.984; l2dist: 4.902\n",
      "    step: 600; loss: 90033.828; l2dist: 4.771\n",
      "    step: 700; loss: 90031.172; l2dist: 4.583\n",
      "    step: 800; loss: 90026.891; l2dist: 4.288\n",
      "    step: 900; loss: 90023.969; l2dist: 4.061\n",
      "binary step: 4; number of successful adv: 7/10\n",
      "    step: 0; loss: 3052351.000; l2dist: 0.000\n",
      "    step: 100; loss: 400058.219; l2dist: 6.046\n",
      "    step: 200; loss: 400050.875; l2dist: 6.081\n",
      "    step: 300; loss: 400046.219; l2dist: 6.088\n",
      "    step: 400; loss: 400044.281; l2dist: 6.044\n",
      "    step: 500; loss: 400043.188; l2dist: 5.987\n",
      "    step: 600; loss: 400042.031; l2dist: 5.914\n",
      "    step: 700; loss: 400040.562; l2dist: 5.831\n",
      "    step: 800; loss: 400039.000; l2dist: 5.726\n",
      "    step: 900; loss: 400037.312; l2dist: 5.612\n",
      "binary step: 5; number of successful adv: 8/10\n",
      "    step: 0; loss: 20542318.000; l2dist: 0.000\n",
      "    step: 100; loss: 4000045.250; l2dist: 6.127\n",
      "    step: 200; loss: 4000033.500; l2dist: 6.148\n",
      "    step: 300; loss: 4000027.500; l2dist: 6.181\n",
      "    step: 400; loss: 4000025.250; l2dist: 6.169\n",
      "    step: 500; loss: 4000024.250; l2dist: 6.146\n",
      "    step: 600; loss: 4000023.000; l2dist: 6.126\n",
      "    step: 700; loss: 4000022.250; l2dist: 6.098\n",
      "    step: 800; loss: 4000022.000; l2dist: 6.072\n",
      "    step: 900; loss: 4000020.750; l2dist: 6.017\n",
      "binary step: 6; number of successful adv: 8/10\n",
      "    step: 0; loss: 199933184.000; l2dist: 0.000\n",
      "    step: 100; loss: 39999868.000; l2dist: 6.068\n",
      "    step: 200; loss: 39999832.000; l2dist: 6.098\n",
      "    step: 300; loss: 39999808.000; l2dist: 6.108\n",
      "    step: 400; loss: 39999788.000; l2dist: 6.124\n",
      "    step: 500; loss: 39999784.000; l2dist: 6.119\n",
      "    step: 600; loss: 39999784.000; l2dist: 6.120\n",
      "    step: 700; loss: 39999784.000; l2dist: 6.111\n",
      "    step: 800; loss: 39999780.000; l2dist: 6.103\n",
      "    step: 900; loss: 39999772.000; l2dist: 6.107\n",
      "binary step: 7; number of successful adv: 8/10\n",
      "    step: 0; loss: 1996087424.000; l2dist: 0.000\n",
      "    step: 100; loss: 399997664.000; l2dist: 6.125\n",
      "    step: 200; loss: 399997376.000; l2dist: 6.156\n",
      "    step: 300; loss: 399997344.000; l2dist: 6.162\n",
      "    step: 400; loss: 399997280.000; l2dist: 6.175\n",
      "    step: 500; loss: 399997248.000; l2dist: 6.190\n",
      "    step: 600; loss: 399997216.000; l2dist: 6.196\n",
      "    step: 700; loss: 399997216.000; l2dist: 6.201\n",
      "    step: 800; loss: 399997216.000; l2dist: 6.196\n",
      "    step: 900; loss: 399997216.000; l2dist: 6.197\n",
      "binary step: 8; number of successful adv: 8/10\n",
      "    step: 0; loss: 199814976.000; l2dist: 0.000\n",
      "    step: 100; loss: 39999816.000; l2dist: 6.159\n",
      "    step: 200; loss: 39999788.000; l2dist: 6.202\n",
      "    step: 300; loss: 39999788.000; l2dist: 6.196\n",
      "    step: 400; loss: 39999784.000; l2dist: 6.194\n",
      "    step: 500; loss: 39999784.000; l2dist: 6.197\n",
      "    step: 600; loss: 39999780.000; l2dist: 6.191\n",
      "    step: 700; loss: 39999780.000; l2dist: 6.193\n",
      "    step: 800; loss: 39999772.000; l2dist: 6.190\n",
      "    step: 900; loss: 39999772.000; l2dist: 6.182\n",
      "binary step: 9; number of successful adv: 8/10\n",
      "    step: 0; loss: 99.972; l2dist: 0.000\n",
      "    step: 100; loss: 82.672; l2dist: 0.339\n",
      "    step: 200; loss: 82.691; l2dist: 0.369\n",
      "    step: 300; loss: 82.696; l2dist: 0.389\n",
      "    step: 400; loss: 82.702; l2dist: 0.380\n",
      "    step: 500; loss: 82.686; l2dist: 0.386\n",
      "    step: 600; loss: 82.683; l2dist: 0.391\n",
      "    step: 700; loss: 82.681; l2dist: 0.374\n",
      "    step: 800; loss: 82.685; l2dist: 0.392\n",
      "    step: 900; loss: 82.686; l2dist: 0.385\n",
      "binary step: 0; number of successful adv: 1/10\n",
      "    step: 0; loss: 904.787; l2dist: 0.000\n",
      "    step: 100; loss: 366.467; l2dist: 1.650\n",
      "    step: 200; loss: 365.333; l2dist: 1.503\n",
      "    step: 300; loss: 365.122; l2dist: 1.484\n",
      "    step: 400; loss: 364.614; l2dist: 1.407\n",
      "    step: 500; loss: 364.573; l2dist: 1.414\n",
      "    step: 600; loss: 365.572; l2dist: 1.584\n",
      "    step: 700; loss: 364.524; l2dist: 1.420\n",
      "    step: 800; loss: 365.029; l2dist: 1.506\n",
      "    step: 900; loss: 364.374; l2dist: 1.345\n",
      "binary step: 1; number of successful adv: 4/10\n",
      "    step: 0; loss: 6166.167; l2dist: 0.000\n",
      "    step: 100; loss: 1616.219; l2dist: 3.013\n",
      "    step: 200; loss: 1614.248; l2dist: 2.834\n",
      "    step: 300; loss: 1612.950; l2dist: 2.690\n",
      "    step: 400; loss: 1611.163; l2dist: 2.433\n",
      "    step: 500; loss: 1610.290; l2dist: 2.370\n",
      "    step: 600; loss: 1609.648; l2dist: 2.300\n",
      "    step: 700; loss: 1608.904; l2dist: 2.215\n",
      "    step: 800; loss: 1608.849; l2dist: 2.214\n",
      "    step: 900; loss: 1609.206; l2dist: 2.320\n",
      "binary step: 2; number of successful adv: 6/10\n",
      "    step: 0; loss: 41190.215; l2dist: 0.000\n",
      "    step: 100; loss: 9026.701; l2dist: 4.039\n",
      "    step: 200; loss: 9023.872; l2dist: 3.887\n",
      "    step: 300; loss: 9019.952; l2dist: 3.605\n",
      "    step: 400; loss: 9017.402; l2dist: 3.407\n",
      "    step: 500; loss: 9015.175; l2dist: 3.160\n",
      "    step: 600; loss: 9012.993; l2dist: 3.147\n",
      "    step: 700; loss: 9011.026; l2dist: 2.903\n",
      "    step: 800; loss: 9010.788; l2dist: 2.886\n",
      "    step: 900; loss: 9012.424; l2dist: 3.046\n",
      "binary step: 3; number of successful adv: 7/10\n",
      "    step: 0; loss: 306147.438; l2dist: 0.000\n",
      "    step: 100; loss: 10037.879; l2dist: 5.587\n",
      "    step: 200; loss: 10034.830; l2dist: 5.365\n",
      "    step: 300; loss: 10031.563; l2dist: 5.204\n",
      "    step: 400; loss: 10029.419; l2dist: 5.092\n",
      "    step: 500; loss: 10026.603; l2dist: 4.900\n",
      "    step: 600; loss: 10024.853; l2dist: 4.806\n",
      "    step: 700; loss: 10023.101; l2dist: 4.639\n",
      "    step: 800; loss: 10021.804; l2dist: 4.433\n",
      "    step: 900; loss: 10019.725; l2dist: 4.242\n",
      "binary step: 4; number of successful adv: 9/10\n",
      "    step: 0; loss: 1113455.875; l2dist: 0.000\n",
      "    step: 100; loss: 100022.930; l2dist: 5.725\n",
      "    step: 200; loss: 100020.500; l2dist: 5.662\n",
      "    step: 300; loss: 100019.078; l2dist: 5.572\n",
      "    step: 400; loss: 100017.164; l2dist: 5.436\n",
      "    step: 500; loss: 100015.867; l2dist: 5.336\n",
      "    step: 600; loss: 100014.719; l2dist: 5.271\n",
      "    step: 700; loss: 100013.281; l2dist: 5.143\n",
      "    step: 800; loss: 100010.398; l2dist: 5.019\n",
      "    step: 900; loss: 100009.875; l2dist: 4.981\n",
      "binary step: 5; number of successful adv: 9/10\n",
      "    step: 0; loss: 10065034.000; l2dist: 0.000\n",
      "    step: 100; loss: 999860.000; l2dist: 5.997\n",
      "    step: 200; loss: 999859.312; l2dist: 5.957\n",
      "    step: 300; loss: 999858.875; l2dist: 5.924\n",
      "    step: 400; loss: 999858.750; l2dist: 5.941\n",
      "    step: 500; loss: 999858.438; l2dist: 5.888\n",
      "    step: 600; loss: 999857.812; l2dist: 5.897\n",
      "    step: 700; loss: 999857.812; l2dist: 5.901\n",
      "    step: 800; loss: 999856.938; l2dist: 5.807\n",
      "    step: 900; loss: 999855.438; l2dist: 5.692\n",
      "binary step: 6; number of successful adv: 9/10\n",
      "    step: 0; loss: 100020072.000; l2dist: 0.000\n",
      "    step: 100; loss: 9998230.000; l2dist: 6.163\n",
      "    step: 200; loss: 9998230.000; l2dist: 6.093\n",
      "    step: 300; loss: 9998230.000; l2dist: 6.054\n",
      "    step: 400; loss: 9998231.000; l2dist: 6.026\n",
      "    step: 500; loss: 9998231.000; l2dist: 6.003\n",
      "    step: 600; loss: 9998229.000; l2dist: 5.980\n",
      "    step: 700; loss: 9998231.000; l2dist: 6.001\n",
      "    step: 800; loss: 9998230.000; l2dist: 6.092\n",
      "    step: 900; loss: 9998229.000; l2dist: 6.038\n",
      "binary step: 7; number of successful adv: 9/10\n",
      "    step: 0; loss: 999790016.000; l2dist: 0.000\n",
      "    step: 100; loss: 100099272.000; l2dist: 6.257\n",
      "    step: 200; loss: 99981896.000; l2dist: 6.298\n",
      "    step: 300; loss: 46.190; l2dist: 6.707\n",
      "    step: 400; loss: 46.115; l2dist: 6.701\n",
      "    step: 500; loss: 46.008; l2dist: 6.693\n",
      "    step: 600; loss: 45.847; l2dist: 6.680\n",
      "    step: 700; loss: 45.580; l2dist: 6.660\n",
      "    step: 800; loss: 45.328; l2dist: 6.640\n",
      "    step: 900; loss: 45.037; l2dist: 6.617\n",
      "binary step: 8; number of successful adv: 10/10\n",
      "    step: 0; loss: 999790016.000; l2dist: 0.000\n",
      "    step: 100; loss: 100098592.000; l2dist: 6.267\n",
      "    step: 200; loss: 99981904.000; l2dist: 6.286\n",
      "    step: 300; loss: 44.497; l2dist: 6.581\n",
      "    step: 400; loss: 46.385; l2dist: 6.723\n",
      "    step: 500; loss: 46.340; l2dist: 6.719\n",
      "    step: 600; loss: 46.274; l2dist: 6.713\n",
      "    step: 700; loss: 46.184; l2dist: 6.705\n",
      "    step: 800; loss: 46.067; l2dist: 6.695\n",
      "    step: 900; loss: 45.917; l2dist: 6.683\n",
      "binary step: 9; number of successful adv: 10/10\n"
     ]
    }
   ],
   "source": [
    "attack = CWL2_NCA_Attack()\n",
    "\n",
    "def attack_batch(x, y, batch_size):\n",
    "    x_adv = torch.zeros_like(x)\n",
    "    total_num = x.size(0)\n",
    "    num_batches = total_num // batch_size\n",
    "    for i in range(num_batches):\n",
    "        begin = i * batch_size\n",
    "        end = (i + 1) * batch_size\n",
    "        x_adv[begin:end] = attack(\n",
    "            net, x[begin:end], y[begin:end], targeted=False,\n",
    "            binary_search_steps=10, max_iterations=1000,\n",
    "            confidence=0, learning_rate=1e-1,\n",
    "            initial_const=1e2, abort_early=False)\n",
    "    return x_adv\n",
    "\n",
    "x_adv = attack_batch(x_test[ind][:100].cuda(), y_test[ind][:100].cuda(), 10)\n",
    "# x_adv = attack_batch(x_test[ind][:2].cuda(), y_test[ind][:2].cuda(), 2)"
   ]
  },
  {
   "cell_type": "code",
   "execution_count": 14,
   "metadata": {},
   "outputs": [
    {
     "name": "stdout",
     "output_type": "stream",
     "text": [
      "0.06\n"
     ]
    }
   ],
   "source": [
    "logits_adv = net.compute_logits(x_adv)\n",
    "adv_ind = np.where(logits_adv.argmax(1).cpu() != y_test[ind][:100])[0]\n",
    "acc = (logits_adv.argmax(1).cpu() == y_test[ind][:100]).float().numpy().mean()\n",
    "print(acc)"
   ]
  },
  {
   "cell_type": "code",
   "execution_count": 15,
   "metadata": {},
   "outputs": [
    {
     "data": {
      "text/plain": [
       "3.8527956008911133"
      ]
     },
     "execution_count": 15,
     "metadata": {},
     "output_type": "execute_result"
    }
   ],
   "source": [
    "(x_adv.cpu() - x_test[ind][:100]).view(100, -1).norm(2, 1)[adv_ind].mean().item()"
   ]
  },
  {
   "cell_type": "code",
   "execution_count": 57,
   "metadata": {},
   "outputs": [
    {
     "data": {
      "text/plain": [
       "tensor([3.9654, 3.8659, 3.1585, 3.0521, 2.9116, 3.3393, 2.9059, 1.8409, 2.2006,\n",
       "        0.7463, 3.4531, 3.1243, 0.8316, 3.7189, 3.6752, 0.7141, 7.3174, 2.4736,\n",
       "        2.6379, 0.7758, 2.9101, 3.1342, 2.2701, 1.7538, 4.3092, 3.3058, 2.4876,\n",
       "        3.0321, 3.2119, 2.9654, 2.8977, 3.0509, 1.7986, 3.6026, 4.0228, 2.4388,\n",
       "        3.4142, 2.0723, 3.5873, 3.0175, 2.1664, 3.5316, 1.2208, 1.7057, 0.4346,\n",
       "        2.6737, 2.9177, 2.0605, 4.4492, 2.4814, 2.9824, 2.9804, 0.7697, 3.8104,\n",
       "        2.9644, 5.1662, 3.4106, 1.8374, 1.8860, 3.6003, 0.8830, 0.4588, 0.8025,\n",
       "        3.0817, 0.4208, 2.6848, 2.7654, 2.5435, 3.8160, 6.4778, 4.8342, 3.9204,\n",
       "        0.1647, 3.3441, 2.3854, 3.0777, 1.4431, 1.2292, 4.3104, 2.7652, 0.0000,\n",
       "        2.8042, 3.1115, 4.7793, 3.3844, 3.4500, 4.5450, 3.6714, 3.1127, 4.6415,\n",
       "        0.5048, 2.6473, 3.1263, 2.6982, 2.6311, 2.5629, 2.4965, 1.4889, 3.0107,\n",
       "        4.4997], grad_fn=<NormBackward1>)"
      ]
     },
     "execution_count": 57,
     "metadata": {},
     "output_type": "execute_result"
    }
   ],
   "source": [
    "(x_adv.cpu() - x_test[ind][:100]).view(100, -1).norm(2, 1)"
   ]
  },
  {
   "cell_type": "code",
   "execution_count": 58,
   "metadata": {},
   "outputs": [],
   "source": [
    "x_nca = x_adv.clone()"
   ]
  },
  {
   "cell_type": "code",
   "execution_count": 55,
   "metadata": {},
   "outputs": [
    {
     "data": {
      "text/plain": [
       "<matplotlib.image.AxesImage at 0x7f1284837438>"
      ]
     },
     "execution_count": 55,
     "metadata": {},
     "output_type": "execute_result"
    },
    {
     "data": {
      "image/png": "[encoded data removed]",
      "text/plain": [
       "<Figure size 432x288 with 1 Axes>"
      ]
     },
     "metadata": {
      "needs_background": "light"
     },
     "output_type": "display_data"
    }
   ],
   "source": [
    "plt.imshow(x_adv.cpu().detach().numpy()[1].reshape(28, 28))"
   ]
  },
  {
   "cell_type": "code",
   "execution_count": 17,
   "metadata": {},
   "outputs": [
    {
     "data": {
      "text/plain": [
       "<matplotlib.image.AxesImage at 0x7f1284b14f28>"
      ]
     },
     "execution_count": 17,
     "metadata": {},
     "output_type": "execute_result"
    },
    {
     "data": {
      "image/png": "[encoded data removed]",
      "text/plain": [
       "<Figure size 432x288 with 1 Axes>"
      ]
     },
     "metadata": {
      "needs_background": "light"
     },
     "output_type": "display_data"
    }
   ],
   "source": [
    "plt.imshow(x_test.cpu().detach().numpy()[1].reshape(28, 28))"
   ]
  },
  {
   "cell_type": "code",
   "execution_count": null,
   "metadata": {},
   "outputs": [],
   "source": []
  },
  {
   "cell_type": "code",
   "execution_count": null,
   "metadata": {},
   "outputs": [],
   "source": []
  },
  {
   "cell_type": "code",
   "execution_count": null,
   "metadata": {},
   "outputs": [],
   "source": []
  },
  {
   "cell_type": "code",
   "execution_count": 16,
   "metadata": {},
   "outputs": [],
   "source": [
    "INFTY = 1e20\n",
    "\n",
    "\n",
    "class DKNN_PGD(object):\n",
    "    \"\"\"\n",
    "    \"\"\"\n",
    "\n",
    "    def __init__(self, dknn):\n",
    "        self.dknn = dknn\n",
    "        self.device = dknn.device\n",
    "        self.layers = dknn.layers\n",
    "        self.guide_reps = {}\n",
    "        self.thres = None\n",
    "        self.coeff = None\n",
    "\n",
    "    def __call__(self, x_orig, label, guide_layer, m, epsilon=0.1,\n",
    "                 max_epsilon=0.3, max_iterations=1000, num_restart=1,\n",
    "                 rand_start=True, thres_steps=100, check_adv_steps=100,\n",
    "                 verbose=True):\n",
    "        \"\"\"\n",
    "        x_orig is tensor (requires_grad=False)\n",
    "        \"\"\"\n",
    "\n",
    "        # make sure we run at least once\n",
    "        if num_restart < 1:\n",
    "            num_restart = 1\n",
    "\n",
    "        # if not using randomized start, no point in doing more than one start\n",
    "        if not rand_start:\n",
    "            num_restart = 1\n",
    "\n",
    "        label = label.cpu().numpy()\n",
    "        batch_size = x_orig.size(0)\n",
    "        min_, max_ = x_orig.min(), x_orig.max()\n",
    "        x_adv = x_orig.detach()\n",
    "        best_num_nn = np.zeros((batch_size, ))\n",
    "        \n",
    "        self.coeff = torch.zeros((x_orig.size(0), m))\n",
    "        self.coeff[:, :m // 2] += 1\n",
    "        self.coeff[:, m // 2:] -= 1\n",
    "        \n",
    "        for i in range(num_restart):\n",
    "\n",
    "            # initialize perturbation\n",
    "            delta = torch.zeros_like(x_adv)\n",
    "            if rand_start:\n",
    "                delta.uniform_(- max_epsilon * 0.1, max_epsilon * 0.1)\n",
    "            delta.requires_grad_()\n",
    "\n",
    "            for iteration in range(max_iterations):\n",
    "                x = torch.clamp(x_orig + delta, min_, max_)\n",
    "\n",
    "                # adaptively choose threshold and guide samples every\n",
    "                # <thres_steps> iterations\n",
    "                with torch.no_grad():\n",
    "                    if iteration % thres_steps == 0:\n",
    "                        thres = self.dknn.get_neighbors(x)[0][0][:, -1]\n",
    "                        self.thres = torch.tensor(thres).to(self.device).view(\n",
    "                            batch_size, 1)\n",
    "                        self.find_guide_samples(\n",
    "                            x, label, m=m, layer=guide_layer)\n",
    "\n",
    "                reps = self.dknn.get_activations(x, requires_grad=True)\n",
    "                loss = self.loss_function(reps)\n",
    "                loss.backward()\n",
    "                # perform update on delta\n",
    "                with torch.no_grad():\n",
    "#                     import pdb; pdb.set_trace()\n",
    "                    delta -= epsilon * delta.grad.detach().sign()\n",
    "#                     delta -= epsilon * delta.grad.detach()\n",
    "                    delta.clamp_(- max_epsilon, max_epsilon)\n",
    "\n",
    "                if (verbose and iteration % (np.ceil(max_iterations / 10)) == 0):\n",
    "                    print('    step: %d; loss: %.3f' %\n",
    "                          (iteration, loss.cpu().detach().numpy()))\n",
    "                \n",
    "                if ((iteration + 1) % check_adv_steps == 0 or\n",
    "                        iteration == max_iterations):\n",
    "                    with torch.no_grad():\n",
    "                        # check if x are adversarial. Only store adversarial examples\n",
    "                        # if they have a larger number of wrong neighbors than orevious\n",
    "                        is_adv, num_nn = self.check_adv(x, label)\n",
    "                        for j in range(batch_size):\n",
    "                            if is_adv[j] and num_nn[j] > best_num_nn[j]:\n",
    "                                x_adv[j] = x[j]\n",
    "                                best_num_nn[j] = num_nn[j]\n",
    "\n",
    "            with torch.no_grad():\n",
    "                is_adv, _ = self.check_adv(x_adv, label)\n",
    "            if verbose:\n",
    "                print('number of successful adv: %d/%d' % (is_adv.sum(), batch_size))\n",
    "\n",
    "        return x_adv\n",
    "\n",
    "    def check_adv(self, x, label):\n",
    "        \"\"\"Check if label of <x> predicted by <dknn> matches with <label>\"\"\"\n",
    "        output = self.dknn.classify(x)\n",
    "        num_nn = output.max(1)\n",
    "        y_pred = output.argmax(1)\n",
    "        is_adv = (y_pred != label).astype(np.float32)\n",
    "#         import pdb; pdb.set_trace()\n",
    "        return is_adv, num_nn\n",
    "\n",
    "    def loss_function(self, reps):\n",
    "        \"\"\"Returns the loss averaged over the batch (first dimension of x) and\n",
    "        L-2 norm squared of the perturbation\n",
    "        \"\"\"\n",
    "\n",
    "        batch_size = reps[self.layers[0]].size(0)\n",
    "        adv_loss = torch.zeros(\n",
    "            (batch_size, len(self.layers)), device=self.device)\n",
    "        # find squared L-2 distance between original samples and their\n",
    "        # adversarial examples at each layer\n",
    "        for l, layer in enumerate(self.layers):\n",
    "            rep = reps[layer].view(batch_size, 1, -1)\n",
    "            dist = ((rep - self.guide_reps[layer])**2).sum(2)\n",
    "#             fx = self.thres - dist\n",
    "#             Fx = torch.max(torch.tensor(0., device=self.device),\n",
    "#                            self.coeff.to(self.device) * fx).sum(1)\n",
    "#             Fx = (- self.coeff.to(self.device) * dist).sum(1)\n",
    "            Fx = dist[:, 1]\n",
    "            adv_loss[:, l] = Fx\n",
    "\n",
    "        return adv_loss.mean()\n",
    "\n",
    "    def find_guide_samples(self, x, label, m=100, layer='relu1'):\n",
    "        \"\"\"Find k nearest neighbors to <x> that all have the same class but not\n",
    "        equal to <label>\n",
    "        \"\"\"\n",
    "        num_classes = self.dknn.num_classes\n",
    "        x_train = self.dknn.x_train\n",
    "        y_train = self.dknn.y_train\n",
    "        batch_size = x.size(0)\n",
    "        nn = torch.zeros((m, ) + x.size()).transpose(0, 1)\n",
    "        D, I = self.dknn.get_neighbors(\n",
    "            x, k=x_train.size(0), layers=[layer])[0]\n",
    "        y_pred = self.dknn.classify(x_train).argmax(1)\n",
    "        is_correct = y_pred == y_train.numpy()\n",
    "\n",
    "        for i, (d, ind) in enumerate(zip(D, I)):\n",
    "#             mean_dist = np.zeros((num_classes, ))\n",
    "#             for j in range(num_classes):\n",
    "#                 mean_dist[j] = np.mean(\n",
    "#                     d[np.where(y_train[ind] == j)[0]][:m // 2])\n",
    "#             mean_dist[label[i]] += INFTY\n",
    "#             nearest_label = mean_dist.argmin()\n",
    "#             nn_ind = np.where(y_train[ind] == nearest_label)[0][:m // 2]\n",
    "#             nn[i, m // 2:] = x_train[ind[nn_ind]]\n",
    "#             nn_ind = np.where(y_train[ind] == label[i])[0][:m // 2]\n",
    "#             nn[i, :m // 2] = x_train[ind[nn_ind]]\n",
    "            # find nearest sample that is correctly classified as j\n",
    "#             import pdb; pdb.set_trace()\n",
    "            is_not_label = y_train.numpy() != label[i]\n",
    "            idx = np.where(is_correct & is_not_label)[0]\n",
    "            nn_ind = (x_train - x[i].cpu())[idx].view(\n",
    "                idx.shape[0], -1).norm(2, 1).argmin()\n",
    "            nn[i, 1] = x_train[idx][nn_ind]\n",
    "\n",
    "        # initialize self.guide_reps if empty\n",
    "        if not self.guide_reps:\n",
    "            guide_rep = self.dknn.get_activations(\n",
    "                nn[0], requires_grad=False)\n",
    "            for l in self.layers:\n",
    "                # set a zero tensor before filling it\n",
    "                size = (batch_size, ) + guide_rep[l].view(m, -1).size()\n",
    "                self.guide_reps[l] = torch.zeros(size, device=self.device)\n",
    "\n",
    "        # fill self.guide_reps\n",
    "        for i in range(batch_size):\n",
    "            guide_rep = self.dknn.get_activations(\n",
    "                nn[i], requires_grad=False)\n",
    "            self.guide_reps[layer][i] = guide_rep[layer].view(\n",
    "                m, -1).detach()"
   ]
  },
  {
   "cell_type": "code",
   "execution_count": 24,
   "metadata": {},
   "outputs": [
    {
     "name": "stdout",
     "output_type": "stream",
     "text": [
      "    step: 0; loss: 2257.268\n",
      "    step: 200; loss: 1195.299\n",
      "    step: 400; loss: 1519.205\n",
      "    step: 600; loss: 1286.897\n",
      "    step: 800; loss: 978.852\n",
      "    step: 1000; loss: 791.657\n",
      "    step: 1200; loss: 660.375\n",
      "    step: 1400; loss: 611.989\n",
      "    step: 1600; loss: 573.965\n",
      "    step: 1800; loss: 537.115\n",
      "number of successful adv: 189/200\n"
     ]
    }
   ],
   "source": [
    "attack = DKNN_PGD(dknn)\n",
    "\n",
    "def attack_batch(x, y, batch_size):\n",
    "    x_adv = torch.zeros_like(x)\n",
    "    total_num = x.size(0)\n",
    "    num_batches = total_num // batch_size\n",
    "    for i in range(num_batches):\n",
    "        begin = i * batch_size\n",
    "        end = (i + 1) * batch_size\n",
    "        x_adv[begin:end] = attack(\n",
    "            x[begin:end], y[begin:end],\n",
    "            guide_layer=layers[0], m=2, epsilon=0.001,\n",
    "            max_epsilon=0.3, max_iterations=2000, num_restart=10,\n",
    "            rand_start=False, thres_steps=200, check_adv_steps=200,\n",
    "            verbose=True)\n",
    "    return x_adv\n",
    "\n",
    "num = 200\n",
    "x_adv = attack_batch(x_test[ind][:num].cuda(), y_test[ind][:num], 200)"
   ]
  },
  {
   "cell_type": "code",
   "execution_count": 58,
   "metadata": {},
   "outputs": [
    {
     "data": {
      "text/plain": [
       "Parameter containing:\n",
       "tensor(0.0246, device='cuda:0')"
      ]
     },
     "execution_count": 58,
     "metadata": {},
     "output_type": "execute_result"
    }
   ],
   "source": [
    "net.log_it"
   ]
  },
  {
   "cell_type": "code",
   "execution_count": null,
   "metadata": {},
   "outputs": [],
   "source": []
  }
 ],
 "metadata": {
  "kernelspec": {
   "display_name": "Python 3",
   "language": "python",
   "name": "python3"
  },
  "language_info": {
   "codemirror_mode": {
    "name": "ipython",
    "version": 3
   },
   "file_extension": ".py",
   "mimetype": "text/x-python",
   "name": "python",
   "nbconvert_exporter": "python",
   "pygments_lexer": "ipython3",
   "version": "3.6.5"
  }
 },
 "nbformat": 4,
 "nbformat_minor": 4
}
