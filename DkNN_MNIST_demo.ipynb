{
 "cells": [
  {
   "cell_type": "code",
   "execution_count": 1,
   "metadata": {},
   "outputs": [],
   "source": [
    "%matplotlib inline\n",
    "\n",
    "%load_ext autoreload\n",
    "%autoreload 2"
   ]
  },
  {
   "cell_type": "code",
   "execution_count": 2,
   "metadata": {},
   "outputs": [],
   "source": [
    "import logging\n",
    "import os\n",
    "import time\n",
    "\n",
    "import numpy as np\n",
    "import matplotlib.pyplot as plt\n",
    "import foolbox\n",
    "import torch\n",
    "import torch.backends.cudnn as cudnn\n",
    "import torch.nn as nn\n",
    "import torch.optim as optim\n",
    "\n",
    "from lib.dataset_utils import *\n",
    "from lib.mnist_model import *\n",
    "from lib.adv_model import *\n",
    "from lib.dknn_attack import DKNNAttack\n",
    "from lib.dknn_attack_l2 import DKNNL2Attack\n",
    "from lib.dknn_attack_linf import DKNNLinfAttack\n",
    "from lib.cwl2_attack import CWL2Attack\n",
    "from lib.dknn import DKNNL2\n",
    "from lib.utils import *\n",
    "from lib.lip_model import *"
   ]
  },
  {
   "cell_type": "code",
   "execution_count": 3,
   "metadata": {},
   "outputs": [],
   "source": [
    "import os\n",
    "os.environ[\"CUDA_DEVICE_ORDER\"] = \"PCI_BUS_ID\"\n",
    "os.environ[\"CUDA_VISIBLE_DEVICES\"] = \"0\""
   ]
  },
  {
   "cell_type": "code",
   "execution_count": 6,
   "metadata": {},
   "outputs": [],
   "source": [
    "exp_id = 0\n",
    "\n",
    "model_name = 'train_mnist_exp%d.h5' % exp_id\n",
    "net = BasicModel()\n",
    "\n",
    "# model_name = 'train_mnist_snnl_exp%d.h5' % exp_id\n",
    "# net = SNNLModel(train_it=True)\n",
    "\n",
    "# model_name = 'train_mnist_hidden_mixup_exp%d.h5' % exp_id\n",
    "# net = HiddenMixupModel()\n",
    "\n",
    "# model_name = 'train_mnist_vae_exp%d.h5' % exp_id\n",
    "# # net = VAE((1, 28, 28), num_classes=10, latent_dim=20)\n",
    "# net = VAE2((1, 28, 28), num_classes=10, latent_dim=128)\n",
    "\n",
    "# model_name = 'train_mnist_cav_exp%d.h5' % exp_id\n",
    "# net = ClassAuxVAE((1, 28, 28), num_classes=10, latent_dim=20)\n",
    "\n",
    "# model_name = 'lip_mnist_exp%d.h5' % exp_id\n",
    "# net = LipschitzModel()\n",
    "\n",
    "# model_name = 'dist_mnist_exp%d.h5' % exp_id\n",
    "# init_it = 1\n",
    "# train_it = False\n",
    "# net = NeighborModel(num_classes=10, init_it=init_it, train_it=train_it)\n",
    "\n",
    "# model_name = 'adv_mnist_exp%d.h5' % exp_id\n",
    "# basic_net = BasicModel()\n",
    "# # basic_net = BasicModelV2()\n",
    "# config = {'epsilon': 0.3,\n",
    "#           'num_steps': 40,\n",
    "#           'step_size': 0.01,\n",
    "#           'random_start': True,\n",
    "#           'loss_func': 'xent'}\n",
    "# net = PGDL2Model(basic_net, config)\n",
    "\n",
    "# model_name = 'lipae_mnist_exp%d.h5' % exp_id\n",
    "# init_it = 1\n",
    "# train_it = False\n",
    "# latent_dim = 128\n",
    "# alpha = 1e2\n",
    "# net = NCA_AE(latent_dim=latent_dim, init_it=init_it,\n",
    "#              train_it=train_it, alpha=alpha)\n",
    "\n",
    "# orig_model = 'adv_mnist_exp2.h5'\n",
    "# model_name = 'tune%d_%s' % (exp_id, orig_model)\n",
    "# net = BasicModel()\n",
    "# from tune_mnist import Identity\n",
    "# net.fc = Identity()\n",
    "\n",
    "# model_name = 'rot_mnist_exp%d.h5' % exp_id\n",
    "# net = BasicModel(num_classes=4)\n",
    "\n",
    "# model_name = 'adv_rot_mnist_exp%d.h5' % exp_id\n",
    "# basic_net = BasicModel(num_classes=4)\n",
    "# config = {'num_steps': 20,\n",
    "#           'step_size': 0.05,\n",
    "#           'random_start': True,\n",
    "#           'loss_func': 'xent'}\n",
    "# net = PGDL2Model(basic_net, config)\n",
    "\n",
    "# model_name = 'ae_mnist_exp%d.h5' % exp_id\n",
    "# net = Autoencoder((1, 28, 28), 128)\n",
    "\n",
    "# model_name = 'adv_mnist_ae_exp%d.h5' % exp_id\n",
    "# basic_net = Autoencoder((1, 28, 28), latent_dim=128)\n",
    "# config = {'num_steps': 40,\n",
    "#               'step_size': 0.1,\n",
    "#               'random_start': True,\n",
    "#               'loss_func': 'xent'}\n",
    "# net = PGDL2Model(basic_net, config)"
   ]
  },
  {
   "cell_type": "code",
   "execution_count": 7,
   "metadata": {},
   "outputs": [],
   "source": [
    "# Set all random seeds\n",
    "seed = 2019\n",
    "np.random.seed(seed)\n",
    "torch.manual_seed(seed)\n",
    "\n",
    "device = 'cuda' if torch.cuda.is_available() else 'cpu'"
   ]
  },
  {
   "cell_type": "code",
   "execution_count": 6,
   "metadata": {
    "scrolled": true
   },
   "outputs": [
    {
     "ename": "NameError",
     "evalue": "name 'model_name' is not defined",
     "output_type": "error",
     "traceback": [
      "\u001b[0;31m---------------------------------------------------------------------------\u001b[0m",
      "\u001b[0;31mNameError\u001b[0m                                 Traceback (most recent call last)",
      "\u001b[0;32m<ipython-input-6-fd7303c5db48>\u001b[0m in \u001b[0;36m<module>\u001b[0;34m\u001b[0m\n\u001b[1;32m     10\u001b[0m \u001b[0;32mif\u001b[0m \u001b[0;32mnot\u001b[0m \u001b[0mos\u001b[0m\u001b[0;34m.\u001b[0m\u001b[0mpath\u001b[0m\u001b[0;34m.\u001b[0m\u001b[0misdir\u001b[0m\u001b[0;34m(\u001b[0m\u001b[0msave_dir\u001b[0m\u001b[0;34m)\u001b[0m\u001b[0;34m:\u001b[0m\u001b[0;34m\u001b[0m\u001b[0;34m\u001b[0m\u001b[0m\n\u001b[1;32m     11\u001b[0m     \u001b[0mos\u001b[0m\u001b[0;34m.\u001b[0m\u001b[0mmakedirs\u001b[0m\u001b[0;34m(\u001b[0m\u001b[0msave_dir\u001b[0m\u001b[0;34m)\u001b[0m\u001b[0;34m\u001b[0m\u001b[0;34m\u001b[0m\u001b[0m\n\u001b[0;32m---> 12\u001b[0;31m \u001b[0mmodel_path\u001b[0m \u001b[0;34m=\u001b[0m \u001b[0mos\u001b[0m\u001b[0;34m.\u001b[0m\u001b[0mpath\u001b[0m\u001b[0;34m.\u001b[0m\u001b[0mjoin\u001b[0m\u001b[0;34m(\u001b[0m\u001b[0msave_dir\u001b[0m\u001b[0;34m,\u001b[0m \u001b[0mmodel_name\u001b[0m\u001b[0;34m)\u001b[0m\u001b[0;34m\u001b[0m\u001b[0;34m\u001b[0m\u001b[0m\n\u001b[0m\u001b[1;32m     13\u001b[0m \u001b[0;34m\u001b[0m\u001b[0m\n\u001b[1;32m     14\u001b[0m \u001b[0mnet\u001b[0m \u001b[0;34m=\u001b[0m \u001b[0mnet\u001b[0m\u001b[0;34m.\u001b[0m\u001b[0mto\u001b[0m\u001b[0;34m(\u001b[0m\u001b[0mdevice\u001b[0m\u001b[0;34m)\u001b[0m\u001b[0;34m\u001b[0m\u001b[0;34m\u001b[0m\u001b[0m\n",
      "\u001b[0;31mNameError\u001b[0m: name 'model_name' is not defined"
     ]
    }
   ],
   "source": [
    "# Set up model directory\n",
    "save_dir = os.path.join(os.getcwd(), 'saved_models')\n",
    "if not os.path.isdir(save_dir):\n",
    "    os.makedirs(save_dir)\n",
    "model_path = os.path.join(save_dir, model_name)\n",
    "\n",
    "net = net.to(device)\n",
    "if device == 'cuda':\n",
    "    net = torch.nn.DataParallel(net)\n",
    "    cudnn.benchmark = True\n",
    "net.load_state_dict(torch.load(model_path))\n",
    "net = net.module\n",
    "# net = net.basic_net\n",
    "net.eval()"
   ]
  },
  {
   "cell_type": "code",
   "execution_count": 8,
   "metadata": {},
   "outputs": [],
   "source": [
    "(x_train, y_train), (x_valid, y_valid), (x_test, y_test) = load_mnist_all(\n",
    "    '/data', val_size=0.1, seed=seed)"
   ]
  },
  {
   "cell_type": "code",
   "execution_count": 7,
   "metadata": {},
   "outputs": [],
   "source": [
    "y_pred = net(x_test.to(device))"
   ]
  },
  {
   "cell_type": "code",
   "execution_count": 8,
   "metadata": {},
   "outputs": [
    {
     "data": {
      "text/plain": [
       "0.7778"
      ]
     },
     "execution_count": 8,
     "metadata": {},
     "output_type": "execute_result"
    }
   ],
   "source": [
    "(y_pred.argmax(1).cpu() == y_test).sum().numpy() / y_test.size(0)"
   ]
  },
  {
   "cell_type": "code",
   "execution_count": 18,
   "metadata": {},
   "outputs": [],
   "source": [
    "# Use to substitute a model with kNN on pixel space\n",
    "# so that it is compatible with DkNN and DkNN attack\n",
    "\n",
    "# class Identity(nn.Module):\n",
    "\n",
    "#     def __init__(self):\n",
    "#         super(Identity, self).__init__()\n",
    "\n",
    "#     def forward(self, x):\n",
    "#         return x\n",
    "    \n",
    "# net.conv1 = Identity()\n",
    "# net.relu1 = Identity()\n",
    "# net.conv2 = Identity()\n",
    "# net.relu2 = Identity()\n",
    "# net.conv3 = Identity()\n",
    "# net.relu3 = Identity()\n",
    "# net.fc = Identity()"
   ]
  },
  {
   "cell_type": "code",
   "execution_count": 7,
   "metadata": {
    "scrolled": true
   },
   "outputs": [],
   "source": [
    "# layers = ['relu1', 'relu2', 'relu3', 'fc']\n",
    "layers = ['relu3']\n",
    "# layers = ['relu1']\n",
    "# layers = ['en_conv3']\n",
    "# layers = ['en_mu']\n",
    "# layers = ['maxpool1', 'maxpool2', 'relu3', 'fc2']\n",
    "# layers = ['maxpool2']\n",
    "\n",
    "# dknn = DKNN(net, x_train, y_train, x_valid, y_valid, layers, \n",
    "#             k=75, num_classes=10)\n",
    "dknn = DKNNL2(net, x_train, y_train, x_valid, y_valid, layers, \n",
    "              k=75, num_classes=10)"
   ]
  },
  {
   "cell_type": "code",
   "execution_count": 8,
   "metadata": {},
   "outputs": [
    {
     "name": "stdout",
     "output_type": "stream",
     "text": [
      "0.9653\n"
     ]
    }
   ],
   "source": [
    "with torch.no_grad():\n",
    "    y_pred = dknn.classify(x_test)\n",
    "    ind = np.where(y_pred.argmax(1) == y_test.numpy())[0]\n",
    "    print((y_pred.argmax(1) == y_test.numpy()).sum() / y_test.size(0))"
   ]
  },
  {
   "cell_type": "code",
   "execution_count": 17,
   "metadata": {},
   "outputs": [],
   "source": [
    "cred = dknn.credibility(y_pred)"
   ]
  },
  {
   "cell_type": "code",
   "execution_count": 18,
   "metadata": {},
   "outputs": [
    {
     "data": {
      "text/plain": [
       "(array([ 947., 1119.,  809.,  953.,  545.,  869.,    0.,    0.,    0.,\n",
       "        4758.]),\n",
       " array([0.0265 , 0.12385, 0.2212 , 0.31855, 0.4159 , 0.51325, 0.6106 ,\n",
       "        0.70795, 0.8053 , 0.90265, 1.     ]),\n",
       " <a list of 10 Patch objects>)"
      ]
     },
     "execution_count": 18,
     "metadata": {},
     "output_type": "execute_result"
    },
    {
     "data": {
      "image/png": "[encoded data removed]",
      "text/plain": [
       "<Figure size 432x288 with 1 Axes>"
      ]
     },
     "metadata": {
      "needs_background": "light"
     },
     "output_type": "display_data"
    }
   ],
   "source": [
    "plt.hist(cred)"
   ]
  },
  {
   "cell_type": "code",
   "execution_count": 21,
   "metadata": {},
   "outputs": [],
   "source": [
    "correct = np.argmax(y_pred, 1) == y_test.numpy()\n",
    "num_correct_by_cred = np.zeros((10, ))\n",
    "num_cred = np.zeros((10, ))\n",
    "for i in np.arange(10):\n",
    "    ind = (cred > i * 0.1) & (cred <= i* 0.1 + 0.1)\n",
    "    num_cred[i] = np.sum(ind)\n",
    "    num_correct_by_cred[i] = np.sum(correct[ind])"
   ]
  },
  {
   "cell_type": "code",
   "execution_count": 22,
   "metadata": {},
   "outputs": [
    {
     "data": {
      "text/plain": [
       "<BarContainer object of 10 artists>"
      ]
     },
     "execution_count": 22,
     "metadata": {},
     "output_type": "execute_result"
    },
    {
     "data": {
      "image/png": "[encoded data removed]",
      "text/plain": [
       "<Figure size 432x288 with 1 Axes>"
      ]
     },
     "metadata": {
      "needs_background": "light"
     },
     "output_type": "display_data"
    }
   ],
   "source": [
    "fig = plt.figure()\n",
    "ax = fig.add_subplot(111)\n",
    "ax.bar(np.arange(10) * 0.1, num_cred, width=0.05)\n",
    "ax.bar(np.arange(10) * 0.1 + 0.05, num_correct_by_cred, width=0.05)"
   ]
  },
  {
   "cell_type": "code",
   "execution_count": 15,
   "metadata": {},
   "outputs": [
    {
     "name": "stderr",
     "output_type": "stream",
     "text": [
      "/home/user/miniconda/envs/py36/lib/python3.6/site-packages/ipykernel_launcher.py:1: RuntimeWarning: invalid value encountered in true_divide\n",
      "  \"\"\"Entry point for launching an IPython kernel.\n"
     ]
    },
    {
     "data": {
      "text/plain": [
       "array([0.52764613, 0.83124478, 0.94539249, 0.98878343, 0.99498495,\n",
       "              nan,        nan,        nan,        nan, 0.99922103])"
      ]
     },
     "execution_count": 15,
     "metadata": {},
     "output_type": "execute_result"
    }
   ],
   "source": [
    "num_correct_by_cred / num_cred"
   ]
  },
  {
   "cell_type": "code",
   "execution_count": 45,
   "metadata": {},
   "outputs": [
    {
     "data": {
      "text/plain": [
       "0.17333333333333334"
      ]
     },
     "execution_count": 45,
     "metadata": {},
     "output_type": "execute_result"
    }
   ],
   "source": [
    "dknn.A.mean()"
   ]
  },
  {
   "cell_type": "code",
   "execution_count": 154,
   "metadata": {},
   "outputs": [],
   "source": [
    "nn = dknn.get_neighbors(x_valid)"
   ]
  },
  {
   "cell_type": "code",
   "execution_count": 15,
   "metadata": {},
   "outputs": [
    {
     "name": "stdout",
     "output_type": "stream",
     "text": [
      "0.72602546\n",
      "0.6874378\n",
      "0.7105881\n",
      "0.94844836\n"
     ]
    }
   ],
   "source": [
    "for (D, I) in nn:\n",
    "    print(D[-1].mean())"
   ]
  },
  {
   "cell_type": "markdown",
   "metadata": {},
   "source": [
    "---\n",
    "\n",
    "## DkNN Attack"
   ]
  },
  {
   "cell_type": "code",
   "execution_count": null,
   "metadata": {
    "scrolled": true
   },
   "outputs": [],
   "source": [
    "# Attack for cosine DkNN\n",
    "\n",
    "attack = DKNNAttack()\n",
    "\n",
    "def attack_batch(x, y, batch_size):\n",
    "    x_adv = torch.zeros_like(x)\n",
    "    total_num = x.size(0)\n",
    "    num_batches = total_num // batch_size\n",
    "    for i in range(num_batches):\n",
    "        begin = i * batch_size\n",
    "        end = (i + 1) * batch_size\n",
    "        x_adv[begin:end] = attack(\n",
    "            dknn, x[begin:end], y[begin:end],\n",
    "            guide_layer=layers[0], m=75, binary_search_steps=1,\n",
    "            max_iterations=500, learning_rate=1e-1, \n",
    "            initial_const=1e3, abort_early=True, max_linf=0.4)\n",
    "    return x_adv\n",
    "\n",
    "num = 10\n",
    "x_adv = attack_batch(x_test[:num].cuda(), y_test[:num], 10)"
   ]
  },
  {
   "cell_type": "code",
   "execution_count": 9,
   "metadata": {
    "scrolled": true
   },
   "outputs": [
    {
     "name": "stdout",
     "output_type": "stream",
     "text": [
      "    step: 0; loss: 14.295; l2dist: 0.000\n",
      "    step: 50; loss: 11.650; l2dist: 0.690\n",
      "    step: 100; loss: 11.627; l2dist: 0.682\n",
      "    step: 150; loss: 11.627; l2dist: 0.681\n",
      "tensor(3., device='cuda:0')\n",
      "binary step: 0; number of successful adv: 3/100\n",
      "    step: 0; loss: 139.504; l2dist: 0.000\n",
      "    step: 50; loss: 108.569; l2dist: 1.208\n",
      "    step: 100; loss: 107.942; l2dist: 1.006\n",
      "    step: 150; loss: 107.746; l2dist: 0.931\n",
      "    step: 200; loss: 107.695; l2dist: 0.911\n",
      "    step: 250; loss: 107.700; l2dist: 0.912\n",
      "tensor(2., device='cuda:0')\n",
      "binary step: 1; number of successful adv: 3/100\n",
      "    step: 0; loss: 1393.375; l2dist: 0.000\n",
      "    step: 50; loss: 1061.530; l2dist: 1.503\n",
      "    step: 100; loss: 1059.926; l2dist: 1.437\n",
      "    step: 150; loss: 1058.928; l2dist: 1.367\n",
      "    step: 200; loss: 1058.057; l2dist: 1.312\n",
      "    step: 250; loss: 1057.512; l2dist: 1.270\n",
      "    step: 300; loss: 1057.121; l2dist: 1.223\n",
      "    step: 350; loss: 1056.797; l2dist: 1.196\n",
      "    step: 400; loss: 1056.459; l2dist: 1.172\n",
      "    step: 450; loss: 1056.105; l2dist: 1.162\n",
      "tensor(2., device='cuda:0')\n",
      "binary step: 2; number of successful adv: 3/100\n",
      "    step: 0; loss: 13932.402; l2dist: 0.000\n",
      "    step: 50; loss: 10546.425; l2dist: 1.570\n",
      "    step: 100; loss: 10543.287; l2dist: 1.568\n",
      "    step: 150; loss: 10539.834; l2dist: 1.557\n",
      "    step: 200; loss: 10539.386; l2dist: 1.546\n",
      "tensor(1., device='cuda:0')\n",
      "binary step: 3; number of successful adv: 3/100\n",
      "    step: 0; loss: 139322.625; l2dist: 0.000\n",
      "    step: 50; loss: 100164.516; l2dist: 1.733\n",
      "    step: 100; loss: 100126.734; l2dist: 1.744\n",
      "    step: 150; loss: 100121.117; l2dist: 1.743\n",
      "tensor(3., device='cuda:0')\n",
      "binary step: 4; number of successful adv: 3/100\n",
      "    step: 0; loss: 1393224.750; l2dist: 0.000\n",
      "    step: 50; loss: 648935.125; l2dist: 3.257\n",
      "    step: 100; loss: 600717.188; l2dist: 3.449\n",
      "    step: 150; loss: 582642.938; l2dist: 3.500\n",
      "    step: 200; loss: 581385.188; l2dist: 3.511\n",
      "    step: 250; loss: 580525.938; l2dist: 3.519\n",
      "    step: 300; loss: 579734.312; l2dist: 3.523\n",
      "    step: 350; loss: 579614.438; l2dist: 3.523\n",
      "    step: 400; loss: 579610.938; l2dist: 3.526\n",
      "tensor(10., device='cuda:0')\n",
      "binary step: 5; number of successful adv: 11/100\n",
      "    step: 0; loss: 12427041.000; l2dist: 0.000\n",
      "    step: 50; loss: 5378094.000; l2dist: 4.493\n",
      "    step: 100; loss: 4193309.750; l2dist: 4.835\n",
      "    step: 150; loss: 3387148.750; l2dist: 4.983\n",
      "    step: 200; loss: 3051615.250; l2dist: 5.094\n",
      "    step: 250; loss: 2828493.000; l2dist: 5.151\n",
      "    step: 300; loss: 2723649.750; l2dist: 5.183\n",
      "    step: 350; loss: 2621870.750; l2dist: 5.209\n",
      "    step: 400; loss: 2546260.750; l2dist: 5.229\n",
      "    step: 450; loss: 2506973.500; l2dist: 5.244\n",
      "tensor(20., device='cuda:0')\n",
      "binary step: 6; number of successful adv: 22/100\n",
      "    step: 0; loss: 107341616.000; l2dist: 0.000\n",
      "    step: 50; loss: 45422224.000; l2dist: 4.916\n",
      "    step: 100; loss: 29071866.000; l2dist: 6.460\n",
      "    step: 150; loss: 22681324.000; l2dist: 7.243\n",
      "    step: 200; loss: 19841742.000; l2dist: 7.608\n",
      "    step: 250; loss: 18220812.000; l2dist: 7.752\n",
      "    step: 300; loss: 17045528.000; l2dist: 7.833\n",
      "    step: 350; loss: 16135319.000; l2dist: 7.841\n",
      "    step: 400; loss: 15726025.000; l2dist: 7.850\n",
      "    step: 450; loss: 15086156.000; l2dist: 7.840\n",
      "tensor(18., device='cuda:0')\n",
      "binary step: 7; number of successful adv: 29/100\n",
      "    step: 0; loss: 959677696.000; l2dist: 0.000\n",
      "    step: 50; loss: 395826912.000; l2dist: 4.937\n",
      "    step: 100; loss: 221604000.000; l2dist: 7.406\n",
      "    step: 150; loss: 179487808.000; l2dist: 8.276\n",
      "    step: 200; loss: 157772544.000; l2dist: 8.821\n",
      "    step: 250; loss: 146780736.000; l2dist: 9.139\n",
      "    step: 300; loss: 139372784.000; l2dist: 9.348\n",
      "    step: 350; loss: 132484472.000; l2dist: 9.485\n",
      "    step: 400; loss: 129066824.000; l2dist: 9.556\n",
      "    step: 450; loss: 125652136.000; l2dist: 9.612\n",
      "tensor(15., device='cuda:0')\n",
      "binary step: 8; number of successful adv: 29/100\n",
      "    step: 0; loss: 952691785728.000; l2dist: 0.000\n",
      "tensor(1., device='cuda:0')\n",
      "binary step: 9; number of successful adv: 29/100\n"
     ]
    }
   ],
   "source": [
    "# Attack for L2 DkNN\n",
    "\n",
    "attack = DKNNL2Attack()\n",
    "\n",
    "def attack_batch(x, y, batch_size):\n",
    "    x_adv = torch.zeros_like(x)\n",
    "    total_num = x.size(0)\n",
    "    num_batches = total_num // batch_size\n",
    "    for i in range(num_batches):\n",
    "        begin = i * batch_size\n",
    "        end = (i + 1) * batch_size\n",
    "        x_adv[begin:end] = attack(\n",
    "            dknn, x[begin:end], y[begin:end],\n",
    "            guide_layer=layers[0], m=1, binary_search_steps=10,\n",
    "            max_iterations=500, learning_rate=1e-1, guide=1,\n",
    "            initial_const=1e-1, abort_early=True, random_start=False)\n",
    "    return x_adv\n",
    "\n",
    "num = 100\n",
    "x_adv = attack_batch(x_test[:num].cuda(), y_test[:num], 100)"
   ]
  },
  {
   "cell_type": "code",
   "execution_count": 57,
   "metadata": {},
   "outputs": [
    {
     "data": {
      "text/plain": [
       "0.0"
      ]
     },
     "execution_count": 57,
     "metadata": {},
     "output_type": "execute_result"
    }
   ],
   "source": [
    "with torch.no_grad():\n",
    "    y_pred = dknn.classify(x_adv)\n",
    "    ind_adv = np.where(y_pred.argmax(1) != y_test[ind][:num].numpy())[0]\n",
    "    print((y_pred.argmax(1) == y_test[ind][:num].numpy()).sum() / y_pred.shape[0])"
   ]
  },
  {
   "cell_type": "code",
   "execution_count": 58,
   "metadata": {},
   "outputs": [
    {
     "data": {
      "text/plain": [
       "(array([  0.,   0.,   0.,   0.,   0., 100.,   0.,   0.,   0.,   0.]),\n",
       " array([0.5, 0.6, 0.7, 0.8, 0.9, 1. , 1.1, 1.2, 1.3, 1.4, 1.5]),\n",
       " <a list of 10 Patch objects>)"
      ]
     },
     "execution_count": 58,
     "metadata": {},
     "output_type": "execute_result"
    },
    {
     "data": {
      "image/png": "[encoded data removed]",
      "text/plain": [
       "<Figure size 432x288 with 1 Axes>"
      ]
     },
     "metadata": {
      "needs_background": "light"
     },
     "output_type": "display_data"
    }
   ],
   "source": [
    "cred = dknn.credibility(y_pred)\n",
    "plt.hist(cred)"
   ]
  },
  {
   "cell_type": "code",
   "execution_count": 59,
   "metadata": {
    "scrolled": true
   },
   "outputs": [
    {
     "data": {
      "image/png": "[encoded data removed]",
      "text/plain": [
       "<Figure size 432x288 with 1 Axes>"
      ]
     },
     "metadata": {
      "needs_background": "light"
     },
     "output_type": "display_data"
    },
    {
     "data": {
      "image/png": "[encoded data removed]",
      "text/plain": [
       "<Figure size 432x288 with 1 Axes>"
      ]
     },
     "metadata": {
      "needs_background": "light"
     },
     "output_type": "display_data"
    },
    {
     "data": {
      "image/png": "[encoded data removed]",
      "text/plain": [
       "<Figure size 432x288 with 1 Axes>"
      ]
     },
     "metadata": {
      "needs_background": "light"
     },
     "output_type": "display_data"
    },
    {
     "data": {
      "image/png": "[encoded data removed]",
      "text/plain": [
       "<Figure size 432x288 with 1 Axes>"
      ]
     },
     "metadata": {
      "needs_background": "light"
     },
     "output_type": "display_data"
    },
    {
     "data": {
      "image/png": "[encoded data removed]",
      "text/plain": [
       "<Figure size 432x288 with 1 Axes>"
      ]
     },
     "metadata": {
      "needs_background": "light"
     },
     "output_type": "display_data"
    }
   ],
   "source": [
    "for i in range(5):\n",
    "    plt.imshow(x_adv[i].cpu().detach().numpy().squeeze(), cmap='gray')\n",
    "    plt.show()"
   ]
  },
  {
   "cell_type": "code",
   "execution_count": null,
   "metadata": {},
   "outputs": [],
   "source": [
    "with torch.no_grad():\n",
    "    y_pred = dknn.classify(x_adv)\n",
    "    ind_adv = np.where(y_pred.argmax(1) != y_test[ind][:num].numpy())[0]\n",
    "    print((y_pred.argmax(1) == y_test[ind][:num].numpy()).sum() / y_pred.shape[0])"
   ]
  },
  {
   "cell_type": "code",
   "execution_count": null,
   "metadata": {},
   "outputs": [],
   "source": [
    "pert[ind_adv].mean()"
   ]
  },
  {
   "cell_type": "markdown",
   "metadata": {},
   "source": [
    "## CW L2 Attack\n",
    "\n",
    "without DkNN"
   ]
  },
  {
   "cell_type": "code",
   "execution_count": 37,
   "metadata": {
    "scrolled": true
   },
   "outputs": [
    {
     "name": "stdout",
     "output_type": "stream",
     "text": [
      "    step: 0; loss: 121.171; l2dist: 0.000\n",
      "    step: 50; loss: 14.259; l2dist: 3.370\n",
      "    step: 100; loss: 5.832; l2dist: 2.329\n",
      "    step: 150; loss: 3.891; l2dist: 1.881\n",
      "    step: 200; loss: 3.129; l2dist: 1.670\n",
      "    step: 250; loss: 2.757; l2dist: 1.566\n",
      "    step: 300; loss: 2.619; l2dist: 1.514\n",
      "    step: 350; loss: 2.490; l2dist: 1.482\n",
      "    step: 400; loss: 2.450; l2dist: 1.471\n",
      "    step: 450; loss: 2.461; l2dist: 1.470\n",
      "binary step: 0; number of successful adv: 95/100\n",
      "    step: 0; loss: 125.270; l2dist: 0.000\n",
      "    step: 50; loss: 12.968; l2dist: 3.178\n",
      "    step: 100; loss: 5.455; l2dist: 2.202\n",
      "    step: 150; loss: 3.782; l2dist: 1.809\n",
      "    step: 200; loss: 3.111; l2dist: 1.636\n",
      "    step: 250; loss: 2.797; l2dist: 1.551\n",
      "    step: 300; loss: 2.592; l2dist: 1.506\n",
      "    step: 350; loss: 2.498; l2dist: 1.478\n",
      "    step: 400; loss: 2.428; l2dist: 1.462\n",
      "    step: 450; loss: 2.420; l2dist: 1.455\n",
      "binary step: 1; number of successful adv: 100/100\n",
      "    step: 0; loss: 72.985; l2dist: 0.000\n",
      "    step: 50; loss: 10.247; l2dist: 2.800\n",
      "    step: 100; loss: 4.250; l2dist: 1.927\n",
      "    step: 150; loss: 3.077; l2dist: 1.633\n",
      "    step: 200; loss: 2.681; l2dist: 1.522\n",
      "    step: 250; loss: 2.485; l2dist: 1.473\n",
      "    step: 300; loss: 2.399; l2dist: 1.448\n",
      "    step: 350; loss: 2.341; l2dist: 1.431\n",
      "    step: 400; loss: 2.309; l2dist: 1.421\n",
      "    step: 450; loss: 2.277; l2dist: 1.413\n",
      "binary step: 2; number of successful adv: 100/100\n",
      "    step: 0; loss: 45.192; l2dist: 0.000\n",
      "    step: 50; loss: 8.512; l2dist: 2.497\n",
      "    step: 100; loss: 3.665; l2dist: 1.776\n",
      "    step: 150; loss: 2.762; l2dist: 1.542\n",
      "    step: 200; loss: 2.457; l2dist: 1.459\n",
      "    step: 250; loss: 2.334; l2dist: 1.423\n",
      "    step: 300; loss: 2.272; l2dist: 1.408\n",
      "    step: 350; loss: 2.240; l2dist: 1.399\n",
      "    step: 400; loss: 2.235; l2dist: 1.395\n",
      "    step: 450; loss: 2.205; l2dist: 1.389\n",
      "binary step: 3; number of successful adv: 100/100\n",
      "    step: 0; loss: 32.034; l2dist: 0.000\n",
      "    step: 50; loss: 7.476; l2dist: 2.254\n",
      "    step: 100; loss: 3.512; l2dist: 1.677\n",
      "    step: 150; loss: 2.660; l2dist: 1.483\n",
      "    step: 200; loss: 2.413; l2dist: 1.429\n",
      "    step: 250; loss: 2.307; l2dist: 1.394\n",
      "    step: 300; loss: 2.255; l2dist: 1.376\n",
      "    step: 350; loss: 2.234; l2dist: 1.376\n",
      "    step: 400; loss: 2.209; l2dist: 1.368\n",
      "    step: 450; loss: 2.204; l2dist: 1.368\n",
      "binary step: 4; number of successful adv: 100/100\n",
      "    step: 0; loss: 29.577; l2dist: 0.000\n",
      "    step: 50; loss: 7.251; l2dist: 2.210\n",
      "    step: 100; loss: 3.451; l2dist: 1.629\n",
      "    step: 150; loss: 2.625; l2dist: 1.454\n",
      "    step: 200; loss: 2.411; l2dist: 1.402\n",
      "    step: 250; loss: 2.306; l2dist: 1.383\n",
      "    step: 300; loss: 2.234; l2dist: 1.363\n",
      "    step: 350; loss: 2.209; l2dist: 1.360\n",
      "    step: 400; loss: 2.193; l2dist: 1.356\n",
      "    step: 450; loss: 2.187; l2dist: 1.354\n",
      "binary step: 5; number of successful adv: 100/100\n",
      "    step: 0; loss: 27.321; l2dist: 0.000\n",
      "    step: 50; loss: 7.119; l2dist: 2.178\n",
      "    step: 100; loss: 3.446; l2dist: 1.613\n",
      "    step: 150; loss: 2.634; l2dist: 1.450\n",
      "    step: 200; loss: 2.425; l2dist: 1.397\n",
      "    step: 250; loss: 2.317; l2dist: 1.374\n",
      "    step: 300; loss: 2.252; l2dist: 1.362\n",
      "    step: 350; loss: 2.239; l2dist: 1.360\n",
      "    step: 400; loss: 2.217; l2dist: 1.356\n",
      "    step: 450; loss: 2.220; l2dist: 1.358\n",
      "binary step: 6; number of successful adv: 100/100\n",
      "    step: 0; loss: 26.130; l2dist: 0.000\n",
      "    step: 50; loss: 7.067; l2dist: 2.160\n",
      "    step: 100; loss: 3.439; l2dist: 1.616\n",
      "    step: 150; loss: 2.632; l2dist: 1.448\n",
      "    step: 200; loss: 2.425; l2dist: 1.402\n",
      "    step: 250; loss: 2.310; l2dist: 1.380\n",
      "    step: 300; loss: 2.283; l2dist: 1.372\n",
      "    step: 350; loss: 2.232; l2dist: 1.362\n",
      "    step: 400; loss: 2.221; l2dist: 1.363\n",
      "    step: 450; loss: 2.215; l2dist: 1.358\n",
      "binary step: 7; number of successful adv: 100/100\n",
      "    step: 0; loss: 25.755; l2dist: 0.000\n",
      "    step: 50; loss: 7.051; l2dist: 2.156\n",
      "    step: 100; loss: 3.428; l2dist: 1.613\n",
      "    step: 150; loss: 2.624; l2dist: 1.449\n",
      "    step: 200; loss: 2.423; l2dist: 1.402\n",
      "    step: 250; loss: 2.315; l2dist: 1.378\n",
      "    step: 300; loss: 2.265; l2dist: 1.368\n",
      "    step: 350; loss: 2.246; l2dist: 1.363\n",
      "    step: 400; loss: 2.230; l2dist: 1.357\n",
      "    step: 450; loss: 2.204; l2dist: 1.355\n",
      "binary step: 8; number of successful adv: 100/100\n",
      "    step: 0; loss: 25.869; l2dist: 0.000\n",
      "    step: 50; loss: 7.078; l2dist: 2.163\n",
      "    step: 100; loss: 3.434; l2dist: 1.621\n",
      "    step: 150; loss: 2.635; l2dist: 1.459\n",
      "    step: 200; loss: 2.423; l2dist: 1.406\n",
      "    step: 250; loss: 2.327; l2dist: 1.383\n",
      "    step: 300; loss: 2.263; l2dist: 1.369\n",
      "    step: 350; loss: 2.233; l2dist: 1.363\n",
      "    step: 400; loss: 2.220; l2dist: 1.362\n",
      "    step: 450; loss: 2.215; l2dist: 1.362\n",
      "binary step: 9; number of successful adv: 100/100\n"
     ]
    }
   ],
   "source": [
    "attack = CWL2Attack()\n",
    "\n",
    "def attack_batch(x, y, batch_size):\n",
    "    x_adv = torch.zeros_like(x)\n",
    "    total_num = x.size(0)\n",
    "    num_batches = total_num // batch_size\n",
    "    for i in range(num_batches):\n",
    "        begin = i * batch_size\n",
    "        end = (i + 1) * batch_size\n",
    "        x_adv[begin:end] = attack(\n",
    "            net, x[begin:end], y[begin:end], targeted=False,\n",
    "            binary_search_steps=10, max_iterations=500,\n",
    "            confidence=0, learning_rate=1e-1,\n",
    "            initial_const=1e1, abort_early=True)\n",
    "    return x_adv\n",
    "\n",
    "x_adv = attack_batch(x_test[:100].cuda(), y_test[:100].cuda(), 100)"
   ]
  },
  {
   "cell_type": "code",
   "execution_count": 21,
   "metadata": {},
   "outputs": [
    {
     "data": {
      "text/plain": [
       "0.0"
      ]
     },
     "execution_count": 21,
     "metadata": {},
     "output_type": "execute_result"
    }
   ],
   "source": [
    "y_pred = net(x_adv)\n",
    "(y_pred.argmax(1).cpu() == y_test[:10000]).numpy().sum() / y_pred.size(0)"
   ]
  },
  {
   "cell_type": "code",
   "execution_count": null,
   "metadata": {},
   "outputs": [],
   "source": [
    "y_pred = dknn.classify(x_adv)\n",
    "(y_pred.argmax(1) == y_test[:10000].numpy()).sum() / len(y_pred)"
   ]
  },
  {
   "cell_type": "code",
   "execution_count": 90,
   "metadata": {},
   "outputs": [
    {
     "data": {
      "text/plain": [
       "(array([139.,  46.,  23.,  19.,   3.,   3.,   4.,   2.,   2.,   3.]),\n",
       " array([0.0165    , 0.08763333, 0.15876667, 0.2299    , 0.30103333,\n",
       "        0.37216667, 0.4433    , 0.51443333, 0.58556667, 0.6567    ,\n",
       "        0.72783333]),\n",
       " <a list of 10 Patch objects>)"
      ]
     },
     "execution_count": 90,
     "metadata": {},
     "output_type": "execute_result"
    },
    {
     "data": {
      "image/png": "[encoded data removed]",
      "text/plain": [
       "<Figure size 432x288 with 1 Axes>"
      ]
     },
     "metadata": {
      "needs_background": "light"
     },
     "output_type": "display_data"
    }
   ],
   "source": [
    "cred = dknn.credibility(y_pred)\n",
    "suc_ind = y_pred.argmax(1) != y_test[:10000].numpy()\n",
    "plt.hist(cred[suc_ind])"
   ]
  },
  {
   "cell_type": "code",
   "execution_count": 87,
   "metadata": {},
   "outputs": [
    {
     "data": {
      "text/plain": [
       "<matplotlib.image.AxesImage at 0x7f5e5ddbbac8>"
      ]
     },
     "execution_count": 87,
     "metadata": {},
     "output_type": "execute_result"
    },
    {
     "data": {
      "image/png": "[encoded data removed]",
      "text/plain": [
       "<Figure size 432x288 with 1 Axes>"
      ]
     },
     "metadata": {
      "needs_background": "light"
     },
     "output_type": "display_data"
    }
   ],
   "source": [
    "plt.imshow(x_adv[0].cpu().detach().numpy().squeeze(), cmap='gray')"
   ]
  },
  {
   "cell_type": "code",
   "execution_count": 28,
   "metadata": {},
   "outputs": [
    {
     "data": {
      "text/plain": [
       "tensor(1.3970, grad_fn=<MeanBackward1>)"
      ]
     },
     "execution_count": 28,
     "metadata": {},
     "output_type": "execute_result"
    }
   ],
   "source": [
    "(x_adv.cpu() - x_test[:10000]).view(10000, -1).norm(2, 1).mean()"
   ]
  },
  {
   "cell_type": "code",
   "execution_count": null,
   "metadata": {},
   "outputs": [],
   "source": []
  },
  {
   "cell_type": "code",
   "execution_count": null,
   "metadata": {},
   "outputs": [],
   "source": []
  },
  {
   "cell_type": "code",
   "execution_count": 19,
   "metadata": {},
   "outputs": [
    {
     "data": {
      "text/plain": [
       "tensor(2.7167, grad_fn=<MeanBackward1>)"
      ]
     },
     "execution_count": 19,
     "metadata": {},
     "output_type": "execute_result"
    }
   ],
   "source": [
    "(x_adv.cpu() - x_test[:100]).view(100, -1).norm(2, 1).mean()"
   ]
  },
  {
   "cell_type": "code",
   "execution_count": null,
   "metadata": {},
   "outputs": [],
   "source": [
    "x_adv = pickle.load(open('x_adv/x_adv_adv_cifar10_exp0.h5.p', 'rb'))\n",
    "# x_adv = pickle.load(open('x_adv/x_ba_cifar10_adv2_0.2_0.001.p', 'rb'))\n",
    "# x_adv = pickle.load(open('x_adv/x_adv_cifar10_resnet_exp2.h5.p', 'rb'))"
   ]
  },
  {
   "cell_type": "code",
   "execution_count": 38,
   "metadata": {},
   "outputs": [],
   "source": [
    "torchvision.utils.save_image(x_adv[:15], 'mnist_cw_basic.png', nrow=15, padding=0)"
   ]
  },
  {
   "cell_type": "code",
   "execution_count": 28,
   "metadata": {
    "collapsed": true,
    "jupyter": {
     "outputs_hidden": true
    }
   },
   "outputs": [
    {
     "data": {
      "image/png": "[encoded data removed]",
      "text/plain": [
       "<Figure size 432x288 with 1 Axes>"
      ]
     },
     "metadata": {
      "needs_background": "light"
     },
     "output_type": "display_data"
    },
    {
     "data": {
      "image/png": "[encoded data removed]",
      "text/plain": [
       "<Figure size 432x288 with 1 Axes>"
      ]
     },
     "metadata": {
      "needs_background": "light"
     },
     "output_type": "display_data"
    },
    {
     "data": {
      "image/png": "[encoded data removed]",
      "text/plain": [
       "<Figure size 432x288 with 1 Axes>"
      ]
     },
     "metadata": {
      "needs_background": "light"
     },
     "output_type": "display_data"
    },
    {
     "data": {
      "image/png": "[encoded data removed]",
      "text/plain": [
       "<Figure size 432x288 with 1 Axes>"
      ]
     },
     "metadata": {
      "needs_background": "light"
     },
     "output_type": "display_data"
    },
    {
     "data": {
      "image/png": "[encoded data removed]",
      "text/plain": [
       "<Figure size 432x288 with 1 Axes>"
      ]
     },
     "metadata": {
      "needs_background": "light"
     },
     "output_type": "display_data"
    },
    {
     "data": {
      "image/png": "[encoded data removed]",
      "text/plain": [
       "<Figure size 432x288 with 1 Axes>"
      ]
     },
     "metadata": {
      "needs_background": "light"
     },
     "output_type": "display_data"
    },
    {
     "data": {
      "image/png": "[encoded data removed]",
      "text/plain": [
       "<Figure size 432x288 with 1 Axes>"
      ]
     },
     "metadata": {
      "needs_background": "light"
     },
     "output_type": "display_data"
    },
    {
     "data": {
      "image/png": "[encoded data removed]",
      "text/plain": [
       "<Figure size 432x288 with 1 Axes>"
      ]
     },
     "metadata": {
      "needs_background": "light"
     },
     "output_type": "display_data"
    },
    {
     "data": {
      "image/png": "[encoded data removed]",
      "text/plain": [
       "<Figure size 432x288 with 1 Axes>"
      ]
     },
     "metadata": {
      "needs_background": "light"
     },
     "output_type": "display_data"
    },
    {
     "data": {
      "image/png": "[encoded data removed]",
      "text/plain": [
       "<Figure size 432x288 with 1 Axes>"
      ]
     },
     "metadata": {
      "needs_background": "light"
     },
     "output_type": "display_data"
    },
    {
     "data": {
      "image/png": "[encoded data removed]",
      "text/plain": [
       "<Figure size 432x288 with 1 Axes>"
      ]
     },
     "metadata": {
      "needs_background": "light"
     },
     "output_type": "display_data"
    },
    {
     "data": {
      "image/png": "[encoded data removed]",
      "text/plain": [
       "<Figure size 432x288 with 1 Axes>"
      ]
     },
     "metadata": {
      "needs_background": "light"
     },
     "output_type": "display_data"
    },
    {
     "data": {
      "image/png": "[encoded data removed]",
      "text/plain": [
       "<Figure size 432x288 with 1 Axes>"
      ]
     },
     "metadata": {
      "needs_background": "light"
     },
     "output_type": "display_data"
    },
    {
     "data": {
      "image/png": "[encoded data removed]",
      "text/plain": [
       "<Figure size 432x288 with 1 Axes>"
      ]
     },
     "metadata": {
      "needs_background": "light"
     },
     "output_type": "display_data"
    },
    {
     "data": {
      "image/png": "[encoded data removed]",
      "text/plain": [
       "<Figure size 432x288 with 1 Axes>"
      ]
     },
     "metadata": {
      "needs_background": "light"
     },
     "output_type": "display_data"
    },
    {
     "data": {
      "image/png": "[encoded data removed]",
      "text/plain": [
       "<Figure size 432x288 with 1 Axes>"
      ]
     },
     "metadata": {
      "needs_background": "light"
     },
     "output_type": "display_data"
    },
    {
     "data": {
      "image/png": "[encoded data removed]",
      "text/plain": [
       "<Figure size 432x288 with 1 Axes>"
      ]
     },
     "metadata": {
      "needs_background": "light"
     },
     "output_type": "display_data"
    },
    {
     "data": {
      "image/png": "[encoded data removed]",
      "text/plain": [
       "<Figure size 432x288 with 1 Axes>"
      ]
     },
     "metadata": {
      "needs_background": "light"
     },
     "output_type": "display_data"
    },
    {
     "data": {
      "image/png": "[encoded data removed]",
      "text/plain": [
       "<Figure size 432x288 with 1 Axes>"
      ]
     },
     "metadata": {
      "needs_background": "light"
     },
     "output_type": "display_data"
    },
    {
     "data": {
      "image/png": "[encoded data removed]",
      "text/plain": [
       "<Figure size 432x288 with 1 Axes>"
      ]
     },
     "metadata": {
      "needs_background": "light"
     },
     "output_type": "display_data"
    }
   ],
   "source": [
    "for i in range(20):\n",
    "    plt.imshow(x_adv[i].view(28, 28).cpu().detach().numpy())\n",
    "    plt.show()"
   ]
  },
  {
   "cell_type": "code",
   "execution_count": null,
   "metadata": {},
   "outputs": [],
   "source": []
  },
  {
   "cell_type": "code",
   "execution_count": null,
   "metadata": {},
   "outputs": [],
   "source": []
  },
  {
   "cell_type": "code",
   "execution_count": 4,
   "metadata": {},
   "outputs": [
    {
     "name": "stderr",
     "output_type": "stream",
     "text": [
      "Using TensorFlow backend.\n"
     ]
    }
   ],
   "source": [
    "# Subsamples dataset and reduces to two classes (1 and 7)\n",
    "# Code adapted from https://github.com/yangarbiter/adversarial-nonparametrics\n",
    "\n",
    "num_samples = 2200\n",
    "num_val = 300 # can pick anything > 0, does not really get used here\n",
    "\n",
    "from keras.datasets import mnist\n",
    "(X, y), (_, _) = mnist.load_data()\n",
    "np.random.seed(2019)\n",
    "idx1 = np.random.choice(\n",
    "    np.where(y == 1)[0], num_samples // 2, replace=False)\n",
    "idx2 = np.random.choice(\n",
    "    np.where(y == 7)[0], num_samples // 2, replace=False)\n",
    "y[idx1] = 0\n",
    "y[idx2] = 1\n",
    "X = np.vstack((X[idx1], X[idx2])).astype(np.float32) / 255.\n",
    "y = np.concatenate((y[idx1], y[idx2]))\n",
    "\n",
    "idxs = np.arange(num_samples)\n",
    "np.random.shuffle(idxs)\n",
    "x_train_sub = torch.tensor(X[idxs[:-200]])\n",
    "x_test_sub = torch.tensor(X[idxs[-200:]])\n",
    "y_train_sub = torch.tensor(y[idxs[:-200]])\n",
    "y_test_sub = torch.tensor(y[idxs[-200:]])"
   ]
  },
  {
   "cell_type": "code",
   "execution_count": 5,
   "metadata": {},
   "outputs": [],
   "source": [
    "net_knn = KNNModel()"
   ]
  },
  {
   "cell_type": "code",
   "execution_count": 6,
   "metadata": {},
   "outputs": [],
   "source": [
    "layers = ['identity']\n",
    "knn = DKNNL2(net_knn, x_train_sub, y_train_sub, \n",
    "             x_test_sub, y_test_sub, layers, \n",
    "             k=1, num_classes=2)"
   ]
  },
  {
   "cell_type": "code",
   "execution_count": 7,
   "metadata": {},
   "outputs": [
    {
     "name": "stdout",
     "output_type": "stream",
     "text": [
      "0.99\n"
     ]
    }
   ],
   "source": [
    "with torch.no_grad():\n",
    "    y_pred = knn.classify(x_test_sub)\n",
    "    ind = np.where(y_pred.argmax(1) == y_test_sub.numpy())[0]\n",
    "    print((y_pred.argmax(1) == y_test_sub.numpy()).sum() / y_test_sub.size(0))"
   ]
  },
  {
   "cell_type": "code",
   "execution_count": 56,
   "metadata": {
    "scrolled": true
   },
   "outputs": [
    {
     "name": "stdout",
     "output_type": "stream",
     "text": [
      "    step: 0; loss: 0.454; l2dist: 0.000\n",
      "tensor(2., device='cuda:0')\n",
      "    step: 100; loss: 0.451; l2dist: 0.053\n",
      "tensor(2., device='cuda:0')\n",
      "    step: 200; loss: 0.451; l2dist: 0.053\n",
      "tensor(2., device='cuda:0')\n",
      "    step: 300; loss: 0.451; l2dist: 0.053\n",
      "tensor(2., device='cuda:0')\n",
      "    step: 400; loss: 0.451; l2dist: 0.053\n",
      "tensor(2., device='cuda:0')\n",
      "    step: 500; loss: 0.451; l2dist: 0.053\n",
      "tensor(2., device='cuda:0')\n",
      "    step: 600; loss: 0.451; l2dist: 0.053\n",
      "tensor(2., device='cuda:0')\n",
      "    step: 700; loss: 0.451; l2dist: 0.053\n",
      "tensor(2., device='cuda:0')\n",
      "    step: 800; loss: 0.451; l2dist: 0.053\n",
      "tensor(2., device='cuda:0')\n",
      "    step: 900; loss: 0.451; l2dist: 0.053\n",
      "tensor(2., device='cuda:0')\n",
      "tensor(2., device='cuda:0')\n",
      "binary step: 0; number of successful adv: 2/200\n",
      "    step: 0; loss: 4.519; l2dist: 0.000\n",
      "tensor(2., device='cuda:0')\n",
      "    step: 100; loss: 4.229; l2dist: 0.483\n",
      "tensor(3., device='cuda:0')\n",
      "    step: 200; loss: 4.229; l2dist: 0.484\n",
      "tensor(3., device='cuda:0')\n",
      "    step: 300; loss: 4.124; l2dist: 0.577\n",
      "tensor(3., device='cuda:0')\n",
      "    step: 400; loss: 4.112; l2dist: 0.587\n",
      "tensor(3., device='cuda:0')\n",
      "    step: 500; loss: 4.110; l2dist: 0.589\n",
      "tensor(3., device='cuda:0')\n",
      "    step: 600; loss: 4.109; l2dist: 0.590\n",
      "tensor(3., device='cuda:0')\n",
      "    step: 700; loss: 4.109; l2dist: 0.590\n",
      "tensor(3., device='cuda:0')\n",
      "    step: 800; loss: 4.109; l2dist: 0.590\n",
      "tensor(3., device='cuda:0')\n",
      "    step: 900; loss: 4.108; l2dist: 0.590\n",
      "tensor(3., device='cuda:0')\n",
      "tensor(3., device='cuda:0')\n",
      "binary step: 1; number of successful adv: 3/200\n",
      "    step: 0; loss: 45.074; l2dist: 0.000\n",
      "tensor(2., device='cuda:0')\n",
      "    step: 100; loss: 23.548; l2dist: 3.334\n",
      "tensor(150., device='cuda:0')\n",
      "    step: 200; loss: 22.551; l2dist: 3.233\n",
      "tensor(143., device='cuda:0')\n",
      "    step: 300; loss: 22.542; l2dist: 3.233\n",
      "tensor(143., device='cuda:0')\n",
      "    step: 400; loss: 22.541; l2dist: 3.233\n",
      "tensor(143., device='cuda:0')\n",
      "    step: 500; loss: 22.540; l2dist: 3.233\n",
      "tensor(143., device='cuda:0')\n",
      "    step: 600; loss: 22.540; l2dist: 3.233\n",
      "tensor(143., device='cuda:0')\n",
      "    step: 700; loss: 22.540; l2dist: 3.233\n",
      "tensor(143., device='cuda:0')\n",
      "    step: 800; loss: 22.540; l2dist: 3.233\n",
      "tensor(143., device='cuda:0')\n",
      "    step: 900; loss: 22.540; l2dist: 3.233\n",
      "tensor(143., device='cuda:0')\n",
      "tensor(143., device='cuda:0')\n",
      "binary step: 2; number of successful adv: 159/200\n",
      "    step: 0; loss: 137.673; l2dist: 0.000\n",
      "tensor(2., device='cuda:0')\n",
      "    step: 100; loss: 24.829; l2dist: 3.064\n",
      "tensor(64., device='cuda:0')\n",
      "    step: 200; loss: 22.707; l2dist: 3.297\n",
      "tensor(83., device='cuda:0')\n",
      "    step: 300; loss: 22.623; l2dist: 3.282\n",
      "tensor(82., device='cuda:0')\n",
      "    step: 400; loss: 22.621; l2dist: 3.283\n",
      "tensor(82., device='cuda:0')\n",
      "    step: 500; loss: 22.621; l2dist: 3.283\n",
      "tensor(82., device='cuda:0')\n",
      "    step: 600; loss: 22.620; l2dist: 3.283\n",
      "tensor(82., device='cuda:0')\n",
      "    step: 700; loss: 22.620; l2dist: 3.283\n",
      "tensor(82., device='cuda:0')\n",
      "    step: 800; loss: 22.620; l2dist: 3.283\n",
      "tensor(82., device='cuda:0')\n",
      "    step: 900; loss: 22.620; l2dist: 3.283\n",
      "tensor(82., device='cuda:0')\n",
      "tensor(82., device='cuda:0')\n",
      "binary step: 3; number of successful adv: 200/200\n",
      "    step: 0; loss: 89.472; l2dist: 0.000\n",
      "tensor(2., device='cuda:0')\n",
      "    step: 100; loss: 25.279; l2dist: 3.561\n",
      "tensor(104., device='cuda:0')\n",
      "    step: 200; loss: 23.782; l2dist: 3.424\n",
      "tensor(106., device='cuda:0')\n",
      "    step: 300; loss: 23.770; l2dist: 3.423\n",
      "tensor(106., device='cuda:0')\n",
      "    step: 400; loss: 23.768; l2dist: 3.423\n",
      "tensor(106., device='cuda:0')\n",
      "    step: 500; loss: 23.768; l2dist: 3.423\n",
      "tensor(106., device='cuda:0')\n",
      "    step: 600; loss: 23.768; l2dist: 3.423\n",
      "tensor(106., device='cuda:0')\n",
      "    step: 700; loss: 23.768; l2dist: 3.423\n",
      "tensor(106., device='cuda:0')\n",
      "    step: 800; loss: 23.768; l2dist: 3.423\n",
      "tensor(106., device='cuda:0')\n",
      "    step: 900; loss: 23.768; l2dist: 3.423\n",
      "tensor(106., device='cuda:0')\n",
      "tensor(106., device='cuda:0')\n",
      "binary step: 4; number of successful adv: 200/200\n",
      "    step: 0; loss: 63.769; l2dist: 0.000\n",
      "tensor(2., device='cuda:0')\n",
      "    step: 100; loss: 24.480; l2dist: 3.374\n",
      "tensor(109., device='cuda:0')\n",
      "    step: 200; loss: 23.155; l2dist: 3.325\n",
      "tensor(119., device='cuda:0')\n",
      "    step: 300; loss: 23.144; l2dist: 3.327\n",
      "tensor(120., device='cuda:0')\n",
      "    step: 400; loss: 23.142; l2dist: 3.327\n",
      "tensor(120., device='cuda:0')\n",
      "    step: 500; loss: 23.142; l2dist: 3.327\n",
      "tensor(120., device='cuda:0')\n",
      "    step: 600; loss: 23.142; l2dist: 3.327\n",
      "tensor(120., device='cuda:0')\n",
      "    step: 700; loss: 23.142; l2dist: 3.327\n",
      "tensor(120., device='cuda:0')\n",
      "    step: 800; loss: 23.142; l2dist: 3.327\n",
      "tensor(120., device='cuda:0')\n",
      "    step: 900; loss: 23.142; l2dist: 3.327\n",
      "tensor(120., device='cuda:0')\n",
      "tensor(120., device='cuda:0')\n",
      "binary step: 5; number of successful adv: 200/200\n",
      "    step: 0; loss: 50.559; l2dist: 0.000\n",
      "tensor(2., device='cuda:0')\n",
      "    step: 100; loss: 23.481; l2dist: 3.178\n",
      "tensor(113., device='cuda:0')\n",
      "    step: 200; loss: 22.225; l2dist: 3.188\n",
      "tensor(119., device='cuda:0')\n",
      "    step: 300; loss: 22.214; l2dist: 3.188\n",
      "tensor(119., device='cuda:0')\n",
      "    step: 400; loss: 22.212; l2dist: 3.189\n",
      "tensor(120., device='cuda:0')\n",
      "    step: 500; loss: 22.212; l2dist: 3.189\n",
      "tensor(121., device='cuda:0')\n",
      "    step: 600; loss: 22.212; l2dist: 3.189\n",
      "tensor(121., device='cuda:0')\n",
      "    step: 700; loss: 22.212; l2dist: 3.189\n",
      "tensor(121., device='cuda:0')\n",
      "    step: 800; loss: 22.212; l2dist: 3.189\n",
      "tensor(121., device='cuda:0')\n",
      "    step: 900; loss: 22.212; l2dist: 3.189\n",
      "tensor(121., device='cuda:0')\n",
      "tensor(121., device='cuda:0')\n",
      "binary step: 6; number of successful adv: 200/200\n",
      "    step: 0; loss: 43.985; l2dist: 0.000\n",
      "tensor(2., device='cuda:0')\n",
      "    step: 100; loss: 22.621; l2dist: 3.044\n",
      "tensor(113., device='cuda:0')\n",
      "    step: 200; loss: 21.433; l2dist: 3.069\n",
      "tensor(129., device='cuda:0')\n",
      "    step: 300; loss: 21.422; l2dist: 3.069\n",
      "tensor(129., device='cuda:0')\n",
      "    step: 400; loss: 21.421; l2dist: 3.070\n",
      "tensor(129., device='cuda:0')\n",
      "    step: 500; loss: 21.420; l2dist: 3.070\n",
      "tensor(129., device='cuda:0')\n",
      "    step: 600; loss: 21.420; l2dist: 3.070\n",
      "tensor(129., device='cuda:0')\n",
      "    step: 700; loss: 21.420; l2dist: 3.070\n",
      "tensor(129., device='cuda:0')\n",
      "    step: 800; loss: 21.420; l2dist: 3.070\n",
      "tensor(130., device='cuda:0')\n",
      "    step: 900; loss: 21.420; l2dist: 3.070\n",
      "tensor(130., device='cuda:0')\n",
      "tensor(130., device='cuda:0')\n",
      "binary step: 7; number of successful adv: 200/200\n",
      "    step: 0; loss: 40.633; l2dist: 0.000\n",
      "tensor(2., device='cuda:0')\n",
      "    step: 100; loss: 22.046; l2dist: 2.970\n",
      "tensor(104., device='cuda:0')\n",
      "    step: 200; loss: 20.859; l2dist: 2.983\n",
      "tensor(139., device='cuda:0')\n",
      "    step: 300; loss: 20.846; l2dist: 2.983\n",
      "tensor(143., device='cuda:0')\n",
      "    step: 400; loss: 20.845; l2dist: 2.983\n",
      "tensor(143., device='cuda:0')\n",
      "    step: 500; loss: 20.845; l2dist: 2.984\n",
      "tensor(143., device='cuda:0')\n",
      "    step: 600; loss: 20.845; l2dist: 2.984\n",
      "tensor(143., device='cuda:0')\n",
      "    step: 700; loss: 20.845; l2dist: 2.984\n",
      "tensor(143., device='cuda:0')\n",
      "    step: 800; loss: 20.845; l2dist: 2.984\n",
      "tensor(143., device='cuda:0')\n",
      "    step: 900; loss: 20.845; l2dist: 2.984\n",
      "tensor(142., device='cuda:0')\n",
      "tensor(142., device='cuda:0')\n",
      "binary step: 8; number of successful adv: 200/200\n",
      "    step: 0; loss: 38.943; l2dist: 0.000\n",
      "tensor(2., device='cuda:0')\n",
      "    step: 100; loss: 21.720; l2dist: 2.931\n",
      "tensor(86., device='cuda:0')\n",
      "    step: 200; loss: 20.507; l2dist: 2.930\n",
      "tensor(105., device='cuda:0')\n",
      "    step: 300; loss: 20.493; l2dist: 2.931\n",
      "tensor(109., device='cuda:0')\n",
      "    step: 400; loss: 20.492; l2dist: 2.931\n",
      "tensor(111., device='cuda:0')\n",
      "    step: 500; loss: 20.492; l2dist: 2.931\n",
      "tensor(110., device='cuda:0')\n",
      "    step: 600; loss: 20.491; l2dist: 2.931\n",
      "tensor(110., device='cuda:0')\n",
      "    step: 700; loss: 20.491; l2dist: 2.931\n",
      "tensor(110., device='cuda:0')\n",
      "    step: 800; loss: 20.491; l2dist: 2.931\n",
      "tensor(110., device='cuda:0')\n",
      "    step: 900; loss: 20.491; l2dist: 2.931\n",
      "tensor(110., device='cuda:0')\n",
      "tensor(110., device='cuda:0')\n",
      "binary step: 9; number of successful adv: 200/200\n",
      "    step: 0; loss: 38.568; l2dist: 0.000\n",
      "tensor(2., device='cuda:0')\n",
      "    step: 100; loss: 21.648; l2dist: 2.925\n",
      "tensor(88., device='cuda:0')\n",
      "    step: 200; loss: 20.419; l2dist: 2.918\n",
      "tensor(96., device='cuda:0')\n",
      "    step: 300; loss: 20.406; l2dist: 2.918\n",
      "tensor(104., device='cuda:0')\n",
      "    step: 400; loss: 20.404; l2dist: 2.919\n",
      "tensor(111., device='cuda:0')\n",
      "    step: 500; loss: 20.404; l2dist: 2.919\n",
      "tensor(110., device='cuda:0')\n",
      "    step: 600; loss: 20.404; l2dist: 2.919\n",
      "tensor(110., device='cuda:0')\n",
      "    step: 700; loss: 20.404; l2dist: 2.919\n",
      "tensor(110., device='cuda:0')\n",
      "    step: 800; loss: 20.404; l2dist: 2.919\n",
      "tensor(110., device='cuda:0')\n",
      "    step: 900; loss: 20.404; l2dist: 2.919\n",
      "tensor(109., device='cuda:0')\n",
      "tensor(109., device='cuda:0')\n",
      "binary step: 10; number of successful adv: 200/200\n",
      "    step: 0; loss: 38.358; l2dist: 0.000\n",
      "tensor(2., device='cuda:0')\n",
      "    step: 100; loss: 21.613; l2dist: 2.921\n",
      "tensor(76., device='cuda:0')\n",
      "    step: 200; loss: 20.370; l2dist: 2.911\n",
      "tensor(98., device='cuda:0')\n",
      "    step: 300; loss: 20.357; l2dist: 2.911\n",
      "tensor(105., device='cuda:0')\n",
      "    step: 400; loss: 20.355; l2dist: 2.912\n",
      "tensor(110., device='cuda:0')\n",
      "    step: 500; loss: 20.355; l2dist: 2.912\n",
      "tensor(111., device='cuda:0')\n",
      "    step: 600; loss: 20.355; l2dist: 2.912\n",
      "tensor(106., device='cuda:0')\n",
      "    step: 700; loss: 20.355; l2dist: 2.912\n",
      "tensor(107., device='cuda:0')\n",
      "    step: 800; loss: 20.355; l2dist: 2.912\n",
      "tensor(107., device='cuda:0')\n",
      "    step: 900; loss: 20.355; l2dist: 2.912\n",
      "tensor(106., device='cuda:0')\n",
      "tensor(108., device='cuda:0')\n",
      "binary step: 11; number of successful adv: 200/200\n",
      "    step: 0; loss: 38.345; l2dist: 0.000\n",
      "tensor(2., device='cuda:0')\n",
      "    step: 100; loss: 21.610; l2dist: 2.921\n",
      "tensor(77., device='cuda:0')\n",
      "    step: 200; loss: 20.367; l2dist: 2.911\n",
      "tensor(92., device='cuda:0')\n",
      "    step: 300; loss: 20.353; l2dist: 2.911\n",
      "tensor(95., device='cuda:0')\n",
      "    step: 400; loss: 20.352; l2dist: 2.911\n",
      "tensor(96., device='cuda:0')\n",
      "    step: 500; loss: 20.352; l2dist: 2.911\n",
      "tensor(98., device='cuda:0')\n",
      "    step: 600; loss: 20.352; l2dist: 2.911\n",
      "tensor(98., device='cuda:0')\n",
      "    step: 700; loss: 20.352; l2dist: 2.911\n",
      "tensor(98., device='cuda:0')\n",
      "    step: 800; loss: 20.352; l2dist: 2.911\n",
      "tensor(97., device='cuda:0')\n",
      "    step: 900; loss: 20.352; l2dist: 2.911\n",
      "tensor(97., device='cuda:0')\n",
      "tensor(98., device='cuda:0')\n",
      "binary step: 12; number of successful adv: 200/200\n",
      "    step: 0; loss: 38.330; l2dist: 0.000\n",
      "tensor(2., device='cuda:0')\n",
      "    step: 100; loss: 21.607; l2dist: 2.920\n",
      "tensor(77., device='cuda:0')\n",
      "    step: 200; loss: 20.364; l2dist: 2.910\n",
      "tensor(93., device='cuda:0')\n",
      "    step: 300; loss: 20.351; l2dist: 2.910\n",
      "tensor(92., device='cuda:0')\n",
      "    step: 400; loss: 20.349; l2dist: 2.911\n",
      "tensor(107., device='cuda:0')\n",
      "    step: 500; loss: 20.349; l2dist: 2.911\n",
      "tensor(109., device='cuda:0')\n",
      "    step: 600; loss: 20.349; l2dist: 2.911\n",
      "tensor(109., device='cuda:0')\n",
      "    step: 700; loss: 20.349; l2dist: 2.911\n",
      "tensor(107., device='cuda:0')\n",
      "    step: 800; loss: 20.349; l2dist: 2.911\n",
      "tensor(109., device='cuda:0')\n",
      "    step: 900; loss: 20.349; l2dist: 2.911\n",
      "tensor(107., device='cuda:0')\n",
      "tensor(109., device='cuda:0')\n",
      "binary step: 13; number of successful adv: 200/200\n",
      "    step: 0; loss: 38.384; l2dist: 0.000\n",
      "tensor(2., device='cuda:0')\n",
      "    step: 100; loss: 21.618; l2dist: 2.922\n",
      "tensor(77., device='cuda:0')\n",
      "    step: 200; loss: 20.377; l2dist: 2.912\n",
      "tensor(117., device='cuda:0')\n",
      "    step: 300; loss: 20.364; l2dist: 2.912\n",
      "tensor(147., device='cuda:0')\n",
      "    step: 400; loss: 20.362; l2dist: 2.913\n",
      "tensor(180., device='cuda:0')\n",
      "    step: 500; loss: 20.362; l2dist: 2.913\n",
      "tensor(190., device='cuda:0')\n",
      "    step: 600; loss: 20.362; l2dist: 2.913\n",
      "tensor(196., device='cuda:0')\n",
      "    step: 700; loss: 20.362; l2dist: 2.913\n",
      "tensor(197., device='cuda:0')\n",
      "    step: 800; loss: 20.362; l2dist: 2.913\n",
      "tensor(199., device='cuda:0')\n",
      "    step: 900; loss: 20.362; l2dist: 2.913\n",
      "tensor(196., device='cuda:0')\n",
      "tensor(200., device='cuda:0')\n",
      "binary step: 14; number of successful adv: 200/200\n"
     ]
    }
   ],
   "source": [
    "# Attack for L2 DkNN\n",
    "\n",
    "# attack = DKNNL2Attack()\n",
    "# attack = DKNNLinfAttack()\n",
    "from lib.dknn_attack_exp import DKNNExpAttack\n",
    "attack = DKNNExpAttack()\n",
    "\n",
    "def attack_batch(x, y, batch_size):\n",
    "    x_adv = torch.zeros_like(x)\n",
    "    total_num = x.size(0)\n",
    "    num_batches = total_num // batch_size\n",
    "    for i in range(num_batches):\n",
    "        begin = i * batch_size\n",
    "        end = (i + 1) * batch_size\n",
    "        x_adv[begin:end] = attack(\n",
    "            knn, x[begin:end], y[begin:end],\n",
    "            guide_layer=layers[0], m=1, binary_search_steps=15,\n",
    "            max_iterations=1000, learning_rate=1e-1, guide_mode=1,\n",
    "            initial_const=1e-2, abort_early=True, random_start=False)\n",
    "    return x_adv\n",
    "\n",
    "num = 200\n",
    "x_adv = attack_batch(x_test_sub[:num].cuda(), y_test_sub[:num], 200)"
   ]
  },
  {
   "cell_type": "code",
   "execution_count": 57,
   "metadata": {},
   "outputs": [
    {
     "name": "stdout",
     "output_type": "stream",
     "text": [
      "0.0\n"
     ]
    }
   ],
   "source": [
    "with torch.no_grad():\n",
    "    y_pred = knn.classify(x_adv)\n",
    "    ind = np.where(y_pred.argmax(1) == y_test_sub[:num].numpy())[0]\n",
    "    print(len(ind) / x_adv.size(0))"
   ]
  },
  {
   "cell_type": "code",
   "execution_count": 57,
   "metadata": {
    "collapsed": true,
    "jupyter": {
     "outputs_hidden": true
    }
   },
   "outputs": [
    {
     "data": {
      "text/plain": [
       "[(array([[28.832077 , 35.470264 , 36.02511  , 37.656963 , 38.208473 ,\n",
       "          39.263206 , 39.646885 , 40.205055 , 41.575085 , 42.94713  ,\n",
       "          43.37243  , 43.766434 , 43.78415  , 43.83922  , 44.964108 ,\n",
       "          45.238632 , 45.84772  , 46.177193 , 46.570705 , 47.616356 ,\n",
       "          48.474632 , 48.639538 , 49.064854 , 49.434353 , 49.726173 ,\n",
       "          50.41435  , 50.961292 , 51.059917 , 51.543686 , 51.673344 ,\n",
       "          51.943703 , 52.586143 , 53.02256  , 53.0845   , 53.12081  ,\n",
       "          53.513096 , 53.889782 , 54.112198 , 54.16712  , 55.332428 ,\n",
       "          55.341377 , 55.519882 , 55.823795 , 56.449005 , 56.474342 ,\n",
       "          56.536583 , 56.65898  , 57.060356 , 57.667496 , 57.79631  ],\n",
       "         [ 2.9935718,  3.2781086,  3.3305187,  3.470542 ,  3.671557 ,\n",
       "           3.8215458,  4.0873203,  4.5895424,  4.626682 ,  4.6806917,\n",
       "           4.728166 ,  5.0415072,  5.0883045,  5.372903 ,  5.519185 ,\n",
       "           5.5237226,  5.802368 ,  6.084614 ,  6.2640057,  6.362353 ,\n",
       "           6.3632917,  6.382392 ,  6.387113 ,  6.6033993,  7.062314 ,\n",
       "           7.1004543,  7.166321 ,  7.282937 ,  7.3718576,  7.4765396,\n",
       "           7.6057215,  7.6354017,  7.646305 ,  7.666605 ,  7.849766 ,\n",
       "           7.8835373,  7.9759016,  8.164737 ,  8.32812  ,  8.466698 ,\n",
       "           8.613873 ,  8.614733 ,  8.619869 ,  8.6473055,  8.676586 ,\n",
       "           8.831711 ,  8.864145 ,  8.89504  ,  9.227114 ,  9.242476 ],\n",
       "         [22.809149 , 23.929304 , 27.2822   , 28.217438 , 28.913956 ,\n",
       "          29.79943  , 30.675785 , 31.152664 , 31.820667 , 31.987034 ,\n",
       "          32.151646 , 32.36192  , 32.72489  , 32.763474 , 32.961628 ,\n",
       "          33.57344  , 33.69544  , 33.73766  , 33.937748 , 33.96447  ,\n",
       "          34.856728 , 35.028717 , 35.573204 , 35.582973 , 35.748512 ,\n",
       "          35.8066   , 36.484383 , 36.564304 , 37.057007 , 37.267143 ,\n",
       "          37.380867 , 37.740868 , 37.961063 , 38.08026  , 38.313892 ,\n",
       "          38.414944 , 38.569008 , 39.152344 , 39.180206 , 39.19686  ,\n",
       "          39.212162 , 39.220715 , 39.338135 , 39.602917 , 39.93447  ,\n",
       "          40.13893  , 40.19403  , 40.28129  , 40.395996 , 40.52624  ],\n",
       "         [ 6.448243 ,  7.132657 ,  7.464852 ,  7.9296274,  7.934211 ,\n",
       "           8.089582 ,  8.293901 ,  9.389219 ,  9.646198 , 10.087291 ,\n",
       "          10.385514 , 10.750068 , 10.851057 , 11.117556 , 11.212842 ,\n",
       "          11.533027 , 11.645014 , 11.750496 , 12.063099 , 12.285107 ,\n",
       "          12.29581  , 12.338824 , 12.488598 , 12.788744 , 12.832097 ,\n",
       "          13.017408 , 13.038847 , 13.045122 , 13.241861 , 13.265177 ,\n",
       "          13.532626 , 14.362524 , 14.807291 , 15.386175 , 15.530442 ,\n",
       "          15.6438465, 15.665037 , 15.695656 , 15.808951 , 15.834802 ,\n",
       "          15.84137  , 15.969905 , 16.082598 , 16.25321  , 16.322475 ,\n",
       "          16.37235  , 16.387867 , 16.424976 , 16.439524 , 16.585867 ],\n",
       "         [17.376516 , 18.731089 , 19.329426 , 19.35051  , 21.055946 ,\n",
       "          21.155909 , 22.325672 , 23.265236 , 23.521324 , 23.675924 ,\n",
       "          24.766413 , 24.840033 , 24.984573 , 25.191093 , 25.54871  ,\n",
       "          25.68449  , 25.835384 , 26.119    , 26.431524 , 27.178991 ,\n",
       "          27.277203 , 27.734222 , 28.381424 , 28.420746 , 28.498009 ,\n",
       "          28.850304 , 28.853317 , 29.600464 , 29.955437 , 30.326887 ,\n",
       "          30.336996 , 30.337175 , 30.59014  , 30.73258  , 30.774626 ,\n",
       "          30.997215 , 31.064188 , 31.13707  , 31.384129 , 31.712328 ,\n",
       "          31.788004 , 31.832512 , 31.844105 , 32.045654 , 32.07675  ,\n",
       "          32.094902 , 32.197216 , 32.326797 , 32.448563 , 32.760094 ],\n",
       "         [15.213197 , 17.181068 , 18.101994 , 18.828743 , 20.816765 ,\n",
       "          20.905682 , 21.521801 , 21.577103 , 22.05275  , 22.233204 ,\n",
       "          22.400585 , 22.433693 , 23.512772 , 23.541344 , 23.68417  ,\n",
       "          23.701424 , 23.972672 , 24.564522 , 24.71251  , 24.723827 ,\n",
       "          24.738287 , 25.690857 , 25.753986 , 25.80103  , 26.064743 ,\n",
       "          26.068096 , 26.06976  , 26.109175 , 26.113848 , 26.22925  ,\n",
       "          26.308449 , 26.504608 , 26.520586 , 26.68286  , 26.761293 ,\n",
       "          27.14416  , 27.152601 , 27.524734 , 27.760984 , 27.878876 ,\n",
       "          27.908482 , 27.951988 , 27.971964 , 28.022789 , 28.112892 ,\n",
       "          28.14716  , 28.464993 , 28.633202 , 28.694717 , 28.743084 ],\n",
       "         [ 5.111111 ,  5.6718035,  5.921737 ,  6.0201464,  7.104468 ,\n",
       "           7.98293  ,  8.276094 ,  8.410412 ,  9.362399 ,  9.483153 ,\n",
       "           9.592358 ,  9.643876 ,  9.709497 ,  9.720554 ,  9.730997 ,\n",
       "           9.866114 ,  9.916695 ,  9.994848 , 10.019423 , 10.049351 ,\n",
       "          10.580484 , 10.623037 , 10.631019 , 10.663576 , 10.727905 ,\n",
       "          11.017762 , 11.133211 , 11.200277 , 11.374056 , 11.484353 ,\n",
       "          11.514971 , 11.535609 , 11.567612 , 11.611258 , 11.685721 ,\n",
       "          11.705744 , 11.739886 , 11.926628 , 12.033233 , 12.05401  ,\n",
       "          12.059423 , 12.073865 , 12.083738 , 12.143822 , 12.253672 ,\n",
       "          12.288705 , 12.50596  , 12.5360565, 12.696133 , 12.792742 ],\n",
       "         [47.92503  , 48.959015 , 49.079433 , 49.413174 , 53.30419  ,\n",
       "          53.332245 , 53.974255 , 54.523464 , 54.72957  , 54.86199  ,\n",
       "          55.73478  , 56.350006 , 56.61796  , 56.64321  , 56.889275 ,\n",
       "          56.93747  , 57.165398 , 57.570614 , 57.621716 , 57.64897  ,\n",
       "          57.91779  , 57.96455  , 57.97461  , 58.210304 , 58.25958  ,\n",
       "          58.440247 , 58.79622  , 59.020744 , 59.247807 , 59.380466 ,\n",
       "          59.597523 , 59.599342 , 59.69076  , 59.79572  , 59.87937  ,\n",
       "          60.026512 , 60.225082 , 60.260002 , 60.5457   , 60.626175 ,\n",
       "          60.75285  , 61.154114 , 61.19094  , 61.242798 , 61.63345  ,\n",
       "          61.740517 , 61.76284  , 61.8308   , 61.89235  , 62.10685  ],\n",
       "         [19.91514  , 25.985928 , 28.36915  , 32.733856 , 33.126873 ,\n",
       "          33.25579  , 37.9234   , 37.961308 , 38.183407 , 38.437225 ,\n",
       "          38.50931  , 38.757324 , 39.287598 , 39.44349  , 39.554108 ,\n",
       "          39.659176 , 40.03895  , 40.076508 , 40.114357 , 40.255165 ,\n",
       "          40.44038  , 40.627373 , 41.172073 , 41.175865 , 42.084347 ,\n",
       "          42.240665 , 42.422882 , 42.87503  , 43.97762  , 44.01418  ,\n",
       "          44.025864 , 44.11194  , 44.130047 , 44.303757 , 44.396103 ,\n",
       "          44.429054 , 44.59611  , 44.817177 , 44.853745 , 45.0766   ,\n",
       "          45.336643 , 45.38301  , 45.388237 , 45.480927 , 46.123707 ,\n",
       "          46.268707 , 46.340454 , 46.37232  , 46.60743  , 46.81138  ],\n",
       "         [19.958614 , 20.081585 , 20.793495 , 20.808872 , 21.196247 ,\n",
       "          22.615177 , 23.157032 , 23.400276 , 23.633005 , 23.663021 ,\n",
       "          24.052567 , 24.317398 , 25.757893 , 26.278433 , 26.337791 ,\n",
       "          26.999996 , 27.223454 , 27.290287 , 27.474844 , 27.968103 ,\n",
       "          27.989834 , 28.311232 , 28.721504 , 28.885843 , 29.009598 ,\n",
       "          29.64973  , 30.298805 , 30.35692  , 30.594921 , 30.931267 ,\n",
       "          30.934963 , 31.59043  , 31.98537  , 32.36953  , 32.400967 ,\n",
       "          32.59935  , 32.92143  , 33.108437 , 33.580482 , 33.639244 ,\n",
       "          33.98914  , 34.166504 , 34.270817 , 34.536285 , 34.63981  ,\n",
       "          35.15277  , 35.233036 , 35.402843 , 35.772842 , 36.595306 ]],\n",
       "        dtype=float32),\n",
       "  array([[1751, 1516,  650, 1494, 1364,  804,  395,  484,  655, 1037, 1788,\n",
       "          1175, 1711, 1619, 1987, 1833,  175,  557,  418, 1013,  410,  644,\n",
       "          1359, 1151,  589, 1646,  922,  456, 1944,   26, 1848,  896,   19,\n",
       "          1111, 1000, 1083,  697, 1935,   91, 1636, 1748, 1798,  513, 1391,\n",
       "          1697, 1746,  601, 1617,  108,   74],\n",
       "         [1926,  727, 1207,  831,  144, 1333,  959, 1145, 1916,  929, 1764,\n",
       "           406, 1572,  220,  288, 1816, 1177, 1101,  547,  165, 1462,  605,\n",
       "           378,  821,  565, 1062, 1473, 1773,   77, 1203,  835,  236, 1369,\n",
       "          1797, 1978, 1336,  665,   61,   49,  214,  808, 1296,  404, 1244,\n",
       "          1385,  567,  572, 1645, 1847, 1139],\n",
       "         [1931, 1836, 1269,   73,  362,  995, 1624,   98,  169, 1640,  162,\n",
       "          1754, 1629, 1444, 1774,  499,  916,  936, 1695, 1603, 1674, 1122,\n",
       "            97,  909, 1214, 1382, 1571, 1059,  223, 1478,  806, 1760, 1591,\n",
       "          1555, 1660, 1260, 1281, 1747,  754,  530,  289,  376,  187,  780,\n",
       "          1158, 1487, 1222,  344, 1010, 1610],\n",
       "         [ 619, 1881,  950, 1002, 1285, 1659, 1731, 1682, 1932, 1532, 1720,\n",
       "           563,  138, 1658,   71, 1520,  613, 1637, 1380, 1676, 1220,  371,\n",
       "          1182,  241, 1398, 1338,  651, 1314,  379,  859, 1616, 1968, 1270,\n",
       "           742, 1199,    5, 1267, 1102,  423, 1490,  137,  969,  991,  680,\n",
       "          1531, 1129, 1242, 1598,  735, 1325],\n",
       "         [1547, 1092,  218, 1752, 1938, 1004, 1549,  127,  312, 1021, 1357,\n",
       "            53, 1905,  653, 1913,  348,  486,  457, 1814, 1411, 1464,  199,\n",
       "          1627,  667,  668, 1217, 1468,  117, 1884,  156,   39, 1898, 1652,\n",
       "          1903, 1409,   90, 1890,  129, 1596,  675, 1433,  222,  544, 1866,\n",
       "          1909,  292, 1219,  809,  528, 1793],\n",
       "         [ 368,  601, 1573,  323,  468, 1052,  537, 1872,  277,  668, 1991,\n",
       "           926,  887,  518,  348, 1163,  117,   53, 1302, 1097,  431, 1696,\n",
       "            95,  309,  854,   63,  385,  127,  341, 1262,  723,  699, 1755,\n",
       "          1884,  457, 1620,  177,  648, 1818,  787, 1225, 1071, 1434,  544,\n",
       "           487, 1547, 1889,  190, 1003, 1358],\n",
       "         [1817, 1475,  346,  654, 1297, 1576, 1405,  310,  453,  258, 1312,\n",
       "          1632,  932, 1882, 1246,  790, 1726,  329,  244,  260,  426, 1243,\n",
       "          1706,  354,  524,  811, 1519,  209, 1113,  212,  903,  303,  367,\n",
       "          1744,  488,  753,  939,   38,  512, 1362, 1489, 1825, 1623, 1408,\n",
       "          1032, 1437,  905, 1667, 1244, 1524],\n",
       "         [ 825,  968,  803, 1045,   95,  350,  886,  801,  444, 1034,  854,\n",
       "          1239,  723,  207,  317,  543, 1694, 1679,  947, 1493, 1317, 1672,\n",
       "           964, 1617, 1302, 1595,  937,   39, 1998,  545, 1181,  158, 1809,\n",
       "           380, 1300, 1125,  799, 1470,  938,  422, 1375,  254, 1097, 1339,\n",
       "           225,  896, 1903,  105, 1004,  271],\n",
       "         [ 275, 1331, 1136, 1301, 1334,  419,  136,  402, 1757,  851, 1527,\n",
       "          1567, 1689,  176,  902,  566, 1091,  148,  985, 1386,  500, 1251,\n",
       "          1812, 1876,  987,   23,  933,  199, 1542,  364, 1999, 1426,  473,\n",
       "           217,  990,  594,  756,  843,   12, 1482,  873,  962,  415, 1474,\n",
       "           155,  580,  392, 1038,  455, 1979],\n",
       "         [ 840, 1802, 1770,  764,  357, 1545, 1372, 1612,  910, 1050, 1579,\n",
       "          1460,  313, 1230,   87, 1483,  114,  989, 1562,  118, 1288, 1985,\n",
       "           216,  414,  556,  521,  733, 1824, 1446, 1961,  807, 1785, 1653,\n",
       "          1870,  412, 1955, 1974,  179, 1227,  862,  299, 1976,  112,  578,\n",
       "           335,  194, 1614,   42,  180, 1026]]))]"
      ]
     },
     "execution_count": 57,
     "metadata": {},
     "output_type": "execute_result"
    }
   ],
   "source": [
    "# knn.get_neighbors(x_test_sub[:10], k=50)\n",
    "# for idx in knn.get_neighbors(x_test_sub[:10], k=50)[0][1]:\n",
    "#     print(y_train_sub[idx])"
   ]
  },
  {
   "cell_type": "code",
   "execution_count": 34,
   "metadata": {},
   "outputs": [
    {
     "data": {
      "text/plain": [
       "tensor([1, 0, 0], dtype=torch.uint8)"
      ]
     },
     "execution_count": 34,
     "metadata": {},
     "output_type": "execute_result"
    }
   ],
   "source": [
    "y_test_sub[:3]"
   ]
  },
  {
   "cell_type": "code",
   "execution_count": 37,
   "metadata": {},
   "outputs": [
    {
     "data": {
      "text/plain": [
       "tensor(0, dtype=torch.uint8)"
      ]
     },
     "execution_count": 37,
     "metadata": {},
     "output_type": "execute_result"
    }
   ],
   "source": [
    "y_train_sub[1931]"
   ]
  },
  {
   "cell_type": "code",
   "execution_count": 58,
   "metadata": {},
   "outputs": [
    {
     "data": {
      "image/png": "[encoded data removed]",
      "text/plain": [
       "<Figure size 432x288 with 1 Axes>"
      ]
     },
     "metadata": {
      "needs_background": "light"
     },
     "output_type": "display_data"
    },
    {
     "data": {
      "image/png": "[encoded data removed]",
      "text/plain": [
       "<Figure size 432x288 with 1 Axes>"
      ]
     },
     "metadata": {
      "needs_background": "light"
     },
     "output_type": "display_data"
    }
   ],
   "source": [
    "i = 8\n",
    "plt.imshow(x_adv.cpu().detach().numpy()[i], cmap='gray')\n",
    "plt.show()\n",
    "plt.imshow(x_test_sub.cpu().detach().numpy()[i], cmap='gray')\n",
    "plt.show()"
   ]
  },
  {
   "cell_type": "code",
   "execution_count": 58,
   "metadata": {},
   "outputs": [
    {
     "data": {
      "text/plain": [
       "tensor(2.9113, grad_fn=<MeanBackward0>)"
      ]
     },
     "execution_count": 58,
     "metadata": {},
     "output_type": "execute_result"
    }
   ],
   "source": [
    "(x_test_sub - x_adv.cpu()).view(num, -1).norm(2, 1).mean()"
   ]
  },
  {
   "cell_type": "code",
   "execution_count": 44,
   "metadata": {
    "collapsed": true,
    "jupyter": {
     "outputs_hidden": true
    }
   },
   "outputs": [
    {
     "data": {
      "text/plain": [
       "torch.return_types.min(\n",
       "values=tensor([-0.4831, -0.4931, -0.4981, -0.4964, -0.4972, -0.4926, -0.4997, -0.4477,\n",
       "        -0.4990, -0.4980, -0.4247, -0.4960, -0.4990, -0.4995, -0.4997, -0.4995,\n",
       "        -0.4964, -0.4994, -0.4999, -0.4997, -0.4971, -0.4974, -0.4231, -0.4872,\n",
       "        -0.4995, -0.4903, -0.5000, -0.4987, -0.4945, -0.4995, -0.4998, -0.4999,\n",
       "        -0.4984, -0.4952, -0.5000, -0.4998, -0.4983, -0.4993, -0.4940, -0.4998,\n",
       "        -0.4991, -0.4993, -0.4885, -0.4588, -0.4945, -0.4957, -0.4997, -0.4866,\n",
       "        -0.4411, -0.4933, -0.4999, -0.4949, -0.5000, -0.4998, -0.4995, -0.3135,\n",
       "        -0.4698, -0.4998, -0.5000, -0.4997, -0.4981, -0.4992, -0.4000, -0.4967,\n",
       "        -0.4991, -0.4999, -0.4980, -0.4997, -0.4710, -0.4937, -0.4997, -0.4975,\n",
       "        -0.4815, -0.4997, -0.4986, -0.4990, -0.4982, -0.4090, -0.4999, -0.4967,\n",
       "        -0.4668, -0.4962, -0.4983, -0.4996, -0.4919, -0.4906, -0.4990, -0.4984,\n",
       "        -0.4946, -0.4972, -0.4996, -0.4914, -0.4876, -0.4997, -0.4990, -0.4942,\n",
       "        -0.4982, -0.4999, -0.4978, -0.4985, -0.4988, -0.3804, -0.4939, -0.4961,\n",
       "        -0.5000, -0.4982, -0.4967, -0.4993, -0.4906, -0.4922, -0.4979, -0.4982,\n",
       "        -0.4431, -0.4999, -0.4974, -0.4815, -0.4883, -0.4995, -0.4736, -0.4999,\n",
       "        -0.4956, -0.4996, -0.4922, -0.5000, -0.4964, -0.4986, -0.4896, -0.4886,\n",
       "        -0.4993, -0.4994, -0.4966, -0.4852, -0.4995, -0.4995, -0.4980, -0.4922,\n",
       "        -0.4330, -0.4915, -0.4974, -0.4551, -0.4961, -0.4999, -0.4979, -0.4995,\n",
       "        -0.4988, -0.4960, -0.4998, -0.4969, -0.4992, -0.4985, -0.4607, -0.4831,\n",
       "        -0.4998, -0.3739, -0.4868, -0.4999, -0.4644, -0.4956, -0.4963, -0.4890,\n",
       "        -0.4996, -0.4898, -0.4982, -0.4979, -0.4980, -0.4997, -0.4948, -0.4829,\n",
       "        -0.4999, -0.3412, -0.5000, -0.4993, -0.4945, -0.4853, -0.4910, -0.4459,\n",
       "        -0.4933, -0.4951, -0.4499, -0.4881, -0.4767, -0.4995, -0.4996, -0.4006,\n",
       "        -0.4842, -0.4999, -0.4928, -0.4997, -0.5000, -0.4986, -0.4947, -0.4964,\n",
       "        -0.4912, -0.4985, -0.4996, -0.4034, -0.4996, -0.4997, -0.4982, -0.4920],\n",
       "       grad_fn=<MinBackward0>),\n",
       "indices=tensor([267, 352, 215, 212, 320, 239, 211, 546, 238, 625, 574, 713, 713, 462,\n",
       "        268, 202, 294, 269, 407, 268, 657, 209, 378, 211, 373, 654, 601, 352,\n",
       "        349, 211, 545, 182, 269, 435, 351, 239, 435, 516, 292, 208, 292, 628,\n",
       "        158, 295, 345, 518, 297, 600, 156, 294, 518, 462, 207, 297, 188, 213,\n",
       "        379, 323, 658, 380, 652, 232, 298, 462, 598, 685, 182, 352, 570, 435,\n",
       "        406, 487, 658, 462, 266, 184, 294, 375, 232, 183, 574, 241, 491, 434,\n",
       "        602, 435, 407, 234, 235, 211, 209, 686, 183, 490, 348, 684, 324, 407,\n",
       "        379, 243, 464, 628, 491, 185, 546, 713, 156, 324, 296, 243, 206, 606,\n",
       "        574, 269, 658, 156, 239, 212, 293, 155, 236, 262, 293, 457, 434, 324,\n",
       "        350, 435, 265, 434, 435, 155, 408, 352, 348, 213, 295, 571, 297, 243,\n",
       "        683, 295, 380, 206, 379, 655, 547, 684, 323, 462, 546, 687, 239, 185,\n",
       "        435, 490, 574, 629, 519, 655, 461, 153, 682, 435, 714, 686, 156, 490,\n",
       "        548, 679, 520, 518, 349, 433, 209, 156, 518, 680, 267, 323, 492, 210,\n",
       "        379, 518, 267, 464, 295, 462, 379, 435, 352, 407, 183, 211, 352, 574,\n",
       "        489, 241, 461, 518]))"
      ]
     },
     "execution_count": 44,
     "metadata": {},
     "output_type": "execute_result"
    }
   ],
   "source": [
    "(x_test_sub - x_adv.cpu()).view(num, -1).min(1)"
   ]
  },
  {
   "cell_type": "code",
   "execution_count": null,
   "metadata": {},
   "outputs": [],
   "source": []
  }
 ],
 "metadata": {
  "kernelspec": {
   "display_name": "Python 3",
   "language": "python",
   "name": "python3"
  },
  "language_info": {
   "codemirror_mode": {
    "name": "ipython",
    "version": 3
   },
   "file_extension": ".py",
   "mimetype": "text/x-python",
   "name": "python",
   "nbconvert_exporter": "python",
   "pygments_lexer": "ipython3",
   "version": "3.6.8"
  }
 },
 "nbformat": 4,
 "nbformat_minor": 4
}
