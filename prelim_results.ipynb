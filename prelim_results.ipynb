{
 "cells": [
  {
   "cell_type": "code",
   "execution_count": 1,
   "metadata": {},
   "outputs": [],
   "source": [
    "%matplotlib inline\n",
    "\n",
    "%load_ext autoreload\n",
    "%autoreload 2\n",
    "\n",
    "import logging\n",
    "import os\n",
    "import time\n",
    "\n",
    "import numpy as np\n",
    "import matplotlib.pyplot as plt\n",
    "import foolbox\n",
    "import torch\n",
    "import torch.backends.cudnn as cudnn\n",
    "import torch.nn as nn\n",
    "import torch.optim as optim\n",
    "\n",
    "from lib.dataset_utils import *\n",
    "from lib.mnist_model import *\n",
    "from lib.adv_model import *\n",
    "from lib.dknn_attack import DKNNAttack\n",
    "from lib.cwl2_attack import CWL2Attack\n",
    "from lib.dknn import DKNN, DKNNL2\n",
    "from lib.utils import *"
   ]
  },
  {
   "cell_type": "code",
   "execution_count": 2,
   "metadata": {},
   "outputs": [],
   "source": [
    "import os\n",
    "os.environ[\"CUDA_DEVICE_ORDER\"] = \"PCI_BUS_ID\"\n",
    "os.environ[\"CUDA_VISIBLE_DEVICES\"] = \"1\""
   ]
  },
  {
   "cell_type": "code",
   "execution_count": 17,
   "metadata": {},
   "outputs": [],
   "source": [
    "exp_id = 6\n",
    "\n",
    "# model_name = 'train_mnist_exp%d.h5' % exp_id\n",
    "# net = BasicModel()\n",
    "\n",
    "model_name = 'train_mnist_snnl_exp%d.h5' % exp_id\n",
    "net = SNNLModel(train_it=True)\n",
    "\n",
    "# model_name = 'train_mnist_hidden_mixup_exp%d.h5' % exp_id\n",
    "# net = HiddenMixupModel()\n",
    "\n",
    "# model_name = 'train_mnist_vae_exp%d.h5' % exp_id\n",
    "# net = VAE((1, 28, 28), num_classes=10, latent_dim=20)\n",
    "# net = VAE2((1, 28, 28), num_classes=10, latent_dim=1000)\n",
    "\n",
    "# model_name = 'train_mnist_cav_exp%d.h5' % exp_id\n",
    "# net = ClassAuxVAE((1, 28, 28), num_classes=10, latent_dim=20)\n",
    "\n",
    "# model_name = 'adv_mnist_exp%d.h5' % exp_id\n",
    "# # basic_net = BasicModel()\n",
    "# basic_net = BasicModelV2()\n",
    "# config = {'epsilon': 0.3,\n",
    "#               'num_steps': 40,\n",
    "#               'step_size': 0.01,\n",
    "#               'random_start': True,\n",
    "#               'loss_func': 'xent'}\n",
    "# net = PGDModel(basic_net, config)"
   ]
  },
  {
   "cell_type": "code",
   "execution_count": 18,
   "metadata": {},
   "outputs": [
    {
     "data": {
      "text/plain": [
       "SNNLModel(\n",
       "  (conv1): Conv2d(1, 64, kernel_size=(8, 8), stride=(2, 2), padding=(3, 3))\n",
       "  (relu1): ReLU(inplace)\n",
       "  (conv2): Conv2d(64, 128, kernel_size=(6, 6), stride=(2, 2), padding=(3, 3))\n",
       "  (relu2): ReLU(inplace)\n",
       "  (conv3): Conv2d(128, 128, kernel_size=(5, 5), stride=(1, 1))\n",
       "  (relu3): ReLU(inplace)\n",
       "  (fc): Linear(in_features=2048, out_features=10, bias=True)\n",
       ")"
      ]
     },
     "execution_count": 18,
     "metadata": {},
     "output_type": "execute_result"
    }
   ],
   "source": [
    "# Set all random seeds\n",
    "seed = 2019\n",
    "np.random.seed(seed)\n",
    "torch.manual_seed(seed)\n",
    "\n",
    "device = 'cuda' if torch.cuda.is_available() else 'cpu'\n",
    "\n",
    "# Set up model directory\n",
    "save_dir = os.path.join(os.getcwd(), 'saved_models')\n",
    "if not os.path.isdir(save_dir):\n",
    "    os.makedirs(save_dir)\n",
    "model_path = os.path.join(save_dir, model_name)\n",
    "\n",
    "net = net.to(device)\n",
    "# if device == 'cuda':\n",
    "#     net = torch.nn.DataParallel(net)\n",
    "#     cudnn.benchmark = True\n",
    "net.load_state_dict(torch.load(model_path))\n",
    "# net = net.module\n",
    "# net = net.basic_net\n",
    "net.eval()"
   ]
  },
  {
   "cell_type": "code",
   "execution_count": 5,
   "metadata": {},
   "outputs": [],
   "source": [
    "(x_train, y_train), (x_valid, y_valid), (x_test, y_test) = load_mnist_all(\n",
    "    '/data', val_size=0.1, seed=seed)"
   ]
  },
  {
   "cell_type": "code",
   "execution_count": 6,
   "metadata": {},
   "outputs": [],
   "source": [
    "y_pred = net(x_test.to(device))"
   ]
  },
  {
   "cell_type": "code",
   "execution_count": 7,
   "metadata": {},
   "outputs": [
    {
     "data": {
      "text/plain": [
       "0.9872"
      ]
     },
     "execution_count": 7,
     "metadata": {},
     "output_type": "execute_result"
    }
   ],
   "source": [
    "(y_pred.argmax(1).cpu() == y_test).sum().numpy() / y_test.size(0)"
   ]
  },
  {
   "cell_type": "code",
   "execution_count": 7,
   "metadata": {},
   "outputs": [],
   "source": [
    "# x_train = x_train.to(device)\n",
    "# x_test = x_test.to(device)\n",
    "# x_valid = x_valid.to(device)"
   ]
  },
  {
   "cell_type": "code",
   "execution_count": 19,
   "metadata": {
    "scrolled": true
   },
   "outputs": [],
   "source": [
    "# layers = ['relu1', 'relu2', 'relu3', 'fc']\n",
    "# layers = ['relu1', 'relu2', 'relu3']\n",
    "layers = ['relu3']\n",
    "# layers = ['fc2']\n",
    "# layers = ['en_conv3']\n",
    "# layers = ['en_mu']\n",
    "# layers = ['maxpool1', 'maxpool2', 'relu3', 'fc2']\n",
    "# layers = ['maxpool2']\n",
    "\n",
    "# with torch.no_grad():\n",
    "#     dknn = DKNN(net, x_train, y_train, x_valid, y_valid, layers, \n",
    "#                 k=75, num_classes=10)\n",
    "#     y_pred = dknn.classify(x_test)\n",
    "    \n",
    "with torch.no_grad():\n",
    "    dknn = DKNNL2(net, x_train, y_train, x_valid, y_valid, layers, \n",
    "                  k=75, num_classes=10)\n",
    "    y_pred = dknn.classify(x_test)"
   ]
  },
  {
   "cell_type": "code",
   "execution_count": 20,
   "metadata": {},
   "outputs": [
    {
     "data": {
      "text/plain": [
       "0.9935"
      ]
     },
     "execution_count": 20,
     "metadata": {},
     "output_type": "execute_result"
    }
   ],
   "source": [
    "(y_pred.argmax(1) == y_test.numpy()).sum() / y_test.size(0)"
   ]
  },
  {
   "cell_type": "code",
   "execution_count": 8,
   "metadata": {},
   "outputs": [],
   "source": [
    "cred = dknn.credibility(y_pred)"
   ]
  },
  {
   "cell_type": "code",
   "execution_count": 9,
   "metadata": {},
   "outputs": [
    {
     "data": {
      "text/plain": [
       "(array([ 954.,    0.,    0.,    0.,    0.,    0.,    0.,    0.,    0.,\n",
       "        9046.]),\n",
       " array([0.00733333, 0.1066    , 0.20586667, 0.30513333, 0.4044    ,\n",
       "        0.50366667, 0.60293333, 0.7022    , 0.80146667, 0.90073333,\n",
       "        1.        ]),\n",
       " <a list of 10 Patch objects>)"
      ]
     },
     "execution_count": 9,
     "metadata": {},
     "output_type": "execute_result"
    },
    {
     "data": {
      "image/png": "[encoded data removed]",
      "text/plain": [
       "<Figure size 432x288 with 1 Axes>"
      ]
     },
     "metadata": {
      "needs_background": "light"
     },
     "output_type": "display_data"
    }
   ],
   "source": [
    "plt.hist(cred)"
   ]
  },
  {
   "cell_type": "code",
   "execution_count": 10,
   "metadata": {},
   "outputs": [],
   "source": [
    "correct = np.argmax(y_pred, 1) == y_test.numpy()\n",
    "num_correct_by_cred = np.zeros((10, ))\n",
    "num_cred = np.zeros((10, ))\n",
    "for i in np.arange(10):\n",
    "    ind = (cred > i * 0.1) & (cred <= i* 0.1 + 0.1)\n",
    "    num_cred[i] = np.sum(ind)\n",
    "    num_correct_by_cred[i] = np.sum(correct[ind])"
   ]
  },
  {
   "cell_type": "code",
   "execution_count": 11,
   "metadata": {},
   "outputs": [
    {
     "data": {
      "text/plain": [
       "<BarContainer object of 10 artists>"
      ]
     },
     "execution_count": 11,
     "metadata": {},
     "output_type": "execute_result"
    },
    {
     "data": {
      "image/png": "[encoded data removed]",
      "text/plain": [
       "<Figure size 432x288 with 1 Axes>"
      ]
     },
     "metadata": {
      "needs_background": "light"
     },
     "output_type": "display_data"
    }
   ],
   "source": [
    "fig = plt.figure()\n",
    "ax = fig.add_subplot(111)\n",
    "ax.bar(np.arange(10) * 0.1, num_cred, width=0.05)\n",
    "ax.bar(np.arange(10) * 0.1 + 0.05, num_correct_by_cred, width=0.05)"
   ]
  },
  {
   "cell_type": "code",
   "execution_count": 58,
   "metadata": {},
   "outputs": [
    {
     "name": "stderr",
     "output_type": "stream",
     "text": [
      "/home/user/miniconda/envs/py36/lib/python3.6/site-packages/ipykernel_launcher.py:1: RuntimeWarning: invalid value encountered in true_divide\n",
      "  \"\"\"Entry point for launching an IPython kernel.\n"
     ]
    },
    {
     "data": {
      "text/plain": [
       "array([0.66749689, 0.94009662, 0.97647059, 0.99640546,        nan,\n",
       "              nan,        nan,        nan,        nan, 0.99950747])"
      ]
     },
     "execution_count": 58,
     "metadata": {},
     "output_type": "execute_result"
    }
   ],
   "source": [
    "num_correct_by_cred / num_cred"
   ]
  },
  {
   "cell_type": "code",
   "execution_count": 45,
   "metadata": {},
   "outputs": [
    {
     "data": {
      "text/plain": [
       "0.17333333333333334"
      ]
     },
     "execution_count": 45,
     "metadata": {},
     "output_type": "execute_result"
    }
   ],
   "source": [
    "dknn.A.mean()"
   ]
  },
  {
   "cell_type": "code",
   "execution_count": 154,
   "metadata": {},
   "outputs": [],
   "source": [
    "nn = dknn.get_neighbors(x_valid)"
   ]
  },
  {
   "cell_type": "code",
   "execution_count": 15,
   "metadata": {},
   "outputs": [
    {
     "name": "stdout",
     "output_type": "stream",
     "text": [
      "0.72602546\n",
      "0.6874378\n",
      "0.7105881\n",
      "0.94844836\n"
     ]
    }
   ],
   "source": [
    "for (D, I) in nn:\n",
    "    print(D[-1].mean())"
   ]
  },
  {
   "cell_type": "markdown",
   "metadata": {},
   "source": [
    "## PGD Attack"
   ]
  },
  {
   "cell_type": "code",
   "execution_count": 17,
   "metadata": {},
   "outputs": [],
   "source": [
    "x_test_np = x_test.cpu().numpy()\n",
    "y_test_np = y_test.numpy()"
   ]
  },
  {
   "cell_type": "code",
   "execution_count": 18,
   "metadata": {},
   "outputs": [],
   "source": [
    "model = foolbox.models.PyTorchModel(net, bounds=(0, 1), num_classes=10)"
   ]
  },
  {
   "cell_type": "code",
   "execution_count": null,
   "metadata": {
    "scrolled": true
   },
   "outputs": [],
   "source": [
    "criterion = foolbox.criteria.Misclassification()\n",
    "distance = foolbox.distances.Linfinity\n",
    "\n",
    "attack = foolbox.attacks.RandomPGD(\n",
    "    model, criterion=criterion, distance=distance)\n",
    "\n",
    "def attack_wrap(x, y):\n",
    "    return attack(x, y, binary_search=False, epsilon=0.3, \n",
    "                  stepsize=0.01, iterations=300, \n",
    "                  random_start=True, return_early=True)\n",
    "\n",
    "x_adv = np.zeros_like(x_test_np)\n",
    "for i, (x, y) in enumerate(zip(x_test_np, y_test_np)):\n",
    "    x_adv[i] = attack_wrap(x, y)"
   ]
  },
  {
   "cell_type": "code",
   "execution_count": null,
   "metadata": {
    "scrolled": false
   },
   "outputs": [],
   "source": [
    "with torch.no_grad():\n",
    "    x_adv = torch.tensor(x_adv).to(device)\n",
    "    y_pred = net(x_adv).detach().cpu().numpy()\n",
    "np.mean(np.argmax(y_pred, 1) == y_test)"
   ]
  },
  {
   "cell_type": "code",
   "execution_count": 29,
   "metadata": {
    "scrolled": true
   },
   "outputs": [
    {
     "name": "stdout",
     "output_type": "stream",
     "text": [
      "number of successful adv: 820/10000\n"
     ]
    }
   ],
   "source": [
    "from lib.pgd_attack import PGDAttack\n",
    "\n",
    "attack = PGDAttack()\n",
    "x_adv = attack(net, x_test.cuda(), y_test.to(device),\n",
    "               targeted=False, epsilon=0.01, max_epsilon=0.3,\n",
    "               max_iterations=300, num_restart=10, rand_start=True)"
   ]
  },
  {
   "cell_type": "code",
   "execution_count": 30,
   "metadata": {},
   "outputs": [
    {
     "data": {
      "text/plain": [
       "9180"
      ]
     },
     "execution_count": 30,
     "metadata": {},
     "output_type": "execute_result"
    }
   ],
   "source": [
    "y_pred = net(x_adv)\n",
    "(y_pred.argmax(1).cpu() == y_test).sum().item()"
   ]
  },
  {
   "cell_type": "code",
   "execution_count": 31,
   "metadata": {
    "scrolled": true
   },
   "outputs": [
    {
     "ename": "NameError",
     "evalue": "name 'dknn' is not defined",
     "output_type": "error",
     "traceback": [
      "\u001b[0;31m---------------------------------------------------------------------------\u001b[0m",
      "\u001b[0;31mNameError\u001b[0m                                 Traceback (most recent call last)",
      "\u001b[0;32m<ipython-input-31-5736a610097b>\u001b[0m in \u001b[0;36m<module>\u001b[0;34m\u001b[0m\n\u001b[0;32m----> 1\u001b[0;31m \u001b[0my_pred\u001b[0m \u001b[0;34m=\u001b[0m \u001b[0mdknn\u001b[0m\u001b[0;34m.\u001b[0m\u001b[0mclassify\u001b[0m\u001b[0;34m(\u001b[0m\u001b[0mx_adv\u001b[0m\u001b[0;34m.\u001b[0m\u001b[0mcpu\u001b[0m\u001b[0;34m(\u001b[0m\u001b[0;34m)\u001b[0m\u001b[0;34m)\u001b[0m\u001b[0;34m\u001b[0m\u001b[0m\n\u001b[0m\u001b[1;32m      2\u001b[0m \u001b[0;34m(\u001b[0m\u001b[0my_pred\u001b[0m\u001b[0;34m.\u001b[0m\u001b[0margmax\u001b[0m\u001b[0;34m(\u001b[0m\u001b[0;36m1\u001b[0m\u001b[0;34m)\u001b[0m \u001b[0;34m==\u001b[0m \u001b[0my_test\u001b[0m\u001b[0;34m.\u001b[0m\u001b[0mnumpy\u001b[0m\u001b[0;34m(\u001b[0m\u001b[0;34m)\u001b[0m\u001b[0;34m)\u001b[0m\u001b[0;34m.\u001b[0m\u001b[0msum\u001b[0m\u001b[0;34m(\u001b[0m\u001b[0;34m)\u001b[0m\u001b[0;34m\u001b[0m\u001b[0m\n",
      "\u001b[0;31mNameError\u001b[0m: name 'dknn' is not defined"
     ]
    }
   ],
   "source": [
    "y_pred = dknn.classify(x_adv.cpu())\n",
    "(y_pred.argmax(1) == y_test.numpy()).sum()"
   ]
  },
  {
   "cell_type": "code",
   "execution_count": null,
   "metadata": {},
   "outputs": [],
   "source": []
  },
  {
   "cell_type": "code",
   "execution_count": 55,
   "metadata": {},
   "outputs": [
    {
     "data": {
      "text/plain": [
       "(array([9.63e+03, 2.96e+02, 5.70e+01, 7.00e+00, 5.00e+00, 1.00e+00,\n",
       "        0.00e+00, 0.00e+00, 0.00e+00, 4.00e+00]),\n",
       " array([0.00383333, 0.10345   , 0.20306667, 0.30268333, 0.4023    ,\n",
       "        0.50191667, 0.60153333, 0.70115   , 0.80076667, 0.90038333,\n",
       "        1.        ]),\n",
       " <a list of 10 Patch objects>)"
      ]
     },
     "execution_count": 55,
     "metadata": {},
     "output_type": "execute_result"
    },
    {
     "data": {
      "image/png": "[encoded data removed]",
      "text/plain": [
       "<Figure size 432x288 with 1 Axes>"
      ]
     },
     "metadata": {
      "needs_background": "light"
     },
     "output_type": "display_data"
    }
   ],
   "source": [
    "cred = dknn.credibility(y_pred)\n",
    "plt.hist(cred)"
   ]
  },
  {
   "cell_type": "code",
   "execution_count": 11,
   "metadata": {},
   "outputs": [
    {
     "data": {
      "text/plain": [
       "0.9091"
      ]
     },
     "execution_count": 11,
     "metadata": {},
     "output_type": "execute_result"
    }
   ],
   "source": [
    "np.mean(y_pred == y_test)"
   ]
  },
  {
   "cell_type": "markdown",
   "metadata": {},
   "source": [
    "## DkNN Attack"
   ]
  },
  {
   "cell_type": "code",
   "execution_count": 21,
   "metadata": {
    "scrolled": true
   },
   "outputs": [
    {
     "name": "stdout",
     "output_type": "stream",
     "text": [
      "    step: 0; loss: 104.801; l2dist: 0.000\n",
      "    step: 50; loss: 87.044; l2dist: 1.345\n",
      "    step: 100; loss: 75.761; l2dist: 2.201\n",
      "    step: 150; loss: 67.985; l2dist: 2.782\n",
      "    step: 200; loss: 65.020; l2dist: 3.011\n",
      "    step: 250; loss: 63.843; l2dist: 3.052\n",
      "    step: 300; loss: 59.407; l2dist: 2.985\n",
      "    step: 350; loss: 54.431; l2dist: 2.774\n",
      "    step: 400; loss: 52.555; l2dist: 2.665\n",
      "    step: 450; loss: 51.812; l2dist: 2.609\n",
      "tensor(96., device='cuda:0')\n",
      "binary step: 0; number of successful adv: 96/100\n",
      "    step: 0; loss: 97.195; l2dist: 0.000\n",
      "    step: 50; loss: 83.103; l2dist: 1.243\n",
      "    step: 100; loss: 73.295; l2dist: 1.903\n",
      "    step: 150; loss: 64.999; l2dist: 2.332\n",
      "    step: 200; loss: 61.220; l2dist: 2.482\n",
      "    step: 250; loss: 58.997; l2dist: 2.526\n",
      "    step: 300; loss: 55.785; l2dist: 2.519\n",
      "    step: 350; loss: 51.418; l2dist: 2.385\n",
      "    step: 400; loss: 48.985; l2dist: 2.270\n",
      "    step: 450; loss: 47.890; l2dist: 2.226\n",
      "tensor(87., device='cuda:0')\n",
      "binary step: 1; number of successful adv: 100/100\n",
      "    step: 0; loss: 57.845; l2dist: 0.000\n",
      "    step: 50; loss: 50.310; l2dist: 1.101\n",
      "    step: 100; loss: 45.419; l2dist: 1.580\n",
      "    step: 150; loss: 41.239; l2dist: 1.906\n",
      "    step: 200; loss: 39.431; l2dist: 2.014\n",
      "    step: 250; loss: 38.339; l2dist: 2.052\n",
      "    step: 300; loss: 36.590; l2dist: 2.056\n",
      "    step: 350; loss: 34.051; l2dist: 2.022\n",
      "    step: 400; loss: 32.001; l2dist: 1.954\n",
      "    step: 450; loss: 31.087; l2dist: 1.901\n",
      "tensor(68., device='cuda:0')\n",
      "binary step: 2; number of successful adv: 100/100\n",
      "    step: 0; loss: 43.237; l2dist: 0.000\n",
      "    step: 50; loss: 37.848; l2dist: 1.006\n",
      "    step: 100; loss: 34.630; l2dist: 1.413\n",
      "    step: 150; loss: 31.983; l2dist: 1.703\n",
      "    step: 200; loss: 30.930; l2dist: 1.795\n",
      "    step: 250; loss: 30.313; l2dist: 1.824\n",
      "    step: 300; loss: 29.145; l2dist: 1.830\n",
      "    step: 350; loss: 27.213; l2dist: 1.802\n",
      "    step: 400; loss: 25.755; l2dist: 1.765\n",
      "    step: 450; loss: 24.875; l2dist: 1.760\n",
      "tensor(44., device='cuda:0')\n",
      "binary step: 3; number of successful adv: 100/100\n",
      "    step: 0; loss: 39.243; l2dist: 0.000\n",
      "    step: 50; loss: 34.383; l2dist: 1.026\n",
      "    step: 100; loss: 31.673; l2dist: 1.450\n",
      "    step: 150; loss: 29.550; l2dist: 1.750\n",
      "    step: 200; loss: 28.804; l2dist: 1.845\n",
      "    step: 250; loss: 28.408; l2dist: 1.872\n",
      "    step: 300; loss: 27.521; l2dist: 1.878\n",
      "    step: 350; loss: 25.489; l2dist: 1.847\n",
      "    step: 400; loss: 23.914; l2dist: 1.799\n",
      "    step: 450; loss: 23.166; l2dist: 1.768\n",
      "tensor(57., device='cuda:0')\n",
      "binary step: 4; number of successful adv: 100/100\n",
      "    step: 0; loss: 36.186; l2dist: 0.000\n",
      "    step: 50; loss: 31.772; l2dist: 1.032\n",
      "    step: 100; loss: 29.425; l2dist: 1.452\n",
      "    step: 150; loss: 27.651; l2dist: 1.752\n",
      "    step: 200; loss: 27.061; l2dist: 1.839\n",
      "    step: 250; loss: 26.809; l2dist: 1.865\n",
      "    step: 300; loss: 26.064; l2dist: 1.870\n",
      "    step: 350; loss: 24.107; l2dist: 1.839\n",
      "    step: 400; loss: 22.564; l2dist: 1.800\n",
      "    step: 450; loss: 21.850; l2dist: 1.758\n",
      "tensor(56., device='cuda:0')\n",
      "binary step: 5; number of successful adv: 100/100\n",
      "    step: 0; loss: 35.987; l2dist: 0.000\n",
      "    step: 50; loss: 31.612; l2dist: 1.026\n",
      "    step: 100; loss: 29.274; l2dist: 1.442\n",
      "    step: 150; loss: 27.519; l2dist: 1.741\n",
      "    step: 200; loss: 26.926; l2dist: 1.824\n",
      "    step: 250; loss: 26.665; l2dist: 1.850\n",
      "    step: 300; loss: 25.936; l2dist: 1.856\n",
      "    step: 350; loss: 23.984; l2dist: 1.828\n",
      "    step: 400; loss: 22.494; l2dist: 1.787\n",
      "    step: 450; loss: 21.771; l2dist: 1.753\n",
      "tensor(47., device='cuda:0')\n",
      "binary step: 6; number of successful adv: 100/100\n",
      "    step: 0; loss: 35.734; l2dist: 0.000\n",
      "    step: 50; loss: 31.402; l2dist: 1.027\n",
      "    step: 100; loss: 29.105; l2dist: 1.444\n",
      "    step: 150; loss: 27.370; l2dist: 1.741\n",
      "    step: 200; loss: 26.788; l2dist: 1.825\n",
      "    step: 250; loss: 26.539; l2dist: 1.852\n",
      "    step: 300; loss: 25.852; l2dist: 1.857\n",
      "    step: 350; loss: 23.888; l2dist: 1.826\n",
      "    step: 400; loss: 22.377; l2dist: 1.787\n",
      "    step: 450; loss: 21.655; l2dist: 1.752\n",
      "tensor(46., device='cuda:0')\n",
      "binary step: 7; number of successful adv: 100/100\n",
      "    step: 0; loss: 35.942; l2dist: 0.000\n",
      "    step: 50; loss: 31.578; l2dist: 1.028\n",
      "    step: 100; loss: 29.254; l2dist: 1.445\n",
      "    step: 150; loss: 27.499; l2dist: 1.743\n",
      "    step: 200; loss: 26.910; l2dist: 1.827\n",
      "    step: 250; loss: 26.652; l2dist: 1.856\n",
      "    step: 300; loss: 25.935; l2dist: 1.863\n",
      "    step: 350; loss: 23.960; l2dist: 1.834\n",
      "    step: 400; loss: 22.457; l2dist: 1.792\n",
      "    step: 450; loss: 21.743; l2dist: 1.754\n",
      "tensor(50., device='cuda:0')\n",
      "binary step: 8; number of successful adv: 100/100\n",
      "    step: 0; loss: 36.377; l2dist: 0.000\n",
      "    step: 50; loss: 31.951; l2dist: 1.031\n",
      "    step: 100; loss: 29.582; l2dist: 1.451\n",
      "    step: 150; loss: 27.782; l2dist: 1.751\n",
      "    step: 200; loss: 27.175; l2dist: 1.837\n",
      "    step: 250; loss: 26.903; l2dist: 1.866\n",
      "    step: 300; loss: 26.169; l2dist: 1.872\n",
      "    step: 350; loss: 24.175; l2dist: 1.844\n",
      "    step: 400; loss: 22.658; l2dist: 1.801\n",
      "    step: 450; loss: 21.938; l2dist: 1.762\n",
      "tensor(100., device='cuda:0')\n",
      "binary step: 9; number of successful adv: 100/100\n",
      "    step: 0; loss: 104.132; l2dist: 0.000\n",
      "    step: 50; loss: 86.065; l2dist: 1.347\n",
      "    step: 100; loss: 74.703; l2dist: 2.217\n",
      "    step: 150; loss: 67.322; l2dist: 2.795\n",
      "    step: 200; loss: 64.572; l2dist: 3.021\n",
      "    step: 250; loss: 63.312; l2dist: 3.071\n",
      "    step: 300; loss: 58.498; l2dist: 3.007\n",
      "    step: 350; loss: 53.380; l2dist: 2.768\n",
      "    step: 400; loss: 51.589; l2dist: 2.640\n",
      "    step: 450; loss: 50.804; l2dist: 2.578\n",
      "tensor(98., device='cuda:0')\n",
      "binary step: 0; number of successful adv: 98/100\n",
      "    step: 0; loss: 72.973; l2dist: 0.000\n",
      "    step: 50; loss: 62.866; l2dist: 1.242\n",
      "    step: 100; loss: 56.672; l2dist: 1.900\n",
      "    step: 150; loss: 51.299; l2dist: 2.313\n",
      "    step: 200; loss: 48.949; l2dist: 2.439\n",
      "    step: 250; loss: 47.676; l2dist: 2.474\n",
      "    step: 300; loss: 44.500; l2dist: 2.463\n",
      "    step: 350; loss: 39.811; l2dist: 2.317\n",
      "    step: 400; loss: 37.980; l2dist: 2.183\n",
      "    step: 450; loss: 37.246; l2dist: 2.127\n",
      "tensor(88., device='cuda:0')\n",
      "binary step: 1; number of successful adv: 100/100\n",
      "    step: 0; loss: 44.116; l2dist: 0.000\n",
      "    step: 50; loss: 38.594; l2dist: 1.099\n",
      "    step: 100; loss: 35.508; l2dist: 1.556\n",
      "    step: 150; loss: 32.813; l2dist: 1.856\n",
      "    step: 200; loss: 31.688; l2dist: 1.946\n",
      "    step: 250; loss: 31.119; l2dist: 1.972\n",
      "    step: 300; loss: 29.745; l2dist: 1.976\n",
      "    step: 350; loss: 27.239; l2dist: 1.926\n",
      "    step: 400; loss: 25.430; l2dist: 1.861\n",
      "    step: 450; loss: 24.719; l2dist: 1.805\n",
      "tensor(69., device='cuda:0')\n",
      "binary step: 2; number of successful adv: 100/100\n",
      "    step: 0; loss: 34.860; l2dist: 0.000\n",
      "    step: 50; loss: 30.686; l2dist: 0.988\n",
      "    step: 100; loss: 28.439; l2dist: 1.362\n",
      "    step: 150; loss: 26.625; l2dist: 1.624\n",
      "    step: 200; loss: 25.903; l2dist: 1.707\n",
      "    step: 250; loss: 25.560; l2dist: 1.729\n",
      "    step: 300; loss: 24.674; l2dist: 1.728\n",
      "    step: 350; loss: 22.695; l2dist: 1.691\n",
      "    step: 400; loss: 21.357; l2dist: 1.672\n",
      "    step: 450; loss: 20.645; l2dist: 1.659\n",
      "tensor(40., device='cuda:0')\n",
      "binary step: 3; number of successful adv: 100/100\n",
      "    step: 0; loss: 33.988; l2dist: 0.000\n",
      "    step: 50; loss: 29.796; l2dist: 1.006\n",
      "    step: 100; loss: 27.624; l2dist: 1.412\n",
      "    step: 150; loss: 26.001; l2dist: 1.685\n",
      "    step: 200; loss: 25.420; l2dist: 1.767\n",
      "    step: 250; loss: 25.173; l2dist: 1.792\n",
      "    step: 300; loss: 24.514; l2dist: 1.791\n",
      "    step: 350; loss: 22.456; l2dist: 1.750\n",
      "    step: 400; loss: 20.926; l2dist: 1.720\n",
      "    step: 450; loss: 20.271; l2dist: 1.688\n",
      "tensor(44., device='cuda:0')\n",
      "binary step: 4; number of successful adv: 100/100\n",
      "    step: 0; loss: 33.151; l2dist: 0.000\n",
      "    step: 50; loss: 29.038; l2dist: 1.024\n",
      "    step: 100; loss: 26.971; l2dist: 1.434\n",
      "    step: 150; loss: 25.489; l2dist: 1.709\n",
      "    step: 200; loss: 24.970; l2dist: 1.792\n",
      "    step: 250; loss: 24.785; l2dist: 1.812\n",
      "    step: 300; loss: 24.214; l2dist: 1.814\n",
      "    step: 350; loss: 22.204; l2dist: 1.776\n",
      "    step: 400; loss: 20.615; l2dist: 1.747\n",
      "    step: 450; loss: 19.973; l2dist: 1.704\n",
      "tensor(55., device='cuda:0')\n",
      "binary step: 5; number of successful adv: 100/100\n",
      "    step: 0; loss: 32.450; l2dist: 0.000\n",
      "    step: 50; loss: 28.401; l2dist: 1.019\n",
      "    step: 100; loss: 26.392; l2dist: 1.426\n"
     ]
    },
    {
     "name": "stdout",
     "output_type": "stream",
     "text": [
      "    step: 150; loss: 24.979; l2dist: 1.698\n",
      "    step: 200; loss: 24.490; l2dist: 1.779\n",
      "    step: 250; loss: 24.315; l2dist: 1.802\n",
      "    step: 300; loss: 23.790; l2dist: 1.806\n",
      "    step: 350; loss: 21.854; l2dist: 1.764\n",
      "    step: 400; loss: 20.295; l2dist: 1.732\n",
      "    step: 450; loss: 19.636; l2dist: 1.696\n",
      "tensor(46., device='cuda:0')\n",
      "binary step: 6; number of successful adv: 100/100\n",
      "    step: 0; loss: 32.204; l2dist: 0.000\n",
      "    step: 50; loss: 28.172; l2dist: 1.019\n",
      "    step: 100; loss: 26.177; l2dist: 1.426\n",
      "    step: 150; loss: 24.781; l2dist: 1.699\n",
      "    step: 200; loss: 24.325; l2dist: 1.779\n",
      "    step: 250; loss: 24.150; l2dist: 1.799\n",
      "    step: 300; loss: 23.671; l2dist: 1.800\n",
      "    step: 350; loss: 21.726; l2dist: 1.761\n",
      "    step: 400; loss: 20.162; l2dist: 1.732\n",
      "    step: 450; loss: 19.513; l2dist: 1.696\n",
      "tensor(51., device='cuda:0')\n",
      "binary step: 7; number of successful adv: 100/100\n",
      "    step: 0; loss: 32.219; l2dist: 0.000\n",
      "    step: 50; loss: 28.189; l2dist: 1.020\n",
      "    step: 100; loss: 26.196; l2dist: 1.427\n",
      "    step: 150; loss: 24.800; l2dist: 1.701\n",
      "    step: 200; loss: 24.353; l2dist: 1.780\n",
      "    step: 250; loss: 24.201; l2dist: 1.799\n",
      "    step: 300; loss: 23.691; l2dist: 1.804\n",
      "    step: 350; loss: 21.727; l2dist: 1.762\n",
      "    step: 400; loss: 20.157; l2dist: 1.730\n",
      "    step: 450; loss: 19.503; l2dist: 1.692\n",
      "tensor(60., device='cuda:0')\n",
      "binary step: 8; number of successful adv: 100/100\n",
      "    step: 0; loss: 32.385; l2dist: 0.000\n",
      "    step: 50; loss: 28.326; l2dist: 1.023\n",
      "    step: 100; loss: 26.317; l2dist: 1.432\n",
      "    step: 150; loss: 24.911; l2dist: 1.707\n",
      "    step: 200; loss: 24.459; l2dist: 1.785\n",
      "    step: 250; loss: 24.303; l2dist: 1.807\n",
      "    step: 300; loss: 23.790; l2dist: 1.811\n",
      "    step: 350; loss: 21.809; l2dist: 1.768\n",
      "    step: 400; loss: 20.237; l2dist: 1.734\n",
      "    step: 450; loss: 19.582; l2dist: 1.698\n",
      "tensor(100., device='cuda:0')\n",
      "binary step: 9; number of successful adv: 100/100\n",
      "    step: 0; loss: 101.789; l2dist: 0.000\n",
      "    step: 50; loss: 83.810; l2dist: 1.356\n",
      "    step: 100; loss: 72.789; l2dist: 2.207\n",
      "    step: 150; loss: 65.745; l2dist: 2.779\n",
      "    step: 200; loss: 63.252; l2dist: 2.991\n",
      "    step: 250; loss: 62.105; l2dist: 3.036\n",
      "    step: 300; loss: 58.028; l2dist: 2.980\n",
      "    step: 350; loss: 53.498; l2dist: 2.771\n",
      "    step: 400; loss: 51.747; l2dist: 2.651\n",
      "    step: 450; loss: 51.043; l2dist: 2.594\n",
      "tensor(94., device='cuda:0')\n",
      "binary step: 0; number of successful adv: 94/100\n",
      "    step: 0; loss: 113.550; l2dist: 0.000\n",
      "    step: 50; loss: 96.737; l2dist: 1.257\n",
      "    step: 100; loss: 85.901; l2dist: 1.914\n",
      "    step: 150; loss: 78.354; l2dist: 2.338\n",
      "    step: 200; loss: 74.866; l2dist: 2.467\n",
      "    step: 250; loss: 71.666; l2dist: 2.502\n",
      "    step: 300; loss: 65.888; l2dist: 2.504\n",
      "    step: 350; loss: 60.955; l2dist: 2.405\n",
      "    step: 400; loss: 58.569; l2dist: 2.288\n",
      "    step: 450; loss: 57.216; l2dist: 2.246\n",
      "tensor(88., device='cuda:0')\n",
      "binary step: 1; number of successful adv: 100/100\n",
      "    step: 0; loss: 66.724; l2dist: 0.000\n",
      "    step: 50; loss: 57.488; l2dist: 1.114\n",
      "    step: 100; loss: 51.909; l2dist: 1.595\n",
      "    step: 150; loss: 48.047; l2dist: 1.905\n",
      "    step: 200; loss: 46.264; l2dist: 2.020\n",
      "    step: 250; loss: 44.808; l2dist: 2.058\n",
      "    step: 300; loss: 41.786; l2dist: 2.063\n",
      "    step: 350; loss: 39.042; l2dist: 2.031\n",
      "    step: 400; loss: 37.190; l2dist: 1.969\n",
      "    step: 450; loss: 36.305; l2dist: 1.924\n",
      "tensor(65., device='cuda:0')\n",
      "binary step: 2; number of successful adv: 100/100\n",
      "    step: 0; loss: 48.850; l2dist: 0.000\n",
      "    step: 50; loss: 42.380; l2dist: 1.031\n",
      "    step: 100; loss: 38.687; l2dist: 1.450\n",
      "    step: 150; loss: 36.161; l2dist: 1.743\n",
      "    step: 200; loss: 35.111; l2dist: 1.851\n",
      "    step: 250; loss: 34.403; l2dist: 1.882\n",
      "    step: 300; loss: 32.496; l2dist: 1.888\n",
      "    step: 350; loss: 30.251; l2dist: 1.848\n",
      "    step: 400; loss: 28.897; l2dist: 1.808\n",
      "    step: 450; loss: 28.199; l2dist: 1.783\n",
      "tensor(48., device='cuda:0')\n",
      "binary step: 3; number of successful adv: 100/100\n",
      "    step: 0; loss: 44.645; l2dist: 0.000\n",
      "    step: 50; loss: 38.861; l2dist: 1.037\n",
      "    step: 100; loss: 35.691; l2dist: 1.472\n",
      "    step: 150; loss: 33.604; l2dist: 1.765\n",
      "    step: 200; loss: 32.846; l2dist: 1.867\n",
      "    step: 250; loss: 32.255; l2dist: 1.900\n",
      "    step: 300; loss: 30.526; l2dist: 1.908\n",
      "    step: 350; loss: 28.351; l2dist: 1.868\n",
      "    step: 400; loss: 26.970; l2dist: 1.811\n",
      "    step: 450; loss: 26.270; l2dist: 1.779\n",
      "tensor(57., device='cuda:0')\n",
      "binary step: 4; number of successful adv: 100/100\n",
      "    step: 0; loss: 42.993; l2dist: 0.000\n",
      "    step: 50; loss: 37.530; l2dist: 1.041\n",
      "    step: 100; loss: 34.607; l2dist: 1.472\n",
      "    step: 150; loss: 32.740; l2dist: 1.763\n",
      "    step: 200; loss: 32.064; l2dist: 1.861\n",
      "    step: 250; loss: 31.468; l2dist: 1.893\n",
      "    step: 300; loss: 29.813; l2dist: 1.900\n",
      "    step: 350; loss: 27.652; l2dist: 1.862\n",
      "    step: 400; loss: 26.230; l2dist: 1.805\n",
      "    step: 450; loss: 25.532; l2dist: 1.777\n",
      "tensor(54., device='cuda:0')\n",
      "binary step: 5; number of successful adv: 100/100\n",
      "    step: 0; loss: 41.682; l2dist: 0.000\n",
      "    step: 50; loss: 36.427; l2dist: 1.038\n",
      "    step: 100; loss: 33.666; l2dist: 1.467\n",
      "    step: 150; loss: 31.913; l2dist: 1.754\n",
      "    step: 200; loss: 31.295; l2dist: 1.853\n",
      "    step: 250; loss: 30.752; l2dist: 1.883\n",
      "    step: 300; loss: 29.163; l2dist: 1.891\n",
      "    step: 350; loss: 27.024; l2dist: 1.854\n",
      "    step: 400; loss: 25.611; l2dist: 1.802\n",
      "    step: 450; loss: 24.927; l2dist: 1.769\n",
      "tensor(47., device='cuda:0')\n",
      "binary step: 6; number of successful adv: 100/100\n",
      "    step: 0; loss: 41.736; l2dist: 0.000\n",
      "    step: 50; loss: 36.482; l2dist: 1.038\n",
      "    step: 100; loss: 33.712; l2dist: 1.468\n",
      "    step: 150; loss: 31.955; l2dist: 1.757\n",
      "    step: 200; loss: 31.336; l2dist: 1.859\n",
      "    step: 250; loss: 30.794; l2dist: 1.887\n",
      "    step: 300; loss: 29.202; l2dist: 1.895\n",
      "    step: 350; loss: 27.047; l2dist: 1.856\n",
      "    step: 400; loss: 25.630; l2dist: 1.802\n",
      "    step: 450; loss: 24.951; l2dist: 1.769\n",
      "tensor(54., device='cuda:0')\n",
      "binary step: 7; number of successful adv: 100/100\n",
      "    step: 0; loss: 41.704; l2dist: 0.000\n",
      "    step: 50; loss: 36.461; l2dist: 1.036\n",
      "    step: 100; loss: 33.704; l2dist: 1.465\n",
      "    step: 150; loss: 31.959; l2dist: 1.753\n",
      "    step: 200; loss: 31.344; l2dist: 1.851\n",
      "    step: 250; loss: 30.790; l2dist: 1.882\n",
      "    step: 300; loss: 29.186; l2dist: 1.891\n",
      "    step: 350; loss: 27.038; l2dist: 1.852\n",
      "    step: 400; loss: 25.620; l2dist: 1.799\n",
      "    step: 450; loss: 24.938; l2dist: 1.767\n",
      "tensor(49., device='cuda:0')\n",
      "binary step: 8; number of successful adv: 100/100\n",
      "    step: 0; loss: 42.186; l2dist: 0.000\n",
      "    step: 50; loss: 36.868; l2dist: 1.040\n",
      "    step: 100; loss: 34.063; l2dist: 1.471\n",
      "    step: 150; loss: 32.282; l2dist: 1.762\n",
      "    step: 200; loss: 31.649; l2dist: 1.862\n",
      "    step: 250; loss: 31.087; l2dist: 1.892\n",
      "    step: 300; loss: 29.458; l2dist: 1.901\n",
      "    step: 350; loss: 27.291; l2dist: 1.862\n",
      "    step: 400; loss: 25.861; l2dist: 1.809\n",
      "    step: 450; loss: 25.171; l2dist: 1.777\n",
      "tensor(99., device='cuda:0')\n",
      "binary step: 9; number of successful adv: 100/100\n",
      "    step: 0; loss: 103.456; l2dist: 0.000\n",
      "    step: 50; loss: 85.951; l2dist: 1.333\n",
      "    step: 100; loss: 75.582; l2dist: 2.147\n",
      "    step: 150; loss: 68.423; l2dist: 2.699\n",
      "    step: 200; loss: 65.513; l2dist: 2.953\n",
      "    step: 250; loss: 64.209; l2dist: 3.013\n",
      "    step: 300; loss: 59.395; l2dist: 2.972\n",
      "    step: 350; loss: 54.235; l2dist: 2.795\n",
      "    step: 400; loss: 52.416; l2dist: 2.697\n",
      "    step: 450; loss: 51.626; l2dist: 2.645\n",
      "tensor(96., device='cuda:0')\n",
      "binary step: 0; number of successful adv: 96/100\n",
      "    step: 0; loss: 95.373; l2dist: 0.000\n",
      "    step: 50; loss: 81.511; l2dist: 1.227\n",
      "    step: 100; loss: 71.979; l2dist: 1.847\n",
      "    step: 150; loss: 65.208; l2dist: 2.250\n",
      "    step: 200; loss: 62.203; l2dist: 2.403\n",
      "    step: 250; loss: 60.216; l2dist: 2.450\n",
      "    step: 300; loss: 56.703; l2dist: 2.453\n",
      "    step: 350; loss: 51.593; l2dist: 2.374\n",
      "    step: 400; loss: 49.263; l2dist: 2.259\n",
      "    step: 450; loss: 48.275; l2dist: 2.212\n",
      "tensor(86., device='cuda:0')\n",
      "binary step: 1; number of successful adv: 100/100\n",
      "    step: 0; loss: 57.716; l2dist: 0.000\n",
      "    step: 50; loss: 49.974; l2dist: 1.092\n",
      "    step: 100; loss: 44.877; l2dist: 1.547\n",
      "    step: 150; loss: 41.251; l2dist: 1.862\n",
      "    step: 200; loss: 39.765; l2dist: 1.968\n",
      "    step: 250; loss: 38.789; l2dist: 2.002\n"
     ]
    },
    {
     "name": "stdout",
     "output_type": "stream",
     "text": [
      "    step: 300; loss: 37.068; l2dist: 2.010\n",
      "    step: 350; loss: 34.463; l2dist: 1.976\n",
      "    step: 400; loss: 32.398; l2dist: 1.939\n",
      "    step: 450; loss: 31.559; l2dist: 1.884\n",
      "tensor(68., device='cuda:0')\n",
      "binary step: 2; number of successful adv: 100/100\n",
      "    step: 0; loss: 43.569; l2dist: 0.000\n",
      "    step: 50; loss: 38.057; l2dist: 0.997\n",
      "    step: 100; loss: 34.618; l2dist: 1.393\n",
      "    step: 150; loss: 32.201; l2dist: 1.680\n",
      "    step: 200; loss: 31.276; l2dist: 1.780\n",
      "    step: 250; loss: 30.728; l2dist: 1.811\n",
      "    step: 300; loss: 29.587; l2dist: 1.817\n",
      "    step: 350; loss: 27.425; l2dist: 1.784\n",
      "    step: 400; loss: 26.091; l2dist: 1.742\n",
      "    step: 450; loss: 25.287; l2dist: 1.745\n",
      "tensor(45., device='cuda:0')\n",
      "binary step: 3; number of successful adv: 100/100\n",
      "    step: 0; loss: 39.313; l2dist: 0.000\n",
      "    step: 50; loss: 34.456; l2dist: 1.009\n",
      "    step: 100; loss: 31.638; l2dist: 1.416\n",
      "    step: 150; loss: 29.668; l2dist: 1.713\n",
      "    step: 200; loss: 28.986; l2dist: 1.812\n",
      "    step: 250; loss: 28.631; l2dist: 1.846\n",
      "    step: 300; loss: 27.743; l2dist: 1.853\n",
      "    step: 350; loss: 25.679; l2dist: 1.816\n",
      "    step: 400; loss: 24.111; l2dist: 1.785\n",
      "    step: 450; loss: 23.426; l2dist: 1.752\n",
      "tensor(54., device='cuda:0')\n",
      "binary step: 4; number of successful adv: 100/100\n",
      "    step: 0; loss: 36.679; l2dist: 0.000\n",
      "    step: 50; loss: 32.186; l2dist: 1.015\n",
      "    step: 100; loss: 29.707; l2dist: 1.421\n",
      "    step: 150; loss: 28.003; l2dist: 1.712\n",
      "    step: 200; loss: 27.446; l2dist: 1.804\n",
      "    step: 250; loss: 27.185; l2dist: 1.832\n",
      "    step: 300; loss: 26.446; l2dist: 1.836\n",
      "    step: 350; loss: 24.444; l2dist: 1.812\n",
      "    step: 400; loss: 22.903; l2dist: 1.778\n",
      "    step: 450; loss: 22.208; l2dist: 1.743\n",
      "tensor(50., device='cuda:0')\n",
      "binary step: 5; number of successful adv: 100/100\n",
      "    step: 0; loss: 35.394; l2dist: 0.000\n",
      "    step: 50; loss: 31.089; l2dist: 1.017\n",
      "    step: 100; loss: 28.766; l2dist: 1.422\n",
      "    step: 150; loss: 27.175; l2dist: 1.712\n",
      "    step: 200; loss: 26.673; l2dist: 1.803\n",
      "    step: 250; loss: 26.463; l2dist: 1.831\n",
      "    step: 300; loss: 25.812; l2dist: 1.834\n",
      "    step: 350; loss: 23.854; l2dist: 1.800\n",
      "    step: 400; loss: 22.339; l2dist: 1.767\n",
      "    step: 450; loss: 21.675; l2dist: 1.729\n",
      "tensor(56., device='cuda:0')\n",
      "binary step: 6; number of successful adv: 100/100\n",
      "    step: 0; loss: 35.370; l2dist: 0.000\n",
      "    step: 50; loss: 31.069; l2dist: 1.017\n",
      "    step: 100; loss: 28.732; l2dist: 1.419\n",
      "    step: 150; loss: 27.120; l2dist: 1.708\n",
      "    step: 200; loss: 26.614; l2dist: 1.800\n",
      "    step: 250; loss: 26.400; l2dist: 1.828\n",
      "    step: 300; loss: 25.759; l2dist: 1.831\n",
      "    step: 350; loss: 23.830; l2dist: 1.800\n",
      "    step: 400; loss: 22.308; l2dist: 1.769\n",
      "    step: 450; loss: 21.638; l2dist: 1.729\n",
      "tensor(58., device='cuda:0')\n",
      "binary step: 7; number of successful adv: 100/100\n",
      "    step: 0; loss: 35.254; l2dist: 0.000\n",
      "    step: 50; loss: 30.975; l2dist: 1.016\n",
      "    step: 100; loss: 28.658; l2dist: 1.418\n",
      "    step: 150; loss: 27.067; l2dist: 1.707\n",
      "    step: 200; loss: 26.567; l2dist: 1.798\n",
      "    step: 250; loss: 26.359; l2dist: 1.825\n",
      "    step: 300; loss: 25.723; l2dist: 1.831\n",
      "    step: 350; loss: 23.796; l2dist: 1.797\n",
      "    step: 400; loss: 22.277; l2dist: 1.766\n",
      "    step: 450; loss: 21.608; l2dist: 1.725\n",
      "tensor(46., device='cuda:0')\n",
      "binary step: 8; number of successful adv: 100/100\n",
      "    step: 0; loss: 35.710; l2dist: 0.000\n",
      "    step: 50; loss: 31.361; l2dist: 1.020\n",
      "    step: 100; loss: 28.993; l2dist: 1.425\n",
      "    step: 150; loss: 27.365; l2dist: 1.715\n",
      "    step: 200; loss: 26.850; l2dist: 1.809\n",
      "    step: 250; loss: 26.630; l2dist: 1.837\n",
      "    step: 300; loss: 25.970; l2dist: 1.841\n",
      "    step: 350; loss: 24.021; l2dist: 1.809\n",
      "    step: 400; loss: 22.479; l2dist: 1.778\n",
      "    step: 450; loss: 21.801; l2dist: 1.738\n",
      "tensor(100., device='cuda:0')\n",
      "binary step: 9; number of successful adv: 100/100\n",
      "    step: 0; loss: 97.099; l2dist: 0.000\n",
      "    step: 50; loss: 79.145; l2dist: 1.346\n",
      "    step: 100; loss: 69.483; l2dist: 2.148\n",
      "    step: 150; loss: 63.623; l2dist: 2.645\n",
      "    step: 200; loss: 61.596; l2dist: 2.805\n",
      "    step: 250; loss: 60.540; l2dist: 2.854\n",
      "    step: 300; loss: 56.264; l2dist: 2.823\n",
      "    step: 350; loss: 51.786; l2dist: 2.660\n",
      "    step: 400; loss: 50.139; l2dist: 2.568\n",
      "    step: 450; loss: 49.419; l2dist: 2.529\n",
      "tensor(98., device='cuda:0')\n",
      "binary step: 0; number of successful adv: 98/100\n",
      "    step: 0; loss: 67.507; l2dist: 0.000\n",
      "    step: 50; loss: 56.803; l2dist: 1.234\n",
      "    step: 100; loss: 51.040; l2dist: 1.823\n",
      "    step: 150; loss: 46.848; l2dist: 2.164\n",
      "    step: 200; loss: 45.324; l2dist: 2.258\n",
      "    step: 250; loss: 44.517; l2dist: 2.280\n",
      "    step: 300; loss: 42.994; l2dist: 2.275\n",
      "    step: 350; loss: 39.436; l2dist: 2.204\n",
      "    step: 400; loss: 37.818; l2dist: 2.099\n",
      "    step: 450; loss: 37.040; l2dist: 2.052\n",
      "tensor(84., device='cuda:0')\n",
      "binary step: 1; number of successful adv: 100/100\n",
      "    step: 0; loss: 43.289; l2dist: 0.000\n",
      "    step: 50; loss: 37.244; l2dist: 1.100\n",
      "    step: 100; loss: 34.093; l2dist: 1.527\n",
      "    step: 150; loss: 31.719; l2dist: 1.783\n",
      "    step: 200; loss: 30.931; l2dist: 1.845\n",
      "    step: 250; loss: 30.540; l2dist: 1.865\n",
      "    step: 300; loss: 29.758; l2dist: 1.865\n",
      "    step: 350; loss: 27.724; l2dist: 1.828\n",
      "    step: 400; loss: 26.167; l2dist: 1.791\n",
      "    step: 450; loss: 25.494; l2dist: 1.751\n",
      "tensor(66., device='cuda:0')\n",
      "binary step: 2; number of successful adv: 100/100\n",
      "    step: 0; loss: 35.386; l2dist: 0.000\n",
      "    step: 50; loss: 30.787; l2dist: 1.009\n",
      "    step: 100; loss: 28.387; l2dist: 1.379\n",
      "    step: 150; loss: 26.620; l2dist: 1.623\n",
      "    step: 200; loss: 26.055; l2dist: 1.699\n",
      "    step: 250; loss: 25.812; l2dist: 1.715\n",
      "    step: 300; loss: 25.187; l2dist: 1.719\n",
      "    step: 350; loss: 23.455; l2dist: 1.683\n",
      "    step: 400; loss: 22.292; l2dist: 1.659\n",
      "    step: 450; loss: 21.665; l2dist: 1.642\n",
      "tensor(59., device='cuda:0')\n",
      "binary step: 3; number of successful adv: 100/100\n",
      "    step: 0; loss: 32.477; l2dist: 0.000\n",
      "    step: 50; loss: 28.295; l2dist: 0.973\n",
      "    step: 100; loss: 26.187; l2dist: 1.341\n",
      "    step: 150; loss: 24.673; l2dist: 1.575\n",
      "    step: 200; loss: 24.234; l2dist: 1.635\n",
      "    step: 250; loss: 24.064; l2dist: 1.651\n",
      "    step: 300; loss: 23.555; l2dist: 1.656\n",
      "    step: 350; loss: 21.846; l2dist: 1.621\n",
      "    step: 400; loss: 20.603; l2dist: 1.595\n",
      "    step: 450; loss: 20.072; l2dist: 1.561\n",
      "tensor(50., device='cuda:0')\n",
      "binary step: 4; number of successful adv: 100/100\n",
      "    step: 0; loss: 32.445; l2dist: 0.000\n",
      "    step: 50; loss: 28.255; l2dist: 0.988\n",
      "    step: 100; loss: 26.162; l2dist: 1.358\n",
      "    step: 150; loss: 24.670; l2dist: 1.598\n",
      "    step: 200; loss: 24.234; l2dist: 1.660\n",
      "    step: 250; loss: 24.074; l2dist: 1.674\n",
      "    step: 300; loss: 23.582; l2dist: 1.678\n",
      "    step: 350; loss: 21.897; l2dist: 1.647\n",
      "    step: 400; loss: 20.653; l2dist: 1.619\n",
      "    step: 450; loss: 20.066; l2dist: 1.596\n",
      "tensor(50., device='cuda:0')\n",
      "binary step: 5; number of successful adv: 100/100\n",
      "    step: 0; loss: 32.411; l2dist: 0.000\n",
      "    step: 50; loss: 28.232; l2dist: 0.985\n",
      "    step: 100; loss: 26.148; l2dist: 1.356\n",
      "    step: 150; loss: 24.669; l2dist: 1.592\n",
      "    step: 200; loss: 24.227; l2dist: 1.659\n",
      "    step: 250; loss: 24.065; l2dist: 1.672\n",
      "    step: 300; loss: 23.571; l2dist: 1.677\n",
      "    step: 350; loss: 21.865; l2dist: 1.647\n",
      "    step: 400; loss: 20.630; l2dist: 1.618\n",
      "    step: 450; loss: 20.051; l2dist: 1.594\n",
      "tensor(41., device='cuda:0')\n",
      "binary step: 6; number of successful adv: 100/100\n",
      "    step: 0; loss: 32.538; l2dist: 0.000\n",
      "    step: 50; loss: 28.336; l2dist: 0.988\n",
      "    step: 100; loss: 26.237; l2dist: 1.360\n",
      "    step: 150; loss: 24.751; l2dist: 1.596\n",
      "    step: 200; loss: 24.312; l2dist: 1.659\n",
      "    step: 250; loss: 24.143; l2dist: 1.676\n",
      "    step: 300; loss: 23.642; l2dist: 1.682\n",
      "    step: 350; loss: 21.927; l2dist: 1.653\n",
      "    step: 400; loss: 20.687; l2dist: 1.623\n",
      "    step: 450; loss: 20.098; l2dist: 1.602\n",
      "tensor(53., device='cuda:0')\n",
      "binary step: 7; number of successful adv: 100/100\n",
      "    step: 0; loss: 32.536; l2dist: 0.000\n",
      "    step: 50; loss: 28.332; l2dist: 0.987\n",
      "    step: 100; loss: 26.231; l2dist: 1.358\n",
      "    step: 150; loss: 24.740; l2dist: 1.597\n",
      "    step: 200; loss: 24.303; l2dist: 1.659\n",
      "    step: 250; loss: 24.139; l2dist: 1.673\n",
      "    step: 300; loss: 23.642; l2dist: 1.678\n",
      "    step: 350; loss: 21.925; l2dist: 1.651\n",
      "    step: 400; loss: 20.681; l2dist: 1.623\n"
     ]
    },
    {
     "name": "stdout",
     "output_type": "stream",
     "text": [
      "    step: 450; loss: 20.099; l2dist: 1.600\n",
      "tensor(51., device='cuda:0')\n",
      "binary step: 8; number of successful adv: 100/100\n",
      "    step: 0; loss: 32.723; l2dist: 0.000\n",
      "    step: 50; loss: 28.486; l2dist: 0.990\n",
      "    step: 100; loss: 26.370; l2dist: 1.364\n",
      "    step: 150; loss: 24.870; l2dist: 1.604\n",
      "    step: 200; loss: 24.429; l2dist: 1.665\n",
      "    step: 250; loss: 24.260; l2dist: 1.682\n",
      "    step: 300; loss: 23.753; l2dist: 1.688\n",
      "    step: 350; loss: 22.027; l2dist: 1.658\n",
      "    step: 400; loss: 20.778; l2dist: 1.630\n",
      "    step: 450; loss: 20.197; l2dist: 1.607\n",
      "tensor(99., device='cuda:0')\n",
      "binary step: 9; number of successful adv: 100/100\n",
      "    step: 0; loss: 100.974; l2dist: 0.000\n",
      "    step: 50; loss: 82.485; l2dist: 1.382\n",
      "    step: 100; loss: 72.203; l2dist: 2.217\n",
      "    step: 150; loss: 65.649; l2dist: 2.735\n",
      "    step: 200; loss: 63.208; l2dist: 2.943\n",
      "    step: 250; loss: 62.018; l2dist: 3.002\n",
      "    step: 300; loss: 57.753; l2dist: 2.951\n",
      "    step: 350; loss: 53.209; l2dist: 2.724\n",
      "    step: 400; loss: 51.476; l2dist: 2.605\n",
      "    step: 450; loss: 50.762; l2dist: 2.551\n",
      "tensor(97., device='cuda:0')\n",
      "binary step: 0; number of successful adv: 97/100\n",
      "    step: 0; loss: 81.515; l2dist: 0.000\n",
      "    step: 50; loss: 68.781; l2dist: 1.272\n",
      "    step: 100; loss: 61.023; l2dist: 1.898\n",
      "    step: 150; loss: 54.905; l2dist: 2.282\n",
      "    step: 200; loss: 52.286; l2dist: 2.407\n",
      "    step: 250; loss: 51.097; l2dist: 2.444\n",
      "    step: 300; loss: 48.675; l2dist: 2.439\n",
      "    step: 350; loss: 44.623; l2dist: 2.330\n",
      "    step: 400; loss: 42.725; l2dist: 2.213\n",
      "    step: 450; loss: 41.920; l2dist: 2.161\n",
      "tensor(95., device='cuda:0')\n",
      "binary step: 1; number of successful adv: 100/100\n",
      "    step: 0; loss: 45.079; l2dist: 0.000\n",
      "    step: 50; loss: 38.816; l2dist: 1.096\n",
      "    step: 100; loss: 35.189; l2dist: 1.509\n",
      "    step: 150; loss: 32.282; l2dist: 1.771\n",
      "    step: 200; loss: 31.132; l2dist: 1.846\n",
      "    step: 250; loss: 30.645; l2dist: 1.871\n",
      "    step: 300; loss: 29.754; l2dist: 1.882\n",
      "    step: 350; loss: 27.869; l2dist: 1.868\n",
      "    step: 400; loss: 26.280; l2dist: 1.810\n",
      "    step: 450; loss: 25.516; l2dist: 1.762\n",
      "tensor(65., device='cuda:0')\n",
      "binary step: 2; number of successful adv: 100/100\n",
      "    step: 0; loss: 34.639; l2dist: 0.000\n",
      "    step: 50; loss: 30.168; l2dist: 1.000\n",
      "    step: 100; loss: 27.724; l2dist: 1.354\n",
      "    step: 150; loss: 25.843; l2dist: 1.584\n",
      "    step: 200; loss: 25.161; l2dist: 1.655\n",
      "    step: 250; loss: 24.926; l2dist: 1.673\n",
      "    step: 300; loss: 24.382; l2dist: 1.680\n",
      "    step: 350; loss: 22.827; l2dist: 1.673\n",
      "    step: 400; loss: 21.519; l2dist: 1.654\n",
      "    step: 450; loss: 20.844; l2dist: 1.632\n",
      "tensor(49., device='cuda:0')\n",
      "binary step: 3; number of successful adv: 100/100\n",
      "    step: 0; loss: 31.203; l2dist: 0.000\n",
      "    step: 50; loss: 27.232; l2dist: 1.009\n",
      "    step: 100; loss: 25.230; l2dist: 1.376\n",
      "    step: 150; loss: 23.745; l2dist: 1.616\n",
      "    step: 200; loss: 23.285; l2dist: 1.680\n",
      "    step: 250; loss: 23.148; l2dist: 1.694\n",
      "    step: 300; loss: 22.839; l2dist: 1.697\n",
      "    step: 350; loss: 21.378; l2dist: 1.688\n",
      "    step: 400; loss: 20.018; l2dist: 1.651\n",
      "    step: 450; loss: 19.385; l2dist: 1.623\n",
      "tensor(47., device='cuda:0')\n",
      "binary step: 4; number of successful adv: 100/100\n",
      "    step: 0; loss: 29.705; l2dist: 0.000\n",
      "    step: 50; loss: 25.965; l2dist: 1.017\n",
      "    step: 100; loss: 24.153; l2dist: 1.387\n",
      "    step: 150; loss: 22.853; l2dist: 1.626\n",
      "    step: 200; loss: 22.493; l2dist: 1.686\n",
      "    step: 250; loss: 22.387; l2dist: 1.701\n",
      "    step: 300; loss: 22.149; l2dist: 1.703\n",
      "    step: 350; loss: 20.728; l2dist: 1.693\n",
      "    step: 400; loss: 19.324; l2dist: 1.652\n",
      "    step: 450; loss: 18.684; l2dist: 1.614\n",
      "tensor(50., device='cuda:0')\n",
      "binary step: 5; number of successful adv: 100/100\n",
      "    step: 0; loss: 30.045; l2dist: 0.000\n",
      "    step: 50; loss: 26.256; l2dist: 1.017\n",
      "    step: 100; loss: 24.413; l2dist: 1.388\n",
      "    step: 150; loss: 23.065; l2dist: 1.626\n",
      "    step: 200; loss: 22.674; l2dist: 1.687\n",
      "    step: 250; loss: 22.571; l2dist: 1.697\n",
      "    step: 300; loss: 22.316; l2dist: 1.704\n",
      "    step: 350; loss: 20.914; l2dist: 1.697\n",
      "    step: 400; loss: 19.489; l2dist: 1.663\n",
      "    step: 450; loss: 18.856; l2dist: 1.621\n",
      "tensor(45., device='cuda:0')\n",
      "binary step: 6; number of successful adv: 100/100\n",
      "    step: 0; loss: 30.326; l2dist: 0.000\n",
      "    step: 50; loss: 26.495; l2dist: 1.016\n",
      "    step: 100; loss: 24.623; l2dist: 1.388\n",
      "    step: 150; loss: 23.234; l2dist: 1.628\n",
      "    step: 200; loss: 22.830; l2dist: 1.688\n",
      "    step: 250; loss: 22.717; l2dist: 1.701\n",
      "    step: 300; loss: 22.460; l2dist: 1.704\n",
      "    step: 350; loss: 21.043; l2dist: 1.700\n",
      "    step: 400; loss: 19.619; l2dist: 1.669\n",
      "    step: 450; loss: 18.987; l2dist: 1.627\n",
      "tensor(52., device='cuda:0')\n",
      "binary step: 7; number of successful adv: 100/100\n",
      "    step: 0; loss: 30.416; l2dist: 0.000\n",
      "    step: 50; loss: 26.573; l2dist: 1.015\n",
      "    step: 100; loss: 24.690; l2dist: 1.387\n",
      "    step: 150; loss: 23.287; l2dist: 1.628\n",
      "    step: 200; loss: 22.876; l2dist: 1.689\n",
      "    step: 250; loss: 22.760; l2dist: 1.702\n",
      "    step: 300; loss: 22.500; l2dist: 1.705\n",
      "    step: 350; loss: 21.084; l2dist: 1.699\n",
      "    step: 400; loss: 19.656; l2dist: 1.665\n",
      "    step: 450; loss: 19.025; l2dist: 1.623\n",
      "tensor(50., device='cuda:0')\n",
      "binary step: 8; number of successful adv: 100/100\n",
      "    step: 0; loss: 30.683; l2dist: 0.000\n",
      "    step: 50; loss: 26.795; l2dist: 1.019\n",
      "    step: 100; loss: 24.889; l2dist: 1.394\n",
      "    step: 150; loss: 23.468; l2dist: 1.636\n",
      "    step: 200; loss: 23.049; l2dist: 1.698\n",
      "    step: 250; loss: 22.931; l2dist: 1.710\n",
      "    step: 300; loss: 22.665; l2dist: 1.713\n",
      "    step: 350; loss: 21.227; l2dist: 1.709\n",
      "    step: 400; loss: 19.793; l2dist: 1.674\n",
      "    step: 450; loss: 19.162; l2dist: 1.633\n",
      "tensor(100., device='cuda:0')\n",
      "binary step: 9; number of successful adv: 100/100\n",
      "    step: 0; loss: 103.206; l2dist: 0.000\n",
      "    step: 50; loss: 85.741; l2dist: 1.360\n",
      "    step: 100; loss: 75.019; l2dist: 2.214\n",
      "    step: 150; loss: 67.396; l2dist: 2.830\n",
      "    step: 200; loss: 64.544; l2dist: 3.072\n",
      "    step: 250; loss: 63.295; l2dist: 3.130\n",
      "    step: 300; loss: 59.582; l2dist: 3.078\n",
      "    step: 350; loss: 54.902; l2dist: 2.864\n",
      "    step: 400; loss: 53.045; l2dist: 2.753\n",
      "    step: 450; loss: 52.274; l2dist: 2.701\n",
      "tensor(96., device='cuda:0')\n",
      "binary step: 0; number of successful adv: 96/100\n",
      "    step: 0; loss: 101.349; l2dist: 0.000\n",
      "    step: 50; loss: 85.955; l2dist: 1.247\n",
      "    step: 100; loss: 75.770; l2dist: 1.888\n",
      "    step: 150; loss: 68.717; l2dist: 2.336\n",
      "    step: 200; loss: 65.464; l2dist: 2.481\n",
      "    step: 250; loss: 62.890; l2dist: 2.530\n",
      "    step: 300; loss: 58.568; l2dist: 2.537\n",
      "    step: 350; loss: 54.054; l2dist: 2.418\n",
      "    step: 400; loss: 51.757; l2dist: 2.304\n",
      "    step: 450; loss: 50.566; l2dist: 2.265\n",
      "tensor(88., device='cuda:0')\n",
      "binary step: 1; number of successful adv: 100/100\n",
      "    step: 0; loss: 59.981; l2dist: 0.000\n",
      "    step: 50; loss: 51.598; l2dist: 1.093\n",
      "    step: 100; loss: 46.309; l2dist: 1.546\n",
      "    step: 150; loss: 42.752; l2dist: 1.865\n",
      "    step: 200; loss: 41.217; l2dist: 1.955\n",
      "    step: 250; loss: 40.057; l2dist: 1.986\n",
      "    step: 300; loss: 37.884; l2dist: 1.998\n",
      "    step: 350; loss: 35.486; l2dist: 1.962\n",
      "    step: 400; loss: 33.475; l2dist: 1.929\n",
      "    step: 450; loss: 32.518; l2dist: 1.888\n",
      "tensor(61., device='cuda:0')\n",
      "binary step: 2; number of successful adv: 100/100\n",
      "    step: 0; loss: 46.089; l2dist: 0.000\n",
      "    step: 50; loss: 40.024; l2dist: 1.014\n",
      "    step: 100; loss: 36.379; l2dist: 1.432\n",
      "    step: 150; loss: 33.941; l2dist: 1.738\n",
      "    step: 200; loss: 33.010; l2dist: 1.838\n",
      "    step: 250; loss: 32.410; l2dist: 1.876\n",
      "    step: 300; loss: 31.055; l2dist: 1.884\n",
      "    step: 350; loss: 28.745; l2dist: 1.849\n",
      "    step: 400; loss: 27.257; l2dist: 1.801\n",
      "    step: 450; loss: 26.434; l2dist: 1.782\n",
      "tensor(45., device='cuda:0')\n",
      "binary step: 3; number of successful adv: 100/100\n",
      "    step: 0; loss: 41.147; l2dist: 0.000\n",
      "    step: 50; loss: 35.839; l2dist: 1.027\n",
      "    step: 100; loss: 32.836; l2dist: 1.457\n",
      "    step: 150; loss: 30.836; l2dist: 1.773\n",
      "    step: 200; loss: 30.162; l2dist: 1.867\n",
      "    step: 250; loss: 29.777; l2dist: 1.903\n",
      "    step: 300; loss: 28.824; l2dist: 1.913\n",
      "    step: 350; loss: 26.656; l2dist: 1.878\n",
      "    step: 400; loss: 25.043; l2dist: 1.824\n",
      "    step: 450; loss: 24.309; l2dist: 1.783\n",
      "tensor(52., device='cuda:0')\n",
      "binary step: 4; number of successful adv: 100/100\n",
      "    step: 0; loss: 38.208; l2dist: 0.000\n"
     ]
    },
    {
     "name": "stdout",
     "output_type": "stream",
     "text": [
      "    step: 50; loss: 33.357; l2dist: 1.028\n",
      "    step: 100; loss: 30.724; l2dist: 1.456\n",
      "    step: 150; loss: 28.960; l2dist: 1.771\n",
      "    step: 200; loss: 28.417; l2dist: 1.860\n",
      "    step: 250; loss: 28.145; l2dist: 1.892\n",
      "    step: 300; loss: 27.412; l2dist: 1.902\n",
      "    step: 350; loss: 25.386; l2dist: 1.866\n",
      "    step: 400; loss: 23.807; l2dist: 1.816\n",
      "    step: 450; loss: 23.057; l2dist: 1.778\n",
      "tensor(51., device='cuda:0')\n",
      "binary step: 5; number of successful adv: 100/100\n",
      "    step: 0; loss: 38.286; l2dist: 0.000\n",
      "    step: 50; loss: 33.393; l2dist: 1.026\n",
      "    step: 100; loss: 30.771; l2dist: 1.455\n",
      "    step: 150; loss: 28.996; l2dist: 1.769\n",
      "    step: 200; loss: 28.431; l2dist: 1.863\n",
      "    step: 250; loss: 28.142; l2dist: 1.897\n",
      "    step: 300; loss: 27.430; l2dist: 1.908\n",
      "    step: 350; loss: 25.447; l2dist: 1.870\n",
      "    step: 400; loss: 23.836; l2dist: 1.818\n",
      "    step: 450; loss: 23.093; l2dist: 1.788\n",
      "tensor(50., device='cuda:0')\n",
      "binary step: 6; number of successful adv: 100/100\n",
      "    step: 0; loss: 37.858; l2dist: 0.000\n",
      "    step: 50; loss: 33.036; l2dist: 1.026\n",
      "    step: 100; loss: 30.479; l2dist: 1.455\n",
      "    step: 150; loss: 28.747; l2dist: 1.768\n",
      "    step: 200; loss: 28.193; l2dist: 1.863\n",
      "    step: 250; loss: 27.910; l2dist: 1.896\n",
      "    step: 300; loss: 27.234; l2dist: 1.906\n",
      "    step: 350; loss: 25.266; l2dist: 1.865\n",
      "    step: 400; loss: 23.665; l2dist: 1.818\n",
      "    step: 450; loss: 22.919; l2dist: 1.783\n",
      "tensor(42., device='cuda:0')\n",
      "binary step: 7; number of successful adv: 100/100\n",
      "    step: 0; loss: 37.811; l2dist: 0.000\n",
      "    step: 50; loss: 32.988; l2dist: 1.027\n",
      "    step: 100; loss: 30.436; l2dist: 1.456\n",
      "    step: 150; loss: 28.701; l2dist: 1.770\n",
      "    step: 200; loss: 28.151; l2dist: 1.862\n",
      "    step: 250; loss: 27.875; l2dist: 1.895\n",
      "    step: 300; loss: 27.211; l2dist: 1.906\n",
      "    step: 350; loss: 25.233; l2dist: 1.864\n",
      "    step: 400; loss: 23.640; l2dist: 1.816\n",
      "    step: 450; loss: 22.898; l2dist: 1.782\n",
      "tensor(43., device='cuda:0')\n",
      "binary step: 8; number of successful adv: 100/100\n",
      "    step: 0; loss: 38.187; l2dist: 0.000\n",
      "    step: 50; loss: 33.306; l2dist: 1.031\n",
      "    step: 100; loss: 30.719; l2dist: 1.462\n",
      "    step: 150; loss: 28.959; l2dist: 1.779\n",
      "    step: 200; loss: 28.397; l2dist: 1.874\n",
      "    step: 250; loss: 28.110; l2dist: 1.908\n",
      "    step: 300; loss: 27.423; l2dist: 1.918\n",
      "    step: 350; loss: 25.424; l2dist: 1.877\n",
      "    step: 400; loss: 23.824; l2dist: 1.826\n",
      "    step: 450; loss: 23.082; l2dist: 1.794\n",
      "tensor(99., device='cuda:0')\n",
      "binary step: 9; number of successful adv: 100/100\n",
      "    step: 0; loss: 103.453; l2dist: 0.000\n",
      "    step: 50; loss: 84.914; l2dist: 1.350\n",
      "    step: 100; loss: 73.822; l2dist: 2.190\n",
      "    step: 150; loss: 66.655; l2dist: 2.742\n",
      "    step: 200; loss: 64.145; l2dist: 2.947\n",
      "    step: 250; loss: 63.004; l2dist: 3.004\n",
      "    step: 300; loss: 58.479; l2dist: 2.957\n",
      "    step: 350; loss: 53.647; l2dist: 2.737\n",
      "    step: 400; loss: 51.844; l2dist: 2.623\n",
      "    step: 450; loss: 51.069; l2dist: 2.568\n",
      "tensor(97., device='cuda:0')\n",
      "binary step: 0; number of successful adv: 97/100\n",
      "    step: 0; loss: 81.921; l2dist: 0.000\n",
      "    step: 50; loss: 67.804; l2dist: 1.242\n",
      "    step: 100; loss: 59.960; l2dist: 1.874\n",
      "    step: 150; loss: 54.782; l2dist: 2.258\n",
      "    step: 200; loss: 52.522; l2dist: 2.390\n",
      "    step: 250; loss: 51.165; l2dist: 2.427\n",
      "    step: 300; loss: 48.469; l2dist: 2.422\n",
      "    step: 350; loss: 44.136; l2dist: 2.302\n",
      "    step: 400; loss: 42.207; l2dist: 2.181\n",
      "    step: 450; loss: 41.403; l2dist: 2.133\n",
      "tensor(85., device='cuda:0')\n",
      "binary step: 1; number of successful adv: 100/100\n",
      "    step: 0; loss: 50.410; l2dist: 0.000\n",
      "    step: 50; loss: 42.635; l2dist: 1.113\n",
      "    step: 100; loss: 38.535; l2dist: 1.580\n",
      "    step: 150; loss: 35.804; l2dist: 1.872\n",
      "    step: 200; loss: 34.703; l2dist: 1.963\n",
      "    step: 250; loss: 34.062; l2dist: 1.986\n",
      "    step: 300; loss: 32.841; l2dist: 1.991\n",
      "    step: 350; loss: 30.366; l2dist: 1.960\n",
      "    step: 400; loss: 28.584; l2dist: 1.902\n",
      "    step: 450; loss: 27.844; l2dist: 1.849\n",
      "tensor(70., device='cuda:0')\n",
      "binary step: 2; number of successful adv: 100/100\n",
      "    step: 0; loss: 38.875; l2dist: 0.000\n",
      "    step: 50; loss: 33.288; l2dist: 1.006\n",
      "    step: 100; loss: 30.414; l2dist: 1.405\n",
      "    step: 150; loss: 28.534; l2dist: 1.675\n",
      "    step: 200; loss: 27.862; l2dist: 1.748\n",
      "    step: 250; loss: 27.491; l2dist: 1.771\n",
      "    step: 300; loss: 26.663; l2dist: 1.775\n",
      "    step: 350; loss: 24.774; l2dist: 1.741\n",
      "    step: 400; loss: 23.402; l2dist: 1.721\n",
      "    step: 450; loss: 22.656; l2dist: 1.693\n",
      "tensor(48., device='cuda:0')\n",
      "binary step: 3; number of successful adv: 100/100\n",
      "    step: 0; loss: 35.707; l2dist: 0.000\n",
      "    step: 50; loss: 30.750; l2dist: 1.018\n",
      "    step: 100; loss: 28.264; l2dist: 1.432\n",
      "    step: 150; loss: 26.656; l2dist: 1.705\n",
      "    step: 200; loss: 26.159; l2dist: 1.779\n",
      "    step: 250; loss: 25.928; l2dist: 1.801\n",
      "    step: 300; loss: 25.321; l2dist: 1.805\n",
      "    step: 350; loss: 23.449; l2dist: 1.772\n",
      "    step: 400; loss: 21.935; l2dist: 1.736\n",
      "    step: 450; loss: 21.275; l2dist: 1.690\n",
      "tensor(44., device='cuda:0')\n",
      "binary step: 4; number of successful adv: 100/100\n",
      "    step: 0; loss: 35.669; l2dist: 0.000\n",
      "    step: 50; loss: 30.835; l2dist: 1.033\n",
      "    step: 100; loss: 28.365; l2dist: 1.458\n",
      "    step: 150; loss: 26.701; l2dist: 1.735\n",
      "    step: 200; loss: 26.213; l2dist: 1.811\n",
      "    step: 250; loss: 26.017; l2dist: 1.831\n",
      "    step: 300; loss: 25.466; l2dist: 1.836\n",
      "    step: 350; loss: 23.559; l2dist: 1.802\n",
      "    step: 400; loss: 22.020; l2dist: 1.765\n",
      "    step: 450; loss: 21.336; l2dist: 1.713\n",
      "tensor(57., device='cuda:0')\n",
      "binary step: 5; number of successful adv: 100/100\n",
      "    step: 0; loss: 35.231; l2dist: 0.000\n",
      "    step: 50; loss: 30.463; l2dist: 1.025\n",
      "    step: 100; loss: 28.053; l2dist: 1.449\n",
      "    step: 150; loss: 26.438; l2dist: 1.726\n",
      "    step: 200; loss: 25.975; l2dist: 1.799\n",
      "    step: 250; loss: 25.777; l2dist: 1.820\n",
      "    step: 300; loss: 25.204; l2dist: 1.825\n",
      "    step: 350; loss: 23.310; l2dist: 1.789\n",
      "    step: 400; loss: 21.790; l2dist: 1.752\n",
      "    step: 450; loss: 21.112; l2dist: 1.699\n",
      "tensor(55., device='cuda:0')\n",
      "binary step: 6; number of successful adv: 100/100\n",
      "    step: 0; loss: 34.715; l2dist: 0.000\n",
      "    step: 50; loss: 30.044; l2dist: 1.022\n",
      "    step: 100; loss: 27.685; l2dist: 1.446\n",
      "    step: 150; loss: 26.111; l2dist: 1.720\n",
      "    step: 200; loss: 25.669; l2dist: 1.791\n",
      "    step: 250; loss: 25.490; l2dist: 1.811\n",
      "    step: 300; loss: 24.938; l2dist: 1.814\n",
      "    step: 350; loss: 23.064; l2dist: 1.777\n",
      "    step: 400; loss: 21.559; l2dist: 1.738\n",
      "    step: 450; loss: 20.890; l2dist: 1.687\n",
      "tensor(44., device='cuda:0')\n",
      "binary step: 7; number of successful adv: 100/100\n",
      "    step: 0; loss: 34.841; l2dist: 0.000\n",
      "    step: 50; loss: 30.152; l2dist: 1.023\n",
      "    step: 100; loss: 27.775; l2dist: 1.447\n",
      "    step: 150; loss: 26.181; l2dist: 1.722\n",
      "    step: 200; loss: 25.731; l2dist: 1.794\n",
      "    step: 250; loss: 25.550; l2dist: 1.814\n",
      "    step: 300; loss: 25.004; l2dist: 1.819\n",
      "    step: 350; loss: 23.120; l2dist: 1.782\n",
      "    step: 400; loss: 21.622; l2dist: 1.742\n",
      "    step: 450; loss: 20.956; l2dist: 1.692\n",
      "tensor(57., device='cuda:0')\n",
      "binary step: 8; number of successful adv: 100/100\n",
      "    step: 0; loss: 35.229; l2dist: 0.000\n",
      "    step: 50; loss: 30.468; l2dist: 1.026\n",
      "    step: 100; loss: 28.051; l2dist: 1.452\n",
      "    step: 150; loss: 26.430; l2dist: 1.729\n",
      "    step: 200; loss: 25.967; l2dist: 1.803\n",
      "    step: 250; loss: 25.778; l2dist: 1.823\n",
      "    step: 300; loss: 25.214; l2dist: 1.831\n",
      "    step: 350; loss: 23.318; l2dist: 1.793\n",
      "    step: 400; loss: 21.810; l2dist: 1.755\n",
      "    step: 450; loss: 21.130; l2dist: 1.706\n",
      "tensor(100., device='cuda:0')\n",
      "binary step: 9; number of successful adv: 100/100\n",
      "    step: 0; loss: 102.869; l2dist: 0.000\n",
      "    step: 50; loss: 84.810; l2dist: 1.376\n",
      "    step: 100; loss: 74.132; l2dist: 2.217\n",
      "    step: 150; loss: 67.527; l2dist: 2.750\n",
      "    step: 200; loss: 65.135; l2dist: 2.946\n",
      "    step: 250; loss: 63.964; l2dist: 2.999\n",
      "    step: 300; loss: 59.371; l2dist: 2.958\n",
      "    step: 350; loss: 54.446; l2dist: 2.767\n",
      "    step: 400; loss: 52.684; l2dist: 2.660\n",
      "    step: 450; loss: 51.949; l2dist: 2.607\n",
      "tensor(95., device='cuda:0')\n",
      "binary step: 0; number of successful adv: 95/100\n",
      "    step: 0; loss: 99.689; l2dist: 0.000\n",
      "    step: 50; loss: 85.332; l2dist: 1.264\n",
      "    step: 100; loss: 77.044; l2dist: 1.903\n",
      "    step: 150; loss: 72.461; l2dist: 2.274\n"
     ]
    },
    {
     "name": "stdout",
     "output_type": "stream",
     "text": [
      "    step: 200; loss: 70.303; l2dist: 2.379\n",
      "    step: 250; loss: 67.096; l2dist: 2.416\n",
      "    step: 300; loss: 61.304; l2dist: 2.426\n",
      "    step: 350; loss: 55.876; l2dist: 2.352\n",
      "    step: 400; loss: 53.299; l2dist: 2.263\n",
      "    step: 450; loss: 52.042; l2dist: 2.220\n",
      "tensor(88., device='cuda:0')\n",
      "binary step: 1; number of successful adv: 100/100\n",
      "    step: 0; loss: 58.749; l2dist: 0.000\n",
      "    step: 50; loss: 50.999; l2dist: 1.114\n",
      "    step: 100; loss: 46.803; l2dist: 1.566\n",
      "    step: 150; loss: 44.431; l2dist: 1.837\n",
      "    step: 200; loss: 43.394; l2dist: 1.921\n",
      "    step: 250; loss: 41.969; l2dist: 1.951\n",
      "    step: 300; loss: 38.911; l2dist: 1.965\n",
      "    step: 350; loss: 35.992; l2dist: 1.947\n",
      "    step: 400; loss: 33.986; l2dist: 1.930\n",
      "    step: 450; loss: 33.062; l2dist: 1.894\n",
      "tensor(67., device='cuda:0')\n",
      "binary step: 2; number of successful adv: 100/100\n",
      "    step: 0; loss: 48.061; l2dist: 0.000\n",
      "    step: 50; loss: 42.140; l2dist: 1.012\n",
      "    step: 100; loss: 39.053; l2dist: 1.393\n",
      "    step: 150; loss: 37.283; l2dist: 1.638\n",
      "    step: 200; loss: 36.567; l2dist: 1.705\n",
      "    step: 250; loss: 35.475; l2dist: 1.732\n",
      "    step: 300; loss: 33.066; l2dist: 1.746\n",
      "    step: 350; loss: 30.596; l2dist: 1.740\n",
      "    step: 400; loss: 28.876; l2dist: 1.749\n",
      "    step: 450; loss: 27.982; l2dist: 1.733\n",
      "tensor(42., device='cuda:0')\n",
      "binary step: 3; number of successful adv: 100/100\n",
      "    step: 0; loss: 45.900; l2dist: 0.000\n",
      "    step: 50; loss: 40.283; l2dist: 1.034\n",
      "    step: 100; loss: 37.479; l2dist: 1.442\n",
      "    step: 150; loss: 35.827; l2dist: 1.688\n",
      "    step: 200; loss: 35.229; l2dist: 1.750\n",
      "    step: 250; loss: 34.275; l2dist: 1.773\n",
      "    step: 300; loss: 32.188; l2dist: 1.794\n",
      "    step: 350; loss: 29.671; l2dist: 1.777\n",
      "    step: 400; loss: 27.929; l2dist: 1.769\n",
      "    step: 450; loss: 27.032; l2dist: 1.745\n",
      "tensor(46., device='cuda:0')\n",
      "binary step: 4; number of successful adv: 100/100\n",
      "    step: 0; loss: 44.411; l2dist: 0.000\n",
      "    step: 50; loss: 39.013; l2dist: 1.043\n",
      "    step: 100; loss: 36.351; l2dist: 1.451\n",
      "    step: 150; loss: 34.764; l2dist: 1.700\n",
      "    step: 200; loss: 34.212; l2dist: 1.762\n",
      "    step: 250; loss: 33.326; l2dist: 1.787\n",
      "    step: 300; loss: 31.378; l2dist: 1.801\n",
      "    step: 350; loss: 28.924; l2dist: 1.786\n",
      "    step: 400; loss: 27.238; l2dist: 1.774\n",
      "    step: 450; loss: 26.381; l2dist: 1.747\n",
      "tensor(39., device='cuda:0')\n",
      "binary step: 5; number of successful adv: 100/100\n",
      "    step: 0; loss: 45.083; l2dist: 0.000\n",
      "    step: 50; loss: 39.557; l2dist: 1.049\n",
      "    step: 100; loss: 36.811; l2dist: 1.462\n",
      "    step: 150; loss: 35.172; l2dist: 1.712\n",
      "    step: 200; loss: 34.599; l2dist: 1.777\n",
      "    step: 250; loss: 33.737; l2dist: 1.801\n",
      "    step: 300; loss: 31.759; l2dist: 1.819\n",
      "    step: 350; loss: 29.273; l2dist: 1.804\n",
      "    step: 400; loss: 27.577; l2dist: 1.791\n",
      "    step: 450; loss: 26.739; l2dist: 1.763\n",
      "tensor(52., device='cuda:0')\n",
      "binary step: 6; number of successful adv: 100/100\n",
      "    step: 0; loss: 44.963; l2dist: 0.000\n",
      "    step: 50; loss: 39.451; l2dist: 1.049\n",
      "    step: 100; loss: 36.716; l2dist: 1.463\n",
      "    step: 150; loss: 35.081; l2dist: 1.714\n",
      "    step: 200; loss: 34.514; l2dist: 1.780\n",
      "    step: 250; loss: 33.655; l2dist: 1.802\n",
      "    step: 300; loss: 31.671; l2dist: 1.820\n",
      "    step: 350; loss: 29.199; l2dist: 1.805\n",
      "    step: 400; loss: 27.507; l2dist: 1.792\n",
      "    step: 450; loss: 26.677; l2dist: 1.762\n",
      "tensor(51., device='cuda:0')\n",
      "binary step: 7; number of successful adv: 100/100\n",
      "    step: 0; loss: 45.051; l2dist: 0.000\n",
      "    step: 50; loss: 39.523; l2dist: 1.049\n",
      "    step: 100; loss: 36.772; l2dist: 1.464\n",
      "    step: 150; loss: 35.130; l2dist: 1.716\n",
      "    step: 200; loss: 34.563; l2dist: 1.781\n",
      "    step: 250; loss: 33.704; l2dist: 1.803\n",
      "    step: 300; loss: 31.708; l2dist: 1.822\n",
      "    step: 350; loss: 29.241; l2dist: 1.807\n",
      "    step: 400; loss: 27.544; l2dist: 1.793\n",
      "    step: 450; loss: 26.715; l2dist: 1.762\n",
      "tensor(55., device='cuda:0')\n",
      "binary step: 8; number of successful adv: 100/100\n",
      "    step: 0; loss: 45.306; l2dist: 0.000\n",
      "    step: 50; loss: 39.736; l2dist: 1.052\n",
      "    step: 100; loss: 36.959; l2dist: 1.469\n",
      "    step: 150; loss: 35.301; l2dist: 1.723\n",
      "    step: 200; loss: 34.727; l2dist: 1.788\n",
      "    step: 250; loss: 33.866; l2dist: 1.811\n",
      "    step: 300; loss: 31.861; l2dist: 1.828\n",
      "    step: 350; loss: 29.378; l2dist: 1.814\n",
      "    step: 400; loss: 27.676; l2dist: 1.800\n",
      "    step: 450; loss: 26.843; l2dist: 1.771\n",
      "tensor(100., device='cuda:0')\n",
      "binary step: 9; number of successful adv: 100/100\n",
      "    step: 0; loss: 100.020; l2dist: 0.000\n",
      "    step: 50; loss: 82.592; l2dist: 1.350\n",
      "    step: 100; loss: 72.367; l2dist: 2.176\n",
      "    step: 150; loss: 65.541; l2dist: 2.713\n",
      "    step: 200; loss: 62.972; l2dist: 2.929\n",
      "    step: 250; loss: 61.754; l2dist: 2.978\n",
      "    step: 300; loss: 57.847; l2dist: 2.927\n",
      "    step: 350; loss: 53.018; l2dist: 2.726\n",
      "    step: 400; loss: 51.043; l2dist: 2.622\n",
      "    step: 450; loss: 50.283; l2dist: 2.568\n",
      "tensor(93., device='cuda:0')\n",
      "binary step: 0; number of successful adv: 93/100\n",
      "    step: 0; loss: 124.517; l2dist: 0.000\n",
      "    step: 50; loss: 104.430; l2dist: 1.254\n",
      "    step: 100; loss: 91.809; l2dist: 1.901\n",
      "    step: 150; loss: 83.337; l2dist: 2.329\n",
      "    step: 200; loss: 79.592; l2dist: 2.491\n",
      "    step: 250; loss: 77.150; l2dist: 2.544\n",
      "    step: 300; loss: 72.566; l2dist: 2.552\n",
      "    step: 350; loss: 67.594; l2dist: 2.455\n",
      "    step: 400; loss: 65.073; l2dist: 2.358\n",
      "    step: 450; loss: 63.699; l2dist: 2.324\n",
      "tensor(92., device='cuda:0')\n",
      "binary step: 1; number of successful adv: 99/100\n",
      "    step: 0; loss: 177.220; l2dist: 0.000\n",
      "    step: 50; loss: 148.118; l2dist: 1.101\n",
      "    step: 100; loss: 131.882; l2dist: 1.552\n",
      "    step: 150; loss: 121.592; l2dist: 1.859\n",
      "    step: 200; loss: 114.513; l2dist: 1.962\n",
      "    step: 250; loss: 110.794; l2dist: 1.997\n",
      "    step: 300; loss: 104.557; l2dist: 2.008\n",
      "    step: 350; loss: 99.618; l2dist: 1.994\n",
      "    step: 400; loss: 96.017; l2dist: 1.975\n",
      "    step: 450; loss: 93.582; l2dist: 1.935\n",
      "tensor(71., device='cuda:0')\n",
      "binary step: 2; number of successful adv: 100/100\n",
      "    step: 0; loss: 112.285; l2dist: 0.000\n",
      "    step: 50; loss: 94.416; l2dist: 0.992\n",
      "    step: 100; loss: 84.424; l2dist: 1.378\n",
      "    step: 150; loss: 77.963; l2dist: 1.652\n",
      "    step: 200; loss: 73.824; l2dist: 1.748\n",
      "    step: 250; loss: 71.706; l2dist: 1.779\n",
      "    step: 300; loss: 67.957; l2dist: 1.780\n",
      "    step: 350; loss: 64.728; l2dist: 1.747\n",
      "    step: 400; loss: 62.370; l2dist: 1.744\n",
      "    step: 450; loss: 60.675; l2dist: 1.729\n",
      "tensor(51., device='cuda:0')\n",
      "binary step: 3; number of successful adv: 100/100\n",
      "    step: 0; loss: 79.572; l2dist: 0.000\n",
      "    step: 50; loss: 67.312; l2dist: 0.993\n",
      "    step: 100; loss: 60.581; l2dist: 1.382\n",
      "    step: 150; loss: 56.202; l2dist: 1.657\n",
      "    step: 200; loss: 53.658; l2dist: 1.749\n",
      "    step: 250; loss: 52.410; l2dist: 1.774\n",
      "    step: 300; loss: 50.043; l2dist: 1.774\n",
      "    step: 350; loss: 47.405; l2dist: 1.739\n",
      "    step: 400; loss: 45.479; l2dist: 1.723\n",
      "    step: 450; loss: 44.306; l2dist: 1.704\n",
      "tensor(49., device='cuda:0')\n",
      "binary step: 4; number of successful adv: 100/100\n",
      "    step: 0; loss: 65.770; l2dist: 0.000\n",
      "    step: 50; loss: 55.945; l2dist: 1.003\n",
      "    step: 100; loss: 50.565; l2dist: 1.394\n",
      "    step: 150; loss: 47.004; l2dist: 1.664\n",
      "    step: 200; loss: 45.116; l2dist: 1.752\n",
      "    step: 250; loss: 44.212; l2dist: 1.777\n",
      "    step: 300; loss: 42.400; l2dist: 1.778\n",
      "    step: 350; loss: 40.100; l2dist: 1.743\n",
      "    step: 400; loss: 38.364; l2dist: 1.734\n",
      "    step: 450; loss: 37.311; l2dist: 1.717\n",
      "tensor(49., device='cuda:0')\n",
      "binary step: 5; number of successful adv: 100/100\n",
      "    step: 0; loss: 58.843; l2dist: 0.000\n",
      "    step: 50; loss: 50.214; l2dist: 1.003\n",
      "    step: 100; loss: 45.479; l2dist: 1.394\n",
      "    step: 150; loss: 42.307; l2dist: 1.662\n",
      "    step: 200; loss: 40.749; l2dist: 1.750\n",
      "    step: 250; loss: 40.013; l2dist: 1.774\n",
      "    step: 300; loss: 38.507; l2dist: 1.777\n",
      "    step: 350; loss: 36.321; l2dist: 1.743\n",
      "    step: 400; loss: 34.739; l2dist: 1.718\n",
      "    step: 450; loss: 33.726; l2dist: 1.704\n",
      "tensor(54., device='cuda:0')\n",
      "binary step: 6; number of successful adv: 100/100\n",
      "    step: 0; loss: 55.351; l2dist: 0.000\n",
      "    step: 50; loss: 47.304; l2dist: 1.001\n",
      "    step: 100; loss: 42.876; l2dist: 1.392\n",
      "    step: 150; loss: 39.909; l2dist: 1.661\n",
      "    step: 200; loss: 38.526; l2dist: 1.748\n",
      "    step: 250; loss: 37.876; l2dist: 1.770\n",
      "    step: 300; loss: 36.531; l2dist: 1.771\n"
     ]
    },
    {
     "name": "stdout",
     "output_type": "stream",
     "text": [
      "    step: 350; loss: 34.439; l2dist: 1.733\n",
      "    step: 400; loss: 32.942; l2dist: 1.713\n",
      "    step: 450; loss: 32.025; l2dist: 1.697\n",
      "tensor(54., device='cuda:0')\n",
      "binary step: 7; number of successful adv: 100/100\n",
      "    step: 0; loss: 56.760; l2dist: 0.000\n",
      "    step: 50; loss: 48.469; l2dist: 1.000\n",
      "    step: 100; loss: 43.912; l2dist: 1.390\n",
      "    step: 150; loss: 40.861; l2dist: 1.658\n",
      "    step: 200; loss: 39.401; l2dist: 1.743\n",
      "    step: 250; loss: 38.715; l2dist: 1.767\n",
      "    step: 300; loss: 37.333; l2dist: 1.768\n",
      "    step: 350; loss: 35.215; l2dist: 1.730\n",
      "    step: 400; loss: 33.699; l2dist: 1.710\n",
      "    step: 450; loss: 32.740; l2dist: 1.697\n",
      "tensor(53., device='cuda:0')\n",
      "binary step: 8; number of successful adv: 100/100\n",
      "    step: 0; loss: 58.700; l2dist: 0.000\n",
      "    step: 50; loss: 50.075; l2dist: 1.003\n",
      "    step: 100; loss: 45.335; l2dist: 1.396\n",
      "    step: 150; loss: 42.163; l2dist: 1.666\n",
      "    step: 200; loss: 40.611; l2dist: 1.752\n",
      "    step: 250; loss: 39.883; l2dist: 1.777\n",
      "    step: 300; loss: 38.434; l2dist: 1.777\n",
      "    step: 350; loss: 36.243; l2dist: 1.742\n",
      "    step: 400; loss: 34.604; l2dist: 1.730\n",
      "    step: 450; loss: 33.576; l2dist: 1.718\n",
      "tensor(100., device='cuda:0')\n",
      "binary step: 9; number of successful adv: 100/100\n"
     ]
    }
   ],
   "source": [
    "# attack = DKNNAttack()\n",
    "\n",
    "from lib.dknn_attack_l2 import DKNNL2Attack\n",
    "attack = DKNNL2Attack()\n",
    "\n",
    "def attack_batch(x, y, batch_size):\n",
    "    x_adv = torch.zeros_like(x)\n",
    "    total_num = x.size(0)\n",
    "    num_batches = total_num // batch_size\n",
    "    for i in range(num_batches):\n",
    "        begin = i * batch_size\n",
    "        end = (i + 1) * batch_size\n",
    "        x_adv[begin:end] = attack(\n",
    "            dknn, x[begin:end], y[begin:end],\n",
    "            guide_layer=layers[0], m=100, binary_search_steps=10,\n",
    "            max_iterations=500, learning_rate=1e-2,\n",
    "            initial_const=1e-3, abort_early=True)\n",
    "    return x_adv\n",
    "\n",
    "x_adv = attack_batch(x_test[:1000].cuda(), y_test[:1000], 100)"
   ]
  },
  {
   "cell_type": "code",
   "execution_count": 13,
   "metadata": {},
   "outputs": [
    {
     "data": {
      "text/plain": [
       "0.002"
      ]
     },
     "execution_count": 13,
     "metadata": {},
     "output_type": "execute_result"
    }
   ],
   "source": [
    "y_pred = dknn.classify(x_adv)\n",
    "(y_pred.argmax(1) == y_test[:1000].numpy()).sum() / len(y_pred)"
   ]
  },
  {
   "cell_type": "code",
   "execution_count": 14,
   "metadata": {},
   "outputs": [
    {
     "data": {
      "text/plain": [
       "(array([997.,   0.,   0.,   0.,   0.,   0.,   0.,   0.,   0.,   3.]),\n",
       " array([0.0085 , 0.10765, 0.2068 , 0.30595, 0.4051 , 0.50425, 0.6034 ,\n",
       "        0.70255, 0.8017 , 0.90085, 1.     ]),\n",
       " <a list of 10 Patch objects>)"
      ]
     },
     "execution_count": 14,
     "metadata": {},
     "output_type": "execute_result"
    },
    {
     "data": {
      "image/png": "[encoded data removed]",
      "text/plain": [
       "<Figure size 432x288 with 1 Axes>"
      ]
     },
     "metadata": {
      "needs_background": "light"
     },
     "output_type": "display_data"
    }
   ],
   "source": [
    "cred = dknn.credibility(y_pred)\n",
    "plt.hist(cred)"
   ]
  },
  {
   "cell_type": "code",
   "execution_count": 15,
   "metadata": {
    "scrolled": true
   },
   "outputs": [
    {
     "data": {
      "image/png": "[encoded data removed]",
      "text/plain": [
       "<Figure size 432x288 with 1 Axes>"
      ]
     },
     "metadata": {
      "needs_background": "light"
     },
     "output_type": "display_data"
    },
    {
     "data": {
      "image/png": "[encoded data removed]",
      "text/plain": [
       "<Figure size 432x288 with 1 Axes>"
      ]
     },
     "metadata": {
      "needs_background": "light"
     },
     "output_type": "display_data"
    },
    {
     "data": {
      "image/png": "[encoded data removed]",
      "text/plain": [
       "<Figure size 432x288 with 1 Axes>"
      ]
     },
     "metadata": {
      "needs_background": "light"
     },
     "output_type": "display_data"
    },
    {
     "data": {
      "image/png": "[encoded data removed]",
      "text/plain": [
       "<Figure size 432x288 with 1 Axes>"
      ]
     },
     "metadata": {
      "needs_background": "light"
     },
     "output_type": "display_data"
    },
    {
     "data": {
      "image/png": "[encoded data removed]",
      "text/plain": [
       "<Figure size 432x288 with 1 Axes>"
      ]
     },
     "metadata": {
      "needs_background": "light"
     },
     "output_type": "display_data"
    }
   ],
   "source": [
    "for i in range(5):\n",
    "    plt.imshow(x_adv[i + 990].cpu().detach().numpy().squeeze(), cmap='gray')\n",
    "    plt.show()"
   ]
  },
  {
   "cell_type": "code",
   "execution_count": 16,
   "metadata": {},
   "outputs": [
    {
     "data": {
      "text/plain": [
       "2.1055484"
      ]
     },
     "execution_count": 16,
     "metadata": {},
     "output_type": "execute_result"
    }
   ],
   "source": [
    "y_clean = dknn.classify(x_test[:1000])\n",
    "ind = (y_clean.argmax(1) == y_test[:1000].numpy()) & (y_pred.argmax(1) != y_test[:1000].numpy())\n",
    "np.mean(np.sqrt(np.sum((x_adv.cpu().detach().numpy()[ind] - x_test.numpy()[:1000][ind])**2, (1, 2, 3))))"
   ]
  },
  {
   "cell_type": "markdown",
   "metadata": {},
   "source": [
    "## CW L2 Attack\n",
    "\n",
    "without DkNN"
   ]
  },
  {
   "cell_type": "code",
   "execution_count": null,
   "metadata": {
    "scrolled": true
   },
   "outputs": [],
   "source": [
    "attack = CWL2Attack()\n",
    "\n",
    "def attack_batch(x, y, batch_size):\n",
    "    x_adv = torch.zeros_like(x)\n",
    "    total_num = x.size(0)\n",
    "    num_batches = total_num // batch_size\n",
    "    for i in range(num_batches):\n",
    "        begin = i * batch_size\n",
    "        end = (i + 1) * batch_size\n",
    "        x_adv[begin:end] = attack(\n",
    "            net, x[begin:end], y[begin:end], targeted=False,\n",
    "            binary_search_steps=5, max_iterations=500,\n",
    "            confidence=0, learning_rate=1e-1,\n",
    "            initial_const=1, abort_early=True)\n",
    "    return x_adv\n",
    "\n",
    "x_adv = attack_batch(x_test[:1000].cuda(), y_test[:1000].cuda(), 100)"
   ]
  },
  {
   "cell_type": "code",
   "execution_count": 273,
   "metadata": {},
   "outputs": [
    {
     "ename": "AttributeError",
     "evalue": "'tuple' object has no attribute 'argmax'",
     "output_type": "error",
     "traceback": [
      "\u001b[0;31m---------------------------------------------------------------------------\u001b[0m",
      "\u001b[0;31mAttributeError\u001b[0m                            Traceback (most recent call last)",
      "\u001b[0;32m<ipython-input-273-bcd43926535c>\u001b[0m in \u001b[0;36m<module>\u001b[0;34m\u001b[0m\n\u001b[1;32m      1\u001b[0m \u001b[0my_pred\u001b[0m \u001b[0;34m=\u001b[0m \u001b[0mnet\u001b[0m\u001b[0;34m(\u001b[0m\u001b[0mx_adv\u001b[0m\u001b[0;34m)\u001b[0m\u001b[0;34m\u001b[0m\u001b[0m\n\u001b[0;32m----> 2\u001b[0;31m \u001b[0;34m(\u001b[0m\u001b[0my_pred\u001b[0m\u001b[0;34m.\u001b[0m\u001b[0margmax\u001b[0m\u001b[0;34m(\u001b[0m\u001b[0;36m1\u001b[0m\u001b[0;34m)\u001b[0m\u001b[0;34m.\u001b[0m\u001b[0mcpu\u001b[0m\u001b[0;34m(\u001b[0m\u001b[0;34m)\u001b[0m \u001b[0;34m==\u001b[0m \u001b[0my_test\u001b[0m\u001b[0;34m[\u001b[0m\u001b[0;34m:\u001b[0m\u001b[0;36m1000\u001b[0m\u001b[0;34m]\u001b[0m\u001b[0;34m)\u001b[0m\u001b[0;34m.\u001b[0m\u001b[0mnumpy\u001b[0m\u001b[0;34m(\u001b[0m\u001b[0;34m)\u001b[0m\u001b[0;34m.\u001b[0m\u001b[0msum\u001b[0m\u001b[0;34m(\u001b[0m\u001b[0;34m)\u001b[0m \u001b[0;34m/\u001b[0m \u001b[0my_pred\u001b[0m\u001b[0;34m.\u001b[0m\u001b[0msize\u001b[0m\u001b[0;34m(\u001b[0m\u001b[0;36m0\u001b[0m\u001b[0;34m)\u001b[0m\u001b[0;34m\u001b[0m\u001b[0m\n\u001b[0m",
      "\u001b[0;31mAttributeError\u001b[0m: 'tuple' object has no attribute 'argmax'"
     ]
    }
   ],
   "source": [
    "y_pred = net(x_adv)\n",
    "(y_pred.argmax(1).cpu() == y_test[:1000]).numpy().sum() / y_pred.size(0)"
   ]
  },
  {
   "cell_type": "code",
   "execution_count": 274,
   "metadata": {},
   "outputs": [
    {
     "data": {
      "text/plain": [
       "0.702"
      ]
     },
     "execution_count": 274,
     "metadata": {},
     "output_type": "execute_result"
    }
   ],
   "source": [
    "y_pred = dknn.classify(x_adv)\n",
    "(y_pred.argmax(1) == y_test[:1000].numpy()).sum() / len(y_pred)"
   ]
  },
  {
   "cell_type": "code",
   "execution_count": 90,
   "metadata": {},
   "outputs": [
    {
     "data": {
      "text/plain": [
       "(array([139.,  46.,  23.,  19.,   3.,   3.,   4.,   2.,   2.,   3.]),\n",
       " array([0.0165    , 0.08763333, 0.15876667, 0.2299    , 0.30103333,\n",
       "        0.37216667, 0.4433    , 0.51443333, 0.58556667, 0.6567    ,\n",
       "        0.72783333]),\n",
       " <a list of 10 Patch objects>)"
      ]
     },
     "execution_count": 90,
     "metadata": {},
     "output_type": "execute_result"
    },
    {
     "data": {
      "image/png": "[encoded data removed]",
      "text/plain": [
       "<Figure size 432x288 with 1 Axes>"
      ]
     },
     "metadata": {
      "needs_background": "light"
     },
     "output_type": "display_data"
    }
   ],
   "source": [
    "cred = dknn.credibility(y_pred)\n",
    "suc_ind = y_pred.argmax(1) != y_test[:1000].numpy()\n",
    "plt.hist(cred[suc_ind])"
   ]
  },
  {
   "cell_type": "code",
   "execution_count": 87,
   "metadata": {},
   "outputs": [
    {
     "data": {
      "text/plain": [
       "<matplotlib.image.AxesImage at 0x7f5e5ddbbac8>"
      ]
     },
     "execution_count": 87,
     "metadata": {},
     "output_type": "execute_result"
    },
    {
     "data": {
      "image/png": "[encoded data removed]",
      "text/plain": [
       "<Figure size 432x288 with 1 Axes>"
      ]
     },
     "metadata": {
      "needs_background": "light"
     },
     "output_type": "display_data"
    }
   ],
   "source": [
    "plt.imshow(x_adv[0].cpu().detach().numpy().squeeze(), cmap='gray')"
   ]
  },
  {
   "cell_type": "code",
   "execution_count": 88,
   "metadata": {},
   "outputs": [
    {
     "data": {
      "text/plain": [
       "tensor(0.7349, grad_fn=<MeanBackward1>)"
      ]
     },
     "execution_count": 88,
     "metadata": {},
     "output_type": "execute_result"
    }
   ],
   "source": [
    "(x_adv.cpu() - x_test[:1000]).view(1000, -1).norm(dim=0).mean()"
   ]
  },
  {
   "cell_type": "markdown",
   "metadata": {},
   "source": [
    "---"
   ]
  },
  {
   "cell_type": "code",
   "execution_count": 27,
   "metadata": {},
   "outputs": [],
   "source": [
    "# Set all random seeds\n",
    "exp_id = 0\n",
    "seed = 2019\n",
    "np.random.seed(seed)\n",
    "torch.manual_seed(seed)\n",
    "\n",
    "device = 'cuda' if torch.cuda.is_available() else 'cpu'\n",
    "\n",
    "# Set up model directory\n",
    "save_dir = os.path.join(os.getcwd(), 'saved_models')\n",
    "model_name = 'train_mnist_cav_exp%d.h5' % exp_id\n",
    "if not os.path.isdir(save_dir):\n",
    "    os.makedirs(save_dir)\n",
    "model_path = os.path.join(save_dir, model_name)\n",
    "\n",
    "net = ClassAuxVAE((1, 28, 28), num_classes=10, latent_dim=20)\n",
    "net = net.to(device)\n",
    "if device == 'cuda':\n",
    "    net = torch.nn.DataParallel(net)\n",
    "    cudnn.benchmark = True\n",
    "net.load_state_dict(torch.load(model_path))\n",
    "net = net.module\n",
    "net.eval()\n",
    "\n",
    "(x_train, y_train), (x_valid, y_valid), (x_test, y_test) = load_mnist_all(\n",
    "    '/data', val_size=0.1, seed=seed)"
   ]
  },
  {
   "cell_type": "code",
   "execution_count": 32,
   "metadata": {},
   "outputs": [],
   "source": [
    "x_train = x_train.to(device)\n",
    "x_test = x_test.to(device)\n",
    "x_valid = x_valid.to(device)"
   ]
  },
  {
   "cell_type": "code",
   "execution_count": 28,
   "metadata": {},
   "outputs": [
    {
     "data": {
      "text/plain": [
       "ClassAuxVAE(\n",
       "  (en_conv1): Conv2d(1, 64, kernel_size=(8, 8), stride=(2, 2), padding=(3, 3))\n",
       "  (relu1): ReLU(inplace)\n",
       "  (en_conv2): Conv2d(64, 128, kernel_size=(6, 6), stride=(2, 2), padding=(3, 3))\n",
       "  (relu2): ReLU(inplace)\n",
       "  (en_conv3): Conv2d(128, 128, kernel_size=(5, 5), stride=(1, 1))\n",
       "  (relu3): ReLU(inplace)\n",
       "  (en_fc1): Linear(in_features=2048, out_features=128, bias=True)\n",
       "  (relu4): ReLU(inplace)\n",
       "  (en_mu): Linear(in_features=128, out_features=20, bias=True)\n",
       "  (en_logvar): Linear(in_features=128, out_features=20, bias=True)\n",
       "  (de_fc1): Linear(in_features=20, out_features=128, bias=True)\n",
       "  (de_fc2): Linear(in_features=128, out_features=1568, bias=True)\n",
       "  (ax_fc1): Linear(in_features=20, out_features=128, bias=True)\n",
       "  (ax_fc2): Linear(in_features=128, out_features=10, bias=True)\n",
       ")"
      ]
     },
     "execution_count": 28,
     "metadata": {},
     "output_type": "execute_result"
    }
   ],
   "source": [
    "net"
   ]
  },
  {
   "cell_type": "code",
   "execution_count": 59,
   "metadata": {
    "scrolled": true
   },
   "outputs": [],
   "source": [
    "layers = ['en_mu']\n",
    "net = net.to(device)\n",
    "with torch.no_grad():\n",
    "    dknn = DKNN(net, x_train, y_train, x_valid, y_valid, layers, \n",
    "                k=10, num_classes=10)\n",
    "    y_pred = dknn.classify(x_test)"
   ]
  },
  {
   "cell_type": "code",
   "execution_count": 60,
   "metadata": {},
   "outputs": [
    {
     "data": {
      "text/plain": [
       "0.964"
      ]
     },
     "execution_count": 60,
     "metadata": {},
     "output_type": "execute_result"
    }
   ],
   "source": [
    "(y_pred.argmax(1) == y_test.numpy()).sum() / y_test.size(0)"
   ]
  },
  {
   "cell_type": "code",
   "execution_count": 61,
   "metadata": {},
   "outputs": [
    {
     "data": {
      "text/plain": [
       "(array([ 741., 1243.,    0.,    0.,    0.,    0.,    0.,    0.,    0.,\n",
       "        8016.]),\n",
       " array([0.01683333, 0.11515   , 0.21346667, 0.31178333, 0.4101    ,\n",
       "        0.50841667, 0.60673333, 0.70505   , 0.80336667, 0.90168333,\n",
       "        1.        ]),\n",
       " <a list of 10 Patch objects>)"
      ]
     },
     "execution_count": 61,
     "metadata": {},
     "output_type": "execute_result"
    },
    {
     "data": {
      "image/png": "[encoded data removed]",
      "text/plain": [
       "<Figure size 432x288 with 1 Axes>"
      ]
     },
     "metadata": {
      "needs_background": "light"
     },
     "output_type": "display_data"
    }
   ],
   "source": [
    "cred = dknn.credibility(y_pred)\n",
    "plt.hist(cred)"
   ]
  },
  {
   "cell_type": "code",
   "execution_count": 62,
   "metadata": {
    "scrolled": true
   },
   "outputs": [
    {
     "name": "stdout",
     "output_type": "stream",
     "text": [
      "    step: 0; loss: -10.374; l2dist: 0.000\n",
      "    step: 50; loss: -16.516; l2dist: 2.206\n",
      "    step: 100; loss: -17.532; l2dist: 2.233\n",
      "    step: 150; loss: -21.379; l2dist: 2.383\n",
      "    step: 200; loss: -23.950; l2dist: 2.461\n",
      "    step: 250; loss: -25.525; l2dist: 2.522\n",
      "    step: 300; loss: -26.562; l2dist: 2.575\n",
      "    step: 350; loss: -27.237; l2dist: 2.610\n",
      "    step: 400; loss: -27.690; l2dist: 2.641\n",
      "    step: 450; loss: -27.980; l2dist: 2.662\n",
      "binary step: 0; number of successful adv: 732/1000\n",
      "    step: 0; loss: -31.082; l2dist: 0.000\n",
      "    step: 50; loss: -80.035; l2dist: 2.555\n",
      "    step: 100; loss: -102.080; l2dist: 2.891\n",
      "    step: 150; loss: -113.852; l2dist: 3.048\n",
      "    step: 200; loss: -119.545; l2dist: 3.074\n",
      "    step: 250; loss: -122.952; l2dist: 3.069\n",
      "    step: 300; loss: -125.118; l2dist: 3.057\n",
      "    step: 350; loss: -126.465; l2dist: 3.052\n",
      "    step: 400; loss: -127.398; l2dist: 3.048\n",
      "    step: 450; loss: -127.963; l2dist: 3.048\n",
      "binary step: 1; number of successful adv: 1000/1000\n",
      "    step: 0; loss: -18.453; l2dist: 0.000\n",
      "    step: 50; loss: -41.968; l2dist: 2.307\n",
      "    step: 100; loss: -50.826; l2dist: 2.505\n",
      "    step: 150; loss: -58.404; l2dist: 2.650\n",
      "    step: 200; loss: -62.506; l2dist: 2.697\n",
      "    step: 250; loss: -64.977; l2dist: 2.730\n",
      "    step: 300; loss: -66.444; l2dist: 2.758\n",
      "    step: 350; loss: -67.368; l2dist: 2.784\n",
      "    step: 400; loss: -68.046; l2dist: 2.805\n",
      "    step: 450; loss: -68.504; l2dist: 2.821\n",
      "binary step: 2; number of successful adv: 1000/1000\n",
      "    step: 0; loss: -12.291; l2dist: 0.000\n",
      "    step: 50; loss: -23.981; l2dist: 2.042\n",
      "    step: 100; loss: -27.347; l2dist: 2.139\n",
      "    step: 150; loss: -31.913; l2dist: 2.274\n",
      "    step: 200; loss: -34.881; l2dist: 2.359\n",
      "    step: 250; loss: -36.645; l2dist: 2.417\n",
      "    step: 300; loss: -37.730; l2dist: 2.470\n",
      "    step: 350; loss: -38.446; l2dist: 2.513\n",
      "    step: 400; loss: -38.975; l2dist: 2.552\n",
      "    step: 450; loss: -39.337; l2dist: 2.582\n",
      "binary step: 3; number of successful adv: 1000/1000\n",
      "    step: 0; loss: -9.416; l2dist: 0.000\n",
      "    step: 50; loss: -16.268; l2dist: 1.800\n",
      "    step: 100; loss: -17.725; l2dist: 1.852\n",
      "    step: 150; loss: -20.717; l2dist: 1.967\n",
      "    step: 200; loss: -22.756; l2dist: 2.050\n",
      "    step: 250; loss: -24.101; l2dist: 2.127\n",
      "    step: 300; loss: -24.973; l2dist: 2.191\n",
      "    step: 350; loss: -25.603; l2dist: 2.247\n",
      "    step: 400; loss: -26.060; l2dist: 2.291\n",
      "    step: 450; loss: -26.376; l2dist: 2.325\n",
      "binary step: 4; number of successful adv: 1000/1000\n"
     ]
    }
   ],
   "source": [
    "from lib.dknn_attack import DKNNAttack\n",
    "\n",
    "attack = DKNNAttack()\n",
    "x_adv = attack(dknn, x_test[:1000], y_test[:1000],\n",
    "               guide_layer='en_mu', binary_search_steps=5,\n",
    "               max_iterations=500, learning_rate=1e-1,\n",
    "               initial_const=1, abort_early=True)"
   ]
  },
  {
   "cell_type": "code",
   "execution_count": 18,
   "metadata": {},
   "outputs": [
    {
     "data": {
      "text/plain": [
       "0"
      ]
     },
     "execution_count": 18,
     "metadata": {},
     "output_type": "execute_result"
    }
   ],
   "source": [
    "y_pred = dknn.classify(x_adv)\n",
    "(y_pred.argmax(1) == y_test[:1000].numpy()).sum()"
   ]
  },
  {
   "cell_type": "code",
   "execution_count": 40,
   "metadata": {
    "scrolled": true
   },
   "outputs": [
    {
     "data": {
      "text/plain": [
       "torch.Size([1000, 128, 4, 4])"
      ]
     },
     "execution_count": 40,
     "metadata": {},
     "output_type": "execute_result"
    }
   ],
   "source": [
    "x.size()"
   ]
  },
  {
   "cell_type": "code",
   "execution_count": 41,
   "metadata": {},
   "outputs": [
    {
     "data": {
      "text/plain": [
       "tensor([1.0000, 1.0000, 1.0000, 1.0000, 1.0000, 1.0000, 1.0000, 1.0000, 1.0000,\n",
       "        1.0000, 1.0000, 1.0000, 1.0000, 1.0000, 1.0000, 1.0000, 1.0000, 1.0000,\n",
       "        1.0000, 1.0000, 1.0000, 1.0000, 1.0000, 1.0000, 1.0000, 1.0000, 1.0000,\n",
       "        1.0000, 1.0000, 1.0000, 1.0000, 1.0000, 1.0000, 1.0000, 1.0000, 1.0000,\n",
       "        1.0000, 1.0000, 1.0000, 1.0000, 1.0000, 1.0000, 1.0000, 1.0000, 1.0000,\n",
       "        1.0000, 1.0000, 1.0000, 1.0000, 1.0000, 1.0000, 1.0000, 1.0000, 1.0000,\n",
       "        1.0000, 1.0000, 1.0000, 1.0000, 1.0000, 1.0000, 1.0000, 1.0000, 1.0000,\n",
       "        1.0000, 1.0000, 1.0000, 1.0000, 1.0000, 1.0000, 1.0000, 1.0000, 1.0000,\n",
       "        1.0000, 1.0000, 1.0000, 1.0000, 1.0000, 1.0000, 1.0000, 1.0000, 1.0000,\n",
       "        1.0000, 1.0000, 1.0000, 1.0000, 1.0000, 1.0000, 1.0000, 1.0000, 1.0000,\n",
       "        1.0000, 1.0000, 1.0000, 1.0000, 1.0000, 1.0000, 1.0000, 1.0000, 1.0000,\n",
       "        1.0000, 1.0000, 1.0000, 1.0000, 1.0000, 1.0000, 1.0000, 1.0000, 1.0000,\n",
       "        1.0000, 1.0000, 1.0000, 1.0000, 1.0000, 1.0000, 1.0000, 1.0000, 1.0000,\n",
       "        1.0000, 1.0000, 1.0000, 1.0000, 1.0000, 1.0000, 1.0000, 1.0000, 1.0000,\n",
       "        1.0000, 1.0000, 1.0000, 1.0000, 1.0000, 1.0000, 1.0000, 1.0000, 1.0000,\n",
       "        1.0000, 1.0000, 1.0000, 1.0000, 1.0000, 1.0000, 1.0000, 1.0000, 1.0000,\n",
       "        1.0000, 1.0000, 1.0000, 1.0000, 1.0000, 1.0000, 1.0000, 1.0000, 1.0000,\n",
       "        1.0000, 1.0000, 1.0000, 1.0000, 1.0000, 1.0000, 1.0000, 1.0000, 1.0000,\n",
       "        1.0000, 1.0000, 1.0000, 1.0000, 1.0000, 1.0000, 1.0000, 1.0000, 1.0000,\n",
       "        1.0000, 1.0000, 1.0000, 1.0000, 1.0000, 1.0000, 1.0000, 1.0000, 1.0000,\n",
       "        1.0000, 1.0000, 1.0000, 1.0000, 1.0000, 1.0000, 1.0000, 1.0000, 1.0000,\n",
       "        1.0000, 1.0000, 1.0000, 1.0000, 1.0000, 1.0000, 1.0000, 1.0000, 1.0000,\n",
       "        1.0000, 1.0000, 1.0000, 1.0000, 1.0000, 1.0000, 1.0000, 1.0000, 1.0000,\n",
       "        1.0000, 1.0000, 1.0000, 1.0000, 1.0000, 1.0000, 1.0000, 1.0000, 1.0000,\n",
       "        1.0000, 1.0000, 1.0000, 1.0000, 1.0000, 1.0000, 1.0000, 1.0000, 1.0000,\n",
       "        1.0000, 1.0000, 1.0000, 1.0000, 1.0000, 1.0000, 1.0000, 1.0000, 1.0000,\n",
       "        1.0000, 1.0000, 1.0000, 1.0000, 1.0000, 1.0000, 1.0000, 1.0000, 1.0000,\n",
       "        1.0000, 1.0000, 1.0000, 1.0000, 1.0000, 1.0000, 1.0000, 1.0000, 1.0000,\n",
       "        1.0000, 1.0000, 1.0000, 1.0000, 1.0000, 1.0000, 1.0000, 1.0000, 1.0000,\n",
       "        1.0000, 1.0000, 1.0000, 1.0000, 1.0000, 1.0000, 1.0000, 1.0000, 1.0000,\n",
       "        1.0000, 1.0000, 1.0000, 1.0000, 1.0000, 1.0000, 1.0000, 1.0000, 1.0000,\n",
       "        1.0000, 1.0000, 1.0000, 1.0000, 1.0000, 1.0000, 1.0000, 1.0000, 1.0000,\n",
       "        1.0000, 1.0000, 1.0000, 1.0000, 1.0000, 1.0000, 1.0000, 1.0000, 1.0000,\n",
       "        1.0000, 1.0000, 1.0000, 1.0000, 1.0000, 1.0000, 1.0000, 1.0000, 1.0000,\n",
       "        1.0000, 1.0000, 1.0000, 1.0000, 1.0000, 1.0000, 1.0000, 1.0000, 1.0000,\n",
       "        1.0000, 1.0000, 1.0000, 1.0000, 1.0000, 1.0000, 1.0000, 1.0000, 1.0000,\n",
       "        1.0000, 1.0000, 1.0000, 1.0000, 1.0000, 1.0000, 1.0000, 1.0000, 1.0000,\n",
       "        1.0000, 1.0000, 1.0000, 1.0000, 1.0000, 1.0000, 1.0000, 1.0000, 1.0000,\n",
       "        1.0000, 1.0000, 1.0000, 1.0000, 1.0000, 1.0000, 1.0000, 1.0000, 1.0000,\n",
       "        1.0000, 1.0000, 1.0000, 1.0000, 1.0000, 1.0000, 1.0000, 1.0000, 1.0000,\n",
       "        1.0000, 1.0000, 1.0000, 1.0000, 1.0000, 1.0000, 1.0000, 1.0000, 1.0000,\n",
       "        1.0000, 1.0000, 1.0000, 1.0000, 1.0000, 1.0000, 1.0000, 1.0000, 1.0000,\n",
       "        1.0000, 1.0000, 1.0000, 1.0000, 1.0000, 1.0000, 1.0000, 1.0000, 1.0000,\n",
       "        1.0000, 1.0000, 1.0000, 1.0000, 1.0000, 1.0000, 1.0000, 1.0000, 1.0000,\n",
       "        1.0000, 1.0000, 1.0000, 1.0000, 1.0000, 1.0000, 1.0000, 1.0000, 1.0000,\n",
       "        1.0000, 1.0000, 1.0000, 1.0000, 1.0000, 1.0000, 1.0000, 1.0000, 1.0000,\n",
       "        1.0000, 1.0000, 1.0000, 1.0000, 1.0000, 1.0000, 1.0000, 1.0000, 1.0000,\n",
       "        1.0000, 1.0000, 1.0000, 1.0000, 1.0000, 1.0000, 1.0000, 1.0000, 1.0000,\n",
       "        1.0000, 1.0000, 1.0000, 1.0000, 1.0000, 1.0000, 1.0000, 1.0000, 1.0000,\n",
       "        1.0000, 1.0000, 1.0000, 1.0000, 1.0000, 1.0000, 1.0000, 1.0000, 1.0000,\n",
       "        1.0000, 1.0000, 1.0000, 1.0000, 1.0000, 1.0000, 1.0000, 1.0000, 1.0000,\n",
       "        1.0000, 1.0000, 1.0000, 1.0000, 1.0000, 1.0000, 1.0000, 1.0000, 1.0000,\n",
       "        1.0000, 1.0000, 1.0000, 1.0000, 1.0000, 1.0000, 1.0000, 1.0000, 1.0000,\n",
       "        1.0000, 1.0000, 1.0000, 1.0000, 1.0000, 1.0000, 1.0000, 1.0000, 1.0000,\n",
       "        1.0000, 1.0000, 1.0000, 1.0000, 1.0000, 1.0000, 1.0000, 1.0000, 1.0000,\n",
       "        1.0000, 1.0000, 1.0000, 1.0000, 1.0000, 1.0000, 1.0000, 1.0000, 1.0000,\n",
       "        1.0000, 1.0000, 1.0000, 1.0000, 1.0000, 1.0000, 1.0000, 1.0000, 1.0000,\n",
       "        1.0000, 1.0000, 1.0000, 1.0000, 1.0000, 1.0000, 1.0000, 1.0000, 1.0000,\n",
       "        1.0000, 1.0000, 1.0000, 1.0000, 1.0000, 1.0000, 1.0000, 1.0000, 1.0000,\n",
       "        1.0000, 1.0000, 1.0000, 1.0000, 1.0000, 1.0000, 1.0000, 1.0000, 1.0000,\n",
       "        1.0000, 1.0000, 1.0000, 1.0000, 1.0000, 1.0000, 1.0000, 1.0000, 1.0000,\n",
       "        1.0000, 1.0000, 1.0000, 1.0000, 1.0000, 1.0000, 1.0000, 1.0000, 1.0000,\n",
       "        1.0000, 1.0000, 1.0000, 1.0000, 1.0000, 1.0000, 1.0000, 1.0000, 1.0000,\n",
       "        1.0000, 1.0000, 1.0000, 1.0000, 1.0000, 1.0000, 1.0000, 1.0000, 1.0000,\n",
       "        1.0000, 1.0000, 1.0000, 1.0000, 1.0000, 1.0000, 1.0000, 1.0000, 1.0000,\n",
       "        1.0000, 1.0000, 1.0000, 1.0000, 1.0000, 1.0000, 1.0000, 1.0000, 1.0000,\n",
       "        1.0000, 1.0000, 1.0000, 1.0000, 1.0000, 1.0000, 1.0000, 1.0000, 1.0000,\n",
       "        1.0000, 1.0000, 1.0000, 1.0000, 1.0000, 1.0000, 1.0000, 1.0000, 1.0000,\n",
       "        1.0000, 1.0000, 1.0000, 1.0000, 1.0000, 1.0000, 1.0000, 1.0000, 1.0000,\n",
       "        1.0000, 1.0000, 1.0000, 1.0000, 1.0000, 1.0000, 1.0000, 1.0000, 1.0000,\n",
       "        1.0000, 1.0000, 1.0000, 1.0000, 1.0000, 1.0000, 1.0000, 1.0000, 1.0000,\n",
       "        1.0000, 1.0000, 1.0000, 1.0000, 1.0000, 1.0000, 1.0000, 1.0000, 1.0000,\n",
       "        1.0000, 1.0000, 1.0000, 1.0000, 1.0000, 1.0000, 1.0000, 1.0000, 1.0000,\n",
       "        1.0000, 1.0000, 1.0000, 1.0000, 1.0000, 1.0000, 1.0000, 1.0000, 1.0000,\n",
       "        1.0000, 1.0000, 1.0000, 1.0000, 1.0000, 1.0000, 1.0000, 1.0000, 1.0000,\n",
       "        1.0000, 1.0000, 1.0000, 1.0000, 1.0000, 1.0000, 1.0000, 1.0000, 1.0000,\n",
       "        1.0000, 1.0000, 1.0000, 1.0000, 1.0000, 1.0000, 1.0000, 1.0000, 1.0000,\n",
       "        1.0000, 1.0000, 1.0000, 1.0000, 1.0000, 1.0000, 1.0000, 1.0000, 1.0000,\n",
       "        1.0000, 1.0000, 1.0000, 1.0000, 1.0000, 1.0000, 1.0000, 1.0000, 1.0000,\n",
       "        1.0000, 1.0000, 1.0000, 1.0000, 1.0000, 1.0000, 1.0000, 1.0000, 1.0000,\n",
       "        1.0000, 1.0000, 1.0000, 1.0000, 1.0000, 1.0000, 1.0000, 1.0000, 1.0000,\n",
       "        1.0000, 1.0000, 1.0000, 1.0000, 1.0000, 1.0000, 1.0000, 1.0000, 1.0000,\n",
       "        1.0000, 1.0000, 1.0000, 1.0000, 1.0000, 1.0000, 1.0000, 1.0000, 1.0000,\n",
       "        1.0000, 1.0000, 1.0000, 1.0000, 1.0000, 1.0000, 1.0000, 1.0000, 1.0000,\n",
       "        1.0000, 1.0000, 1.0000, 1.0000, 1.0000, 1.0000, 1.0000, 1.0000, 1.0000,\n",
       "        1.0000, 1.0000, 1.0000, 1.0000, 1.0000, 1.0000, 1.0000, 1.0000, 1.0000,\n",
       "        1.0000, 1.0000, 1.0000, 1.0000, 1.0000, 1.0000, 1.0000, 1.0000, 1.0000,\n",
       "        1.0000, 1.0000, 1.0000, 1.0000, 1.0000, 1.0000, 1.0000, 1.0000, 1.0000,\n",
       "        1.0000, 1.0000, 1.0000, 1.0000, 1.0000, 1.0000, 1.0000, 1.0000, 1.0000,\n",
       "        1.0000, 1.0000, 1.0000, 1.0000, 1.0000, 1.0000, 1.0000, 1.0000, 1.0000,\n",
       "        1.0000, 1.0000, 1.0000, 1.0000, 1.0000, 1.0000, 1.0000, 1.0000, 1.0000,\n",
       "        1.0000, 1.0000, 1.0000, 1.0000, 1.0000, 1.0000, 1.0000, 1.0000, 1.0000,\n",
       "        1.0000, 1.0000, 1.0000, 1.0000, 1.0000, 1.0000, 1.0000, 1.0000, 1.0000,\n",
       "        1.0000, 1.0000, 1.0000, 1.0000, 1.0000, 1.0000, 1.0000, 1.0000, 1.0000,\n",
       "        1.0000, 1.0000, 1.0000, 1.0000, 1.0000, 1.0000, 1.0000, 1.0000, 1.0000,\n",
       "        1.0000, 1.0000, 1.0000, 1.0000, 1.0000, 1.0000, 1.0000, 1.0000, 1.0000,\n",
       "        1.0000, 1.0000, 1.0000, 1.0000, 1.0000, 1.0000, 1.0000, 1.0000, 1.0000,\n",
       "        1.0000, 1.0000, 1.0000, 1.0000, 1.0000, 1.0000, 1.0000, 1.0000, 1.0000,\n",
       "        1.0000, 1.0000, 1.0000, 1.0000, 1.0000, 1.0000, 1.0000, 1.0000, 1.0000,\n",
       "        1.0000, 1.0000, 1.0000, 1.0000, 1.0000, 1.0000, 1.0000, 1.0000, 1.0000,\n",
       "        1.0000, 1.0000, 1.0000, 1.0000, 1.0000, 1.0000, 1.0000, 1.0000, 1.0000,\n",
       "        1.0000, 1.0000, 1.0000, 1.0000, 1.0000, 1.0000, 1.0000, 1.0000, 1.0000,\n",
       "        1.0000, 1.0000, 1.0000, 1.0000, 1.0000, 1.0000, 1.0000, 1.0000, 1.0000,\n",
       "        1.0000, 1.0000, 1.0000, 1.0000, 1.0000, 1.0000, 1.0000, 1.0000, 1.0000,\n",
       "        1.0000, 1.0000, 1.0000, 1.0000, 1.0000, 1.0000, 1.0000, 1.0000, 1.0000,\n",
       "        1.0000, 1.0000, 1.0000, 1.0000, 1.0000, 1.0000, 1.0000, 1.0000, 1.0000,\n",
       "        1.0000, 1.0000, 1.0000, 1.0000, 1.0000, 1.0000, 1.0000, 1.0000, 1.0000,\n",
       "        1.0000, 1.0000, 1.0000, 1.0000, 1.0000, 1.0000, 1.0000, 1.0000, 1.0000,\n",
       "        1.0000, 1.0000, 1.0000, 1.0000, 1.0000, 1.0000, 1.0000, 1.0000, 1.0000,\n",
       "        1.0000, 1.0000, 1.0000, 1.0000, 1.0000, 1.0000, 1.0000, 1.0000, 1.0000,\n",
       "        1.0000, 1.0000, 1.0000, 1.0000, 1.0000, 1.0000, 1.0000, 1.0000, 1.0000,\n",
       "        1.0000], device='cuda:0', grad_fn=<NormBackward1>)"
      ]
     },
     "execution_count": 41,
     "metadata": {},
     "output_type": "execute_result"
    }
   ],
   "source": [
    "F.normalize(x.view(1000, -1), 2, 1).norm(2, 1)"
   ]
  },
  {
   "cell_type": "code",
   "execution_count": 56,
   "metadata": {},
   "outputs": [
    {
     "data": {
      "text/plain": [
       "<matplotlib.image.AxesImage at 0x7f452c17f7f0>"
      ]
     },
     "execution_count": 56,
     "metadata": {},
     "output_type": "execute_result"
    },
    {
     "data": {
      "image/png": "[encoded data removed]",
      "text/plain": [
       "<Figure size 432x288 with 1 Axes>"
      ]
     },
     "metadata": {
      "needs_background": "light"
     },
     "output_type": "display_data"
    }
   ],
   "source": [
    "plt.imshow(x_adv[3].cpu().detach().numpy().squeeze(), cmap='gray')"
   ]
  },
  {
   "cell_type": "code",
   "execution_count": 20,
   "metadata": {},
   "outputs": [
    {
     "data": {
      "text/plain": [
       "tensor(1.9813, grad_fn=<MeanBackward1>)"
      ]
     },
     "execution_count": 20,
     "metadata": {},
     "output_type": "execute_result"
    }
   ],
   "source": [
    "(x_adv.cpu() - x_test[:1000]).view(1000, -1).norm(dim=0).mean()"
   ]
  },
  {
   "cell_type": "markdown",
   "metadata": {},
   "source": [
    "---\n",
    "# Soft DkNN"
   ]
  },
  {
   "cell_type": "code",
   "execution_count": null,
   "metadata": {},
   "outputs": [],
   "source": [
    "def attack_soft_dknn(dknn, x):\n",
    "    \n",
    "    train_reps = dknn.get_activations(dknn.x_train)[dknn.layers[0]]\n",
    "    dknn.model"
   ]
  },
  {
   "cell_type": "code",
   "execution_count": 14,
   "metadata": {},
   "outputs": [],
   "source": [
    "with torch.no_grad():\n",
    "    train_reps = dknn.get_activations(dknn.x_train)[dknn.layers[0]]\n",
    "    train_reps = F.normalize(train_reps.view(dknn.x_train.size(0), -1), 2, 1)\n",
    "    test_reps = dknn.get_activations(x_test)[dknn.layers[0]]\n",
    "    test_reps = F.normalize(test_reps.view(x_test.size(0), -1), 2, 1)"
   ]
  },
  {
   "cell_type": "code",
   "execution_count": 7,
   "metadata": {},
   "outputs": [
    {
     "ename": "NameError",
     "evalue": "name 'test_reps' is not defined",
     "output_type": "error",
     "traceback": [
      "\u001b[0;31m---------------------------------------------------------------------------\u001b[0m",
      "\u001b[0;31mNameError\u001b[0m                                 Traceback (most recent call last)",
      "\u001b[0;32m<ipython-input-7-a50f5f88d62c>\u001b[0m in \u001b[0;36m<module>\u001b[0;34m\u001b[0m\n\u001b[1;32m      4\u001b[0m \u001b[0;32mwith\u001b[0m \u001b[0mtorch\u001b[0m\u001b[0;34m.\u001b[0m\u001b[0mno_grad\u001b[0m\u001b[0;34m(\u001b[0m\u001b[0;34m)\u001b[0m\u001b[0;34m:\u001b[0m\u001b[0;34m\u001b[0m\u001b[0m\n\u001b[1;32m      5\u001b[0m     \u001b[0mlogits\u001b[0m \u001b[0;34m=\u001b[0m \u001b[0mtorch\u001b[0m\u001b[0;34m.\u001b[0m\u001b[0mempty\u001b[0m\u001b[0;34m(\u001b[0m\u001b[0;34m(\u001b[0m\u001b[0mx_test\u001b[0m\u001b[0;34m.\u001b[0m\u001b[0msize\u001b[0m\u001b[0;34m(\u001b[0m\u001b[0;36m0\u001b[0m\u001b[0;34m)\u001b[0m\u001b[0;34m,\u001b[0m \u001b[0mdknn\u001b[0m\u001b[0;34m.\u001b[0m\u001b[0mnum_classes\u001b[0m\u001b[0;34m)\u001b[0m\u001b[0;34m)\u001b[0m\u001b[0;34m\u001b[0m\u001b[0m\n\u001b[0;32m----> 6\u001b[0;31m     \u001b[0;32mfor\u001b[0m \u001b[0mi\u001b[0m\u001b[0;34m,\u001b[0m \u001b[0mtr\u001b[0m \u001b[0;32min\u001b[0m \u001b[0menumerate\u001b[0m\u001b[0;34m(\u001b[0m\u001b[0mtest_reps\u001b[0m\u001b[0;34m)\u001b[0m\u001b[0;34m:\u001b[0m\u001b[0;34m\u001b[0m\u001b[0m\n\u001b[0m\u001b[1;32m      7\u001b[0m         \u001b[0mcos\u001b[0m \u001b[0;34m=\u001b[0m \u001b[0;34m(\u001b[0m\u001b[0;34m(\u001b[0m\u001b[0mtr\u001b[0m\u001b[0;34m.\u001b[0m\u001b[0munsqueeze\u001b[0m\u001b[0;34m(\u001b[0m\u001b[0;36m0\u001b[0m\u001b[0;34m)\u001b[0m \u001b[0;34m*\u001b[0m \u001b[0mtrain_reps\u001b[0m\u001b[0;34m)\u001b[0m\u001b[0;34m.\u001b[0m\u001b[0msum\u001b[0m\u001b[0;34m(\u001b[0m\u001b[0;36m1\u001b[0m\u001b[0;34m)\u001b[0m \u001b[0;34m/\u001b[0m \u001b[0mtemp\u001b[0m\u001b[0;34m)\u001b[0m\u001b[0;34m.\u001b[0m\u001b[0mexp\u001b[0m\u001b[0;34m(\u001b[0m\u001b[0;34m)\u001b[0m\u001b[0;34m\u001b[0m\u001b[0m\n\u001b[1;32m      8\u001b[0m \u001b[0;31m#         cos = (tr.unsqueeze(0) * train_reps).sum(1)\u001b[0m\u001b[0;34m\u001b[0m\u001b[0;34m\u001b[0m\u001b[0m\n",
      "\u001b[0;31mNameError\u001b[0m: name 'test_reps' is not defined"
     ]
    }
   ],
   "source": [
    "temp = 2e-2\n",
    "k = 75\n",
    "\n",
    "with torch.no_grad():\n",
    "    logits = torch.empty((x_test.size(0), dknn.num_classes))\n",
    "    for i, tr in enumerate(test_reps):\n",
    "        cos = ((tr.unsqueeze(0) * train_reps).sum(1) / temp).exp()\n",
    "#         cos = (tr.unsqueeze(0) * train_reps).sum(1)\n",
    "        for label in range(dknn.num_classes):\n",
    "#             logits[i, label] = cos[dknn.y_train == label].topk(k)[0].mean()\n",
    "            logits[i, label] = cos[dknn.y_train == label].mean()"
   ]
  },
  {
   "cell_type": "markdown",
   "metadata": {},
   "source": [
    "---\n",
    "\n",
    "## LID & Sensitivity"
   ]
  },
  {
   "cell_type": "code",
   "execution_count": 6,
   "metadata": {},
   "outputs": [],
   "source": [
    "# spectral norm of jacobian and LID of basic model\n",
    "\n",
    "layers = ['relu1', 'relu2', 'relu3', 'fc']\n",
    "dknn = DKNNL2(net, x_train.cuda(), y_train, x_valid.cuda(), y_valid, layers, \n",
    "              k=75, num_classes=10)"
   ]
  },
  {
   "cell_type": "code",
   "execution_count": 7,
   "metadata": {},
   "outputs": [],
   "source": [
    "x = x_test.requires_grad_(True)[:1000]"
   ]
  },
  {
   "cell_type": "code",
   "execution_count": 8,
   "metadata": {},
   "outputs": [
    {
     "name": "stdout",
     "output_type": "stream",
     "text": [
      "3.5763, 12.8764, 26.2434, 13.5448\n"
     ]
    }
   ],
   "source": [
    "norms = compute_spnorm(x, dknn, layers)\n",
    "print(', '.join('%.4f' % i for i in norms.mean(0)))"
   ]
  },
  {
   "cell_type": "code",
   "execution_count": 9,
   "metadata": {},
   "outputs": [
    {
     "name": "stdout",
     "output_type": "stream",
     "text": [
      "12.5957, 11.1405, 8.5105, 4.0548\n"
     ]
    }
   ],
   "source": [
    "lid = np.zeros((x.size(0), len(layers)))\n",
    "reps = dknn.get_activations(x, requires_grad=False)\n",
    "train_reps = dknn.get_activations(x_train, requires_grad=False)\n",
    "\n",
    "for l, layer in enumerate(layers):\n",
    "    lid[:, l] = compute_lid(reps[layer], \n",
    "                         train_reps[layer], \n",
    "                         3000, \n",
    "                         exclude_self=False)\n",
    "print(', '.join('%.4f' % i for i in lid.mean(0)))"
   ]
  },
  {
   "cell_type": "code",
   "execution_count": null,
   "metadata": {},
   "outputs": [],
   "source": [
    "# (maybe) spectral norm is not good for comparing between layers\n",
    "# because of difference in dimension"
   ]
  },
  {
   "cell_type": "code",
   "execution_count": 6,
   "metadata": {},
   "outputs": [],
   "source": [
    "# spectral norm of jacobian and LID of VAE (exp4)\n",
    "\n",
    "layers = ['relu1', 'relu2', 'relu3', 'en_mu']\n",
    "dknn = DKNNL2(net, x_train.cuda(), y_train, x_valid.cuda(), y_valid, layers, \n",
    "              k=75, num_classes=10)"
   ]
  },
  {
   "cell_type": "code",
   "execution_count": null,
   "metadata": {},
   "outputs": [],
   "source": [
    "x = x_test.requires_grad_(True)[:1000]"
   ]
  },
  {
   "cell_type": "code",
   "execution_count": null,
   "metadata": {},
   "outputs": [],
   "source": [
    "norms = compute_spnorm(x, dknn, layers)\n",
    "print(', '.join('%.4f' % i for i in norms.mean(0)))"
   ]
  },
  {
   "cell_type": "code",
   "execution_count": null,
   "metadata": {},
   "outputs": [],
   "source": [
    "lid = np.zeros((x.size(0), len(layers)))\n",
    "reps = dknn.get_activations(x, requires_grad=False)\n",
    "train_reps = dknn.get_activations(x_train, requires_grad=False)\n",
    "\n",
    "for l, layer in enumerate(layers):\n",
    "    lid[:, l] = compute_lid(reps[layer], \n",
    "                         train_reps[layer], \n",
    "                         3000, \n",
    "                         exclude_self=False)\n",
    "print(', '.join('%.4f' % i for i in lid.mean(0)))"
   ]
  }
 ],
 "metadata": {
  "kernelspec": {
   "display_name": "Python 3",
   "language": "python",
   "name": "python3"
  },
  "language_info": {
   "codemirror_mode": {
    "name": "ipython",
    "version": 3
   },
   "file_extension": ".py",
   "mimetype": "text/x-python",
   "name": "python",
   "nbconvert_exporter": "python",
   "pygments_lexer": "ipython3",
   "version": "3.6.5"
  }
 },
 "nbformat": 4,
 "nbformat_minor": 2
}
