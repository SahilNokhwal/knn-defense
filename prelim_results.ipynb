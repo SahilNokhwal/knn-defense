{
 "cells": [
  {
   "cell_type": "code",
   "execution_count": 1,
   "metadata": {},
   "outputs": [],
   "source": [
    "%matplotlib inline\n",
    "\n",
    "%load_ext autoreload\n",
    "%autoreload 2\n",
    "\n",
    "import logging\n",
    "import os\n",
    "import time\n",
    "\n",
    "import numpy as np\n",
    "import matplotlib.pyplot as plt\n",
    "import foolbox\n",
    "import torch\n",
    "import torch.backends.cudnn as cudnn\n",
    "import torch.nn as nn\n",
    "import torch.optim as optim\n",
    "\n",
    "from lib.dataset_utils import *\n",
    "from lib.mnist_model import *\n",
    "from lib.dknn_attack import DKNNAttack\n",
    "from lib.cwl2_attack import CWL2Attack\n",
    "from lib.dknn import DKNN"
   ]
  },
  {
   "cell_type": "code",
   "execution_count": 2,
   "metadata": {},
   "outputs": [],
   "source": [
    "import os\n",
    "os.environ[\"CUDA_DEVICE_ORDER\"] = \"PCI_BUS_ID\"\n",
    "os.environ[\"CUDA_VISIBLE_DEVICES\"] = \"1\""
   ]
  },
  {
   "cell_type": "code",
   "execution_count": 3,
   "metadata": {},
   "outputs": [],
   "source": [
    "exp_id = 0\n",
    "\n",
    "model_name = 'train_mnist_exp%d.h5' % exp_id\n",
    "net = BasicModel()\n",
    "\n",
    "# model_name = 'train_mnist_snnl_exp%d.h5' % exp_id\n",
    "# net = SNNLModel(train_it=True)\n",
    "\n",
    "# model_name = 'train_mnist_hidden_mixup_exp%d.h5' % exp_id\n",
    "# net = HiddenMixupModel()\n",
    "\n",
    "# model_name = 'train_mnist_vae_exp%d.h5' % exp_id\n",
    "# net = VAE((1, 28, 28), num_classes=10, latent_dim=20)\n",
    "# net = VAE2((1, 28, 28), num_classes=10, latent_dim=20)\n",
    "\n",
    "# model_name = 'train_mnist_cav_exp%d.h5' % exp_id\n",
    "# net = ClassAuxVAE((1, 28, 28), num_classes=10, latent_dim=20)"
   ]
  },
  {
   "cell_type": "code",
   "execution_count": 4,
   "metadata": {},
   "outputs": [
    {
     "data": {
      "text/plain": [
       "BasicModel(\n",
       "  (conv1): Conv2d(1, 64, kernel_size=(8, 8), stride=(2, 2), padding=(3, 3))\n",
       "  (relu1): ReLU(inplace)\n",
       "  (conv2): Conv2d(64, 128, kernel_size=(6, 6), stride=(2, 2), padding=(3, 3))\n",
       "  (relu2): ReLU(inplace)\n",
       "  (conv3): Conv2d(128, 128, kernel_size=(5, 5), stride=(1, 1))\n",
       "  (relu3): ReLU(inplace)\n",
       "  (fc): Linear(in_features=2048, out_features=10, bias=True)\n",
       ")"
      ]
     },
     "execution_count": 4,
     "metadata": {},
     "output_type": "execute_result"
    }
   ],
   "source": [
    "# Set all random seeds\n",
    "seed = 2019\n",
    "np.random.seed(seed)\n",
    "torch.manual_seed(seed)\n",
    "\n",
    "device = 'cuda' if torch.cuda.is_available() else 'cpu'\n",
    "\n",
    "# Set up model directory\n",
    "save_dir = os.path.join(os.getcwd(), 'saved_models')\n",
    "if not os.path.isdir(save_dir):\n",
    "    os.makedirs(save_dir)\n",
    "model_path = os.path.join(save_dir, model_name)\n",
    "\n",
    "net = net.to(device)\n",
    "if device == 'cuda':\n",
    "    net = torch.nn.DataParallel(net)\n",
    "    cudnn.benchmark = True\n",
    "net.load_state_dict(torch.load(model_path))\n",
    "net = net.module\n",
    "net.eval()"
   ]
  },
  {
   "cell_type": "code",
   "execution_count": 5,
   "metadata": {},
   "outputs": [],
   "source": [
    "(x_train, y_train), (x_valid, y_valid), (x_test, y_test) = load_mnist_all(\n",
    "    '/data', val_size=0.1, seed=seed)"
   ]
  },
  {
   "cell_type": "code",
   "execution_count": 11,
   "metadata": {},
   "outputs": [],
   "source": [
    "y_pred = net(x_test.to(device))"
   ]
  },
  {
   "cell_type": "code",
   "execution_count": 12,
   "metadata": {},
   "outputs": [
    {
     "data": {
      "text/plain": [
       "0.9878"
      ]
     },
     "execution_count": 12,
     "metadata": {},
     "output_type": "execute_result"
    }
   ],
   "source": [
    "(y_pred.argmax(1).cpu() == y_test).sum().numpy() / y_test.size(0)"
   ]
  },
  {
   "cell_type": "code",
   "execution_count": 7,
   "metadata": {},
   "outputs": [],
   "source": [
    "# x_train = x_train.to(device)\n",
    "# x_test = x_test.to(device)\n",
    "# x_valid = x_valid.to(device)"
   ]
  },
  {
   "cell_type": "code",
   "execution_count": 6,
   "metadata": {
    "scrolled": true
   },
   "outputs": [],
   "source": [
    "# layers = ['relu1', 'relu2', 'relu3', 'fc']\n",
    "# layers = ['relu1', 'relu2', 'relu3']\n",
    "layers = ['relu3']\n",
    "# layers = ['en_conv3']\n",
    "# layers = ['en_mu']\n",
    "# net = net.cpu()\n",
    "with torch.no_grad():\n",
    "    dknn = DKNN(net, x_train.cuda(), y_train, x_valid.cuda(), y_valid, layers, \n",
    "                k=75, num_classes=10)\n",
    "    y_pred = dknn.classify(x_test)"
   ]
  },
  {
   "cell_type": "code",
   "execution_count": 14,
   "metadata": {},
   "outputs": [
    {
     "data": {
      "text/plain": [
       "0.9879"
      ]
     },
     "execution_count": 14,
     "metadata": {},
     "output_type": "execute_result"
    }
   ],
   "source": [
    "(y_pred.argmax(1) == y_test.numpy()).sum() / y_test.size(0)"
   ]
  },
  {
   "cell_type": "code",
   "execution_count": 15,
   "metadata": {},
   "outputs": [],
   "source": [
    "cred = dknn.credibility(y_pred)"
   ]
  },
  {
   "cell_type": "code",
   "execution_count": 16,
   "metadata": {},
   "outputs": [
    {
     "data": {
      "text/plain": [
       "(array([ 890.,  467.,    0.,    0.,    0.,    0.,    0.,    0.,    0.,\n",
       "        8643.]),\n",
       " array([0.00716667, 0.10645   , 0.20573333, 0.30501667, 0.4043    ,\n",
       "        0.50358333, 0.60286667, 0.70215   , 0.80143333, 0.90071667,\n",
       "        1.        ]),\n",
       " <a list of 10 Patch objects>)"
      ]
     },
     "execution_count": 16,
     "metadata": {},
     "output_type": "execute_result"
    },
    {
     "data": {
      "image/png": "[encoded data removed]",
      "text/plain": [
       "<Figure size 432x288 with 1 Axes>"
      ]
     },
     "metadata": {
      "needs_background": "light"
     },
     "output_type": "display_data"
    }
   ],
   "source": [
    "plt.hist(cred)"
   ]
  },
  {
   "cell_type": "code",
   "execution_count": 17,
   "metadata": {},
   "outputs": [],
   "source": [
    "correct = np.argmax(y_pred, 1) == y_test.numpy()\n",
    "num_correct_by_cred = np.zeros((10, ))\n",
    "num_cred = np.zeros((10, ))\n",
    "for i in np.arange(10):\n",
    "    ind = (cred > i * 0.1) & (cred <= i* 0.1 + 0.1)\n",
    "    num_cred[i] = np.sum(ind)\n",
    "    num_correct_by_cred[i] = np.sum(correct[ind])"
   ]
  },
  {
   "cell_type": "code",
   "execution_count": 18,
   "metadata": {},
   "outputs": [
    {
     "data": {
      "text/plain": [
       "<BarContainer object of 10 artists>"
      ]
     },
     "execution_count": 18,
     "metadata": {},
     "output_type": "execute_result"
    },
    {
     "data": {
      "image/png": "[encoded data removed]",
      "text/plain": [
       "<Figure size 432x288 with 1 Axes>"
      ]
     },
     "metadata": {
      "needs_background": "light"
     },
     "output_type": "display_data"
    }
   ],
   "source": [
    "fig = plt.figure()\n",
    "ax = fig.add_subplot(111)\n",
    "ax.bar(np.arange(10) * 0.1, num_cred, width=0.05)\n",
    "ax.bar(np.arange(10) * 0.1 + 0.05, num_correct_by_cred, width=0.05)"
   ]
  },
  {
   "cell_type": "code",
   "execution_count": 75,
   "metadata": {},
   "outputs": [
    {
     "name": "stderr",
     "output_type": "stream",
     "text": [
      "/home/user/miniconda/envs/py36/lib/python3.6/site-packages/ipykernel_launcher.py:1: RuntimeWarning: invalid value encountered in true_divide\n",
      "  \"\"\"Entry point for launching an IPython kernel.\n"
     ]
    },
    {
     "data": {
      "text/plain": [
       "array([0.68107477, 0.94010695, 0.985138  , 0.98237885, 0.99356223,\n",
       "              nan,        nan,        nan,        nan, 0.99982996])"
      ]
     },
     "execution_count": 75,
     "metadata": {},
     "output_type": "execute_result"
    }
   ],
   "source": [
    "num_correct_by_cred / num_cred"
   ]
  },
  {
   "cell_type": "code",
   "execution_count": 25,
   "metadata": {},
   "outputs": [
    {
     "data": {
      "text/plain": [
       "5.7895"
      ]
     },
     "execution_count": 25,
     "metadata": {},
     "output_type": "execute_result"
    }
   ],
   "source": [
    "dknn.A.mean()"
   ]
  },
  {
   "cell_type": "code",
   "execution_count": 154,
   "metadata": {},
   "outputs": [],
   "source": [
    "nn = dknn.get_neighbors(x_valid)"
   ]
  },
  {
   "cell_type": "code",
   "execution_count": 15,
   "metadata": {},
   "outputs": [
    {
     "name": "stdout",
     "output_type": "stream",
     "text": [
      "0.72602546\n",
      "0.6874378\n",
      "0.7105881\n",
      "0.94844836\n"
     ]
    }
   ],
   "source": [
    "for (D, I) in nn:\n",
    "    print(D[-1].mean())"
   ]
  },
  {
   "cell_type": "markdown",
   "metadata": {},
   "source": [
    "## PGD Attack"
   ]
  },
  {
   "cell_type": "code",
   "execution_count": 12,
   "metadata": {},
   "outputs": [],
   "source": [
    "x_test_np = x_test.cpu().numpy()\n",
    "y_test_np = y_test.numpy()"
   ]
  },
  {
   "cell_type": "code",
   "execution_count": 13,
   "metadata": {},
   "outputs": [],
   "source": [
    "model = foolbox.models.PyTorchModel(net, bounds=(0, 1), num_classes=10)"
   ]
  },
  {
   "cell_type": "code",
   "execution_count": 6,
   "metadata": {
    "scrolled": true
   },
   "outputs": [
    {
     "name": "stderr",
     "output_type": "stream",
     "text": [
      "/home/user/miniconda/envs/py36/lib/python3.6/site-packages/foolbox/attacks/base.py:129: UserWarning: Not running the attack because the original input is already misclassified and the adversarial thus has a distance of 0.\n",
      "  warnings.warn('Not running the attack because the original input'\n"
     ]
    }
   ],
   "source": [
    "criterion = foolbox.criteria.Misclassification()\n",
    "distance = foolbox.distances.Linfinity\n",
    "\n",
    "attack = foolbox.attacks.RandomPGD(\n",
    "    model, criterion=criterion, distance=distance)\n",
    "\n",
    "def attack_wrap(x, y):\n",
    "    return attack(x, y, binary_search=False, epsilon=0.3, \n",
    "                  stepsize=0.01, iterations=40, \n",
    "                  random_start=True, return_early=True)\n",
    "\n",
    "x_adv = np.zeros_like(x_test)\n",
    "for i, (x, y) in enumerate(zip(x_test, y_test)):\n",
    "    x_adv[i] = attack_wrap(x, y)"
   ]
  },
  {
   "cell_type": "code",
   "execution_count": null,
   "metadata": {
    "scrolled": false
   },
   "outputs": [],
   "source": [
    "with torch.no_grad():\n",
    "    x_adv = torch.tensor(x_adv).to(device)\n",
    "    y_pred = net(x_adv).detach().cpu().numpy()\n",
    "np.mean(np.argmax(y_pred, 1) == y_test)"
   ]
  },
  {
   "cell_type": "code",
   "execution_count": null,
   "metadata": {
    "scrolled": true
   },
   "outputs": [],
   "source": [
    "from lib.pgd_attack import PGDAttack\n",
    "\n",
    "attack = PGDAttack()\n",
    "x_adv = attack(net, x_test, y_test.to(device),\n",
    "               targeted=False, epsilon=0.1, max_epsilon=0.3,\n",
    "               max_iterations=20, random_restart=10)"
   ]
  },
  {
   "cell_type": "code",
   "execution_count": 23,
   "metadata": {},
   "outputs": [
    {
     "data": {
      "text/plain": [
       "tensor(0)"
      ]
     },
     "execution_count": 23,
     "metadata": {},
     "output_type": "execute_result"
    }
   ],
   "source": [
    "y_pred = net(x_adv)\n",
    "(y_pred.argmax(1).cpu() == y_test).sum()"
   ]
  },
  {
   "cell_type": "code",
   "execution_count": 54,
   "metadata": {
    "scrolled": true
   },
   "outputs": [
    {
     "data": {
      "text/plain": [
       "813"
      ]
     },
     "execution_count": 54,
     "metadata": {},
     "output_type": "execute_result"
    }
   ],
   "source": [
    "y_pred = dknn.classify(x_adv.cpu())\n",
    "(y_pred.argmax(1) == y_test.numpy()).sum()"
   ]
  },
  {
   "cell_type": "code",
   "execution_count": null,
   "metadata": {},
   "outputs": [],
   "source": []
  },
  {
   "cell_type": "code",
   "execution_count": 55,
   "metadata": {},
   "outputs": [
    {
     "data": {
      "text/plain": [
       "(array([9.63e+03, 2.96e+02, 5.70e+01, 7.00e+00, 5.00e+00, 1.00e+00,\n",
       "        0.00e+00, 0.00e+00, 0.00e+00, 4.00e+00]),\n",
       " array([0.00383333, 0.10345   , 0.20306667, 0.30268333, 0.4023    ,\n",
       "        0.50191667, 0.60153333, 0.70115   , 0.80076667, 0.90038333,\n",
       "        1.        ]),\n",
       " <a list of 10 Patch objects>)"
      ]
     },
     "execution_count": 55,
     "metadata": {},
     "output_type": "execute_result"
    },
    {
     "data": {
      "image/png": "[encoded data removed]",
      "text/plain": [
       "<Figure size 432x288 with 1 Axes>"
      ]
     },
     "metadata": {
      "needs_background": "light"
     },
     "output_type": "display_data"
    }
   ],
   "source": [
    "cred = dknn.credibility(y_pred)\n",
    "plt.hist(cred)"
   ]
  },
  {
   "cell_type": "code",
   "execution_count": 11,
   "metadata": {},
   "outputs": [
    {
     "data": {
      "text/plain": [
       "0.9091"
      ]
     },
     "execution_count": 11,
     "metadata": {},
     "output_type": "execute_result"
    }
   ],
   "source": [
    "np.mean(y_pred == y_test)"
   ]
  },
  {
   "cell_type": "markdown",
   "metadata": {},
   "source": [
    "## DkNN Attack"
   ]
  },
  {
   "cell_type": "code",
   "execution_count": 13,
   "metadata": {
    "scrolled": true
   },
   "outputs": [
    {
     "name": "stdout",
     "output_type": "stream",
     "text": [
      "    step: 0; loss: -515.421; l2dist: 0.000\n",
      "    step: 50; loss: -522.762; l2dist: 2.138\n",
      "    step: 100; loss: -528.006; l2dist: 2.299\n",
      "    step: 150; loss: -529.452; l2dist: 2.282\n",
      "    step: 200; loss: -529.801; l2dist: 2.294\n",
      "    step: 250; loss: -529.944; l2dist: 2.302\n",
      "    step: 300; loss: -530.002; l2dist: 2.305\n",
      "    step: 350; loss: -530.031; l2dist: 2.309\n",
      "    step: 400; loss: -530.048; l2dist: 2.311\n",
      "    step: 450; loss: -530.057; l2dist: 2.314\n",
      "tensor(76, device='cuda:0')\n",
      "binary step: 0; number of successful adv: 76/100\n",
      "    step: 0; loss: -1422.289; l2dist: 0.000\n",
      "    step: 50; loss: -1460.969; l2dist: 2.330\n",
      "    step: 100; loss: -1477.214; l2dist: 2.587\n",
      "    step: 150; loss: -1479.838; l2dist: 2.535\n",
      "    step: 200; loss: -1480.967; l2dist: 2.505\n",
      "    step: 250; loss: -1481.530; l2dist: 2.484\n",
      "    step: 300; loss: -1481.849; l2dist: 2.474\n",
      "    step: 350; loss: -1482.036; l2dist: 2.469\n",
      "    step: 400; loss: -1482.151; l2dist: 2.469\n",
      "    step: 450; loss: -1482.220; l2dist: 2.468\n",
      "tensor(69, device='cuda:0')\n",
      "binary step: 1; number of successful adv: 100/100\n",
      "    step: 0; loss: -852.292; l2dist: 0.000\n",
      "    step: 50; loss: -871.361; l2dist: 2.086\n",
      "    step: 100; loss: -881.071; l2dist: 2.247\n",
      "    step: 150; loss: -883.036; l2dist: 2.248\n",
      "    step: 200; loss: -883.699; l2dist: 2.239\n",
      "    step: 250; loss: -883.975; l2dist: 2.240\n",
      "    step: 300; loss: -884.107; l2dist: 2.242\n",
      "    step: 350; loss: -884.172; l2dist: 2.247\n",
      "    step: 400; loss: -884.211; l2dist: 2.251\n",
      "    step: 450; loss: -884.231; l2dist: 2.253\n",
      "tensor(60, device='cuda:0')\n",
      "binary step: 2; number of successful adv: 100/100\n",
      "    step: 0; loss: -578.944; l2dist: 0.000\n",
      "    step: 50; loss: -589.046; l2dist: 1.933\n",
      "    step: 100; loss: -595.427; l2dist: 2.082\n",
      "    step: 150; loss: -596.852; l2dist: 2.112\n",
      "    step: 200; loss: -597.266; l2dist: 2.132\n",
      "    step: 250; loss: -597.445; l2dist: 2.144\n",
      "    step: 300; loss: -597.520; l2dist: 2.150\n",
      "    step: 350; loss: -597.556; l2dist: 2.156\n",
      "    step: 400; loss: -597.581; l2dist: 2.160\n",
      "    step: 450; loss: -597.597; l2dist: 2.163\n",
      "tensor(62, device='cuda:0')\n",
      "binary step: 3; number of successful adv: 100/100\n",
      "    step: 0; loss: -441.022; l2dist: 0.000\n",
      "    step: 50; loss: -447.087; l2dist: 1.753\n",
      "    step: 100; loss: -451.511; l2dist: 1.928\n",
      "    step: 150; loss: -452.780; l2dist: 1.979\n",
      "    step: 200; loss: -453.097; l2dist: 2.001\n",
      "    step: 250; loss: -453.231; l2dist: 2.016\n",
      "    step: 300; loss: -453.288; l2dist: 2.027\n",
      "    step: 350; loss: -453.317; l2dist: 2.036\n",
      "    step: 400; loss: -453.333; l2dist: 2.039\n",
      "    step: 450; loss: -453.340; l2dist: 2.042\n",
      "tensor(57, device='cuda:0')\n",
      "binary step: 4; number of successful adv: 100/100\n",
      "    step: 0; loss: -516.192; l2dist: 0.000\n",
      "    step: 50; loss: -523.607; l2dist: 2.145\n",
      "    step: 100; loss: -528.603; l2dist: 2.336\n",
      "    step: 150; loss: -530.036; l2dist: 2.321\n",
      "    step: 200; loss: -530.383; l2dist: 2.326\n",
      "    step: 250; loss: -530.514; l2dist: 2.330\n",
      "    step: 300; loss: -530.570; l2dist: 2.334\n",
      "    step: 350; loss: -530.597; l2dist: 2.337\n",
      "    step: 400; loss: -530.612; l2dist: 2.339\n",
      "    step: 450; loss: -530.620; l2dist: 2.341\n",
      "tensor(80, device='cuda:0')\n",
      "binary step: 0; number of successful adv: 80/100\n",
      "    step: 0; loss: -1234.311; l2dist: 0.000\n",
      "    step: 50; loss: -1266.131; l2dist: 2.214\n",
      "    step: 100; loss: -1275.922; l2dist: 2.392\n",
      "    step: 150; loss: -1278.185; l2dist: 2.373\n",
      "    step: 200; loss: -1278.970; l2dist: 2.354\n",
      "    step: 250; loss: -1279.363; l2dist: 2.341\n",
      "    step: 300; loss: -1279.581; l2dist: 2.341\n",
      "    step: 350; loss: -1279.687; l2dist: 2.341\n",
      "    step: 400; loss: -1279.741; l2dist: 2.342\n",
      "    step: 450; loss: -1279.774; l2dist: 2.343\n",
      "tensor(62, device='cuda:0')\n",
      "binary step: 1; number of successful adv: 100/100\n",
      "    step: 0; loss: -766.245; l2dist: 0.000\n",
      "    step: 50; loss: -782.117; l2dist: 1.974\n",
      "    step: 100; loss: -788.785; l2dist: 2.126\n",
      "    step: 150; loss: -790.446; l2dist: 2.155\n",
      "    step: 200; loss: -790.926; l2dist: 2.159\n",
      "    step: 250; loss: -791.126; l2dist: 2.160\n",
      "    step: 300; loss: -791.213; l2dist: 2.164\n",
      "    step: 350; loss: -791.256; l2dist: 2.168\n",
      "    step: 400; loss: -791.283; l2dist: 2.172\n",
      "    step: 450; loss: -791.297; l2dist: 2.175\n",
      "tensor(53, device='cuda:0')\n",
      "binary step: 2; number of successful adv: 100/100\n",
      "    step: 0; loss: -543.998; l2dist: 0.000\n",
      "    step: 50; loss: -552.690; l2dist: 1.852\n",
      "    step: 100; loss: -557.577; l2dist: 2.043\n",
      "    step: 150; loss: -558.971; l2dist: 2.081\n",
      "    step: 200; loss: -559.310; l2dist: 2.099\n",
      "    step: 250; loss: -559.450; l2dist: 2.111\n",
      "    step: 300; loss: -559.515; l2dist: 2.119\n",
      "    step: 350; loss: -559.545; l2dist: 2.123\n",
      "    step: 400; loss: -559.562; l2dist: 2.125\n",
      "    step: 450; loss: -559.572; l2dist: 2.127\n",
      "tensor(57, device='cuda:0')\n",
      "binary step: 3; number of successful adv: 100/100\n",
      "    step: 0; loss: -441.240; l2dist: 0.000\n",
      "    step: 50; loss: -446.869; l2dist: 1.704\n",
      "    step: 100; loss: -450.581; l2dist: 1.955\n",
      "    step: 150; loss: -451.897; l2dist: 2.004\n",
      "    step: 200; loss: -452.196; l2dist: 2.021\n",
      "    step: 250; loss: -452.314; l2dist: 2.035\n",
      "    step: 300; loss: -452.366; l2dist: 2.044\n",
      "    step: 350; loss: -452.395; l2dist: 2.049\n",
      "    step: 400; loss: -452.410; l2dist: 2.054\n",
      "    step: 450; loss: -452.418; l2dist: 2.055\n",
      "tensor(59, device='cuda:0')\n",
      "binary step: 4; number of successful adv: 100/100\n",
      "    step: 0; loss: -515.336; l2dist: 0.000\n",
      "    step: 50; loss: -523.046; l2dist: 2.217\n",
      "    step: 100; loss: -528.060; l2dist: 2.373\n",
      "    step: 150; loss: -529.552; l2dist: 2.347\n",
      "    step: 200; loss: -529.893; l2dist: 2.345\n",
      "    step: 250; loss: -530.023; l2dist: 2.348\n",
      "    step: 300; loss: -530.079; l2dist: 2.351\n",
      "    step: 350; loss: -530.106; l2dist: 2.354\n",
      "    step: 400; loss: -530.120; l2dist: 2.355\n",
      "    step: 450; loss: -530.129; l2dist: 2.357\n",
      "tensor(86, device='cuda:0')\n",
      "binary step: 0; number of successful adv: 86/100\n",
      "    step: 0; loss: -939.102; l2dist: 0.000\n",
      "    step: 50; loss: -962.111; l2dist: 1.934\n",
      "    step: 100; loss: -970.388; l2dist: 2.130\n",
      "    step: 150; loss: -972.238; l2dist: 2.145\n",
      "    step: 200; loss: -972.993; l2dist: 2.136\n",
      "    step: 250; loss: -973.340; l2dist: 2.128\n",
      "    step: 300; loss: -973.547; l2dist: 2.125\n",
      "    step: 350; loss: -973.668; l2dist: 2.125\n",
      "    step: 400; loss: -973.728; l2dist: 2.127\n",
      "    step: 450; loss: -973.772; l2dist: 2.129\n",
      "tensor(56, device='cuda:0')\n",
      "binary step: 1; number of successful adv: 100/100\n",
      "    step: 0; loss: -618.491; l2dist: 0.000\n",
      "    step: 50; loss: -630.548; l2dist: 1.819\n",
      "    step: 100; loss: -636.044; l2dist: 1.989\n",
      "    step: 150; loss: -637.698; l2dist: 2.046\n",
      "    step: 200; loss: -638.175; l2dist: 2.046\n",
      "    step: 250; loss: -638.346; l2dist: 2.050\n",
      "    step: 300; loss: -638.436; l2dist: 2.054\n",
      "    step: 350; loss: -638.489; l2dist: 2.057\n",
      "    step: 400; loss: -638.515; l2dist: 2.061\n",
      "    step: 450; loss: -638.531; l2dist: 2.062\n",
      "tensor(55, device='cuda:0')\n",
      "binary step: 2; number of successful adv: 100/100\n",
      "    step: 0; loss: -459.486; l2dist: 0.000\n",
      "    step: 50; loss: -466.334; l2dist: 1.701\n",
      "    step: 100; loss: -470.539; l2dist: 1.930\n",
      "    step: 150; loss: -471.960; l2dist: 1.968\n",
      "    step: 200; loss: -472.317; l2dist: 1.988\n",
      "    step: 250; loss: -472.443; l2dist: 1.995\n",
      "    step: 300; loss: -472.499; l2dist: 2.001\n",
      "    step: 350; loss: -472.532; l2dist: 2.004\n",
      "    step: 400; loss: -472.549; l2dist: 2.007\n",
      "    step: 450; loss: -472.559; l2dist: 2.008\n",
      "tensor(56, device='cuda:0')\n",
      "binary step: 3; number of successful adv: 100/100\n",
      "    step: 0; loss: -390.238; l2dist: 0.000\n",
      "    step: 50; loss: -395.054; l2dist: 1.619\n",
      "    step: 100; loss: -398.428; l2dist: 1.906\n",
      "    step: 150; loss: -399.697; l2dist: 1.923\n",
      "    step: 200; loss: -400.009; l2dist: 1.941\n",
      "    step: 250; loss: -400.126; l2dist: 1.952\n",
      "    step: 300; loss: -400.178; l2dist: 1.960\n",
      "    step: 350; loss: -400.207; l2dist: 1.965\n",
      "    step: 400; loss: -400.222; l2dist: 1.967\n",
      "    step: 450; loss: -400.231; l2dist: 1.969\n",
      "tensor(62, device='cuda:0')\n",
      "binary step: 4; number of successful adv: 100/100\n",
      "    step: 0; loss: -515.344; l2dist: 0.000\n",
      "    step: 50; loss: -522.922; l2dist: 2.175\n",
      "    step: 100; loss: -528.223; l2dist: 2.335\n",
      "    step: 150; loss: -529.582; l2dist: 2.311\n",
      "    step: 200; loss: -529.919; l2dist: 2.317\n",
      "    step: 250; loss: -530.052; l2dist: 2.323\n",
      "    step: 300; loss: -530.110; l2dist: 2.329\n"
     ]
    },
    {
     "name": "stdout",
     "output_type": "stream",
     "text": [
      "    step: 350; loss: -530.139; l2dist: 2.332\n",
      "    step: 400; loss: -530.155; l2dist: 2.334\n",
      "    step: 450; loss: -530.163; l2dist: 2.336\n",
      "tensor(75, device='cuda:0')\n",
      "binary step: 0; number of successful adv: 75/100\n",
      "    step: 0; loss: -1475.680; l2dist: 0.000\n",
      "    step: 50; loss: -1515.766; l2dist: 2.450\n",
      "    step: 100; loss: -1529.391; l2dist: 2.659\n",
      "    step: 150; loss: -1531.819; l2dist: 2.586\n",
      "    step: 200; loss: -1532.852; l2dist: 2.550\n",
      "    step: 250; loss: -1533.375; l2dist: 2.528\n",
      "    step: 300; loss: -1533.670; l2dist: 2.520\n",
      "    step: 350; loss: -1533.881; l2dist: 2.520\n",
      "    step: 400; loss: -1534.008; l2dist: 2.516\n",
      "    step: 450; loss: -1534.070; l2dist: 2.517\n",
      "tensor(68, device='cuda:0')\n",
      "binary step: 1; number of successful adv: 100/100\n",
      "    step: 0; loss: -884.064; l2dist: 0.000\n",
      "    step: 50; loss: -903.611; l2dist: 2.165\n",
      "    step: 100; loss: -912.283; l2dist: 2.316\n",
      "    step: 150; loss: -914.259; l2dist: 2.301\n",
      "    step: 200; loss: -914.881; l2dist: 2.296\n",
      "    step: 250; loss: -915.150; l2dist: 2.290\n",
      "    step: 300; loss: -915.274; l2dist: 2.291\n",
      "    step: 350; loss: -915.334; l2dist: 2.293\n",
      "    step: 400; loss: -915.367; l2dist: 2.294\n",
      "    step: 450; loss: -915.388; l2dist: 2.295\n",
      "tensor(64, device='cuda:0')\n",
      "binary step: 2; number of successful adv: 100/100\n",
      "    step: 0; loss: -593.629; l2dist: 0.000\n",
      "    step: 50; loss: -603.785; l2dist: 1.943\n",
      "    step: 100; loss: -609.759; l2dist: 2.113\n",
      "    step: 150; loss: -611.259; l2dist: 2.119\n",
      "    step: 200; loss: -611.672; l2dist: 2.127\n",
      "    step: 250; loss: -611.822; l2dist: 2.139\n",
      "    step: 300; loss: -611.893; l2dist: 2.144\n",
      "    step: 350; loss: -611.927; l2dist: 2.149\n",
      "    step: 400; loss: -611.950; l2dist: 2.154\n",
      "    step: 450; loss: -611.961; l2dist: 2.155\n",
      "tensor(63, device='cuda:0')\n",
      "binary step: 3; number of successful adv: 100/100\n",
      "    step: 0; loss: -449.080; l2dist: 0.000\n",
      "    step: 50; loss: -455.041; l2dist: 1.754\n",
      "    step: 100; loss: -459.404; l2dist: 1.960\n",
      "    step: 150; loss: -460.692; l2dist: 1.995\n",
      "    step: 200; loss: -461.008; l2dist: 2.007\n",
      "    step: 250; loss: -461.127; l2dist: 2.020\n",
      "    step: 300; loss: -461.182; l2dist: 2.027\n",
      "    step: 350; loss: -461.211; l2dist: 2.034\n",
      "    step: 400; loss: -461.225; l2dist: 2.037\n",
      "    step: 450; loss: -461.237; l2dist: 2.040\n",
      "tensor(64, device='cuda:0')\n",
      "binary step: 4; number of successful adv: 100/100\n",
      "    step: 0; loss: -517.257; l2dist: 0.000\n",
      "    step: 50; loss: -525.485; l2dist: 2.157\n",
      "    step: 100; loss: -530.152; l2dist: 2.303\n",
      "    step: 150; loss: -531.502; l2dist: 2.273\n",
      "    step: 200; loss: -531.817; l2dist: 2.276\n",
      "    step: 250; loss: -531.945; l2dist: 2.281\n",
      "    step: 300; loss: -532.002; l2dist: 2.289\n",
      "    step: 350; loss: -532.030; l2dist: 2.290\n",
      "    step: 400; loss: -532.043; l2dist: 2.292\n",
      "    step: 450; loss: -532.051; l2dist: 2.293\n",
      "tensor(89, device='cuda:0')\n",
      "binary step: 0; number of successful adv: 89/100\n",
      "    step: 0; loss: -791.138; l2dist: 0.000\n",
      "    step: 50; loss: -808.806; l2dist: 1.777\n",
      "    step: 100; loss: -818.287; l2dist: 2.034\n",
      "    step: 150; loss: -820.056; l2dist: 2.059\n",
      "    step: 200; loss: -820.687; l2dist: 2.053\n",
      "    step: 250; loss: -820.992; l2dist: 2.050\n",
      "    step: 300; loss: -821.162; l2dist: 2.046\n",
      "    step: 350; loss: -821.252; l2dist: 2.047\n",
      "    step: 400; loss: -821.303; l2dist: 2.047\n",
      "    step: 450; loss: -821.335; l2dist: 2.049\n",
      "tensor(65, device='cuda:0')\n",
      "binary step: 1; number of successful adv: 100/100\n",
      "    step: 0; loss: -513.838; l2dist: 0.000\n",
      "    step: 50; loss: -522.958; l2dist: 1.590\n",
      "    step: 100; loss: -528.775; l2dist: 1.742\n",
      "    step: 150; loss: -530.059; l2dist: 1.818\n",
      "    step: 200; loss: -530.478; l2dist: 1.837\n",
      "    step: 250; loss: -530.652; l2dist: 1.843\n",
      "    step: 300; loss: -530.732; l2dist: 1.849\n",
      "    step: 350; loss: -530.776; l2dist: 1.853\n",
      "    step: 400; loss: -530.800; l2dist: 1.856\n",
      "    step: 450; loss: -530.816; l2dist: 1.859\n",
      "tensor(55, device='cuda:0')\n",
      "binary step: 2; number of successful adv: 100/100\n",
      "    step: 0; loss: -388.110; l2dist: 0.000\n",
      "    step: 50; loss: -393.509; l2dist: 1.491\n",
      "    step: 100; loss: -397.558; l2dist: 1.686\n",
      "    step: 150; loss: -398.684; l2dist: 1.725\n",
      "    step: 200; loss: -398.986; l2dist: 1.745\n",
      "    step: 250; loss: -399.108; l2dist: 1.757\n",
      "    step: 300; loss: -399.168; l2dist: 1.767\n",
      "    step: 350; loss: -399.198; l2dist: 1.772\n",
      "    step: 400; loss: -399.215; l2dist: 1.775\n",
      "    step: 450; loss: -399.224; l2dist: 1.777\n",
      "tensor(59, device='cuda:0')\n",
      "binary step: 3; number of successful adv: 100/100\n",
      "    step: 0; loss: -333.381; l2dist: 0.000\n",
      "    step: 50; loss: -337.557; l2dist: 1.411\n",
      "    step: 100; loss: -340.552; l2dist: 1.616\n",
      "    step: 150; loss: -341.659; l2dist: 1.682\n",
      "    step: 200; loss: -341.923; l2dist: 1.699\n",
      "    step: 250; loss: -342.030; l2dist: 1.711\n",
      "    step: 300; loss: -342.076; l2dist: 1.720\n",
      "    step: 350; loss: -342.101; l2dist: 1.725\n",
      "    step: 400; loss: -342.115; l2dist: 1.730\n",
      "    step: 450; loss: -342.124; l2dist: 1.732\n",
      "tensor(56, device='cuda:0')\n",
      "binary step: 4; number of successful adv: 100/100\n",
      "    step: 0; loss: -516.561; l2dist: 0.000\n",
      "    step: 50; loss: -524.241; l2dist: 2.151\n",
      "    step: 100; loss: -529.153; l2dist: 2.347\n",
      "    step: 150; loss: -530.596; l2dist: 2.308\n",
      "    step: 200; loss: -530.914; l2dist: 2.308\n",
      "    step: 250; loss: -531.028; l2dist: 2.315\n",
      "    step: 300; loss: -531.080; l2dist: 2.320\n",
      "    step: 350; loss: -531.106; l2dist: 2.323\n",
      "    step: 400; loss: -531.119; l2dist: 2.324\n",
      "    step: 450; loss: -531.127; l2dist: 2.326\n",
      "tensor(84, device='cuda:0')\n",
      "binary step: 0; number of successful adv: 84/100\n",
      "    step: 0; loss: -1037.071; l2dist: 0.000\n",
      "    step: 50; loss: -1064.351; l2dist: 2.070\n",
      "    step: 100; loss: -1071.991; l2dist: 2.208\n",
      "    step: 150; loss: -1074.088; l2dist: 2.201\n",
      "    step: 200; loss: -1074.846; l2dist: 2.184\n",
      "    step: 250; loss: -1075.214; l2dist: 2.179\n",
      "    step: 300; loss: -1075.386; l2dist: 2.177\n",
      "    step: 350; loss: -1075.490; l2dist: 2.178\n",
      "    step: 400; loss: -1075.553; l2dist: 2.179\n",
      "    step: 450; loss: -1075.589; l2dist: 2.180\n",
      "tensor(64, device='cuda:0')\n",
      "binary step: 1; number of successful adv: 100/100\n",
      "    step: 0; loss: -652.157; l2dist: 0.000\n",
      "    step: 50; loss: -666.036; l2dist: 1.862\n",
      "    step: 100; loss: -671.273; l2dist: 1.917\n",
      "    step: 150; loss: -672.827; l2dist: 1.981\n",
      "    step: 200; loss: -673.256; l2dist: 1.992\n",
      "    step: 250; loss: -673.437; l2dist: 1.997\n",
      "    step: 300; loss: -673.513; l2dist: 2.002\n",
      "    step: 350; loss: -673.557; l2dist: 2.007\n",
      "    step: 400; loss: -673.580; l2dist: 2.009\n",
      "    step: 450; loss: -673.595; l2dist: 2.011\n",
      "tensor(55, device='cuda:0')\n",
      "binary step: 2; number of successful adv: 100/100\n",
      "    step: 0; loss: -493.010; l2dist: 0.000\n",
      "    step: 50; loss: -501.354; l2dist: 1.746\n",
      "    step: 100; loss: -505.460; l2dist: 1.888\n",
      "    step: 150; loss: -506.766; l2dist: 1.918\n",
      "    step: 200; loss: -507.102; l2dist: 1.937\n",
      "    step: 250; loss: -507.223; l2dist: 1.945\n",
      "    step: 300; loss: -507.281; l2dist: 1.951\n",
      "    step: 350; loss: -507.311; l2dist: 1.956\n",
      "    step: 400; loss: -507.330; l2dist: 1.959\n",
      "    step: 450; loss: -507.339; l2dist: 1.962\n",
      "tensor(60, device='cuda:0')\n",
      "binary step: 3; number of successful adv: 100/100\n",
      "    step: 0; loss: -410.271; l2dist: 0.000\n",
      "    step: 50; loss: -416.154; l2dist: 1.628\n",
      "    step: 100; loss: -419.370; l2dist: 1.797\n",
      "    step: 150; loss: -420.607; l2dist: 1.845\n",
      "    step: 200; loss: -420.899; l2dist: 1.863\n",
      "    step: 250; loss: -421.007; l2dist: 1.875\n",
      "    step: 300; loss: -421.054; l2dist: 1.881\n",
      "    step: 350; loss: -421.078; l2dist: 1.886\n",
      "    step: 400; loss: -421.092; l2dist: 1.890\n",
      "    step: 450; loss: -421.100; l2dist: 1.891\n",
      "tensor(64, device='cuda:0')\n",
      "binary step: 4; number of successful adv: 100/100\n",
      "    step: 0; loss: -515.376; l2dist: 0.000\n",
      "    step: 50; loss: -523.475; l2dist: 2.243\n",
      "    step: 100; loss: -528.036; l2dist: 2.368\n",
      "    step: 150; loss: -529.475; l2dist: 2.363\n",
      "    step: 200; loss: -529.824; l2dist: 2.370\n",
      "    step: 250; loss: -529.949; l2dist: 2.378\n",
      "    step: 300; loss: -530.005; l2dist: 2.384\n",
      "    step: 350; loss: -530.033; l2dist: 2.389\n",
      "    step: 400; loss: -530.048; l2dist: 2.392\n",
      "    step: 450; loss: -530.055; l2dist: 2.393\n",
      "tensor(78, device='cuda:0')\n",
      "binary step: 0; number of successful adv: 78/100\n",
      "    step: 0; loss: -1329.587; l2dist: 0.000\n",
      "    step: 50; loss: -1362.896; l2dist: 2.376\n"
     ]
    },
    {
     "name": "stdout",
     "output_type": "stream",
     "text": [
      "    step: 100; loss: -1374.579; l2dist: 2.496\n",
      "    step: 150; loss: -1377.114; l2dist: 2.479\n",
      "    step: 200; loss: -1378.105; l2dist: 2.446\n",
      "    step: 250; loss: -1378.542; l2dist: 2.434\n",
      "    step: 300; loss: -1378.763; l2dist: 2.426\n",
      "    step: 350; loss: -1378.898; l2dist: 2.424\n",
      "    step: 400; loss: -1378.983; l2dist: 2.420\n",
      "    step: 450; loss: -1379.040; l2dist: 2.420\n",
      "tensor(61, device='cuda:0')\n",
      "binary step: 1; number of successful adv: 100/100\n",
      "    step: 0; loss: -821.332; l2dist: 0.000\n",
      "    step: 50; loss: -837.928; l2dist: 2.186\n",
      "    step: 100; loss: -845.724; l2dist: 2.264\n",
      "    step: 150; loss: -847.592; l2dist: 2.271\n",
      "    step: 200; loss: -848.173; l2dist: 2.267\n",
      "    step: 250; loss: -848.400; l2dist: 2.265\n",
      "    step: 300; loss: -848.500; l2dist: 2.269\n",
      "    step: 350; loss: -848.552; l2dist: 2.272\n",
      "    step: 400; loss: -848.580; l2dist: 2.273\n",
      "    step: 450; loss: -848.594; l2dist: 2.275\n",
      "tensor(69, device='cuda:0')\n",
      "binary step: 2; number of successful adv: 100/100\n",
      "    step: 0; loss: -557.075; l2dist: 0.000\n",
      "    step: 50; loss: -565.870; l2dist: 1.912\n",
      "    step: 100; loss: -571.220; l2dist: 2.056\n",
      "    step: 150; loss: -572.692; l2dist: 2.068\n",
      "    step: 200; loss: -573.069; l2dist: 2.081\n",
      "    step: 250; loss: -573.207; l2dist: 2.088\n",
      "    step: 300; loss: -573.264; l2dist: 2.095\n",
      "    step: 350; loss: -573.299; l2dist: 2.099\n",
      "    step: 400; loss: -573.317; l2dist: 2.103\n",
      "    step: 450; loss: -573.326; l2dist: 2.105\n",
      "tensor(61, device='cuda:0')\n",
      "binary step: 3; number of successful adv: 100/100\n",
      "    step: 0; loss: -441.116; l2dist: 0.000\n",
      "    step: 50; loss: -446.812; l2dist: 1.743\n",
      "    step: 100; loss: -450.681; l2dist: 1.911\n",
      "    step: 150; loss: -451.978; l2dist: 1.967\n",
      "    step: 200; loss: -452.286; l2dist: 1.977\n",
      "    step: 250; loss: -452.393; l2dist: 1.987\n",
      "    step: 300; loss: -452.443; l2dist: 1.993\n",
      "    step: 350; loss: -452.469; l2dist: 2.000\n",
      "    step: 400; loss: -452.483; l2dist: 2.004\n",
      "    step: 450; loss: -452.491; l2dist: 2.006\n",
      "tensor(47, device='cuda:0')\n",
      "binary step: 4; number of successful adv: 100/100\n",
      "    step: 0; loss: -516.985; l2dist: 0.000\n",
      "    step: 50; loss: -524.154; l2dist: 2.089\n",
      "    step: 100; loss: -529.050; l2dist: 2.254\n",
      "    step: 150; loss: -530.424; l2dist: 2.244\n",
      "    step: 200; loss: -530.742; l2dist: 2.251\n",
      "    step: 250; loss: -530.859; l2dist: 2.258\n",
      "    step: 300; loss: -530.911; l2dist: 2.262\n",
      "    step: 350; loss: -530.935; l2dist: 2.265\n",
      "    step: 400; loss: -530.947; l2dist: 2.267\n",
      "    step: 450; loss: -530.954; l2dist: 2.269\n",
      "tensor(78, device='cuda:0')\n",
      "binary step: 0; number of successful adv: 78/100\n",
      "    step: 0; loss: -1330.941; l2dist: 0.000\n",
      "    step: 50; loss: -1361.570; l2dist: 2.229\n",
      "    step: 100; loss: -1374.898; l2dist: 2.486\n",
      "    step: 150; loss: -1377.585; l2dist: 2.463\n",
      "    step: 200; loss: -1378.564; l2dist: 2.436\n",
      "    step: 250; loss: -1379.058; l2dist: 2.421\n",
      "    step: 300; loss: -1379.336; l2dist: 2.411\n",
      "    step: 350; loss: -1379.499; l2dist: 2.406\n",
      "    step: 400; loss: -1379.605; l2dist: 2.403\n",
      "    step: 450; loss: -1379.660; l2dist: 2.403\n",
      "tensor(71, device='cuda:0')\n",
      "binary step: 1; number of successful adv: 100/100\n",
      "    step: 0; loss: -796.734; l2dist: 0.000\n",
      "    step: 50; loss: -811.558; l2dist: 1.925\n",
      "    step: 100; loss: -819.623; l2dist: 2.134\n",
      "    step: 150; loss: -821.442; l2dist: 2.148\n",
      "    step: 200; loss: -822.031; l2dist: 2.143\n",
      "    step: 250; loss: -822.286; l2dist: 2.142\n",
      "    step: 300; loss: -822.390; l2dist: 2.143\n",
      "    step: 350; loss: -822.459; l2dist: 2.147\n",
      "    step: 400; loss: -822.490; l2dist: 2.149\n",
      "    step: 450; loss: -822.508; l2dist: 2.152\n",
      "tensor(52, device='cuda:0')\n",
      "binary step: 2; number of successful adv: 100/100\n",
      "    step: 0; loss: -554.258; l2dist: 0.000\n",
      "    step: 50; loss: -562.233; l2dist: 1.793\n",
      "    step: 100; loss: -567.677; l2dist: 1.980\n",
      "    step: 150; loss: -569.151; l2dist: 2.025\n",
      "    step: 200; loss: -569.530; l2dist: 2.043\n",
      "    step: 250; loss: -569.682; l2dist: 2.050\n",
      "    step: 300; loss: -569.752; l2dist: 2.060\n",
      "    step: 350; loss: -569.786; l2dist: 2.065\n",
      "    step: 400; loss: -569.803; l2dist: 2.066\n",
      "    step: 450; loss: -569.814; l2dist: 2.069\n",
      "tensor(63, device='cuda:0')\n",
      "binary step: 3; number of successful adv: 100/100\n",
      "    step: 0; loss: -447.238; l2dist: 0.000\n",
      "    step: 50; loss: -452.780; l2dist: 1.662\n",
      "    step: 100; loss: -456.891; l2dist: 1.894\n",
      "    step: 150; loss: -458.156; l2dist: 1.927\n",
      "    step: 200; loss: -458.459; l2dist: 1.950\n",
      "    step: 250; loss: -458.580; l2dist: 1.965\n",
      "    step: 300; loss: -458.639; l2dist: 1.972\n",
      "    step: 350; loss: -458.667; l2dist: 1.978\n",
      "    step: 400; loss: -458.682; l2dist: 1.981\n",
      "    step: 450; loss: -458.690; l2dist: 1.982\n",
      "tensor(64, device='cuda:0')\n",
      "binary step: 4; number of successful adv: 100/100\n",
      "    step: 0; loss: -515.694; l2dist: 0.000\n",
      "    step: 50; loss: -523.607; l2dist: 2.192\n",
      "    step: 100; loss: -528.484; l2dist: 2.347\n",
      "    step: 150; loss: -529.898; l2dist: 2.330\n",
      "    step: 200; loss: -530.227; l2dist: 2.332\n",
      "    step: 250; loss: -530.359; l2dist: 2.338\n",
      "    step: 300; loss: -530.414; l2dist: 2.343\n",
      "    step: 350; loss: -530.441; l2dist: 2.344\n",
      "    step: 400; loss: -530.456; l2dist: 2.347\n",
      "    step: 450; loss: -530.465; l2dist: 2.348\n",
      "tensor(84, device='cuda:0')\n",
      "binary step: 0; number of successful adv: 84/100\n",
      "    step: 0; loss: -1035.632; l2dist: 0.000\n",
      "    step: 50; loss: -1063.426; l2dist: 2.067\n",
      "    step: 100; loss: -1072.725; l2dist: 2.270\n",
      "    step: 150; loss: -1074.845; l2dist: 2.270\n",
      "    step: 200; loss: -1075.608; l2dist: 2.257\n",
      "    step: 250; loss: -1075.963; l2dist: 2.252\n",
      "    step: 300; loss: -1076.153; l2dist: 2.249\n",
      "    step: 350; loss: -1076.253; l2dist: 2.249\n",
      "    step: 400; loss: -1076.310; l2dist: 2.249\n",
      "    step: 450; loss: -1076.348; l2dist: 2.250\n",
      "tensor(53, device='cuda:0')\n",
      "binary step: 1; number of successful adv: 100/100\n",
      "    step: 0; loss: -679.935; l2dist: 0.000\n",
      "    step: 50; loss: -694.306; l2dist: 1.953\n",
      "    step: 100; loss: -700.696; l2dist: 2.136\n",
      "    step: 150; loss: -702.345; l2dist: 2.147\n",
      "    step: 200; loss: -702.803; l2dist: 2.153\n",
      "    step: 250; loss: -703.006; l2dist: 2.159\n",
      "    step: 300; loss: -703.089; l2dist: 2.163\n",
      "    step: 350; loss: -703.135; l2dist: 2.168\n",
      "    step: 400; loss: -703.159; l2dist: 2.171\n",
      "    step: 450; loss: -703.174; l2dist: 2.172\n",
      "tensor(60, device='cuda:0')\n",
      "binary step: 2; number of successful adv: 100/100\n",
      "    step: 0; loss: -493.021; l2dist: 0.000\n",
      "    step: 50; loss: -501.187; l2dist: 1.814\n",
      "    step: 100; loss: -505.660; l2dist: 2.011\n",
      "    step: 150; loss: -507.031; l2dist: 2.032\n",
      "    step: 200; loss: -507.377; l2dist: 2.046\n",
      "    step: 250; loss: -507.516; l2dist: 2.052\n",
      "    step: 300; loss: -507.576; l2dist: 2.059\n",
      "    step: 350; loss: -507.604; l2dist: 2.064\n",
      "    step: 400; loss: -507.621; l2dist: 2.066\n",
      "    step: 450; loss: -507.630; l2dist: 2.067\n",
      "tensor(63, device='cuda:0')\n",
      "binary step: 3; number of successful adv: 100/100\n",
      "    step: 0; loss: -397.707; l2dist: 0.000\n",
      "    step: 50; loss: -402.962; l2dist: 1.679\n",
      "    step: 100; loss: -406.354; l2dist: 1.884\n",
      "    step: 150; loss: -407.542; l2dist: 1.922\n",
      "    step: 200; loss: -407.843; l2dist: 1.943\n",
      "    step: 250; loss: -407.954; l2dist: 1.957\n",
      "    step: 300; loss: -408.008; l2dist: 1.967\n",
      "    step: 350; loss: -408.036; l2dist: 1.974\n",
      "    step: 400; loss: -408.049; l2dist: 1.976\n",
      "    step: 450; loss: -408.057; l2dist: 1.978\n",
      "tensor(46, device='cuda:0')\n",
      "binary step: 4; number of successful adv: 100/100\n",
      "    step: 0; loss: -516.304; l2dist: 0.000\n",
      "    step: 50; loss: -524.049; l2dist: 2.174\n",
      "    step: 100; loss: -529.412; l2dist: 2.325\n",
      "    step: 150; loss: -530.804; l2dist: 2.295\n",
      "    step: 200; loss: -531.169; l2dist: 2.300\n",
      "    step: 250; loss: -531.288; l2dist: 2.299\n",
      "    step: 300; loss: -531.346; l2dist: 2.302\n",
      "    step: 350; loss: -531.374; l2dist: 2.303\n",
      "    step: 400; loss: -531.390; l2dist: 2.305\n",
      "    step: 450; loss: -531.397; l2dist: 2.307\n",
      "tensor(78, device='cuda:0')\n",
      "binary step: 0; number of successful adv: 78/100\n",
      "    step: 0; loss: -1328.336; l2dist: 0.000\n",
      "    step: 50; loss: -1362.729; l2dist: 2.387\n",
      "    step: 100; loss: -1377.170; l2dist: 2.599\n",
      "    step: 150; loss: -1379.675; l2dist: 2.543\n",
      "    step: 200; loss: -1380.696; l2dist: 2.511\n",
      "    step: 250; loss: -1381.201; l2dist: 2.494\n",
      "    step: 300; loss: -1381.463; l2dist: 2.488\n",
      "    step: 350; loss: -1381.600; l2dist: 2.485\n",
      "    step: 400; loss: -1381.684; l2dist: 2.486\n"
     ]
    },
    {
     "name": "stdout",
     "output_type": "stream",
     "text": [
      "    step: 450; loss: -1381.735; l2dist: 2.484\n",
      "tensor(77, device='cuda:0')\n",
      "binary step: 1; number of successful adv: 100/100\n",
      "    step: 0; loss: -779.693; l2dist: 0.000\n",
      "    step: 50; loss: -796.260; l2dist: 1.998\n",
      "    step: 100; loss: -804.735; l2dist: 2.141\n",
      "    step: 150; loss: -806.481; l2dist: 2.163\n",
      "    step: 200; loss: -807.058; l2dist: 2.159\n",
      "    step: 250; loss: -807.298; l2dist: 2.163\n",
      "    step: 300; loss: -807.405; l2dist: 2.165\n",
      "    step: 350; loss: -807.459; l2dist: 2.168\n",
      "    step: 400; loss: -807.493; l2dist: 2.170\n",
      "    step: 450; loss: -807.512; l2dist: 2.171\n",
      "tensor(64, device='cuda:0')\n",
      "binary step: 2; number of successful adv: 100/100\n",
      "    step: 0; loss: -522.110; l2dist: 0.000\n",
      "    step: 50; loss: -530.708; l2dist: 1.789\n",
      "    step: 100; loss: -536.366; l2dist: 1.956\n",
      "    step: 150; loss: -537.648; l2dist: 1.969\n",
      "    step: 200; loss: -538.020; l2dist: 1.991\n",
      "    step: 250; loss: -538.167; l2dist: 2.001\n",
      "    step: 300; loss: -538.234; l2dist: 2.009\n",
      "    step: 350; loss: -538.268; l2dist: 2.016\n",
      "    step: 400; loss: -538.286; l2dist: 2.019\n",
      "    step: 450; loss: -538.300; l2dist: 2.023\n",
      "tensor(64, device='cuda:0')\n",
      "binary step: 3; number of successful adv: 100/100\n",
      "    step: 0; loss: -393.346; l2dist: 0.000\n",
      "    step: 50; loss: -398.453; l2dist: 1.566\n",
      "    step: 100; loss: -402.323; l2dist: 1.804\n",
      "    step: 150; loss: -403.506; l2dist: 1.838\n",
      "    step: 200; loss: -403.795; l2dist: 1.857\n",
      "    step: 250; loss: -403.910; l2dist: 1.876\n",
      "    step: 300; loss: -403.961; l2dist: 1.881\n",
      "    step: 350; loss: -403.986; l2dist: 1.886\n",
      "    step: 400; loss: -404.001; l2dist: 1.891\n",
      "    step: 450; loss: -404.011; l2dist: 1.893\n",
      "tensor(69, device='cuda:0')\n",
      "binary step: 4; number of successful adv: 100/100\n"
     ]
    }
   ],
   "source": [
    "attack = DKNNAttack()\n",
    "\n",
    "def attack_batch(x, y, batch_size):\n",
    "    x_adv = torch.zeros_like(x)\n",
    "    total_num = x.size(0)\n",
    "    num_batches = total_num // batch_size\n",
    "    for i in range(num_batches):\n",
    "        begin = i * batch_size\n",
    "        end = (i + 1) * batch_size\n",
    "        x_adv[begin:end] = attack(\n",
    "            dknn, x[begin:end], y[begin:end],\n",
    "            guide_layer=layers[0], m=100, binary_search_steps=5,\n",
    "            max_iterations=500, learning_rate=1e-1,\n",
    "            initial_const=1e2, abort_early=True)\n",
    "    return x_adv\n",
    "\n",
    "x_adv = attack_batch(x_test[:1000].cuda(), y_test[:1000], 100)"
   ]
  },
  {
   "cell_type": "code",
   "execution_count": 25,
   "metadata": {},
   "outputs": [
    {
     "data": {
      "text/plain": [
       "0.091"
      ]
     },
     "execution_count": 25,
     "metadata": {},
     "output_type": "execute_result"
    }
   ],
   "source": [
    "y_pred = dknn.classify(x_adv)\n",
    "(y_pred.argmax(1) == y_test[:1000].numpy()).sum() / len(y_pred)"
   ]
  },
  {
   "cell_type": "code",
   "execution_count": 26,
   "metadata": {},
   "outputs": [
    {
     "data": {
      "text/plain": [
       "(array([979.,   9.,   0.,   0.,   0.,   0.,   0.,   0.,   0.,  12.]),\n",
       " array([0.015 , 0.1135, 0.212 , 0.3105, 0.409 , 0.5075, 0.606 , 0.7045,\n",
       "        0.803 , 0.9015, 1.    ]),\n",
       " <a list of 10 Patch objects>)"
      ]
     },
     "execution_count": 26,
     "metadata": {},
     "output_type": "execute_result"
    },
    {
     "data": {
      "image/png": "[encoded data removed]",
      "text/plain": [
       "<Figure size 432x288 with 1 Axes>"
      ]
     },
     "metadata": {
      "needs_background": "light"
     },
     "output_type": "display_data"
    }
   ],
   "source": [
    "cred = dknn.credibility(y_pred)\n",
    "plt.hist(cred)"
   ]
  },
  {
   "cell_type": "code",
   "execution_count": 27,
   "metadata": {
    "scrolled": true
   },
   "outputs": [
    {
     "data": {
      "image/png": "[encoded data removed]",
      "text/plain": [
       "<Figure size 432x288 with 1 Axes>"
      ]
     },
     "metadata": {
      "needs_background": "light"
     },
     "output_type": "display_data"
    },
    {
     "data": {
      "image/png": "[encoded data removed]",
      "text/plain": [
       "<Figure size 432x288 with 1 Axes>"
      ]
     },
     "metadata": {
      "needs_background": "light"
     },
     "output_type": "display_data"
    },
    {
     "data": {
      "image/png": "[encoded data removed]",
      "text/plain": [
       "<Figure size 432x288 with 1 Axes>"
      ]
     },
     "metadata": {
      "needs_background": "light"
     },
     "output_type": "display_data"
    },
    {
     "data": {
      "image/png": "[encoded data removed]",
      "text/plain": [
       "<Figure size 432x288 with 1 Axes>"
      ]
     },
     "metadata": {
      "needs_background": "light"
     },
     "output_type": "display_data"
    },
    {
     "data": {
      "image/png": "[encoded data removed]",
      "text/plain": [
       "<Figure size 432x288 with 1 Axes>"
      ]
     },
     "metadata": {
      "needs_background": "light"
     },
     "output_type": "display_data"
    }
   ],
   "source": [
    "for i in range(5):\n",
    "    plt.imshow(x_adv[i].cpu().detach().numpy().squeeze(), cmap='gray')\n",
    "    plt.show()"
   ]
  },
  {
   "cell_type": "code",
   "execution_count": 28,
   "metadata": {},
   "outputs": [
    {
     "data": {
      "text/plain": [
       "2.0539396"
      ]
     },
     "execution_count": 28,
     "metadata": {},
     "output_type": "execute_result"
    }
   ],
   "source": [
    "y_clean = dknn.classify(x_test[:1000])\n",
    "ind = (y_clean.argmax(1) == y_test[:1000].numpy()) & (y_pred.argmax(1) != y_test[:1000].numpy())\n",
    "np.mean(np.sqrt(np.sum((x_adv.cpu().detach().numpy()[ind] - x_test.numpy()[:1000][ind])**2, (1, 2, 3))))"
   ]
  },
  {
   "cell_type": "markdown",
   "metadata": {},
   "source": [
    "## CW L2 Attack\n",
    "\n",
    "without DkNN"
   ]
  },
  {
   "cell_type": "code",
   "execution_count": null,
   "metadata": {
    "scrolled": true
   },
   "outputs": [],
   "source": [
    "attack = CWL2Attack()\n",
    "\n",
    "def attack_batch(x, y, batch_size):\n",
    "    x_adv = torch.zeros_like(x)\n",
    "    total_num = x.size(0)\n",
    "    num_batches = total_num // batch_size\n",
    "    for i in range(num_batches):\n",
    "        begin = i * batch_size\n",
    "        end = (i + 1) * batch_size\n",
    "        x_adv[begin:end] = attack(\n",
    "            net, x[begin:end], y[begin:end], targeted=False,\n",
    "            binary_search_steps=5, max_iterations=500,\n",
    "            confidence=0, learning_rate=1e-1,\n",
    "            initial_const=1, abort_early=True)\n",
    "    return x_adv\n",
    "\n",
    "x_adv = attack_batch(x_test[:1000].cuda(), y_test[:1000].cuda(), 100)"
   ]
  },
  {
   "cell_type": "code",
   "execution_count": 273,
   "metadata": {},
   "outputs": [
    {
     "ename": "AttributeError",
     "evalue": "'tuple' object has no attribute 'argmax'",
     "output_type": "error",
     "traceback": [
      "\u001b[0;31m---------------------------------------------------------------------------\u001b[0m",
      "\u001b[0;31mAttributeError\u001b[0m                            Traceback (most recent call last)",
      "\u001b[0;32m<ipython-input-273-bcd43926535c>\u001b[0m in \u001b[0;36m<module>\u001b[0;34m\u001b[0m\n\u001b[1;32m      1\u001b[0m \u001b[0my_pred\u001b[0m \u001b[0;34m=\u001b[0m \u001b[0mnet\u001b[0m\u001b[0;34m(\u001b[0m\u001b[0mx_adv\u001b[0m\u001b[0;34m)\u001b[0m\u001b[0;34m\u001b[0m\u001b[0m\n\u001b[0;32m----> 2\u001b[0;31m \u001b[0;34m(\u001b[0m\u001b[0my_pred\u001b[0m\u001b[0;34m.\u001b[0m\u001b[0margmax\u001b[0m\u001b[0;34m(\u001b[0m\u001b[0;36m1\u001b[0m\u001b[0;34m)\u001b[0m\u001b[0;34m.\u001b[0m\u001b[0mcpu\u001b[0m\u001b[0;34m(\u001b[0m\u001b[0;34m)\u001b[0m \u001b[0;34m==\u001b[0m \u001b[0my_test\u001b[0m\u001b[0;34m[\u001b[0m\u001b[0;34m:\u001b[0m\u001b[0;36m1000\u001b[0m\u001b[0;34m]\u001b[0m\u001b[0;34m)\u001b[0m\u001b[0;34m.\u001b[0m\u001b[0mnumpy\u001b[0m\u001b[0;34m(\u001b[0m\u001b[0;34m)\u001b[0m\u001b[0;34m.\u001b[0m\u001b[0msum\u001b[0m\u001b[0;34m(\u001b[0m\u001b[0;34m)\u001b[0m \u001b[0;34m/\u001b[0m \u001b[0my_pred\u001b[0m\u001b[0;34m.\u001b[0m\u001b[0msize\u001b[0m\u001b[0;34m(\u001b[0m\u001b[0;36m0\u001b[0m\u001b[0;34m)\u001b[0m\u001b[0;34m\u001b[0m\u001b[0m\n\u001b[0m",
      "\u001b[0;31mAttributeError\u001b[0m: 'tuple' object has no attribute 'argmax'"
     ]
    }
   ],
   "source": [
    "y_pred = net(x_adv)\n",
    "(y_pred.argmax(1).cpu() == y_test[:1000]).numpy().sum() / y_pred.size(0)"
   ]
  },
  {
   "cell_type": "code",
   "execution_count": 274,
   "metadata": {},
   "outputs": [
    {
     "data": {
      "text/plain": [
       "0.702"
      ]
     },
     "execution_count": 274,
     "metadata": {},
     "output_type": "execute_result"
    }
   ],
   "source": [
    "y_pred = dknn.classify(x_adv)\n",
    "(y_pred.argmax(1) == y_test[:1000].numpy()).sum() / len(y_pred)"
   ]
  },
  {
   "cell_type": "code",
   "execution_count": 90,
   "metadata": {},
   "outputs": [
    {
     "data": {
      "text/plain": [
       "(array([139.,  46.,  23.,  19.,   3.,   3.,   4.,   2.,   2.,   3.]),\n",
       " array([0.0165    , 0.08763333, 0.15876667, 0.2299    , 0.30103333,\n",
       "        0.37216667, 0.4433    , 0.51443333, 0.58556667, 0.6567    ,\n",
       "        0.72783333]),\n",
       " <a list of 10 Patch objects>)"
      ]
     },
     "execution_count": 90,
     "metadata": {},
     "output_type": "execute_result"
    },
    {
     "data": {
      "image/png": "[encoded data removed]",
      "text/plain": [
       "<Figure size 432x288 with 1 Axes>"
      ]
     },
     "metadata": {
      "needs_background": "light"
     },
     "output_type": "display_data"
    }
   ],
   "source": [
    "cred = dknn.credibility(y_pred)\n",
    "suc_ind = y_pred.argmax(1) != y_test[:1000].numpy()\n",
    "plt.hist(cred[suc_ind])"
   ]
  },
  {
   "cell_type": "code",
   "execution_count": 87,
   "metadata": {},
   "outputs": [
    {
     "data": {
      "text/plain": [
       "<matplotlib.image.AxesImage at 0x7f5e5ddbbac8>"
      ]
     },
     "execution_count": 87,
     "metadata": {},
     "output_type": "execute_result"
    },
    {
     "data": {
      "image/png": "[encoded data removed]",
      "text/plain": [
       "<Figure size 432x288 with 1 Axes>"
      ]
     },
     "metadata": {
      "needs_background": "light"
     },
     "output_type": "display_data"
    }
   ],
   "source": [
    "plt.imshow(x_adv[0].cpu().detach().numpy().squeeze(), cmap='gray')"
   ]
  },
  {
   "cell_type": "code",
   "execution_count": 88,
   "metadata": {},
   "outputs": [
    {
     "data": {
      "text/plain": [
       "tensor(0.7349, grad_fn=<MeanBackward1>)"
      ]
     },
     "execution_count": 88,
     "metadata": {},
     "output_type": "execute_result"
    }
   ],
   "source": [
    "(x_adv.cpu() - x_test[:1000]).view(1000, -1).norm(dim=0).mean()"
   ]
  },
  {
   "cell_type": "markdown",
   "metadata": {},
   "source": [
    "---"
   ]
  },
  {
   "cell_type": "code",
   "execution_count": 27,
   "metadata": {},
   "outputs": [],
   "source": [
    "# Set all random seeds\n",
    "exp_id = 0\n",
    "seed = 2019\n",
    "np.random.seed(seed)\n",
    "torch.manual_seed(seed)\n",
    "\n",
    "device = 'cuda' if torch.cuda.is_available() else 'cpu'\n",
    "\n",
    "# Set up model directory\n",
    "save_dir = os.path.join(os.getcwd(), 'saved_models')\n",
    "model_name = 'train_mnist_cav_exp%d.h5' % exp_id\n",
    "if not os.path.isdir(save_dir):\n",
    "    os.makedirs(save_dir)\n",
    "model_path = os.path.join(save_dir, model_name)\n",
    "\n",
    "net = ClassAuxVAE((1, 28, 28), num_classes=10, latent_dim=20)\n",
    "net = net.to(device)\n",
    "if device == 'cuda':\n",
    "    net = torch.nn.DataParallel(net)\n",
    "    cudnn.benchmark = True\n",
    "net.load_state_dict(torch.load(model_path))\n",
    "net = net.module\n",
    "net.eval()\n",
    "\n",
    "(x_train, y_train), (x_valid, y_valid), (x_test, y_test) = load_mnist_all(\n",
    "    '/data', val_size=0.1, seed=seed)"
   ]
  },
  {
   "cell_type": "code",
   "execution_count": 32,
   "metadata": {},
   "outputs": [],
   "source": [
    "x_train = x_train.to(device)\n",
    "x_test = x_test.to(device)\n",
    "x_valid = x_valid.to(device)"
   ]
  },
  {
   "cell_type": "code",
   "execution_count": 28,
   "metadata": {},
   "outputs": [
    {
     "data": {
      "text/plain": [
       "ClassAuxVAE(\n",
       "  (en_conv1): Conv2d(1, 64, kernel_size=(8, 8), stride=(2, 2), padding=(3, 3))\n",
       "  (relu1): ReLU(inplace)\n",
       "  (en_conv2): Conv2d(64, 128, kernel_size=(6, 6), stride=(2, 2), padding=(3, 3))\n",
       "  (relu2): ReLU(inplace)\n",
       "  (en_conv3): Conv2d(128, 128, kernel_size=(5, 5), stride=(1, 1))\n",
       "  (relu3): ReLU(inplace)\n",
       "  (en_fc1): Linear(in_features=2048, out_features=128, bias=True)\n",
       "  (relu4): ReLU(inplace)\n",
       "  (en_mu): Linear(in_features=128, out_features=20, bias=True)\n",
       "  (en_logvar): Linear(in_features=128, out_features=20, bias=True)\n",
       "  (de_fc1): Linear(in_features=20, out_features=128, bias=True)\n",
       "  (de_fc2): Linear(in_features=128, out_features=1568, bias=True)\n",
       "  (ax_fc1): Linear(in_features=20, out_features=128, bias=True)\n",
       "  (ax_fc2): Linear(in_features=128, out_features=10, bias=True)\n",
       ")"
      ]
     },
     "execution_count": 28,
     "metadata": {},
     "output_type": "execute_result"
    }
   ],
   "source": [
    "net"
   ]
  },
  {
   "cell_type": "code",
   "execution_count": 59,
   "metadata": {
    "scrolled": true
   },
   "outputs": [],
   "source": [
    "layers = ['en_mu']\n",
    "net = net.to(device)\n",
    "with torch.no_grad():\n",
    "    dknn = DKNN(net, x_train, y_train, x_valid, y_valid, layers, \n",
    "                k=10, num_classes=10)\n",
    "    y_pred = dknn.classify(x_test)"
   ]
  },
  {
   "cell_type": "code",
   "execution_count": 60,
   "metadata": {},
   "outputs": [
    {
     "data": {
      "text/plain": [
       "0.964"
      ]
     },
     "execution_count": 60,
     "metadata": {},
     "output_type": "execute_result"
    }
   ],
   "source": [
    "(y_pred.argmax(1) == y_test.numpy()).sum() / y_test.size(0)"
   ]
  },
  {
   "cell_type": "code",
   "execution_count": 61,
   "metadata": {},
   "outputs": [
    {
     "data": {
      "text/plain": [
       "(array([ 741., 1243.,    0.,    0.,    0.,    0.,    0.,    0.,    0.,\n",
       "        8016.]),\n",
       " array([0.01683333, 0.11515   , 0.21346667, 0.31178333, 0.4101    ,\n",
       "        0.50841667, 0.60673333, 0.70505   , 0.80336667, 0.90168333,\n",
       "        1.        ]),\n",
       " <a list of 10 Patch objects>)"
      ]
     },
     "execution_count": 61,
     "metadata": {},
     "output_type": "execute_result"
    },
    {
     "data": {
      "image/png": "[encoded data removed]",
      "text/plain": [
       "<Figure size 432x288 with 1 Axes>"
      ]
     },
     "metadata": {
      "needs_background": "light"
     },
     "output_type": "display_data"
    }
   ],
   "source": [
    "cred = dknn.credibility(y_pred)\n",
    "plt.hist(cred)"
   ]
  },
  {
   "cell_type": "code",
   "execution_count": 62,
   "metadata": {
    "scrolled": true
   },
   "outputs": [
    {
     "name": "stdout",
     "output_type": "stream",
     "text": [
      "    step: 0; loss: -10.374; l2dist: 0.000\n",
      "    step: 50; loss: -16.516; l2dist: 2.206\n",
      "    step: 100; loss: -17.532; l2dist: 2.233\n",
      "    step: 150; loss: -21.379; l2dist: 2.383\n",
      "    step: 200; loss: -23.950; l2dist: 2.461\n",
      "    step: 250; loss: -25.525; l2dist: 2.522\n",
      "    step: 300; loss: -26.562; l2dist: 2.575\n",
      "    step: 350; loss: -27.237; l2dist: 2.610\n",
      "    step: 400; loss: -27.690; l2dist: 2.641\n",
      "    step: 450; loss: -27.980; l2dist: 2.662\n",
      "binary step: 0; number of successful adv: 732/1000\n",
      "    step: 0; loss: -31.082; l2dist: 0.000\n",
      "    step: 50; loss: -80.035; l2dist: 2.555\n",
      "    step: 100; loss: -102.080; l2dist: 2.891\n",
      "    step: 150; loss: -113.852; l2dist: 3.048\n",
      "    step: 200; loss: -119.545; l2dist: 3.074\n",
      "    step: 250; loss: -122.952; l2dist: 3.069\n",
      "    step: 300; loss: -125.118; l2dist: 3.057\n",
      "    step: 350; loss: -126.465; l2dist: 3.052\n",
      "    step: 400; loss: -127.398; l2dist: 3.048\n",
      "    step: 450; loss: -127.963; l2dist: 3.048\n",
      "binary step: 1; number of successful adv: 1000/1000\n",
      "    step: 0; loss: -18.453; l2dist: 0.000\n",
      "    step: 50; loss: -41.968; l2dist: 2.307\n",
      "    step: 100; loss: -50.826; l2dist: 2.505\n",
      "    step: 150; loss: -58.404; l2dist: 2.650\n",
      "    step: 200; loss: -62.506; l2dist: 2.697\n",
      "    step: 250; loss: -64.977; l2dist: 2.730\n",
      "    step: 300; loss: -66.444; l2dist: 2.758\n",
      "    step: 350; loss: -67.368; l2dist: 2.784\n",
      "    step: 400; loss: -68.046; l2dist: 2.805\n",
      "    step: 450; loss: -68.504; l2dist: 2.821\n",
      "binary step: 2; number of successful adv: 1000/1000\n",
      "    step: 0; loss: -12.291; l2dist: 0.000\n",
      "    step: 50; loss: -23.981; l2dist: 2.042\n",
      "    step: 100; loss: -27.347; l2dist: 2.139\n",
      "    step: 150; loss: -31.913; l2dist: 2.274\n",
      "    step: 200; loss: -34.881; l2dist: 2.359\n",
      "    step: 250; loss: -36.645; l2dist: 2.417\n",
      "    step: 300; loss: -37.730; l2dist: 2.470\n",
      "    step: 350; loss: -38.446; l2dist: 2.513\n",
      "    step: 400; loss: -38.975; l2dist: 2.552\n",
      "    step: 450; loss: -39.337; l2dist: 2.582\n",
      "binary step: 3; number of successful adv: 1000/1000\n",
      "    step: 0; loss: -9.416; l2dist: 0.000\n",
      "    step: 50; loss: -16.268; l2dist: 1.800\n",
      "    step: 100; loss: -17.725; l2dist: 1.852\n",
      "    step: 150; loss: -20.717; l2dist: 1.967\n",
      "    step: 200; loss: -22.756; l2dist: 2.050\n",
      "    step: 250; loss: -24.101; l2dist: 2.127\n",
      "    step: 300; loss: -24.973; l2dist: 2.191\n",
      "    step: 350; loss: -25.603; l2dist: 2.247\n",
      "    step: 400; loss: -26.060; l2dist: 2.291\n",
      "    step: 450; loss: -26.376; l2dist: 2.325\n",
      "binary step: 4; number of successful adv: 1000/1000\n"
     ]
    }
   ],
   "source": [
    "from lib.dknn_attack import DKNNAttack\n",
    "\n",
    "attack = DKNNAttack()\n",
    "x_adv = attack(dknn, x_test[:1000], y_test[:1000],\n",
    "               guide_layer='en_mu', binary_search_steps=5,\n",
    "               max_iterations=500, learning_rate=1e-1,\n",
    "               initial_const=1, abort_early=True)"
   ]
  },
  {
   "cell_type": "code",
   "execution_count": 18,
   "metadata": {},
   "outputs": [
    {
     "data": {
      "text/plain": [
       "0"
      ]
     },
     "execution_count": 18,
     "metadata": {},
     "output_type": "execute_result"
    }
   ],
   "source": [
    "y_pred = dknn.classify(x_adv)\n",
    "(y_pred.argmax(1) == y_test[:1000].numpy()).sum()"
   ]
  },
  {
   "cell_type": "code",
   "execution_count": 40,
   "metadata": {
    "scrolled": true
   },
   "outputs": [
    {
     "data": {
      "text/plain": [
       "torch.Size([1000, 128, 4, 4])"
      ]
     },
     "execution_count": 40,
     "metadata": {},
     "output_type": "execute_result"
    }
   ],
   "source": [
    "x.size()"
   ]
  },
  {
   "cell_type": "code",
   "execution_count": 41,
   "metadata": {},
   "outputs": [
    {
     "data": {
      "text/plain": [
       "tensor([1.0000, 1.0000, 1.0000, 1.0000, 1.0000, 1.0000, 1.0000, 1.0000, 1.0000,\n",
       "        1.0000, 1.0000, 1.0000, 1.0000, 1.0000, 1.0000, 1.0000, 1.0000, 1.0000,\n",
       "        1.0000, 1.0000, 1.0000, 1.0000, 1.0000, 1.0000, 1.0000, 1.0000, 1.0000,\n",
       "        1.0000, 1.0000, 1.0000, 1.0000, 1.0000, 1.0000, 1.0000, 1.0000, 1.0000,\n",
       "        1.0000, 1.0000, 1.0000, 1.0000, 1.0000, 1.0000, 1.0000, 1.0000, 1.0000,\n",
       "        1.0000, 1.0000, 1.0000, 1.0000, 1.0000, 1.0000, 1.0000, 1.0000, 1.0000,\n",
       "        1.0000, 1.0000, 1.0000, 1.0000, 1.0000, 1.0000, 1.0000, 1.0000, 1.0000,\n",
       "        1.0000, 1.0000, 1.0000, 1.0000, 1.0000, 1.0000, 1.0000, 1.0000, 1.0000,\n",
       "        1.0000, 1.0000, 1.0000, 1.0000, 1.0000, 1.0000, 1.0000, 1.0000, 1.0000,\n",
       "        1.0000, 1.0000, 1.0000, 1.0000, 1.0000, 1.0000, 1.0000, 1.0000, 1.0000,\n",
       "        1.0000, 1.0000, 1.0000, 1.0000, 1.0000, 1.0000, 1.0000, 1.0000, 1.0000,\n",
       "        1.0000, 1.0000, 1.0000, 1.0000, 1.0000, 1.0000, 1.0000, 1.0000, 1.0000,\n",
       "        1.0000, 1.0000, 1.0000, 1.0000, 1.0000, 1.0000, 1.0000, 1.0000, 1.0000,\n",
       "        1.0000, 1.0000, 1.0000, 1.0000, 1.0000, 1.0000, 1.0000, 1.0000, 1.0000,\n",
       "        1.0000, 1.0000, 1.0000, 1.0000, 1.0000, 1.0000, 1.0000, 1.0000, 1.0000,\n",
       "        1.0000, 1.0000, 1.0000, 1.0000, 1.0000, 1.0000, 1.0000, 1.0000, 1.0000,\n",
       "        1.0000, 1.0000, 1.0000, 1.0000, 1.0000, 1.0000, 1.0000, 1.0000, 1.0000,\n",
       "        1.0000, 1.0000, 1.0000, 1.0000, 1.0000, 1.0000, 1.0000, 1.0000, 1.0000,\n",
       "        1.0000, 1.0000, 1.0000, 1.0000, 1.0000, 1.0000, 1.0000, 1.0000, 1.0000,\n",
       "        1.0000, 1.0000, 1.0000, 1.0000, 1.0000, 1.0000, 1.0000, 1.0000, 1.0000,\n",
       "        1.0000, 1.0000, 1.0000, 1.0000, 1.0000, 1.0000, 1.0000, 1.0000, 1.0000,\n",
       "        1.0000, 1.0000, 1.0000, 1.0000, 1.0000, 1.0000, 1.0000, 1.0000, 1.0000,\n",
       "        1.0000, 1.0000, 1.0000, 1.0000, 1.0000, 1.0000, 1.0000, 1.0000, 1.0000,\n",
       "        1.0000, 1.0000, 1.0000, 1.0000, 1.0000, 1.0000, 1.0000, 1.0000, 1.0000,\n",
       "        1.0000, 1.0000, 1.0000, 1.0000, 1.0000, 1.0000, 1.0000, 1.0000, 1.0000,\n",
       "        1.0000, 1.0000, 1.0000, 1.0000, 1.0000, 1.0000, 1.0000, 1.0000, 1.0000,\n",
       "        1.0000, 1.0000, 1.0000, 1.0000, 1.0000, 1.0000, 1.0000, 1.0000, 1.0000,\n",
       "        1.0000, 1.0000, 1.0000, 1.0000, 1.0000, 1.0000, 1.0000, 1.0000, 1.0000,\n",
       "        1.0000, 1.0000, 1.0000, 1.0000, 1.0000, 1.0000, 1.0000, 1.0000, 1.0000,\n",
       "        1.0000, 1.0000, 1.0000, 1.0000, 1.0000, 1.0000, 1.0000, 1.0000, 1.0000,\n",
       "        1.0000, 1.0000, 1.0000, 1.0000, 1.0000, 1.0000, 1.0000, 1.0000, 1.0000,\n",
       "        1.0000, 1.0000, 1.0000, 1.0000, 1.0000, 1.0000, 1.0000, 1.0000, 1.0000,\n",
       "        1.0000, 1.0000, 1.0000, 1.0000, 1.0000, 1.0000, 1.0000, 1.0000, 1.0000,\n",
       "        1.0000, 1.0000, 1.0000, 1.0000, 1.0000, 1.0000, 1.0000, 1.0000, 1.0000,\n",
       "        1.0000, 1.0000, 1.0000, 1.0000, 1.0000, 1.0000, 1.0000, 1.0000, 1.0000,\n",
       "        1.0000, 1.0000, 1.0000, 1.0000, 1.0000, 1.0000, 1.0000, 1.0000, 1.0000,\n",
       "        1.0000, 1.0000, 1.0000, 1.0000, 1.0000, 1.0000, 1.0000, 1.0000, 1.0000,\n",
       "        1.0000, 1.0000, 1.0000, 1.0000, 1.0000, 1.0000, 1.0000, 1.0000, 1.0000,\n",
       "        1.0000, 1.0000, 1.0000, 1.0000, 1.0000, 1.0000, 1.0000, 1.0000, 1.0000,\n",
       "        1.0000, 1.0000, 1.0000, 1.0000, 1.0000, 1.0000, 1.0000, 1.0000, 1.0000,\n",
       "        1.0000, 1.0000, 1.0000, 1.0000, 1.0000, 1.0000, 1.0000, 1.0000, 1.0000,\n",
       "        1.0000, 1.0000, 1.0000, 1.0000, 1.0000, 1.0000, 1.0000, 1.0000, 1.0000,\n",
       "        1.0000, 1.0000, 1.0000, 1.0000, 1.0000, 1.0000, 1.0000, 1.0000, 1.0000,\n",
       "        1.0000, 1.0000, 1.0000, 1.0000, 1.0000, 1.0000, 1.0000, 1.0000, 1.0000,\n",
       "        1.0000, 1.0000, 1.0000, 1.0000, 1.0000, 1.0000, 1.0000, 1.0000, 1.0000,\n",
       "        1.0000, 1.0000, 1.0000, 1.0000, 1.0000, 1.0000, 1.0000, 1.0000, 1.0000,\n",
       "        1.0000, 1.0000, 1.0000, 1.0000, 1.0000, 1.0000, 1.0000, 1.0000, 1.0000,\n",
       "        1.0000, 1.0000, 1.0000, 1.0000, 1.0000, 1.0000, 1.0000, 1.0000, 1.0000,\n",
       "        1.0000, 1.0000, 1.0000, 1.0000, 1.0000, 1.0000, 1.0000, 1.0000, 1.0000,\n",
       "        1.0000, 1.0000, 1.0000, 1.0000, 1.0000, 1.0000, 1.0000, 1.0000, 1.0000,\n",
       "        1.0000, 1.0000, 1.0000, 1.0000, 1.0000, 1.0000, 1.0000, 1.0000, 1.0000,\n",
       "        1.0000, 1.0000, 1.0000, 1.0000, 1.0000, 1.0000, 1.0000, 1.0000, 1.0000,\n",
       "        1.0000, 1.0000, 1.0000, 1.0000, 1.0000, 1.0000, 1.0000, 1.0000, 1.0000,\n",
       "        1.0000, 1.0000, 1.0000, 1.0000, 1.0000, 1.0000, 1.0000, 1.0000, 1.0000,\n",
       "        1.0000, 1.0000, 1.0000, 1.0000, 1.0000, 1.0000, 1.0000, 1.0000, 1.0000,\n",
       "        1.0000, 1.0000, 1.0000, 1.0000, 1.0000, 1.0000, 1.0000, 1.0000, 1.0000,\n",
       "        1.0000, 1.0000, 1.0000, 1.0000, 1.0000, 1.0000, 1.0000, 1.0000, 1.0000,\n",
       "        1.0000, 1.0000, 1.0000, 1.0000, 1.0000, 1.0000, 1.0000, 1.0000, 1.0000,\n",
       "        1.0000, 1.0000, 1.0000, 1.0000, 1.0000, 1.0000, 1.0000, 1.0000, 1.0000,\n",
       "        1.0000, 1.0000, 1.0000, 1.0000, 1.0000, 1.0000, 1.0000, 1.0000, 1.0000,\n",
       "        1.0000, 1.0000, 1.0000, 1.0000, 1.0000, 1.0000, 1.0000, 1.0000, 1.0000,\n",
       "        1.0000, 1.0000, 1.0000, 1.0000, 1.0000, 1.0000, 1.0000, 1.0000, 1.0000,\n",
       "        1.0000, 1.0000, 1.0000, 1.0000, 1.0000, 1.0000, 1.0000, 1.0000, 1.0000,\n",
       "        1.0000, 1.0000, 1.0000, 1.0000, 1.0000, 1.0000, 1.0000, 1.0000, 1.0000,\n",
       "        1.0000, 1.0000, 1.0000, 1.0000, 1.0000, 1.0000, 1.0000, 1.0000, 1.0000,\n",
       "        1.0000, 1.0000, 1.0000, 1.0000, 1.0000, 1.0000, 1.0000, 1.0000, 1.0000,\n",
       "        1.0000, 1.0000, 1.0000, 1.0000, 1.0000, 1.0000, 1.0000, 1.0000, 1.0000,\n",
       "        1.0000, 1.0000, 1.0000, 1.0000, 1.0000, 1.0000, 1.0000, 1.0000, 1.0000,\n",
       "        1.0000, 1.0000, 1.0000, 1.0000, 1.0000, 1.0000, 1.0000, 1.0000, 1.0000,\n",
       "        1.0000, 1.0000, 1.0000, 1.0000, 1.0000, 1.0000, 1.0000, 1.0000, 1.0000,\n",
       "        1.0000, 1.0000, 1.0000, 1.0000, 1.0000, 1.0000, 1.0000, 1.0000, 1.0000,\n",
       "        1.0000, 1.0000, 1.0000, 1.0000, 1.0000, 1.0000, 1.0000, 1.0000, 1.0000,\n",
       "        1.0000, 1.0000, 1.0000, 1.0000, 1.0000, 1.0000, 1.0000, 1.0000, 1.0000,\n",
       "        1.0000, 1.0000, 1.0000, 1.0000, 1.0000, 1.0000, 1.0000, 1.0000, 1.0000,\n",
       "        1.0000, 1.0000, 1.0000, 1.0000, 1.0000, 1.0000, 1.0000, 1.0000, 1.0000,\n",
       "        1.0000, 1.0000, 1.0000, 1.0000, 1.0000, 1.0000, 1.0000, 1.0000, 1.0000,\n",
       "        1.0000, 1.0000, 1.0000, 1.0000, 1.0000, 1.0000, 1.0000, 1.0000, 1.0000,\n",
       "        1.0000, 1.0000, 1.0000, 1.0000, 1.0000, 1.0000, 1.0000, 1.0000, 1.0000,\n",
       "        1.0000, 1.0000, 1.0000, 1.0000, 1.0000, 1.0000, 1.0000, 1.0000, 1.0000,\n",
       "        1.0000, 1.0000, 1.0000, 1.0000, 1.0000, 1.0000, 1.0000, 1.0000, 1.0000,\n",
       "        1.0000, 1.0000, 1.0000, 1.0000, 1.0000, 1.0000, 1.0000, 1.0000, 1.0000,\n",
       "        1.0000, 1.0000, 1.0000, 1.0000, 1.0000, 1.0000, 1.0000, 1.0000, 1.0000,\n",
       "        1.0000, 1.0000, 1.0000, 1.0000, 1.0000, 1.0000, 1.0000, 1.0000, 1.0000,\n",
       "        1.0000, 1.0000, 1.0000, 1.0000, 1.0000, 1.0000, 1.0000, 1.0000, 1.0000,\n",
       "        1.0000, 1.0000, 1.0000, 1.0000, 1.0000, 1.0000, 1.0000, 1.0000, 1.0000,\n",
       "        1.0000, 1.0000, 1.0000, 1.0000, 1.0000, 1.0000, 1.0000, 1.0000, 1.0000,\n",
       "        1.0000, 1.0000, 1.0000, 1.0000, 1.0000, 1.0000, 1.0000, 1.0000, 1.0000,\n",
       "        1.0000, 1.0000, 1.0000, 1.0000, 1.0000, 1.0000, 1.0000, 1.0000, 1.0000,\n",
       "        1.0000, 1.0000, 1.0000, 1.0000, 1.0000, 1.0000, 1.0000, 1.0000, 1.0000,\n",
       "        1.0000, 1.0000, 1.0000, 1.0000, 1.0000, 1.0000, 1.0000, 1.0000, 1.0000,\n",
       "        1.0000, 1.0000, 1.0000, 1.0000, 1.0000, 1.0000, 1.0000, 1.0000, 1.0000,\n",
       "        1.0000, 1.0000, 1.0000, 1.0000, 1.0000, 1.0000, 1.0000, 1.0000, 1.0000,\n",
       "        1.0000, 1.0000, 1.0000, 1.0000, 1.0000, 1.0000, 1.0000, 1.0000, 1.0000,\n",
       "        1.0000, 1.0000, 1.0000, 1.0000, 1.0000, 1.0000, 1.0000, 1.0000, 1.0000,\n",
       "        1.0000, 1.0000, 1.0000, 1.0000, 1.0000, 1.0000, 1.0000, 1.0000, 1.0000,\n",
       "        1.0000, 1.0000, 1.0000, 1.0000, 1.0000, 1.0000, 1.0000, 1.0000, 1.0000,\n",
       "        1.0000, 1.0000, 1.0000, 1.0000, 1.0000, 1.0000, 1.0000, 1.0000, 1.0000,\n",
       "        1.0000, 1.0000, 1.0000, 1.0000, 1.0000, 1.0000, 1.0000, 1.0000, 1.0000,\n",
       "        1.0000, 1.0000, 1.0000, 1.0000, 1.0000, 1.0000, 1.0000, 1.0000, 1.0000,\n",
       "        1.0000, 1.0000, 1.0000, 1.0000, 1.0000, 1.0000, 1.0000, 1.0000, 1.0000,\n",
       "        1.0000, 1.0000, 1.0000, 1.0000, 1.0000, 1.0000, 1.0000, 1.0000, 1.0000,\n",
       "        1.0000, 1.0000, 1.0000, 1.0000, 1.0000, 1.0000, 1.0000, 1.0000, 1.0000,\n",
       "        1.0000, 1.0000, 1.0000, 1.0000, 1.0000, 1.0000, 1.0000, 1.0000, 1.0000,\n",
       "        1.0000, 1.0000, 1.0000, 1.0000, 1.0000, 1.0000, 1.0000, 1.0000, 1.0000,\n",
       "        1.0000, 1.0000, 1.0000, 1.0000, 1.0000, 1.0000, 1.0000, 1.0000, 1.0000,\n",
       "        1.0000, 1.0000, 1.0000, 1.0000, 1.0000, 1.0000, 1.0000, 1.0000, 1.0000,\n",
       "        1.0000, 1.0000, 1.0000, 1.0000, 1.0000, 1.0000, 1.0000, 1.0000, 1.0000,\n",
       "        1.0000, 1.0000, 1.0000, 1.0000, 1.0000, 1.0000, 1.0000, 1.0000, 1.0000,\n",
       "        1.0000, 1.0000, 1.0000, 1.0000, 1.0000, 1.0000, 1.0000, 1.0000, 1.0000,\n",
       "        1.0000, 1.0000, 1.0000, 1.0000, 1.0000, 1.0000, 1.0000, 1.0000, 1.0000,\n",
       "        1.0000, 1.0000, 1.0000, 1.0000, 1.0000, 1.0000, 1.0000, 1.0000, 1.0000,\n",
       "        1.0000], device='cuda:0', grad_fn=<NormBackward1>)"
      ]
     },
     "execution_count": 41,
     "metadata": {},
     "output_type": "execute_result"
    }
   ],
   "source": [
    "F.normalize(x.view(1000, -1), 2, 1).norm(2, 1)"
   ]
  },
  {
   "cell_type": "code",
   "execution_count": 56,
   "metadata": {},
   "outputs": [
    {
     "data": {
      "text/plain": [
       "<matplotlib.image.AxesImage at 0x7f452c17f7f0>"
      ]
     },
     "execution_count": 56,
     "metadata": {},
     "output_type": "execute_result"
    },
    {
     "data": {
      "image/png": "[encoded data removed]",
      "text/plain": [
       "<Figure size 432x288 with 1 Axes>"
      ]
     },
     "metadata": {
      "needs_background": "light"
     },
     "output_type": "display_data"
    }
   ],
   "source": [
    "plt.imshow(x_adv[3].cpu().detach().numpy().squeeze(), cmap='gray')"
   ]
  },
  {
   "cell_type": "code",
   "execution_count": 20,
   "metadata": {},
   "outputs": [
    {
     "data": {
      "text/plain": [
       "tensor(1.9813, grad_fn=<MeanBackward1>)"
      ]
     },
     "execution_count": 20,
     "metadata": {},
     "output_type": "execute_result"
    }
   ],
   "source": [
    "(x_adv.cpu() - x_test[:1000]).view(1000, -1).norm(dim=0).mean()"
   ]
  },
  {
   "cell_type": "markdown",
   "metadata": {},
   "source": [
    "---\n",
    "# Soft DkNN"
   ]
  },
  {
   "cell_type": "code",
   "execution_count": null,
   "metadata": {},
   "outputs": [],
   "source": [
    "def attack_soft_dknn(dknn, x):\n",
    "    \n",
    "    train_reps = dknn.get_activations(dknn.x_train)[dknn.layers[0]]\n",
    "    dknn.model"
   ]
  },
  {
   "cell_type": "code",
   "execution_count": 14,
   "metadata": {},
   "outputs": [],
   "source": [
    "with torch.no_grad():\n",
    "    train_reps = dknn.get_activations(dknn.x_train)[dknn.layers[0]]\n",
    "    train_reps = F.normalize(train_reps.view(dknn.x_train.size(0), -1), 2, 1)\n",
    "    test_reps = dknn.get_activations(x_test)[dknn.layers[0]]\n",
    "    test_reps = F.normalize(test_reps.view(x_test.size(0), -1), 2, 1)"
   ]
  },
  {
   "cell_type": "code",
   "execution_count": 7,
   "metadata": {},
   "outputs": [
    {
     "ename": "NameError",
     "evalue": "name 'test_reps' is not defined",
     "output_type": "error",
     "traceback": [
      "\u001b[0;31m---------------------------------------------------------------------------\u001b[0m",
      "\u001b[0;31mNameError\u001b[0m                                 Traceback (most recent call last)",
      "\u001b[0;32m<ipython-input-7-a50f5f88d62c>\u001b[0m in \u001b[0;36m<module>\u001b[0;34m\u001b[0m\n\u001b[1;32m      4\u001b[0m \u001b[0;32mwith\u001b[0m \u001b[0mtorch\u001b[0m\u001b[0;34m.\u001b[0m\u001b[0mno_grad\u001b[0m\u001b[0;34m(\u001b[0m\u001b[0;34m)\u001b[0m\u001b[0;34m:\u001b[0m\u001b[0;34m\u001b[0m\u001b[0m\n\u001b[1;32m      5\u001b[0m     \u001b[0mlogits\u001b[0m \u001b[0;34m=\u001b[0m \u001b[0mtorch\u001b[0m\u001b[0;34m.\u001b[0m\u001b[0mempty\u001b[0m\u001b[0;34m(\u001b[0m\u001b[0;34m(\u001b[0m\u001b[0mx_test\u001b[0m\u001b[0;34m.\u001b[0m\u001b[0msize\u001b[0m\u001b[0;34m(\u001b[0m\u001b[0;36m0\u001b[0m\u001b[0;34m)\u001b[0m\u001b[0;34m,\u001b[0m \u001b[0mdknn\u001b[0m\u001b[0;34m.\u001b[0m\u001b[0mnum_classes\u001b[0m\u001b[0;34m)\u001b[0m\u001b[0;34m)\u001b[0m\u001b[0;34m\u001b[0m\u001b[0m\n\u001b[0;32m----> 6\u001b[0;31m     \u001b[0;32mfor\u001b[0m \u001b[0mi\u001b[0m\u001b[0;34m,\u001b[0m \u001b[0mtr\u001b[0m \u001b[0;32min\u001b[0m \u001b[0menumerate\u001b[0m\u001b[0;34m(\u001b[0m\u001b[0mtest_reps\u001b[0m\u001b[0;34m)\u001b[0m\u001b[0;34m:\u001b[0m\u001b[0;34m\u001b[0m\u001b[0m\n\u001b[0m\u001b[1;32m      7\u001b[0m         \u001b[0mcos\u001b[0m \u001b[0;34m=\u001b[0m \u001b[0;34m(\u001b[0m\u001b[0;34m(\u001b[0m\u001b[0mtr\u001b[0m\u001b[0;34m.\u001b[0m\u001b[0munsqueeze\u001b[0m\u001b[0;34m(\u001b[0m\u001b[0;36m0\u001b[0m\u001b[0;34m)\u001b[0m \u001b[0;34m*\u001b[0m \u001b[0mtrain_reps\u001b[0m\u001b[0;34m)\u001b[0m\u001b[0;34m.\u001b[0m\u001b[0msum\u001b[0m\u001b[0;34m(\u001b[0m\u001b[0;36m1\u001b[0m\u001b[0;34m)\u001b[0m \u001b[0;34m/\u001b[0m \u001b[0mtemp\u001b[0m\u001b[0;34m)\u001b[0m\u001b[0;34m.\u001b[0m\u001b[0mexp\u001b[0m\u001b[0;34m(\u001b[0m\u001b[0;34m)\u001b[0m\u001b[0;34m\u001b[0m\u001b[0m\n\u001b[1;32m      8\u001b[0m \u001b[0;31m#         cos = (tr.unsqueeze(0) * train_reps).sum(1)\u001b[0m\u001b[0;34m\u001b[0m\u001b[0;34m\u001b[0m\u001b[0m\n",
      "\u001b[0;31mNameError\u001b[0m: name 'test_reps' is not defined"
     ]
    }
   ],
   "source": [
    "temp = 2e-2\n",
    "k = 75\n",
    "\n",
    "with torch.no_grad():\n",
    "    logits = torch.empty((x_test.size(0), dknn.num_classes))\n",
    "    for i, tr in enumerate(test_reps):\n",
    "        cos = ((tr.unsqueeze(0) * train_reps).sum(1) / temp).exp()\n",
    "#         cos = (tr.unsqueeze(0) * train_reps).sum(1)\n",
    "        for label in range(dknn.num_classes):\n",
    "#             logits[i, label] = cos[dknn.y_train == label].topk(k)[0].mean()\n",
    "            logits[i, label] = cos[dknn.y_train == label].mean()"
   ]
  },
  {
   "cell_type": "code",
   "execution_count": 24,
   "metadata": {},
   "outputs": [
    {
     "data": {
      "text/plain": [
       "0.9905999898910522"
      ]
     },
     "execution_count": 24,
     "metadata": {},
     "output_type": "execute_result"
    }
   ],
   "source": [
    "(logits.argmax(1) == y_test).float().mean().item()"
   ]
  },
  {
   "cell_type": "code",
   "execution_count": 15,
   "metadata": {},
   "outputs": [
    {
     "data": {
      "text/plain": [
       "0.9771000146865845"
      ]
     },
     "execution_count": 15,
     "metadata": {},
     "output_type": "execute_result"
    }
   ],
   "source": [
    "(logits.argmax(1) == y_test).float().mean().item()"
   ]
  },
  {
   "cell_type": "code",
   "execution_count": 20,
   "metadata": {},
   "outputs": [
    {
     "data": {
      "text/plain": [
       "tensor([[9.0623e+16, 1.4147e+18, 1.2181e+22, 3.3628e+24, 2.3893e+28, 2.2911e+16,\n",
       "         2.7718e+04,        inf, 5.7814e+18, 7.3722e+28],\n",
       "        [1.3863e+20, 1.6077e+23,        inf, 1.9961e+20, 2.8452e+13, 1.6902e+13,\n",
       "         2.6469e+24, 2.4233e+16, 2.0720e+20, 1.9177e+09],\n",
       "        [2.5690e+18,        inf, 1.4419e+20, 9.1542e+14, 3.2405e+25, 3.7392e+20,\n",
       "         3.5755e+23, 1.8295e+28, 3.5247e+28, 3.4260e+23],\n",
       "        [       inf, 3.9173e+12, 3.2005e+15, 1.5079e+18, 6.8862e+13, 1.1675e+20,\n",
       "         1.3331e+26, 2.1042e+20, 6.5407e+15, 1.0673e+20],\n",
       "        [1.2631e+15, 7.9582e+10, 1.5084e+14, 5.8053e+12,        inf, 4.5395e+14,\n",
       "         2.0079e+19, 8.2885e+17, 3.4067e+18, 2.8828e+32],\n",
       "        [1.7659e+19,        inf, 2.7190e+20, 3.5235e+15, 5.9625e+24, 1.7116e+20,\n",
       "         3.0330e+21, 9.7796e+30, 6.7487e+30, 2.6304e+24],\n",
       "        [9.5577e+05, 1.7322e+17, 2.7370e+14, 4.3173e+12, 4.6950e+33, 1.0589e+16,\n",
       "         4.7079e+12, 6.7882e+20, 9.7778e+25, 2.7883e+29],\n",
       "        [1.5633e+12, 1.1039e+13, 2.5859e+17, 3.6637e+21, 4.9399e+21, 9.5121e+18,\n",
       "         2.9668e+07, 1.3542e+20, 7.8808e+17, 6.5594e+33],\n",
       "        [2.1043e+16, 7.4763e+07, 1.7943e+19, 5.2542e+14, 3.1493e+16, 5.5774e+30,\n",
       "         1.0127e+24, 5.0240e+11, 4.7016e+19, 1.8988e+23],\n",
       "        [5.5325e+16, 2.8783e+15, 4.5294e+15, 1.5168e+24, 3.6575e+28, 4.9487e+19,\n",
       "         2.8290e+08, 3.9288e+27, 3.1159e+29,        inf]])"
      ]
     },
     "execution_count": 20,
     "metadata": {},
     "output_type": "execute_result"
    }
   ],
   "source": [
    "logits[:10]"
   ]
  },
  {
   "cell_type": "code",
   "execution_count": 9,
   "metadata": {},
   "outputs": [],
   "source": [
    "y_pred = dknn.classify_soft(x_test, k=20)"
   ]
  },
  {
   "cell_type": "code",
   "execution_count": 11,
   "metadata": {},
   "outputs": [
    {
     "data": {
      "text/plain": [
       "0.9897000193595886"
      ]
     },
     "execution_count": 11,
     "metadata": {},
     "output_type": "execute_result"
    }
   ],
   "source": [
    "(y_pred.argmax(1) == y_test).float().mean().item()"
   ]
  },
  {
   "cell_type": "code",
   "execution_count": 8,
   "metadata": {},
   "outputs": [
    {
     "ename": "RuntimeError",
     "evalue": "CUDA out of memory. Tried to allocate 24.00 MiB (GPU 0; 10.91 GiB total capacity; 9.76 GiB already allocated; 8.50 MiB free; 61.01 MiB cached)",
     "output_type": "error",
     "traceback": [
      "\u001b[0;31m---------------------------------------------------------------------------\u001b[0m",
      "\u001b[0;31mRuntimeError\u001b[0m                              Traceback (most recent call last)",
      "\u001b[0;32m<ipython-input-8-5775c20c0c4e>\u001b[0m in \u001b[0;36m<module>\u001b[0;34m\u001b[0m\n\u001b[1;32m     17\u001b[0m     \u001b[0;32mreturn\u001b[0m \u001b[0mx_adv\u001b[0m\u001b[0;34m\u001b[0m\u001b[0m\n\u001b[1;32m     18\u001b[0m \u001b[0;34m\u001b[0m\u001b[0m\n\u001b[0;32m---> 19\u001b[0;31m \u001b[0mx_adv\u001b[0m \u001b[0;34m=\u001b[0m \u001b[0mattack_batch\u001b[0m\u001b[0;34m(\u001b[0m\u001b[0mx_test\u001b[0m\u001b[0;34m[\u001b[0m\u001b[0;34m:\u001b[0m\u001b[0;36m1000\u001b[0m\u001b[0;34m]\u001b[0m\u001b[0;34m.\u001b[0m\u001b[0mcuda\u001b[0m\u001b[0;34m(\u001b[0m\u001b[0;34m)\u001b[0m\u001b[0;34m,\u001b[0m \u001b[0my_test\u001b[0m\u001b[0;34m[\u001b[0m\u001b[0;34m:\u001b[0m\u001b[0;36m1000\u001b[0m\u001b[0;34m]\u001b[0m\u001b[0;34m.\u001b[0m\u001b[0mcuda\u001b[0m\u001b[0;34m(\u001b[0m\u001b[0;34m)\u001b[0m\u001b[0;34m,\u001b[0m \u001b[0;36m100\u001b[0m\u001b[0;34m)\u001b[0m\u001b[0;34m\u001b[0m\u001b[0m\n\u001b[0m",
      "\u001b[0;32m<ipython-input-8-5775c20c0c4e>\u001b[0m in \u001b[0;36mattack_batch\u001b[0;34m(x, y, batch_size)\u001b[0m\n\u001b[1;32m     14\u001b[0m             \u001b[0mlayer\u001b[0m\u001b[0;34m=\u001b[0m\u001b[0mlayers\u001b[0m\u001b[0;34m[\u001b[0m\u001b[0;36m0\u001b[0m\u001b[0;34m]\u001b[0m\u001b[0;34m,\u001b[0m \u001b[0mm\u001b[0m\u001b[0;34m=\u001b[0m\u001b[0;36m100\u001b[0m\u001b[0;34m,\u001b[0m \u001b[0mbinary_search_steps\u001b[0m\u001b[0;34m=\u001b[0m\u001b[0;36m5\u001b[0m\u001b[0;34m,\u001b[0m\u001b[0;34m\u001b[0m\u001b[0m\n\u001b[1;32m     15\u001b[0m             \u001b[0mmax_iterations\u001b[0m\u001b[0;34m=\u001b[0m\u001b[0;36m500\u001b[0m\u001b[0;34m,\u001b[0m \u001b[0mlearning_rate\u001b[0m\u001b[0;34m=\u001b[0m\u001b[0;36m1e-1\u001b[0m\u001b[0;34m,\u001b[0m\u001b[0;34m\u001b[0m\u001b[0m\n\u001b[0;32m---> 16\u001b[0;31m             initial_const=1e2, abort_early=True)\n\u001b[0m\u001b[1;32m     17\u001b[0m     \u001b[0;32mreturn\u001b[0m \u001b[0mx_adv\u001b[0m\u001b[0;34m\u001b[0m\u001b[0m\n\u001b[1;32m     18\u001b[0m \u001b[0;34m\u001b[0m\u001b[0m\n",
      "\u001b[0;32m/home/research/entangle-rep/lib/dknn_attack.py\u001b[0m in \u001b[0;36m__call__\u001b[0;34m(self, dknn, x_orig, label, layer, m, binary_search_steps, max_iterations, learning_rate, initial_const, abort_early, max_linf)\u001b[0m\n\u001b[1;32m    298\u001b[0m         \u001b[0mbest_l2dist\u001b[0m \u001b[0;34m=\u001b[0m \u001b[0mtorch\u001b[0m\u001b[0;34m.\u001b[0m\u001b[0mzeros_like\u001b[0m\u001b[0;34m(\u001b[0m\u001b[0mconst\u001b[0m\u001b[0;34m)\u001b[0m \u001b[0;34m+\u001b[0m \u001b[0;36m1e9\u001b[0m\u001b[0;34m\u001b[0m\u001b[0m\n\u001b[1;32m    299\u001b[0m \u001b[0;34m\u001b[0m\u001b[0m\n\u001b[0;32m--> 300\u001b[0;31m         \u001b[0mtrain_reps\u001b[0m \u001b[0;34m=\u001b[0m \u001b[0mdknn\u001b[0m\u001b[0;34m.\u001b[0m\u001b[0mget_activations\u001b[0m\u001b[0;34m(\u001b[0m\u001b[0mdknn\u001b[0m\u001b[0;34m.\u001b[0m\u001b[0mx_train\u001b[0m\u001b[0;34m)\u001b[0m\u001b[0;34m[\u001b[0m\u001b[0mlayer\u001b[0m\u001b[0;34m]\u001b[0m\u001b[0;34m\u001b[0m\u001b[0m\n\u001b[0m\u001b[1;32m    301\u001b[0m         train_reps = F.normalize(\n\u001b[1;32m    302\u001b[0m             train_reps.view(dknn.x_train.size(0), -1), 2, 1)\n",
      "\u001b[0;32m/home/research/entangle-rep/lib/dknn.py\u001b[0m in \u001b[0;36mget_activations\u001b[0;34m(self, x, batch_size)\u001b[0m\n\u001b[1;32m     88\u001b[0m         \u001b[0;32mfor\u001b[0m \u001b[0mi\u001b[0m \u001b[0;32min\u001b[0m \u001b[0mrange\u001b[0m\u001b[0;34m(\u001b[0m\u001b[0mnum_batches\u001b[0m\u001b[0;34m)\u001b[0m\u001b[0;34m:\u001b[0m\u001b[0;34m\u001b[0m\u001b[0m\n\u001b[1;32m     89\u001b[0m             \u001b[0mbegin\u001b[0m\u001b[0;34m,\u001b[0m \u001b[0mend\u001b[0m \u001b[0;34m=\u001b[0m \u001b[0mi\u001b[0m \u001b[0;34m*\u001b[0m \u001b[0mbatch_size\u001b[0m\u001b[0;34m,\u001b[0m \u001b[0;34m(\u001b[0m\u001b[0mi\u001b[0m \u001b[0;34m+\u001b[0m \u001b[0;36m1\u001b[0m\u001b[0;34m)\u001b[0m \u001b[0;34m*\u001b[0m \u001b[0mbatch_size\u001b[0m\u001b[0;34m\u001b[0m\u001b[0m\n\u001b[0;32m---> 90\u001b[0;31m             \u001b[0mself\u001b[0m\u001b[0;34m.\u001b[0m\u001b[0mmodel\u001b[0m\u001b[0;34m(\u001b[0m\u001b[0mx\u001b[0m\u001b[0;34m[\u001b[0m\u001b[0mbegin\u001b[0m\u001b[0;34m:\u001b[0m\u001b[0mend\u001b[0m\u001b[0;34m]\u001b[0m\u001b[0;34m.\u001b[0m\u001b[0mto\u001b[0m\u001b[0;34m(\u001b[0m\u001b[0mself\u001b[0m\u001b[0;34m.\u001b[0m\u001b[0mdevice\u001b[0m\u001b[0;34m)\u001b[0m\u001b[0;34m)\u001b[0m\u001b[0;34m\u001b[0m\u001b[0m\n\u001b[0m\u001b[1;32m     91\u001b[0m             \u001b[0;32mfor\u001b[0m \u001b[0mlayer\u001b[0m \u001b[0;32min\u001b[0m \u001b[0mself\u001b[0m\u001b[0;34m.\u001b[0m\u001b[0mlayers\u001b[0m\u001b[0;34m:\u001b[0m\u001b[0;34m\u001b[0m\u001b[0m\n\u001b[1;32m     92\u001b[0m                 \u001b[0mactivations\u001b[0m\u001b[0;34m[\u001b[0m\u001b[0mlayer\u001b[0m\u001b[0;34m]\u001b[0m\u001b[0;34m[\u001b[0m\u001b[0mbegin\u001b[0m\u001b[0;34m:\u001b[0m\u001b[0mend\u001b[0m\u001b[0;34m]\u001b[0m \u001b[0;34m=\u001b[0m \u001b[0mself\u001b[0m\u001b[0;34m.\u001b[0m\u001b[0mactivations\u001b[0m\u001b[0;34m[\u001b[0m\u001b[0mlayer\u001b[0m\u001b[0;34m]\u001b[0m\u001b[0;34m\u001b[0m\u001b[0m\n",
      "\u001b[0;32m~/miniconda/envs/py36/lib/python3.6/site-packages/torch/nn/modules/module.py\u001b[0m in \u001b[0;36m__call__\u001b[0;34m(self, *input, **kwargs)\u001b[0m\n\u001b[1;32m    487\u001b[0m             \u001b[0mresult\u001b[0m \u001b[0;34m=\u001b[0m \u001b[0mself\u001b[0m\u001b[0;34m.\u001b[0m\u001b[0m_slow_forward\u001b[0m\u001b[0;34m(\u001b[0m\u001b[0;34m*\u001b[0m\u001b[0minput\u001b[0m\u001b[0;34m,\u001b[0m \u001b[0;34m**\u001b[0m\u001b[0mkwargs\u001b[0m\u001b[0;34m)\u001b[0m\u001b[0;34m\u001b[0m\u001b[0m\n\u001b[1;32m    488\u001b[0m         \u001b[0;32melse\u001b[0m\u001b[0;34m:\u001b[0m\u001b[0;34m\u001b[0m\u001b[0m\n\u001b[0;32m--> 489\u001b[0;31m             \u001b[0mresult\u001b[0m \u001b[0;34m=\u001b[0m \u001b[0mself\u001b[0m\u001b[0;34m.\u001b[0m\u001b[0mforward\u001b[0m\u001b[0;34m(\u001b[0m\u001b[0;34m*\u001b[0m\u001b[0minput\u001b[0m\u001b[0;34m,\u001b[0m \u001b[0;34m**\u001b[0m\u001b[0mkwargs\u001b[0m\u001b[0;34m)\u001b[0m\u001b[0;34m\u001b[0m\u001b[0m\n\u001b[0m\u001b[1;32m    490\u001b[0m         \u001b[0;32mfor\u001b[0m \u001b[0mhook\u001b[0m \u001b[0;32min\u001b[0m \u001b[0mself\u001b[0m\u001b[0;34m.\u001b[0m\u001b[0m_forward_hooks\u001b[0m\u001b[0;34m.\u001b[0m\u001b[0mvalues\u001b[0m\u001b[0;34m(\u001b[0m\u001b[0;34m)\u001b[0m\u001b[0;34m:\u001b[0m\u001b[0;34m\u001b[0m\u001b[0m\n\u001b[1;32m    491\u001b[0m             \u001b[0mhook_result\u001b[0m \u001b[0;34m=\u001b[0m \u001b[0mhook\u001b[0m\u001b[0;34m(\u001b[0m\u001b[0mself\u001b[0m\u001b[0;34m,\u001b[0m \u001b[0minput\u001b[0m\u001b[0;34m,\u001b[0m \u001b[0mresult\u001b[0m\u001b[0;34m)\u001b[0m\u001b[0;34m\u001b[0m\u001b[0m\n",
      "\u001b[0;32m/home/research/entangle-rep/lib/mnist_model.py\u001b[0m in \u001b[0;36mforward\u001b[0;34m(self, x)\u001b[0m\n\u001b[1;32m     31\u001b[0m \u001b[0;34m\u001b[0m\u001b[0m\n\u001b[1;32m     32\u001b[0m     \u001b[0;32mdef\u001b[0m \u001b[0mforward\u001b[0m\u001b[0;34m(\u001b[0m\u001b[0mself\u001b[0m\u001b[0;34m,\u001b[0m \u001b[0mx\u001b[0m\u001b[0;34m)\u001b[0m\u001b[0;34m:\u001b[0m\u001b[0;34m\u001b[0m\u001b[0m\n\u001b[0;32m---> 33\u001b[0;31m         \u001b[0mx\u001b[0m \u001b[0;34m=\u001b[0m \u001b[0mself\u001b[0m\u001b[0;34m.\u001b[0m\u001b[0mconv1\u001b[0m\u001b[0;34m(\u001b[0m\u001b[0mx\u001b[0m\u001b[0;34m)\u001b[0m\u001b[0;34m\u001b[0m\u001b[0m\n\u001b[0m\u001b[1;32m     34\u001b[0m         \u001b[0mx\u001b[0m \u001b[0;34m=\u001b[0m \u001b[0mself\u001b[0m\u001b[0;34m.\u001b[0m\u001b[0mrelu1\u001b[0m\u001b[0;34m(\u001b[0m\u001b[0mx\u001b[0m\u001b[0;34m)\u001b[0m\u001b[0;34m\u001b[0m\u001b[0m\n\u001b[1;32m     35\u001b[0m         \u001b[0mx\u001b[0m \u001b[0;34m=\u001b[0m \u001b[0mself\u001b[0m\u001b[0;34m.\u001b[0m\u001b[0mconv2\u001b[0m\u001b[0;34m(\u001b[0m\u001b[0mx\u001b[0m\u001b[0;34m)\u001b[0m\u001b[0;34m\u001b[0m\u001b[0m\n",
      "\u001b[0;32m~/miniconda/envs/py36/lib/python3.6/site-packages/torch/nn/modules/module.py\u001b[0m in \u001b[0;36m__call__\u001b[0;34m(self, *input, **kwargs)\u001b[0m\n\u001b[1;32m    487\u001b[0m             \u001b[0mresult\u001b[0m \u001b[0;34m=\u001b[0m \u001b[0mself\u001b[0m\u001b[0;34m.\u001b[0m\u001b[0m_slow_forward\u001b[0m\u001b[0;34m(\u001b[0m\u001b[0;34m*\u001b[0m\u001b[0minput\u001b[0m\u001b[0;34m,\u001b[0m \u001b[0;34m**\u001b[0m\u001b[0mkwargs\u001b[0m\u001b[0;34m)\u001b[0m\u001b[0;34m\u001b[0m\u001b[0m\n\u001b[1;32m    488\u001b[0m         \u001b[0;32melse\u001b[0m\u001b[0;34m:\u001b[0m\u001b[0;34m\u001b[0m\u001b[0m\n\u001b[0;32m--> 489\u001b[0;31m             \u001b[0mresult\u001b[0m \u001b[0;34m=\u001b[0m \u001b[0mself\u001b[0m\u001b[0;34m.\u001b[0m\u001b[0mforward\u001b[0m\u001b[0;34m(\u001b[0m\u001b[0;34m*\u001b[0m\u001b[0minput\u001b[0m\u001b[0;34m,\u001b[0m \u001b[0;34m**\u001b[0m\u001b[0mkwargs\u001b[0m\u001b[0;34m)\u001b[0m\u001b[0;34m\u001b[0m\u001b[0m\n\u001b[0m\u001b[1;32m    490\u001b[0m         \u001b[0;32mfor\u001b[0m \u001b[0mhook\u001b[0m \u001b[0;32min\u001b[0m \u001b[0mself\u001b[0m\u001b[0;34m.\u001b[0m\u001b[0m_forward_hooks\u001b[0m\u001b[0;34m.\u001b[0m\u001b[0mvalues\u001b[0m\u001b[0;34m(\u001b[0m\u001b[0;34m)\u001b[0m\u001b[0;34m:\u001b[0m\u001b[0;34m\u001b[0m\u001b[0m\n\u001b[1;32m    491\u001b[0m             \u001b[0mhook_result\u001b[0m \u001b[0;34m=\u001b[0m \u001b[0mhook\u001b[0m\u001b[0;34m(\u001b[0m\u001b[0mself\u001b[0m\u001b[0;34m,\u001b[0m \u001b[0minput\u001b[0m\u001b[0;34m,\u001b[0m \u001b[0mresult\u001b[0m\u001b[0;34m)\u001b[0m\u001b[0;34m\u001b[0m\u001b[0m\n",
      "\u001b[0;32m~/miniconda/envs/py36/lib/python3.6/site-packages/torch/nn/modules/conv.py\u001b[0m in \u001b[0;36mforward\u001b[0;34m(self, input)\u001b[0m\n\u001b[1;32m    318\u001b[0m     \u001b[0;32mdef\u001b[0m \u001b[0mforward\u001b[0m\u001b[0;34m(\u001b[0m\u001b[0mself\u001b[0m\u001b[0;34m,\u001b[0m \u001b[0minput\u001b[0m\u001b[0;34m)\u001b[0m\u001b[0;34m:\u001b[0m\u001b[0;34m\u001b[0m\u001b[0m\n\u001b[1;32m    319\u001b[0m         return F.conv2d(input, self.weight, self.bias, self.stride,\n\u001b[0;32m--> 320\u001b[0;31m                         self.padding, self.dilation, self.groups)\n\u001b[0m\u001b[1;32m    321\u001b[0m \u001b[0;34m\u001b[0m\u001b[0m\n\u001b[1;32m    322\u001b[0m \u001b[0;34m\u001b[0m\u001b[0m\n",
      "\u001b[0;31mRuntimeError\u001b[0m: CUDA out of memory. Tried to allocate 24.00 MiB (GPU 0; 10.91 GiB total capacity; 9.76 GiB already allocated; 8.50 MiB free; 61.01 MiB cached)"
     ]
    }
   ],
   "source": [
    "from lib.dknn_attack import SoftDKNNAttack\n",
    "\n",
    "attack = SoftDKNNAttack()\n",
    "\n",
    "def attack_batch(x, y, batch_size):\n",
    "    x_adv = torch.zeros_like(x)\n",
    "    total_num = x.size(0)\n",
    "    num_batches = total_num // batch_size\n",
    "    for i in range(num_batches):\n",
    "        begin = i * batch_size\n",
    "        end = (i + 1) * batch_size\n",
    "        x_adv[begin:end] = attack(\n",
    "            dknn, x[begin:end], y[begin:end],\n",
    "            layer=layers[0], m=100, binary_search_steps=5,\n",
    "            max_iterations=500, learning_rate=1e-1,\n",
    "            initial_const=1e2, abort_early=True)\n",
    "    return x_adv\n",
    "\n",
    "x_adv = attack_batch(x_test[:1000].cuda(), y_test[:1000].cuda(), 100)"
   ]
  },
  {
   "cell_type": "code",
   "execution_count": 9,
   "metadata": {},
   "outputs": [
    {
     "ename": "RuntimeError",
     "evalue": "invalid argument 3: Index tensor must either be empty or have same dimensions as output tensor at /opt/conda/conda-bld/pytorch_1544199946412/work/aten/src/TH/generic/THTensorEvenMoreMath.cpp:531",
     "output_type": "error",
     "traceback": [
      "\u001b[0;31m---------------------------------------------------------------------------\u001b[0m",
      "\u001b[0;31mRuntimeError\u001b[0m                              Traceback (most recent call last)",
      "\u001b[0;32m<ipython-input-9-d14669fdc03a>\u001b[0m in \u001b[0;36m<module>\u001b[0;34m\u001b[0m\n\u001b[1;32m      1\u001b[0m \u001b[0my_onehot\u001b[0m \u001b[0;34m=\u001b[0m \u001b[0mtorch\u001b[0m\u001b[0;34m.\u001b[0m\u001b[0mzeros\u001b[0m\u001b[0;34m(\u001b[0m\u001b[0;34m(\u001b[0m\u001b[0;36m100\u001b[0m\u001b[0;34m,\u001b[0m \u001b[0;36m10\u001b[0m\u001b[0;34m)\u001b[0m\u001b[0;34m)\u001b[0m\u001b[0;34m\u001b[0m\u001b[0m\n\u001b[0;32m----> 2\u001b[0;31m \u001b[0my_onehot\u001b[0m\u001b[0;34m.\u001b[0m\u001b[0mscatter_\u001b[0m\u001b[0;34m(\u001b[0m\u001b[0;36m1\u001b[0m\u001b[0;34m,\u001b[0m \u001b[0mtorch\u001b[0m\u001b[0;34m.\u001b[0m\u001b[0mtensor\u001b[0m\u001b[0;34m(\u001b[0m\u001b[0;36m5\u001b[0m\u001b[0;34m)\u001b[0m\u001b[0;34m,\u001b[0m \u001b[0;36m1\u001b[0m\u001b[0;34m)\u001b[0m\u001b[0;34m\u001b[0m\u001b[0m\n\u001b[0m",
      "\u001b[0;31mRuntimeError\u001b[0m: invalid argument 3: Index tensor must either be empty or have same dimensions as output tensor at /opt/conda/conda-bld/pytorch_1544199946412/work/aten/src/TH/generic/THTensorEvenMoreMath.cpp:531"
     ]
    }
   ],
   "source": [
    "y_onehot = torch.zeros((100, 10))\n",
    "\n",
    "y_onehot.scatter_(1, , 1)"
   ]
  },
  {
   "cell_type": "code",
   "execution_count": null,
   "metadata": {},
   "outputs": [],
   "source": []
  }
 ],
 "metadata": {
  "kernelspec": {
   "display_name": "Python 3",
   "language": "python",
   "name": "python3"
  },
  "language_info": {
   "codemirror_mode": {
    "name": "ipython",
    "version": 3
   },
   "file_extension": ".py",
   "mimetype": "text/x-python",
   "name": "python",
   "nbconvert_exporter": "python",
   "pygments_lexer": "ipython3",
   "version": "3.6.5"
  }
 },
 "nbformat": 4,
 "nbformat_minor": 2
}
