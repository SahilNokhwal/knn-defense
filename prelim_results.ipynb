{
 "cells": [
  {
   "cell_type": "code",
   "execution_count": 1,
   "metadata": {},
   "outputs": [],
   "source": [
    "%matplotlib inline\n",
    "\n",
    "%load_ext autoreload\n",
    "%autoreload 2\n",
    "\n",
    "import logging\n",
    "import os\n",
    "import time\n",
    "\n",
    "import numpy as np\n",
    "import matplotlib.pyplot as plt\n",
    "import foolbox\n",
    "import torch\n",
    "import torch.backends.cudnn as cudnn\n",
    "import torch.nn as nn\n",
    "import torch.optim as optim\n",
    "\n",
    "from lib.dataset_utils import *\n",
    "from lib.mnist_model import *\n",
    "from lib.dknn_attack import DKNNAttack\n",
    "from lib.cwl2_attack import CWL2Attack"
   ]
  },
  {
   "cell_type": "code",
   "execution_count": 2,
   "metadata": {},
   "outputs": [],
   "source": [
    "exp_id = 5\n",
    "\n",
    "# model_name = 'train_mnist_exp%d.h5' % exp_id\n",
    "# net = BasicModel()\n",
    "\n",
    "model_name = 'train_mnist_snnl_exp%d.h5' % exp_id\n",
    "net = SNNLModel(train_it=True)\n",
    "\n",
    "# model_name = 'train_mnist_hidden_mixup_exp%d.h5' % exp_id\n",
    "# net = HiddenMixupModel()"
   ]
  },
  {
   "cell_type": "code",
   "execution_count": 3,
   "metadata": {},
   "outputs": [],
   "source": [
    "# Set all random seeds\n",
    "seed = 2019\n",
    "np.random.seed(seed)\n",
    "torch.manual_seed(seed)\n",
    "\n",
    "device = 'cuda' if torch.cuda.is_available() else 'cpu'\n",
    "\n",
    "# Set up model directory\n",
    "save_dir = os.path.join(os.getcwd(), 'saved_models')\n",
    "if not os.path.isdir(save_dir):\n",
    "    os.makedirs(save_dir)\n",
    "model_path = os.path.join(save_dir, model_name)\n",
    "\n",
    "net = net.to(device)\n",
    "# if device == 'cuda':\n",
    "#     net = torch.nn.DataParallel(net)\n",
    "#     cudnn.benchmark = True\n",
    "net.load_state_dict(torch.load(model_path))\n",
    "# net = net.module\n",
    "net.eval()\n",
    "\n",
    "(x_train, y_train), (x_valid, y_valid), (x_test, y_test) = load_mnist_all(\n",
    "    '/data', val_size=0.1, seed=seed)"
   ]
  },
  {
   "cell_type": "code",
   "execution_count": 4,
   "metadata": {},
   "outputs": [],
   "source": [
    "y_pred = net(x_test.to(device))"
   ]
  },
  {
   "cell_type": "code",
   "execution_count": 5,
   "metadata": {},
   "outputs": [
    {
     "data": {
      "text/plain": [
       "0.9903"
      ]
     },
     "execution_count": 5,
     "metadata": {},
     "output_type": "execute_result"
    }
   ],
   "source": [
    "(y_pred.argmax(1).cpu() == y_test).sum().numpy() / y_test.size(0)"
   ]
  },
  {
   "cell_type": "code",
   "execution_count": 6,
   "metadata": {},
   "outputs": [],
   "source": [
    "# x_train = x_train.to(device)\n",
    "# x_test = x_test.to(device)\n",
    "# x_valid = x_valid.to(device)"
   ]
  },
  {
   "cell_type": "code",
   "execution_count": 7,
   "metadata": {},
   "outputs": [
    {
     "data": {
      "text/plain": [
       "SNNLModel(\n",
       "  (conv1): Conv2d(1, 64, kernel_size=(8, 8), stride=(2, 2), padding=(3, 3))\n",
       "  (relu1): ReLU(inplace)\n",
       "  (conv2): Conv2d(64, 128, kernel_size=(6, 6), stride=(2, 2), padding=(3, 3))\n",
       "  (relu2): ReLU(inplace)\n",
       "  (conv3): Conv2d(128, 128, kernel_size=(5, 5), stride=(1, 1))\n",
       "  (relu3): ReLU(inplace)\n",
       "  (fc): Linear(in_features=2048, out_features=10, bias=True)\n",
       ")"
      ]
     },
     "execution_count": 7,
     "metadata": {},
     "output_type": "execute_result"
    }
   ],
   "source": [
    "net"
   ]
  },
  {
   "cell_type": "code",
   "execution_count": 8,
   "metadata": {
    "scrolled": true
   },
   "outputs": [],
   "source": [
    "# layers = ['relu1', 'relu2', 'relu3', 'fc']\n",
    "layers = ['relu1', 'relu2', 'relu3']\n",
    "# layers = ['relu3']\n",
    "# net = net.cpu()\n",
    "with torch.no_grad():\n",
    "    dknn = DKNN(net, x_train.cuda(), y_train, x_valid.cuda(), y_valid, layers, \n",
    "                k=10, num_classes=10)\n",
    "    y_pred = dknn.classify(x_test)"
   ]
  },
  {
   "cell_type": "code",
   "execution_count": 9,
   "metadata": {},
   "outputs": [
    {
     "data": {
      "text/plain": [
       "0.9639"
      ]
     },
     "execution_count": 9,
     "metadata": {},
     "output_type": "execute_result"
    }
   ],
   "source": [
    "(y_pred.argmax(1) == y_test.numpy()).sum() / y_test.size(0)"
   ]
  },
  {
   "cell_type": "code",
   "execution_count": 10,
   "metadata": {},
   "outputs": [],
   "source": [
    "cred = dknn.credibility(y_pred)"
   ]
  },
  {
   "cell_type": "code",
   "execution_count": 11,
   "metadata": {},
   "outputs": [
    {
     "data": {
      "text/plain": [
       "(array([ 989.,  871., 1227., 1022.,  529., 1101., 1291.,  818.,    0.,\n",
       "        2152.]),\n",
       " array([0.016 , 0.1144, 0.2128, 0.3112, 0.4096, 0.508 , 0.6064, 0.7048,\n",
       "        0.8032, 0.9016, 1.    ]),\n",
       " <a list of 10 Patch objects>)"
      ]
     },
     "execution_count": 11,
     "metadata": {},
     "output_type": "execute_result"
    },
    {
     "data": {
      "image/png": "[encoded data removed]",
      "text/plain": [
       "<Figure size 432x288 with 1 Axes>"
      ]
     },
     "metadata": {
      "needs_background": "light"
     },
     "output_type": "display_data"
    }
   ],
   "source": [
    "plt.hist(cred)"
   ]
  },
  {
   "cell_type": "code",
   "execution_count": 12,
   "metadata": {},
   "outputs": [],
   "source": [
    "correct = np.argmax(y_pred, 1) == y_test.numpy()\n",
    "num_correct_by_cred = np.zeros((10, ))\n",
    "num_cred = np.zeros((10, ))\n",
    "for i in np.arange(10):\n",
    "    ind = (cred > i * 0.1) & (cred <= i* 0.1 + 0.1)\n",
    "    num_cred[i] = np.sum(ind)\n",
    "    num_correct_by_cred[i] = np.sum(correct[ind])"
   ]
  },
  {
   "cell_type": "code",
   "execution_count": 13,
   "metadata": {},
   "outputs": [
    {
     "data": {
      "text/plain": [
       "<BarContainer object of 10 artists>"
      ]
     },
     "execution_count": 13,
     "metadata": {},
     "output_type": "execute_result"
    },
    {
     "data": {
      "image/png": "[encoded data removed]",
      "text/plain": [
       "<Figure size 432x288 with 1 Axes>"
      ]
     },
     "metadata": {
      "needs_background": "light"
     },
     "output_type": "display_data"
    }
   ],
   "source": [
    "fig = plt.figure()\n",
    "ax = fig.add_subplot(111)\n",
    "ax.bar(np.arange(10) * 0.1, num_cred, width=0.05)\n",
    "ax.bar(np.arange(10) * 0.1 + 0.05, num_correct_by_cred, width=0.05)"
   ]
  },
  {
   "cell_type": "code",
   "execution_count": 14,
   "metadata": {},
   "outputs": [
    {
     "name": "stderr",
     "output_type": "stream",
     "text": [
      "/home/user/miniconda/envs/py36/lib/python3.6/site-packages/ipykernel_launcher.py:1: RuntimeWarning: invalid value encountered in true_divide\n",
      "  \"\"\"Entry point for launching an IPython kernel.\n"
     ]
    },
    {
     "data": {
      "text/plain": [
       "array([0.7140884 , 0.90316901, 0.9753886 , 0.99045599, 0.99529633,\n",
       "       1.        , 0.99169435, 0.99734572,        nan, 0.99907063])"
      ]
     },
     "execution_count": 14,
     "metadata": {},
     "output_type": "execute_result"
    }
   ],
   "source": [
    "num_correct_by_cred / num_cred"
   ]
  },
  {
   "cell_type": "code",
   "execution_count": 15,
   "metadata": {},
   "outputs": [
    {
     "data": {
      "text/plain": [
       "6.2455"
      ]
     },
     "execution_count": 15,
     "metadata": {},
     "output_type": "execute_result"
    }
   ],
   "source": [
    "dknn.A.mean()"
   ]
  },
  {
   "cell_type": "markdown",
   "metadata": {},
   "source": [
    "## PGD Attack"
   ]
  },
  {
   "cell_type": "code",
   "execution_count": 12,
   "metadata": {},
   "outputs": [],
   "source": [
    "x_test_np = x_test.cpu().numpy()\n",
    "y_test_np = y_test.numpy()"
   ]
  },
  {
   "cell_type": "code",
   "execution_count": 13,
   "metadata": {},
   "outputs": [],
   "source": [
    "model = foolbox.models.PyTorchModel(net, bounds=(0, 1), num_classes=10)"
   ]
  },
  {
   "cell_type": "code",
   "execution_count": 6,
   "metadata": {
    "scrolled": true
   },
   "outputs": [
    {
     "name": "stderr",
     "output_type": "stream",
     "text": [
      "/home/user/miniconda/envs/py36/lib/python3.6/site-packages/foolbox/attacks/base.py:129: UserWarning: Not running the attack because the original input is already misclassified and the adversarial thus has a distance of 0.\n",
      "  warnings.warn('Not running the attack because the original input'\n"
     ]
    }
   ],
   "source": [
    "criterion = foolbox.criteria.Misclassification()\n",
    "distance = foolbox.distances.Linfinity\n",
    "\n",
    "attack = foolbox.attacks.RandomPGD(\n",
    "    model, criterion=criterion, distance=distance)\n",
    "\n",
    "def attack_wrap(x, y):\n",
    "    return attack(x, y, binary_search=False, epsilon=0.3, \n",
    "                  stepsize=0.01, iterations=40, \n",
    "                  random_start=True, return_early=True)\n",
    "\n",
    "x_adv = np.zeros_like(x_test)\n",
    "for i, (x, y) in enumerate(zip(x_test, y_test)):\n",
    "    x_adv[i] = attack_wrap(x, y)"
   ]
  },
  {
   "cell_type": "code",
   "execution_count": null,
   "metadata": {
    "scrolled": false
   },
   "outputs": [],
   "source": [
    "with torch.no_grad():\n",
    "    x_adv = torch.tensor(x_adv).to(device)\n",
    "    y_pred = net(x_adv).detach().cpu().numpy()\n",
    "np.mean(np.argmax(y_pred, 1) == y_test)"
   ]
  },
  {
   "cell_type": "code",
   "execution_count": null,
   "metadata": {
    "scrolled": true
   },
   "outputs": [],
   "source": [
    "from lib.pgd_attack import PGDAttack\n",
    "\n",
    "attack = PGDAttack()\n",
    "x_adv = attack(net, x_test, y_test.to(device),\n",
    "               targeted=False, epsilon=0.1, max_epsilon=0.3,\n",
    "               max_iterations=20, random_restart=10)"
   ]
  },
  {
   "cell_type": "code",
   "execution_count": 23,
   "metadata": {},
   "outputs": [
    {
     "data": {
      "text/plain": [
       "tensor(0)"
      ]
     },
     "execution_count": 23,
     "metadata": {},
     "output_type": "execute_result"
    }
   ],
   "source": [
    "y_pred = net(x_adv)\n",
    "(y_pred.argmax(1).cpu() == y_test).sum()"
   ]
  },
  {
   "cell_type": "code",
   "execution_count": 54,
   "metadata": {
    "scrolled": true
   },
   "outputs": [
    {
     "data": {
      "text/plain": [
       "813"
      ]
     },
     "execution_count": 54,
     "metadata": {},
     "output_type": "execute_result"
    }
   ],
   "source": [
    "y_pred = dknn.classify(x_adv.cpu())\n",
    "(y_pred.argmax(1) == y_test.numpy()).sum()"
   ]
  },
  {
   "cell_type": "code",
   "execution_count": 55,
   "metadata": {},
   "outputs": [
    {
     "data": {
      "text/plain": [
       "(array([9.63e+03, 2.96e+02, 5.70e+01, 7.00e+00, 5.00e+00, 1.00e+00,\n",
       "        0.00e+00, 0.00e+00, 0.00e+00, 4.00e+00]),\n",
       " array([0.00383333, 0.10345   , 0.20306667, 0.30268333, 0.4023    ,\n",
       "        0.50191667, 0.60153333, 0.70115   , 0.80076667, 0.90038333,\n",
       "        1.        ]),\n",
       " <a list of 10 Patch objects>)"
      ]
     },
     "execution_count": 55,
     "metadata": {},
     "output_type": "execute_result"
    },
    {
     "data": {
      "image/png": "[encoded data removed]",
      "text/plain": [
       "<Figure size 432x288 with 1 Axes>"
      ]
     },
     "metadata": {
      "needs_background": "light"
     },
     "output_type": "display_data"
    }
   ],
   "source": [
    "cred = dknn.credibility(y_pred)\n",
    "plt.hist(cred)"
   ]
  },
  {
   "cell_type": "code",
   "execution_count": 11,
   "metadata": {},
   "outputs": [
    {
     "data": {
      "text/plain": [
       "0.9091"
      ]
     },
     "execution_count": 11,
     "metadata": {},
     "output_type": "execute_result"
    }
   ],
   "source": [
    "np.mean(y_pred == y_test)"
   ]
  },
  {
   "cell_type": "markdown",
   "metadata": {},
   "source": [
    "## DkNN Attack"
   ]
  },
  {
   "cell_type": "code",
   "execution_count": 16,
   "metadata": {
    "scrolled": true
   },
   "outputs": [
    {
     "name": "stdout",
     "output_type": "stream",
     "text": [
      "    step: 0; loss: -80.440; l2dist: 0.000\n",
      "    step: 50; loss: -82.018; l2dist: 1.087\n",
      "    step: 100; loss: -82.317; l2dist: 1.147\n",
      "    step: 150; loss: -83.122; l2dist: 1.267\n",
      "    step: 200; loss: -83.302; l2dist: 1.287\n",
      "    step: 250; loss: -83.353; l2dist: 1.294\n",
      "    step: 300; loss: -83.372; l2dist: 1.296\n",
      "    step: 350; loss: -83.380; l2dist: 1.296\n",
      "    step: 400; loss: -83.384; l2dist: 1.297\n",
      "    step: 450; loss: -83.386; l2dist: 1.298\n",
      "binary step: 0; number of successful adv: 25/100\n",
      "    step: 0; loss: -614.022; l2dist: 0.000\n",
      "    step: 50; loss: -650.750; l2dist: 2.766\n",
      "    step: 100; loss: -661.638; l2dist: 2.715\n",
      "    step: 150; loss: -662.557; l2dist: 2.734\n",
      "    step: 200; loss: -662.753; l2dist: 2.751\n",
      "    step: 250; loss: -662.823; l2dist: 2.755\n",
      "    step: 300; loss: -662.851; l2dist: 2.757\n",
      "    step: 350; loss: -662.864; l2dist: 2.759\n",
      "    step: 400; loss: -662.871; l2dist: 2.759\n",
      "    step: 450; loss: -662.878; l2dist: 2.760\n",
      "binary step: 1; number of successful adv: 81/100\n",
      "    step: 0; loss: -1804.384; l2dist: 0.000\n",
      "    step: 50; loss: -1920.879; l2dist: 2.633\n",
      "    step: 100; loss: -1946.603; l2dist: 2.684\n",
      "    step: 150; loss: -1949.634; l2dist: 2.722\n",
      "    step: 200; loss: -1950.884; l2dist: 2.742\n",
      "    step: 250; loss: -1951.420; l2dist: 2.751\n",
      "    step: 300; loss: -1951.720; l2dist: 2.759\n",
      "    step: 350; loss: -1952.052; l2dist: 2.764\n",
      "    step: 400; loss: -1952.253; l2dist: 2.765\n",
      "    step: 450; loss: -1952.335; l2dist: 2.766\n",
      "binary step: 2; number of successful adv: 91/100\n",
      "    step: 0; loss: -7997.975; l2dist: 0.000\n",
      "    step: 50; loss: -8486.451; l2dist: 2.305\n",
      "    step: 100; loss: -8563.136; l2dist: 2.402\n",
      "    step: 150; loss: -8572.500; l2dist: 2.440\n",
      "    step: 200; loss: -8577.996; l2dist: 2.458\n",
      "    step: 250; loss: -8583.651; l2dist: 2.472\n",
      "    step: 300; loss: -8585.828; l2dist: 2.483\n",
      "    step: 350; loss: -8589.252; l2dist: 2.494\n",
      "    step: 400; loss: -8590.444; l2dist: 2.496\n",
      "    step: 450; loss: -8591.809; l2dist: 2.501\n",
      "binary step: 3; number of successful adv: 95/100\n",
      "    step: 0; loss: -43322.070; l2dist: 0.000\n",
      "    step: 50; loss: -45896.180; l2dist: 2.135\n",
      "    step: 100; loss: -46210.301; l2dist: 2.249\n",
      "    step: 150; loss: -46249.184; l2dist: 2.294\n",
      "    step: 200; loss: -46261.305; l2dist: 2.312\n",
      "    step: 250; loss: -46271.801; l2dist: 2.322\n",
      "    step: 300; loss: -46285.559; l2dist: 2.332\n",
      "    step: 350; loss: -46290.062; l2dist: 2.337\n",
      "    step: 400; loss: -46297.551; l2dist: 2.340\n",
      "    step: 450; loss: -46301.289; l2dist: 2.342\n",
      "binary step: 4; number of successful adv: 97/100\n",
      "    step: 0; loss: -80.353; l2dist: 0.000\n",
      "    step: 50; loss: -81.949; l2dist: 1.098\n",
      "    step: 100; loss: -82.247; l2dist: 1.155\n",
      "    step: 150; loss: -83.053; l2dist: 1.283\n",
      "    step: 200; loss: -83.234; l2dist: 1.307\n",
      "    step: 250; loss: -83.282; l2dist: 1.314\n",
      "    step: 300; loss: -83.300; l2dist: 1.315\n",
      "    step: 350; loss: -83.308; l2dist: 1.316\n",
      "    step: 400; loss: -83.311; l2dist: 1.317\n",
      "    step: 450; loss: -83.313; l2dist: 1.318\n",
      "binary step: 0; number of successful adv: 25/100\n",
      "    step: 0; loss: -613.426; l2dist: 0.000\n",
      "    step: 50; loss: -650.799; l2dist: 2.816\n",
      "    step: 100; loss: -662.761; l2dist: 2.794\n",
      "    step: 150; loss: -663.752; l2dist: 2.807\n",
      "    step: 200; loss: -664.024; l2dist: 2.828\n",
      "    step: 250; loss: -664.114; l2dist: 2.833\n",
      "    step: 300; loss: -664.147; l2dist: 2.835\n",
      "    step: 350; loss: -664.164; l2dist: 2.836\n",
      "    step: 400; loss: -664.177; l2dist: 2.837\n",
      "    step: 450; loss: -664.186; l2dist: 2.838\n",
      "binary step: 1; number of successful adv: 88/100\n",
      "    step: 0; loss: -1279.492; l2dist: 0.000\n",
      "    step: 50; loss: -1352.442; l2dist: 2.533\n",
      "    step: 100; loss: -1369.046; l2dist: 2.570\n",
      "    step: 150; loss: -1371.111; l2dist: 2.601\n",
      "    step: 200; loss: -1371.663; l2dist: 2.614\n",
      "    step: 250; loss: -1371.900; l2dist: 2.623\n",
      "    step: 300; loss: -1371.976; l2dist: 2.625\n",
      "    step: 350; loss: -1372.017; l2dist: 2.627\n",
      "    step: 400; loss: -1372.066; l2dist: 2.628\n",
      "    step: 450; loss: -1372.120; l2dist: 2.629\n",
      "binary step: 2; number of successful adv: 92/100\n",
      "    step: 0; loss: -6993.194; l2dist: 0.000\n",
      "    step: 50; loss: -7390.623; l2dist: 2.224\n",
      "    step: 100; loss: -7464.260; l2dist: 2.292\n",
      "    step: 150; loss: -7475.297; l2dist: 2.325\n",
      "    step: 200; loss: -7479.663; l2dist: 2.344\n",
      "    step: 250; loss: -7481.682; l2dist: 2.352\n",
      "    step: 300; loss: -7482.312; l2dist: 2.354\n",
      "    step: 350; loss: -7482.757; l2dist: 2.355\n",
      "    step: 400; loss: -7482.904; l2dist: 2.357\n",
      "    step: 450; loss: -7482.978; l2dist: 2.357\n",
      "binary step: 3; number of successful adv: 93/100\n",
      "    step: 0; loss: -58794.398; l2dist: 0.000\n",
      "    step: 50; loss: -62065.309; l2dist: 2.035\n",
      "    step: 100; loss: -62712.289; l2dist: 2.126\n",
      "    step: 150; loss: -62798.613; l2dist: 2.178\n",
      "    step: 200; loss: -62837.250; l2dist: 2.197\n",
      "    step: 250; loss: -62852.188; l2dist: 2.202\n",
      "    step: 300; loss: -62878.184; l2dist: 2.205\n",
      "    step: 350; loss: -62886.969; l2dist: 2.207\n",
      "    step: 400; loss: -62895.668; l2dist: 2.209\n",
      "    step: 450; loss: -62903.742; l2dist: 2.211\n",
      "binary step: 4; number of successful adv: 96/100\n",
      "    step: 0; loss: -80.319; l2dist: 0.000\n",
      "    step: 50; loss: -81.893; l2dist: 1.096\n",
      "    step: 100; loss: -82.204; l2dist: 1.154\n",
      "    step: 150; loss: -82.995; l2dist: 1.272\n",
      "    step: 200; loss: -83.173; l2dist: 1.292\n",
      "    step: 250; loss: -83.222; l2dist: 1.298\n",
      "    step: 300; loss: -83.240; l2dist: 1.300\n",
      "    step: 350; loss: -83.247; l2dist: 1.301\n",
      "    step: 400; loss: -83.251; l2dist: 1.301\n",
      "    step: 450; loss: -83.253; l2dist: 1.301\n",
      "binary step: 0; number of successful adv: 35/100\n",
      "    step: 0; loss: -537.336; l2dist: 0.000\n",
      "    step: 50; loss: -569.150; l2dist: 2.506\n",
      "    step: 100; loss: -577.806; l2dist: 2.413\n",
      "    step: 150; loss: -578.609; l2dist: 2.431\n",
      "    step: 200; loss: -578.842; l2dist: 2.460\n",
      "    step: 250; loss: -578.917; l2dist: 2.468\n",
      "    step: 300; loss: -578.965; l2dist: 2.471\n",
      "    step: 350; loss: -578.982; l2dist: 2.472\n",
      "    step: 400; loss: -578.993; l2dist: 2.473\n",
      "    step: 450; loss: -579.006; l2dist: 2.473\n",
      "binary step: 1; number of successful adv: 88/100\n",
      "    step: 0; loss: -1238.089; l2dist: 0.000\n",
      "    step: 50; loss: -1299.335; l2dist: 2.258\n",
      "    step: 100; loss: -1315.987; l2dist: 2.260\n",
      "    step: 150; loss: -1317.821; l2dist: 2.299\n",
      "    step: 200; loss: -1318.426; l2dist: 2.312\n",
      "    step: 250; loss: -1318.627; l2dist: 2.320\n",
      "    step: 300; loss: -1318.944; l2dist: 2.327\n",
      "    step: 350; loss: -1319.084; l2dist: 2.330\n",
      "    step: 400; loss: -1319.155; l2dist: 2.331\n",
      "    step: 450; loss: -1319.197; l2dist: 2.332\n",
      "binary step: 2; number of successful adv: 89/100\n",
      "    step: 0; loss: -9288.693; l2dist: 0.000\n",
      "    step: 50; loss: -9760.351; l2dist: 2.003\n",
      "    step: 100; loss: -9868.703; l2dist: 2.056\n",
      "    step: 150; loss: -9880.020; l2dist: 2.098\n",
      "    step: 200; loss: -9885.660; l2dist: 2.116\n",
      "    step: 250; loss: -9888.678; l2dist: 2.125\n",
      "    step: 300; loss: -9890.452; l2dist: 2.130\n",
      "    step: 350; loss: -9891.877; l2dist: 2.135\n",
      "    step: 400; loss: -9892.896; l2dist: 2.138\n",
      "    step: 450; loss: -9893.654; l2dist: 2.140\n",
      "binary step: 3; number of successful adv: 92/100\n",
      "    step: 0; loss: -67603.711; l2dist: 0.000\n",
      "    step: 50; loss: -70874.047; l2dist: 1.806\n",
      "    step: 100; loss: -71669.805; l2dist: 1.892\n",
      "    step: 150; loss: -71761.352; l2dist: 1.947\n",
      "    step: 200; loss: -71808.773; l2dist: 1.970\n",
      "    step: 250; loss: -71818.320; l2dist: 1.976\n",
      "    step: 300; loss: -71823.891; l2dist: 1.980\n",
      "    step: 350; loss: -71825.742; l2dist: 1.982\n",
      "    step: 400; loss: -71829.055; l2dist: 1.986\n",
      "    step: 450; loss: -71831.195; l2dist: 1.987\n",
      "binary step: 4; number of successful adv: 92/100\n",
      "    step: 0; loss: -80.261; l2dist: 0.000\n",
      "    step: 50; loss: -81.814; l2dist: 1.081\n",
      "    step: 100; loss: -82.125; l2dist: 1.143\n",
      "    step: 150; loss: -82.954; l2dist: 1.277\n",
      "    step: 200; loss: -83.141; l2dist: 1.300\n",
      "    step: 250; loss: -83.191; l2dist: 1.306\n",
      "    step: 300; loss: -83.209; l2dist: 1.307\n",
      "    step: 350; loss: -83.216; l2dist: 1.308\n",
      "    step: 400; loss: -83.220; l2dist: 1.308\n",
      "    step: 450; loss: -83.222; l2dist: 1.309\n",
      "binary step: 0; number of successful adv: 35/100\n",
      "    step: 0; loss: -535.709; l2dist: 0.000\n",
      "    step: 50; loss: -567.515; l2dist: 2.471\n",
      "    step: 100; loss: -577.923; l2dist: 2.447\n",
      "    step: 150; loss: -578.750; l2dist: 2.466\n"
     ]
    },
    {
     "name": "stdout",
     "output_type": "stream",
     "text": [
      "    step: 200; loss: -578.971; l2dist: 2.492\n",
      "    step: 250; loss: -579.043; l2dist: 2.499\n",
      "    step: 300; loss: -579.077; l2dist: 2.502\n",
      "    step: 350; loss: -579.096; l2dist: 2.503\n",
      "    step: 400; loss: -579.105; l2dist: 2.504\n",
      "    step: 450; loss: -579.109; l2dist: 2.504\n",
      "binary step: 1; number of successful adv: 84/100\n",
      "    step: 0; loss: -1544.209; l2dist: 0.000\n",
      "    step: 50; loss: -1624.218; l2dist: 2.257\n",
      "    step: 100; loss: -1651.361; l2dist: 2.326\n",
      "    step: 150; loss: -1654.088; l2dist: 2.365\n",
      "    step: 200; loss: -1654.948; l2dist: 2.384\n",
      "    step: 250; loss: -1655.420; l2dist: 2.401\n",
      "    step: 300; loss: -1655.648; l2dist: 2.408\n",
      "    step: 350; loss: -1655.722; l2dist: 2.411\n",
      "    step: 400; loss: -1655.856; l2dist: 2.415\n",
      "    step: 450; loss: -1655.941; l2dist: 2.413\n",
      "binary step: 2; number of successful adv: 87/100\n",
      "    step: 0; loss: -11018.104; l2dist: 0.000\n",
      "    step: 50; loss: -11605.492; l2dist: 1.977\n",
      "    step: 100; loss: -11751.955; l2dist: 2.092\n",
      "    step: 150; loss: -11770.266; l2dist: 2.143\n",
      "    step: 200; loss: -11779.024; l2dist: 2.164\n",
      "    step: 250; loss: -11782.457; l2dist: 2.175\n",
      "    step: 300; loss: -11784.388; l2dist: 2.181\n",
      "    step: 350; loss: -11785.411; l2dist: 2.185\n",
      "    step: 400; loss: -11787.197; l2dist: 2.189\n",
      "    step: 450; loss: -11788.149; l2dist: 2.194\n",
      "binary step: 3; number of successful adv: 89/100\n",
      "    step: 0; loss: -91772.969; l2dist: 0.000\n",
      "    step: 50; loss: -96758.438; l2dist: 1.784\n",
      "    step: 100; loss: -97989.156; l2dist: 1.925\n",
      "    step: 150; loss: -98149.180; l2dist: 1.987\n",
      "    step: 200; loss: -98201.656; l2dist: 2.010\n",
      "    step: 250; loss: -98226.820; l2dist: 2.020\n",
      "    step: 300; loss: -98243.078; l2dist: 2.027\n",
      "    step: 350; loss: -98258.039; l2dist: 2.032\n",
      "    step: 400; loss: -98261.336; l2dist: 2.033\n",
      "    step: 450; loss: -98264.547; l2dist: 2.036\n",
      "binary step: 4; number of successful adv: 90/100\n",
      "    step: 0; loss: -79.987; l2dist: 0.000\n",
      "    step: 50; loss: -81.518; l2dist: 1.068\n",
      "    step: 100; loss: -81.793; l2dist: 1.124\n",
      "    step: 150; loss: -82.609; l2dist: 1.275\n",
      "    step: 200; loss: -82.805; l2dist: 1.302\n",
      "    step: 250; loss: -82.859; l2dist: 1.309\n",
      "    step: 300; loss: -82.877; l2dist: 1.311\n",
      "    step: 350; loss: -82.885; l2dist: 1.312\n",
      "    step: 400; loss: -82.889; l2dist: 1.313\n",
      "    step: 450; loss: -82.892; l2dist: 1.314\n",
      "binary step: 0; number of successful adv: 36/100\n",
      "    step: 0; loss: -525.839; l2dist: 0.000\n",
      "    step: 50; loss: -556.140; l2dist: 2.393\n",
      "    step: 100; loss: -568.099; l2dist: 2.463\n",
      "    step: 150; loss: -569.078; l2dist: 2.490\n",
      "    step: 200; loss: -569.319; l2dist: 2.516\n",
      "    step: 250; loss: -569.415; l2dist: 2.526\n",
      "    step: 300; loss: -569.449; l2dist: 2.529\n",
      "    step: 350; loss: -569.467; l2dist: 2.529\n",
      "    step: 400; loss: -569.477; l2dist: 2.531\n",
      "    step: 450; loss: -569.484; l2dist: 2.531\n",
      "binary step: 1; number of successful adv: 88/100\n",
      "    step: 0; loss: -1227.940; l2dist: 0.000\n",
      "    step: 50; loss: -1293.620; l2dist: 2.176\n",
      "    step: 100; loss: -1313.190; l2dist: 2.301\n",
      "    step: 150; loss: -1315.604; l2dist: 2.346\n",
      "    step: 200; loss: -1316.622; l2dist: 2.371\n",
      "    step: 250; loss: -1317.109; l2dist: 2.387\n",
      "    step: 300; loss: -1317.399; l2dist: 2.395\n",
      "    step: 350; loss: -1317.689; l2dist: 2.401\n",
      "    step: 400; loss: -1317.775; l2dist: 2.404\n",
      "    step: 450; loss: -1317.830; l2dist: 2.404\n",
      "binary step: 2; number of successful adv: 93/100\n",
      "    step: 0; loss: -6179.438; l2dist: 0.000\n",
      "    step: 50; loss: -6489.174; l2dist: 1.934\n",
      "    step: 100; loss: -6567.845; l2dist: 2.075\n",
      "    step: 150; loss: -6575.068; l2dist: 2.129\n",
      "    step: 200; loss: -6576.816; l2dist: 2.152\n",
      "    step: 250; loss: -6577.774; l2dist: 2.160\n",
      "    step: 300; loss: -6578.648; l2dist: 2.165\n",
      "    step: 350; loss: -6579.327; l2dist: 2.170\n",
      "    step: 400; loss: -6579.710; l2dist: 2.172\n",
      "    step: 450; loss: -6579.835; l2dist: 2.173\n",
      "binary step: 3; number of successful adv: 94/100\n",
      "    step: 0; loss: -50260.641; l2dist: 0.000\n",
      "    step: 50; loss: -52824.469; l2dist: 1.741\n",
      "    step: 100; loss: -53422.219; l2dist: 1.888\n",
      "    step: 150; loss: -53469.723; l2dist: 1.955\n",
      "    step: 200; loss: -53480.117; l2dist: 1.974\n",
      "    step: 250; loss: -53485.219; l2dist: 1.982\n",
      "    step: 300; loss: -53489.684; l2dist: 1.989\n",
      "    step: 350; loss: -53492.668; l2dist: 1.992\n",
      "    step: 400; loss: -53493.305; l2dist: 1.994\n",
      "    step: 450; loss: -53495.641; l2dist: 1.996\n",
      "binary step: 4; number of successful adv: 94/100\n",
      "    step: 0; loss: -79.940; l2dist: 0.000\n",
      "    step: 50; loss: -81.557; l2dist: 1.114\n",
      "    step: 100; loss: -81.810; l2dist: 1.164\n",
      "    step: 150; loss: -82.642; l2dist: 1.306\n",
      "    step: 200; loss: -82.836; l2dist: 1.330\n",
      "    step: 250; loss: -82.887; l2dist: 1.337\n",
      "    step: 300; loss: -82.906; l2dist: 1.339\n",
      "    step: 350; loss: -82.913; l2dist: 1.340\n",
      "    step: 400; loss: -82.917; l2dist: 1.341\n",
      "    step: 450; loss: -82.920; l2dist: 1.341\n",
      "binary step: 0; number of successful adv: 27/100\n",
      "    step: 0; loss: -594.666; l2dist: 0.000\n",
      "    step: 50; loss: -633.466; l2dist: 2.861\n",
      "    step: 100; loss: -644.074; l2dist: 2.774\n",
      "    step: 150; loss: -644.992; l2dist: 2.793\n",
      "    step: 200; loss: -645.232; l2dist: 2.812\n",
      "    step: 250; loss: -645.319; l2dist: 2.819\n",
      "    step: 300; loss: -645.347; l2dist: 2.821\n",
      "    step: 350; loss: -645.373; l2dist: 2.823\n",
      "    step: 400; loss: -645.383; l2dist: 2.823\n",
      "    step: 450; loss: -645.388; l2dist: 2.825\n",
      "binary step: 1; number of successful adv: 95/100\n",
      "    step: 0; loss: -719.491; l2dist: 0.000\n",
      "    step: 50; loss: -761.250; l2dist: 2.435\n",
      "    step: 100; loss: -771.685; l2dist: 2.401\n",
      "    step: 150; loss: -773.033; l2dist: 2.424\n",
      "    step: 200; loss: -773.456; l2dist: 2.441\n",
      "    step: 250; loss: -773.665; l2dist: 2.451\n",
      "    step: 300; loss: -773.799; l2dist: 2.457\n",
      "    step: 350; loss: -773.963; l2dist: 2.462\n",
      "    step: 400; loss: -774.022; l2dist: 2.465\n",
      "    step: 450; loss: -774.043; l2dist: 2.465\n",
      "binary step: 2; number of successful adv: 97/100\n",
      "    step: 0; loss: -2764.162; l2dist: 0.000\n",
      "    step: 50; loss: -2912.215; l2dist: 2.036\n",
      "    step: 100; loss: -2941.483; l2dist: 2.068\n",
      "    step: 150; loss: -2945.036; l2dist: 2.098\n",
      "    step: 200; loss: -2946.634; l2dist: 2.117\n",
      "    step: 250; loss: -2947.235; l2dist: 2.124\n",
      "    step: 300; loss: -2947.989; l2dist: 2.129\n",
      "    step: 350; loss: -2948.318; l2dist: 2.132\n",
      "    step: 400; loss: -2948.527; l2dist: 2.133\n",
      "    step: 450; loss: -2948.557; l2dist: 2.134\n",
      "binary step: 3; number of successful adv: 98/100\n",
      "    step: 0; loss: -17228.217; l2dist: 0.000\n",
      "    step: 50; loss: -18112.125; l2dist: 1.795\n",
      "    step: 100; loss: -18261.656; l2dist: 1.856\n",
      "    step: 150; loss: -18283.777; l2dist: 1.897\n",
      "    step: 200; loss: -18298.037; l2dist: 1.914\n",
      "    step: 250; loss: -18304.334; l2dist: 1.924\n",
      "    step: 300; loss: -18308.688; l2dist: 1.928\n",
      "    step: 350; loss: -18311.021; l2dist: 1.930\n",
      "    step: 400; loss: -18311.914; l2dist: 1.932\n",
      "    step: 450; loss: -18313.760; l2dist: 1.932\n",
      "binary step: 4; number of successful adv: 99/100\n",
      "    step: 0; loss: -80.287; l2dist: 0.000\n",
      "    step: 50; loss: -81.945; l2dist: 1.122\n",
      "    step: 100; loss: -82.254; l2dist: 1.186\n",
      "    step: 150; loss: -83.035; l2dist: 1.294\n",
      "    step: 200; loss: -83.214; l2dist: 1.314\n",
      "    step: 250; loss: -83.260; l2dist: 1.319\n",
      "    step: 300; loss: -83.277; l2dist: 1.320\n",
      "    step: 350; loss: -83.285; l2dist: 1.321\n",
      "    step: 400; loss: -83.289; l2dist: 1.321\n",
      "    step: 450; loss: -83.290; l2dist: 1.322\n",
      "binary step: 0; number of successful adv: 23/100\n",
      "    step: 0; loss: -627.129; l2dist: 0.000\n",
      "    step: 50; loss: -668.244; l2dist: 2.971\n",
      "    step: 100; loss: -679.098; l2dist: 2.853\n",
      "    step: 150; loss: -680.020; l2dist: 2.859\n",
      "    step: 200; loss: -680.207; l2dist: 2.871\n",
      "    step: 250; loss: -680.277; l2dist: 2.876\n",
      "    step: 300; loss: -680.313; l2dist: 2.879\n",
      "    step: 350; loss: -680.332; l2dist: 2.879\n",
      "    step: 400; loss: -680.341; l2dist: 2.880\n",
      "    step: 450; loss: -680.347; l2dist: 2.880\n",
      "binary step: 1; number of successful adv: 88/100\n",
      "    step: 0; loss: -1277.131; l2dist: 0.000\n",
      "    step: 50; loss: -1352.854; l2dist: 2.602\n",
      "    step: 100; loss: -1372.009; l2dist: 2.582\n",
      "    step: 150; loss: -1374.549; l2dist: 2.608\n",
      "    step: 200; loss: -1375.508; l2dist: 2.626\n",
      "    step: 250; loss: -1376.032; l2dist: 2.634\n",
      "    step: 300; loss: -1376.358; l2dist: 2.639\n",
      "    step: 350; loss: -1376.483; l2dist: 2.642\n"
     ]
    },
    {
     "name": "stdout",
     "output_type": "stream",
     "text": [
      "    step: 400; loss: -1376.543; l2dist: 2.643\n",
      "    step: 450; loss: -1376.579; l2dist: 2.644\n",
      "binary step: 2; number of successful adv: 94/100\n",
      "    step: 0; loss: -5386.077; l2dist: 0.000\n",
      "    step: 50; loss: -5711.422; l2dist: 2.216\n",
      "    step: 100; loss: -5778.987; l2dist: 2.255\n",
      "    step: 150; loss: -5788.471; l2dist: 2.284\n",
      "    step: 200; loss: -5790.907; l2dist: 2.303\n",
      "    step: 250; loss: -5792.930; l2dist: 2.311\n",
      "    step: 300; loss: -5793.813; l2dist: 2.314\n",
      "    step: 350; loss: -5794.226; l2dist: 2.316\n",
      "    step: 400; loss: -5794.733; l2dist: 2.318\n",
      "    step: 450; loss: -5794.891; l2dist: 2.319\n",
      "binary step: 3; number of successful adv: 96/100\n",
      "    step: 0; loss: -34147.898; l2dist: 0.000\n",
      "    step: 50; loss: -36139.121; l2dist: 1.956\n",
      "    step: 100; loss: -36561.980; l2dist: 2.014\n",
      "    step: 150; loss: -36637.934; l2dist: 2.053\n",
      "    step: 200; loss: -36654.508; l2dist: 2.066\n",
      "    step: 250; loss: -36661.016; l2dist: 2.076\n",
      "    step: 300; loss: -36665.461; l2dist: 2.081\n",
      "    step: 350; loss: -36668.598; l2dist: 2.085\n",
      "    step: 400; loss: -36669.152; l2dist: 2.086\n",
      "    step: 450; loss: -36669.402; l2dist: 2.087\n",
      "binary step: 4; number of successful adv: 96/100\n",
      "    step: 0; loss: -80.126; l2dist: 0.000\n",
      "    step: 50; loss: -81.674; l2dist: 1.080\n",
      "    step: 100; loss: -81.977; l2dist: 1.146\n",
      "    step: 150; loss: -82.807; l2dist: 1.272\n",
      "    step: 200; loss: -83.001; l2dist: 1.297\n",
      "    step: 250; loss: -83.052; l2dist: 1.304\n",
      "    step: 300; loss: -83.070; l2dist: 1.307\n",
      "    step: 350; loss: -83.078; l2dist: 1.307\n",
      "    step: 400; loss: -83.081; l2dist: 1.308\n",
      "    step: 450; loss: -83.084; l2dist: 1.308\n",
      "binary step: 0; number of successful adv: 26/100\n",
      "    step: 0; loss: -604.252; l2dist: 0.000\n",
      "    step: 50; loss: -641.499; l2dist: 2.808\n",
      "    step: 100; loss: -651.915; l2dist: 2.696\n",
      "    step: 150; loss: -652.770; l2dist: 2.709\n",
      "    step: 200; loss: -652.991; l2dist: 2.729\n",
      "    step: 250; loss: -653.062; l2dist: 2.737\n",
      "    step: 300; loss: -653.098; l2dist: 2.741\n",
      "    step: 350; loss: -653.119; l2dist: 2.742\n",
      "    step: 400; loss: -653.129; l2dist: 2.743\n",
      "    step: 450; loss: -653.134; l2dist: 2.744\n",
      "binary step: 1; number of successful adv: 83/100\n",
      "    step: 0; loss: -1660.113; l2dist: 0.000\n",
      "    step: 50; loss: -1757.180; l2dist: 2.572\n",
      "    step: 100; loss: -1777.341; l2dist: 2.557\n",
      "    step: 150; loss: -1779.622; l2dist: 2.596\n",
      "    step: 200; loss: -1780.597; l2dist: 2.619\n",
      "    step: 250; loss: -1781.051; l2dist: 2.629\n",
      "    step: 300; loss: -1781.253; l2dist: 2.633\n",
      "    step: 350; loss: -1781.461; l2dist: 2.636\n",
      "    step: 400; loss: -1781.623; l2dist: 2.640\n",
      "    step: 450; loss: -1781.696; l2dist: 2.641\n",
      "binary step: 2; number of successful adv: 91/100\n",
      "    step: 0; loss: -8024.375; l2dist: 0.000\n",
      "    step: 50; loss: -8438.096; l2dist: 2.243\n",
      "    step: 100; loss: -8518.583; l2dist: 2.290\n",
      "    step: 150; loss: -8527.950; l2dist: 2.335\n",
      "    step: 200; loss: -8530.635; l2dist: 2.355\n",
      "    step: 250; loss: -8533.089; l2dist: 2.366\n",
      "    step: 300; loss: -8534.769; l2dist: 2.378\n",
      "    step: 350; loss: -8535.421; l2dist: 2.382\n",
      "    step: 400; loss: -8536.632; l2dist: 2.385\n",
      "    step: 450; loss: -8537.156; l2dist: 2.386\n",
      "binary step: 3; number of successful adv: 93/100\n",
      "    step: 0; loss: -59590.059; l2dist: 0.000\n",
      "    step: 50; loss: -62647.000; l2dist: 2.036\n",
      "    step: 100; loss: -63203.348; l2dist: 2.099\n",
      "    step: 150; loss: -63275.207; l2dist: 2.161\n",
      "    step: 200; loss: -63298.570; l2dist: 2.183\n",
      "    step: 250; loss: -63310.203; l2dist: 2.194\n",
      "    step: 300; loss: -63314.598; l2dist: 2.202\n",
      "    step: 350; loss: -63318.250; l2dist: 2.207\n",
      "    step: 400; loss: -63325.742; l2dist: 2.210\n",
      "    step: 450; loss: -63332.715; l2dist: 2.213\n",
      "binary step: 4; number of successful adv: 95/100\n",
      "    step: 0; loss: -80.256; l2dist: 0.000\n",
      "    step: 50; loss: -81.802; l2dist: 1.077\n",
      "    step: 100; loss: -82.064; l2dist: 1.137\n",
      "    step: 150; loss: -82.909; l2dist: 1.283\n",
      "    step: 200; loss: -83.113; l2dist: 1.311\n",
      "    step: 250; loss: -83.166; l2dist: 1.317\n",
      "    step: 300; loss: -83.185; l2dist: 1.319\n",
      "    step: 350; loss: -83.193; l2dist: 1.321\n",
      "    step: 400; loss: -83.197; l2dist: 1.322\n",
      "    step: 450; loss: -83.198; l2dist: 1.322\n",
      "binary step: 0; number of successful adv: 31/100\n",
      "    step: 0; loss: -564.714; l2dist: 0.000\n",
      "    step: 50; loss: -599.735; l2dist: 2.663\n",
      "    step: 100; loss: -610.947; l2dist: 2.627\n",
      "    step: 150; loss: -611.840; l2dist: 2.647\n",
      "    step: 200; loss: -612.063; l2dist: 2.671\n",
      "    step: 250; loss: -612.134; l2dist: 2.679\n",
      "    step: 300; loss: -612.182; l2dist: 2.681\n",
      "    step: 350; loss: -612.206; l2dist: 2.682\n",
      "    step: 400; loss: -612.222; l2dist: 2.683\n",
      "    step: 450; loss: -612.226; l2dist: 2.683\n",
      "binary step: 1; number of successful adv: 88/100\n",
      "    step: 0; loss: -1248.801; l2dist: 0.000\n",
      "    step: 50; loss: -1315.199; l2dist: 2.364\n",
      "    step: 100; loss: -1334.737; l2dist: 2.415\n",
      "    step: 150; loss: -1337.378; l2dist: 2.458\n",
      "    step: 200; loss: -1338.347; l2dist: 2.480\n",
      "    step: 250; loss: -1338.828; l2dist: 2.498\n",
      "    step: 300; loss: -1339.049; l2dist: 2.505\n",
      "    step: 350; loss: -1339.248; l2dist: 2.510\n",
      "    step: 400; loss: -1339.319; l2dist: 2.512\n",
      "    step: 450; loss: -1339.351; l2dist: 2.512\n",
      "binary step: 2; number of successful adv: 91/100\n",
      "    step: 0; loss: -7773.027; l2dist: 0.000\n",
      "    step: 50; loss: -8152.382; l2dist: 2.077\n",
      "    step: 100; loss: -8264.740; l2dist: 2.175\n",
      "    step: 150; loss: -8274.788; l2dist: 2.227\n",
      "    step: 200; loss: -8279.101; l2dist: 2.252\n",
      "    step: 250; loss: -8280.791; l2dist: 2.263\n",
      "    step: 300; loss: -8281.561; l2dist: 2.269\n",
      "    step: 350; loss: -8282.027; l2dist: 2.272\n",
      "    step: 400; loss: -8282.632; l2dist: 2.275\n",
      "    step: 450; loss: -8282.827; l2dist: 2.276\n",
      "binary step: 3; number of successful adv: 94/100\n",
      "    step: 0; loss: -51517.430; l2dist: 0.000\n",
      "    step: 50; loss: -54008.414; l2dist: 1.855\n",
      "    step: 100; loss: -54593.875; l2dist: 1.966\n",
      "    step: 150; loss: -54658.199; l2dist: 2.033\n",
      "    step: 200; loss: -54688.820; l2dist: 2.062\n",
      "    step: 250; loss: -54699.266; l2dist: 2.072\n",
      "    step: 300; loss: -54704.172; l2dist: 2.078\n",
      "    step: 350; loss: -54707.359; l2dist: 2.081\n",
      "    step: 400; loss: -54708.879; l2dist: 2.083\n",
      "    step: 450; loss: -54718.062; l2dist: 2.085\n",
      "binary step: 4; number of successful adv: 94/100\n",
      "    step: 0; loss: -80.398; l2dist: 0.000\n",
      "    step: 50; loss: -81.967; l2dist: 1.089\n",
      "    step: 100; loss: -82.271; l2dist: 1.150\n",
      "    step: 150; loss: -83.073; l2dist: 1.274\n",
      "    step: 200; loss: -83.257; l2dist: 1.295\n",
      "    step: 250; loss: -83.305; l2dist: 1.301\n",
      "    step: 300; loss: -83.323; l2dist: 1.302\n",
      "    step: 350; loss: -83.331; l2dist: 1.304\n",
      "    step: 400; loss: -83.335; l2dist: 1.304\n",
      "    step: 450; loss: -83.337; l2dist: 1.305\n",
      "binary step: 0; number of successful adv: 30/100\n",
      "    step: 0; loss: -584.665; l2dist: 0.000\n",
      "    step: 50; loss: -620.215; l2dist: 2.708\n",
      "    step: 100; loss: -630.216; l2dist: 2.636\n",
      "    step: 150; loss: -631.023; l2dist: 2.657\n",
      "    step: 200; loss: -631.226; l2dist: 2.674\n",
      "    step: 250; loss: -631.284; l2dist: 2.680\n",
      "    step: 300; loss: -631.312; l2dist: 2.682\n",
      "    step: 350; loss: -631.329; l2dist: 2.682\n",
      "    step: 400; loss: -631.338; l2dist: 2.681\n",
      "    step: 450; loss: -631.343; l2dist: 2.682\n",
      "binary step: 1; number of successful adv: 83/100\n",
      "    step: 0; loss: -1647.090; l2dist: 0.000\n",
      "    step: 50; loss: -1735.949; l2dist: 2.450\n",
      "    step: 100; loss: -1762.792; l2dist: 2.479\n",
      "    step: 150; loss: -1765.513; l2dist: 2.520\n",
      "    step: 200; loss: -1766.527; l2dist: 2.540\n",
      "    step: 250; loss: -1766.972; l2dist: 2.548\n",
      "    step: 300; loss: -1767.496; l2dist: 2.557\n",
      "    step: 350; loss: -1767.637; l2dist: 2.560\n",
      "    step: 400; loss: -1767.819; l2dist: 2.561\n",
      "    step: 450; loss: -1767.858; l2dist: 2.562\n",
      "binary step: 2; number of successful adv: 91/100\n",
      "    step: 0; loss: -7872.676; l2dist: 0.000\n",
      "    step: 50; loss: -8316.511; l2dist: 2.102\n",
      "    step: 100; loss: -8436.296; l2dist: 2.191\n",
      "    step: 150; loss: -8448.748; l2dist: 2.231\n",
      "    step: 200; loss: -8453.787; l2dist: 2.249\n",
      "    step: 250; loss: -8456.029; l2dist: 2.259\n",
      "    step: 300; loss: -8458.012; l2dist: 2.267\n",
      "    step: 350; loss: -8458.626; l2dist: 2.270\n",
      "    step: 400; loss: -8458.917; l2dist: 2.271\n",
      "    step: 450; loss: -8459.236; l2dist: 2.273\n",
      "binary step: 3; number of successful adv: 93/100\n",
      "    step: 0; loss: -58151.719; l2dist: 0.000\n"
     ]
    },
    {
     "name": "stdout",
     "output_type": "stream",
     "text": [
      "    step: 50; loss: -61642.387; l2dist: 1.890\n",
      "    step: 100; loss: -62589.910; l2dist: 2.002\n",
      "    step: 150; loss: -62682.020; l2dist: 2.048\n",
      "    step: 200; loss: -62714.137; l2dist: 2.070\n",
      "    step: 250; loss: -62731.023; l2dist: 2.079\n",
      "    step: 300; loss: -62739.785; l2dist: 2.085\n",
      "    step: 350; loss: -62754.770; l2dist: 2.086\n",
      "    step: 400; loss: -62767.652; l2dist: 2.089\n",
      "    step: 450; loss: -62769.719; l2dist: 2.090\n",
      "binary step: 4; number of successful adv: 95/100\n"
     ]
    }
   ],
   "source": [
    "attack = DKNNAttack()\n",
    "\n",
    "def attack_batch(x, y, batch_size):\n",
    "    x_adv = torch.zeros_like(x)\n",
    "    total_num = x.size(0)\n",
    "    num_batches = total_num // batch_size\n",
    "    for i in range(num_batches):\n",
    "        begin = i * batch_size\n",
    "        end = (i + 1) * batch_size\n",
    "        x_adv[begin:end] = attack(\n",
    "            dknn, x[begin:end], y_test[begin:end],\n",
    "            guide_layer='relu1', m=100, binary_search_steps=5,\n",
    "            max_iterations=500, learning_rate=1e-1,\n",
    "            initial_const=1, abort_early=True)\n",
    "    return x_adv\n",
    "\n",
    "x_adv = attack_batch(x_test[:1000].cuda(), y_test[:1000], 100)"
   ]
  },
  {
   "cell_type": "code",
   "execution_count": 17,
   "metadata": {},
   "outputs": [
    {
     "data": {
      "text/plain": [
       "0.052"
      ]
     },
     "execution_count": 17,
     "metadata": {},
     "output_type": "execute_result"
    }
   ],
   "source": [
    "y_pred = dknn.classify(x_adv)\n",
    "(y_pred.argmax(1) == y_test[:1000].numpy()).sum() / len(y_pred)"
   ]
  },
  {
   "cell_type": "code",
   "execution_count": 18,
   "metadata": {},
   "outputs": [
    {
     "data": {
      "text/plain": [
       "(array([589., 232.,  81.,  21.,  10.,   6.,   9.,   2.,   0.,  50.]),\n",
       " array([0.016 , 0.1144, 0.2128, 0.3112, 0.4096, 0.508 , 0.6064, 0.7048,\n",
       "        0.8032, 0.9016, 1.    ]),\n",
       " <a list of 10 Patch objects>)"
      ]
     },
     "execution_count": 18,
     "metadata": {},
     "output_type": "execute_result"
    },
    {
     "data": {
      "image/png": "[encoded data removed]",
      "text/plain": [
       "<Figure size 432x288 with 1 Axes>"
      ]
     },
     "metadata": {
      "needs_background": "light"
     },
     "output_type": "display_data"
    }
   ],
   "source": [
    "cred = dknn.credibility(y_pred)\n",
    "plt.hist(cred)"
   ]
  },
  {
   "cell_type": "code",
   "execution_count": 19,
   "metadata": {},
   "outputs": [
    {
     "data": {
      "text/plain": [
       "<matplotlib.image.AxesImage at 0x7f39b8b7b6d8>"
      ]
     },
     "execution_count": 19,
     "metadata": {},
     "output_type": "execute_result"
    },
    {
     "data": {
      "image/png": "[encoded data removed]",
      "text/plain": [
       "<Figure size 432x288 with 1 Axes>"
      ]
     },
     "metadata": {
      "needs_background": "light"
     },
     "output_type": "display_data"
    }
   ],
   "source": [
    "plt.imshow(x_adv[0].cpu().detach().numpy().squeeze(), cmap='gray')"
   ]
  },
  {
   "cell_type": "code",
   "execution_count": 20,
   "metadata": {},
   "outputs": [
    {
     "data": {
      "text/plain": [
       "tensor(1.9802, grad_fn=<MeanBackward1>)"
      ]
     },
     "execution_count": 20,
     "metadata": {},
     "output_type": "execute_result"
    }
   ],
   "source": [
    "(x_adv.cpu() - x_test[:1000]).view(1000, -1).norm(dim=0).mean()"
   ]
  },
  {
   "cell_type": "markdown",
   "metadata": {},
   "source": [
    "## CW L2 Attack\n",
    "\n",
    "without DkNN"
   ]
  },
  {
   "cell_type": "code",
   "execution_count": 83,
   "metadata": {
    "scrolled": true
   },
   "outputs": [
    {
     "name": "stdout",
     "output_type": "stream",
     "text": [
      "    step: 0; loss: 6.370; l2dist: 0.000\n",
      "    step: 50; loss: 2.131; l2dist: 1.295\n",
      "    step: 100; loss: 1.019; l2dist: 0.932\n",
      "    step: 150; loss: 0.705; l2dist: 0.782\n",
      "    step: 200; loss: 0.616; l2dist: 0.734\n",
      "    step: 250; loss: 0.576; l2dist: 0.715\n",
      "    step: 300; loss: 0.561; l2dist: 0.705\n",
      "    step: 350; loss: 0.551; l2dist: 0.697\n",
      "    step: 400; loss: 0.547; l2dist: 0.691\n",
      "    step: 450; loss: 0.541; l2dist: 0.688\n",
      "binary step: 0; number of successful adv: 86/100\n",
      "    step: 0; loss: 11.855; l2dist: 0.000\n",
      "    step: 50; loss: 2.109; l2dist: 1.210\n",
      "    step: 100; loss: 1.033; l2dist: 0.904\n",
      "    step: 150; loss: 0.709; l2dist: 0.765\n",
      "    step: 200; loss: 0.633; l2dist: 0.727\n",
      "    step: 250; loss: 0.601; l2dist: 0.715\n",
      "    step: 300; loss: 0.558; l2dist: 0.691\n",
      "    step: 350; loss: 0.549; l2dist: 0.683\n",
      "    step: 400; loss: 0.559; l2dist: 0.693\n",
      "binary step: 1; number of successful adv: 98/100\n",
      "    step: 0; loss: 20.056; l2dist: 0.000\n",
      "    step: 50; loss: 2.174; l2dist: 1.194\n",
      "    step: 100; loss: 1.123; l2dist: 0.928\n",
      "    step: 150; loss: 0.761; l2dist: 0.789\n",
      "    step: 200; loss: 0.666; l2dist: 0.746\n",
      "    step: 250; loss: 0.603; l2dist: 0.718\n",
      "    step: 300; loss: 0.583; l2dist: 0.704\n",
      "    step: 350; loss: 0.568; l2dist: 0.701\n",
      "    step: 400; loss: 0.554; l2dist: 0.688\n",
      "    step: 450; loss: 0.546; l2dist: 0.683\n",
      "binary step: 2; number of successful adv: 100/100\n",
      "    step: 0; loss: 12.190; l2dist: 0.000\n",
      "    step: 50; loss: 1.915; l2dist: 1.071\n",
      "    step: 100; loss: 1.092; l2dist: 0.887\n",
      "    step: 150; loss: 0.737; l2dist: 0.769\n",
      "    step: 200; loss: 0.626; l2dist: 0.719\n",
      "    step: 250; loss: 0.582; l2dist: 0.701\n",
      "    step: 300; loss: 0.572; l2dist: 0.692\n",
      "    step: 350; loss: 0.549; l2dist: 0.687\n",
      "    step: 400; loss: 0.538; l2dist: 0.678\n",
      "    step: 450; loss: 0.532; l2dist: 0.672\n",
      "binary step: 3; number of successful adv: 100/100\n",
      "    step: 0; loss: 8.486; l2dist: 0.000\n",
      "    step: 50; loss: 1.829; l2dist: 1.028\n",
      "    step: 100; loss: 1.100; l2dist: 0.870\n",
      "    step: 150; loss: 0.719; l2dist: 0.766\n",
      "    step: 200; loss: 0.615; l2dist: 0.715\n",
      "    step: 250; loss: 0.576; l2dist: 0.701\n",
      "    step: 300; loss: 0.561; l2dist: 0.688\n",
      "    step: 350; loss: 0.543; l2dist: 0.682\n",
      "    step: 400; loss: 0.535; l2dist: 0.677\n",
      "    step: 450; loss: 0.530; l2dist: 0.675\n",
      "binary step: 4; number of successful adv: 100/100\n",
      "    step: 0; loss: 6.552; l2dist: 0.000\n",
      "    step: 50; loss: 2.354; l2dist: 1.316\n",
      "    step: 100; loss: 1.129; l2dist: 0.972\n",
      "    step: 150; loss: 0.783; l2dist: 0.821\n",
      "    step: 200; loss: 0.694; l2dist: 0.777\n",
      "    step: 250; loss: 0.667; l2dist: 0.759\n",
      "    step: 300; loss: 0.648; l2dist: 0.746\n",
      "    step: 350; loss: 0.630; l2dist: 0.737\n",
      "    step: 400; loss: 0.625; l2dist: 0.740\n",
      "    step: 450; loss: 0.620; l2dist: 0.730\n",
      "binary step: 0; number of successful adv: 71/100\n",
      "    step: 0; loss: 21.867; l2dist: 0.000\n",
      "    step: 50; loss: 3.058; l2dist: 1.493\n",
      "    step: 100; loss: 1.244; l2dist: 1.034\n",
      "    step: 150; loss: 0.881; l2dist: 0.867\n",
      "    step: 200; loss: 0.762; l2dist: 0.808\n",
      "    step: 250; loss: 0.728; l2dist: 0.793\n",
      "    step: 300; loss: 0.680; l2dist: 0.762\n",
      "    step: 350; loss: 0.672; l2dist: 0.761\n",
      "    step: 400; loss: 0.668; l2dist: 0.759\n",
      "    step: 450; loss: 0.651; l2dist: 0.746\n",
      "binary step: 1; number of successful adv: 97/100\n",
      "    step: 0; loss: 31.539; l2dist: 0.000\n",
      "    step: 50; loss: 3.294; l2dist: 1.602\n",
      "    step: 100; loss: 1.354; l2dist: 1.044\n",
      "    step: 150; loss: 0.961; l2dist: 0.877\n",
      "    step: 200; loss: 0.826; l2dist: 0.817\n",
      "    step: 250; loss: 0.747; l2dist: 0.784\n",
      "    step: 300; loss: 0.728; l2dist: 0.770\n",
      "    step: 350; loss: 0.693; l2dist: 0.758\n",
      "    step: 400; loss: 0.681; l2dist: 0.750\n",
      "    step: 450; loss: 0.683; l2dist: 0.748\n",
      "binary step: 2; number of successful adv: 100/100\n",
      "    step: 0; loss: 18.848; l2dist: 0.000\n",
      "    step: 50; loss: 2.880; l2dist: 1.492\n",
      "    step: 100; loss: 1.222; l2dist: 0.992\n",
      "    step: 150; loss: 0.871; l2dist: 0.839\n",
      "    step: 200; loss: 0.757; l2dist: 0.787\n",
      "    step: 250; loss: 0.714; l2dist: 0.765\n",
      "    step: 300; loss: 0.686; l2dist: 0.749\n",
      "    step: 350; loss: 0.669; l2dist: 0.747\n",
      "    step: 400; loss: 0.658; l2dist: 0.741\n",
      "    step: 450; loss: 0.646; l2dist: 0.732\n",
      "binary step: 3; number of successful adv: 100/100\n",
      "    step: 0; loss: 12.355; l2dist: 0.000\n",
      "    step: 50; loss: 2.642; l2dist: 1.360\n",
      "    step: 100; loss: 1.180; l2dist: 0.961\n",
      "    step: 150; loss: 0.837; l2dist: 0.821\n",
      "    step: 200; loss: 0.749; l2dist: 0.780\n",
      "    step: 250; loss: 0.699; l2dist: 0.756\n",
      "    step: 300; loss: 0.668; l2dist: 0.746\n",
      "    step: 350; loss: 0.653; l2dist: 0.737\n",
      "    step: 400; loss: 0.649; l2dist: 0.731\n",
      "    step: 450; loss: 0.628; l2dist: 0.724\n",
      "binary step: 4; number of successful adv: 100/100\n",
      "    step: 0; loss: 6.484; l2dist: 0.000\n",
      "    step: 50; loss: 2.231; l2dist: 1.326\n",
      "    step: 100; loss: 1.174; l2dist: 1.018\n",
      "    step: 150; loss: 0.831; l2dist: 0.862\n",
      "    step: 200; loss: 0.720; l2dist: 0.810\n",
      "    step: 250; loss: 0.684; l2dist: 0.792\n",
      "    step: 300; loss: 0.657; l2dist: 0.774\n",
      "    step: 350; loss: 0.649; l2dist: 0.765\n",
      "    step: 400; loss: 0.634; l2dist: 0.757\n",
      "    step: 450; loss: 0.632; l2dist: 0.759\n",
      "binary step: 0; number of successful adv: 80/100\n",
      "    step: 0; loss: 16.393; l2dist: 0.000\n",
      "    step: 50; loss: 2.301; l2dist: 1.334\n",
      "    step: 100; loss: 1.230; l2dist: 1.032\n",
      "    step: 150; loss: 0.845; l2dist: 0.861\n",
      "    step: 200; loss: 0.756; l2dist: 0.826\n",
      "    step: 250; loss: 0.694; l2dist: 0.778\n",
      "    step: 300; loss: 0.681; l2dist: 0.778\n",
      "    step: 350; loss: 0.676; l2dist: 0.771\n",
      "    step: 400; loss: 0.641; l2dist: 0.754\n",
      "    step: 450; loss: 0.652; l2dist: 0.764\n",
      "binary step: 1; number of successful adv: 100/100\n",
      "    step: 0; loss: 9.487; l2dist: 0.000\n",
      "    step: 50; loss: 2.028; l2dist: 1.202\n",
      "    step: 100; loss: 1.181; l2dist: 0.973\n",
      "    step: 150; loss: 0.800; l2dist: 0.827\n",
      "    step: 200; loss: 0.702; l2dist: 0.785\n",
      "    step: 250; loss: 0.658; l2dist: 0.760\n",
      "    step: 300; loss: 0.631; l2dist: 0.751\n",
      "    step: 350; loss: 0.619; l2dist: 0.739\n",
      "    step: 400; loss: 0.615; l2dist: 0.740\n",
      "    step: 450; loss: 0.607; l2dist: 0.730\n",
      "binary step: 2; number of successful adv: 100/100\n",
      "    step: 0; loss: 6.160; l2dist: 0.000\n",
      "    step: 50; loss: 1.883; l2dist: 1.132\n",
      "    step: 100; loss: 1.148; l2dist: 0.944\n",
      "    step: 150; loss: 0.781; l2dist: 0.808\n",
      "    step: 200; loss: 0.683; l2dist: 0.765\n",
      "    step: 250; loss: 0.645; l2dist: 0.748\n",
      "    step: 300; loss: 0.621; l2dist: 0.728\n",
      "    step: 350; loss: 0.607; l2dist: 0.725\n",
      "    step: 400; loss: 0.597; l2dist: 0.720\n",
      "    step: 450; loss: 0.602; l2dist: 0.718\n",
      "binary step: 3; number of successful adv: 100/100\n",
      "    step: 0; loss: 5.264; l2dist: 0.000\n",
      "    step: 50; loss: 1.869; l2dist: 1.113\n",
      "    step: 100; loss: 1.165; l2dist: 0.952\n",
      "    step: 150; loss: 0.783; l2dist: 0.812\n",
      "    step: 200; loss: 0.689; l2dist: 0.767\n",
      "    step: 250; loss: 0.643; l2dist: 0.742\n",
      "    step: 300; loss: 0.620; l2dist: 0.734\n",
      "    step: 350; loss: 0.614; l2dist: 0.730\n",
      "    step: 400; loss: 0.603; l2dist: 0.731\n",
      "    step: 450; loss: 0.595; l2dist: 0.723\n",
      "binary step: 4; number of successful adv: 100/100\n",
      "    step: 0; loss: 6.350; l2dist: 0.000\n",
      "    step: 50; loss: 2.417; l2dist: 1.296\n",
      "    step: 100; loss: 1.115; l2dist: 0.966\n",
      "    step: 150; loss: 0.766; l2dist: 0.811\n",
      "    step: 200; loss: 0.681; l2dist: 0.769\n",
      "    step: 250; loss: 0.641; l2dist: 0.753\n",
      "    step: 300; loss: 0.615; l2dist: 0.735\n",
      "    step: 350; loss: 0.604; l2dist: 0.727\n",
      "    step: 400; loss: 0.597; l2dist: 0.722\n",
      "    step: 450; loss: 0.591; l2dist: 0.719\n",
      "binary step: 0; number of successful adv: 91/100\n",
      "    step: 0; loss: 9.054; l2dist: 0.000\n",
      "    step: 50; loss: 2.282; l2dist: 1.230\n",
      "    step: 100; loss: 1.137; l2dist: 0.961\n",
      "    step: 150; loss: 0.762; l2dist: 0.809\n",
      "    step: 200; loss: 0.665; l2dist: 0.758\n",
      "    step: 250; loss: 0.621; l2dist: 0.730\n",
      "    step: 300; loss: 0.622; l2dist: 0.728\n",
      "binary step: 1; number of successful adv: 99/100\n",
      "    step: 0; loss: 12.267; l2dist: 0.000\n",
      "    step: 50; loss: 2.229; l2dist: 1.206\n",
      "    step: 100; loss: 1.157; l2dist: 0.962\n",
      "    step: 150; loss: 0.774; l2dist: 0.805\n",
      "    step: 200; loss: 0.667; l2dist: 0.752\n",
      "    step: 250; loss: 0.630; l2dist: 0.728\n",
      "    step: 300; loss: 0.605; l2dist: 0.715\n",
      "    step: 350; loss: 0.598; l2dist: 0.710\n",
      "    step: 400; loss: 0.581; l2dist: 0.705\n",
      "    step: 450; loss: 0.580; l2dist: 0.707\n",
      "binary step: 2; number of successful adv: 100/100\n",
      "    step: 0; loss: 7.744; l2dist: 0.000\n"
     ]
    },
    {
     "name": "stdout",
     "output_type": "stream",
     "text": [
      "    step: 50; loss: 2.032; l2dist: 1.121\n",
      "    step: 100; loss: 1.156; l2dist: 0.939\n",
      "    step: 150; loss: 0.756; l2dist: 0.789\n",
      "    step: 200; loss: 0.656; l2dist: 0.743\n",
      "    step: 250; loss: 0.611; l2dist: 0.719\n",
      "    step: 300; loss: 0.596; l2dist: 0.709\n",
      "    step: 350; loss: 0.583; l2dist: 0.701\n",
      "    step: 400; loss: 0.574; l2dist: 0.696\n",
      "    step: 450; loss: 0.567; l2dist: 0.694\n",
      "binary step: 3; number of successful adv: 100/100\n",
      "    step: 0; loss: 6.031; l2dist: 0.000\n",
      "    step: 50; loss: 1.950; l2dist: 1.077\n",
      "    step: 100; loss: 1.165; l2dist: 0.938\n",
      "    step: 150; loss: 0.756; l2dist: 0.784\n",
      "    step: 200; loss: 0.654; l2dist: 0.744\n",
      "    step: 250; loss: 0.610; l2dist: 0.716\n",
      "    step: 300; loss: 0.594; l2dist: 0.699\n",
      "    step: 350; loss: 0.580; l2dist: 0.697\n",
      "    step: 400; loss: 0.578; l2dist: 0.695\n",
      "    step: 450; loss: 0.566; l2dist: 0.694\n",
      "binary step: 4; number of successful adv: 100/100\n",
      "    step: 0; loss: 5.975; l2dist: 0.000\n",
      "    step: 50; loss: 1.968; l2dist: 1.209\n",
      "    step: 100; loss: 1.079; l2dist: 0.946\n",
      "    step: 150; loss: 0.726; l2dist: 0.787\n",
      "    step: 200; loss: 0.648; l2dist: 0.743\n",
      "    step: 250; loss: 0.611; l2dist: 0.723\n",
      "    step: 300; loss: 0.591; l2dist: 0.710\n",
      "    step: 350; loss: 0.584; l2dist: 0.703\n",
      "    step: 400; loss: 0.574; l2dist: 0.697\n",
      "    step: 450; loss: 0.575; l2dist: 0.700\n",
      "binary step: 0; number of successful adv: 97/100\n",
      "    step: 0; loss: 4.580; l2dist: 0.000\n",
      "    step: 50; loss: 1.673; l2dist: 0.991\n",
      "    step: 100; loss: 1.080; l2dist: 0.867\n",
      "    step: 150; loss: 0.724; l2dist: 0.760\n",
      "    step: 200; loss: 0.631; l2dist: 0.711\n",
      "    step: 250; loss: 0.601; l2dist: 0.688\n",
      "    step: 300; loss: 0.574; l2dist: 0.683\n",
      "    step: 350; loss: 0.563; l2dist: 0.677\n",
      "    step: 400; loss: 0.560; l2dist: 0.674\n",
      "    step: 450; loss: 0.557; l2dist: 0.668\n",
      "binary step: 1; number of successful adv: 99/100\n",
      "    step: 0; loss: 8.926; l2dist: 0.000\n",
      "    step: 50; loss: 1.606; l2dist: 0.900\n",
      "    step: 100; loss: 1.119; l2dist: 0.847\n",
      "    step: 150; loss: 0.747; l2dist: 0.757\n",
      "    step: 200; loss: 0.645; l2dist: 0.716\n",
      "    step: 250; loss: 0.601; l2dist: 0.696\n",
      "    step: 300; loss: 0.578; l2dist: 0.687\n",
      "    step: 350; loss: 0.566; l2dist: 0.682\n",
      "    step: 400; loss: 0.559; l2dist: 0.674\n",
      "    step: 450; loss: 0.554; l2dist: 0.676\n",
      "binary step: 2; number of successful adv: 100/100\n",
      "    step: 0; loss: 5.978; l2dist: 0.000\n",
      "    step: 50; loss: 1.561; l2dist: 0.888\n",
      "    step: 100; loss: 1.123; l2dist: 0.842\n",
      "    step: 150; loss: 0.743; l2dist: 0.747\n",
      "    step: 200; loss: 0.645; l2dist: 0.705\n",
      "    step: 250; loss: 0.605; l2dist: 0.689\n",
      "    step: 300; loss: 0.578; l2dist: 0.684\n",
      "    step: 350; loss: 0.567; l2dist: 0.676\n",
      "    step: 400; loss: 0.559; l2dist: 0.673\n",
      "    step: 450; loss: 0.556; l2dist: 0.674\n",
      "binary step: 3; number of successful adv: 100/100\n",
      "    step: 0; loss: 4.601; l2dist: 0.000\n",
      "    step: 50; loss: 1.544; l2dist: 0.872\n",
      "    step: 100; loss: 1.123; l2dist: 0.841\n",
      "    step: 150; loss: 0.735; l2dist: 0.742\n",
      "    step: 200; loss: 0.633; l2dist: 0.704\n",
      "    step: 250; loss: 0.590; l2dist: 0.686\n",
      "    step: 300; loss: 0.571; l2dist: 0.675\n",
      "    step: 350; loss: 0.561; l2dist: 0.666\n",
      "    step: 400; loss: 0.555; l2dist: 0.673\n",
      "    step: 450; loss: 0.551; l2dist: 0.660\n",
      "binary step: 4; number of successful adv: 100/100\n",
      "    step: 0; loss: 6.198; l2dist: 0.000\n",
      "    step: 50; loss: 2.049; l2dist: 1.257\n",
      "    step: 100; loss: 1.192; l2dist: 0.975\n",
      "    step: 150; loss: 0.820; l2dist: 0.832\n",
      "    step: 200; loss: 0.713; l2dist: 0.785\n",
      "    step: 250; loss: 0.672; l2dist: 0.765\n",
      "    step: 300; loss: 0.647; l2dist: 0.745\n",
      "    step: 350; loss: 0.635; l2dist: 0.740\n",
      "    step: 400; loss: 0.638; l2dist: 0.730\n",
      "binary step: 0; number of successful adv: 62/100\n",
      "    step: 0; loss: 26.859; l2dist: 0.000\n",
      "    step: 50; loss: 2.586; l2dist: 1.471\n",
      "    step: 100; loss: 1.331; l2dist: 1.072\n",
      "    step: 150; loss: 0.925; l2dist: 0.890\n",
      "    step: 200; loss: 0.817; l2dist: 0.833\n",
      "    step: 250; loss: 0.759; l2dist: 0.797\n",
      "    step: 300; loss: 0.715; l2dist: 0.783\n",
      "    step: 350; loss: 0.724; l2dist: 0.780\n",
      "binary step: 1; number of successful adv: 97/100\n",
      "    step: 0; loss: 34.363; l2dist: 0.000\n",
      "    step: 50; loss: 2.685; l2dist: 1.482\n",
      "    step: 100; loss: 1.386; l2dist: 1.070\n",
      "    step: 150; loss: 0.955; l2dist: 0.882\n",
      "    step: 200; loss: 0.823; l2dist: 0.812\n",
      "    step: 250; loss: 0.756; l2dist: 0.787\n",
      "    step: 300; loss: 0.727; l2dist: 0.777\n",
      "    step: 350; loss: 0.695; l2dist: 0.760\n",
      "    step: 400; loss: 0.685; l2dist: 0.756\n",
      "    step: 450; loss: 0.672; l2dist: 0.747\n",
      "binary step: 2; number of successful adv: 99/100\n",
      "    step: 0; loss: 91.106; l2dist: 0.000\n",
      "    step: 50; loss: 4.565; l2dist: 2.039\n",
      "    step: 100; loss: 2.013; l2dist: 1.333\n",
      "    step: 150; loss: 1.251; l2dist: 1.032\n",
      "    step: 200; loss: 0.966; l2dist: 0.894\n",
      "    step: 250; loss: 0.865; l2dist: 0.836\n",
      "    step: 300; loss: 0.819; l2dist: 0.809\n",
      "    step: 350; loss: 0.773; l2dist: 0.786\n",
      "    step: 400; loss: 0.714; l2dist: 0.761\n",
      "    step: 450; loss: 0.706; l2dist: 0.753\n",
      "binary step: 3; number of successful adv: 100/100\n",
      "    step: 0; loss: 52.462; l2dist: 0.000\n",
      "    step: 50; loss: 3.183; l2dist: 1.656\n",
      "    step: 100; loss: 1.488; l2dist: 1.126\n",
      "    step: 150; loss: 0.998; l2dist: 0.908\n",
      "    step: 200; loss: 0.839; l2dist: 0.820\n",
      "    step: 250; loss: 0.754; l2dist: 0.781\n",
      "    step: 300; loss: 0.717; l2dist: 0.760\n",
      "    step: 350; loss: 0.707; l2dist: 0.754\n",
      "    step: 400; loss: 0.678; l2dist: 0.745\n",
      "    step: 450; loss: 0.660; l2dist: 0.737\n",
      "binary step: 4; number of successful adv: 100/100\n",
      "    step: 0; loss: 6.201; l2dist: 0.000\n",
      "    step: 50; loss: 2.151; l2dist: 1.290\n",
      "    step: 100; loss: 1.155; l2dist: 0.996\n",
      "    step: 150; loss: 0.792; l2dist: 0.830\n",
      "    step: 200; loss: 0.704; l2dist: 0.783\n",
      "    step: 250; loss: 0.672; l2dist: 0.755\n",
      "    step: 300; loss: 0.647; l2dist: 0.744\n",
      "    step: 350; loss: 0.640; l2dist: 0.738\n",
      "    step: 400; loss: 0.627; l2dist: 0.732\n",
      "    step: 450; loss: 0.632; l2dist: 0.734\n",
      "binary step: 0; number of successful adv: 77/100\n",
      "    step: 0; loss: 17.457; l2dist: 0.000\n",
      "    step: 50; loss: 2.382; l2dist: 1.330\n",
      "    step: 100; loss: 1.221; l2dist: 1.001\n",
      "    step: 150; loss: 0.851; l2dist: 0.836\n",
      "    step: 200; loss: 0.747; l2dist: 0.795\n",
      "    step: 250; loss: 0.692; l2dist: 0.762\n",
      "    step: 300; loss: 0.675; l2dist: 0.749\n",
      "    step: 350; loss: 0.647; l2dist: 0.738\n",
      "    step: 400; loss: 0.647; l2dist: 0.741\n",
      "binary step: 1; number of successful adv: 100/100\n",
      "    step: 0; loss: 10.033; l2dist: 0.000\n",
      "    step: 50; loss: 2.051; l2dist: 1.184\n",
      "    step: 100; loss: 1.156; l2dist: 0.945\n",
      "    step: 150; loss: 0.793; l2dist: 0.810\n",
      "    step: 200; loss: 0.698; l2dist: 0.762\n",
      "    step: 250; loss: 0.654; l2dist: 0.736\n",
      "    step: 300; loss: 0.637; l2dist: 0.732\n",
      "    step: 350; loss: 0.624; l2dist: 0.719\n",
      "    step: 400; loss: 0.615; l2dist: 0.715\n",
      "    step: 450; loss: 0.610; l2dist: 0.712\n",
      "binary step: 2; number of successful adv: 100/100\n",
      "    step: 0; loss: 6.569; l2dist: 0.000\n",
      "    step: 50; loss: 1.869; l2dist: 1.092\n",
      "    step: 100; loss: 1.142; l2dist: 0.923\n",
      "    step: 150; loss: 0.779; l2dist: 0.782\n",
      "    step: 200; loss: 0.689; l2dist: 0.747\n",
      "    step: 250; loss: 0.643; l2dist: 0.723\n",
      "    step: 300; loss: 0.623; l2dist: 0.713\n",
      "    step: 350; loss: 0.615; l2dist: 0.714\n",
      "    step: 400; loss: 0.603; l2dist: 0.702\n",
      "    step: 450; loss: 0.607; l2dist: 0.712\n",
      "binary step: 3; number of successful adv: 100/100\n",
      "    step: 0; loss: 4.902; l2dist: 0.000\n",
      "    step: 50; loss: 1.771; l2dist: 1.025\n",
      "    step: 100; loss: 1.164; l2dist: 0.906\n",
      "    step: 150; loss: 0.776; l2dist: 0.781\n",
      "    step: 200; loss: 0.678; l2dist: 0.738\n",
      "    step: 250; loss: 0.640; l2dist: 0.720\n",
      "    step: 300; loss: 0.623; l2dist: 0.707\n",
      "    step: 350; loss: 0.611; l2dist: 0.702\n",
      "    step: 400; loss: 0.608; l2dist: 0.702\n",
      "    step: 450; loss: 0.596; l2dist: 0.699\n",
      "binary step: 4; number of successful adv: 100/100\n",
      "    step: 0; loss: 6.444; l2dist: 0.000\n",
      "    step: 50; loss: 2.296; l2dist: 1.327\n",
      "    step: 100; loss: 1.099; l2dist: 0.975\n",
      "    step: 150; loss: 0.762; l2dist: 0.819\n",
      "    step: 200; loss: 0.675; l2dist: 0.766\n",
      "    step: 250; loss: 0.633; l2dist: 0.755\n",
      "    step: 300; loss: 0.612; l2dist: 0.737\n",
      "    step: 350; loss: 0.602; l2dist: 0.735\n",
      "    step: 400; loss: 0.601; l2dist: 0.727\n",
      "    step: 450; loss: 0.596; l2dist: 0.723\n",
      "binary step: 0; number of successful adv: 76/100\n",
      "    step: 0; loss: 18.409; l2dist: 0.000\n"
     ]
    },
    {
     "name": "stdout",
     "output_type": "stream",
     "text": [
      "    step: 50; loss: 2.602; l2dist: 1.414\n",
      "    step: 100; loss: 1.187; l2dist: 1.011\n",
      "    step: 150; loss: 0.808; l2dist: 0.837\n",
      "    step: 200; loss: 0.703; l2dist: 0.784\n",
      "    step: 250; loss: 0.666; l2dist: 0.764\n",
      "    step: 300; loss: 0.643; l2dist: 0.744\n",
      "    step: 350; loss: 0.648; l2dist: 0.753\n",
      "binary step: 1; number of successful adv: 99/100\n",
      "    step: 0; loss: 16.946; l2dist: 0.000\n",
      "    step: 50; loss: 2.396; l2dist: 1.313\n",
      "    step: 100; loss: 1.150; l2dist: 0.961\n",
      "    step: 150; loss: 0.796; l2dist: 0.816\n",
      "    step: 200; loss: 0.687; l2dist: 0.760\n",
      "    step: 250; loss: 0.644; l2dist: 0.739\n",
      "    step: 300; loss: 0.633; l2dist: 0.734\n",
      "    step: 350; loss: 0.626; l2dist: 0.731\n",
      "    step: 400; loss: 0.632; l2dist: 0.729\n",
      "binary step: 2; number of successful adv: 100/100\n",
      "    step: 0; loss: 10.464; l2dist: 0.000\n",
      "    step: 50; loss: 2.161; l2dist: 1.198\n",
      "    step: 100; loss: 1.114; l2dist: 0.920\n",
      "    step: 150; loss: 0.773; l2dist: 0.796\n",
      "    step: 200; loss: 0.682; l2dist: 0.758\n",
      "    step: 250; loss: 0.638; l2dist: 0.735\n",
      "    step: 300; loss: 0.609; l2dist: 0.722\n",
      "    step: 350; loss: 0.601; l2dist: 0.716\n",
      "    step: 400; loss: 0.600; l2dist: 0.715\n",
      "    step: 450; loss: 0.602; l2dist: 0.716\n",
      "binary step: 3; number of successful adv: 100/100\n",
      "    step: 0; loss: 7.377; l2dist: 0.000\n",
      "    step: 50; loss: 2.061; l2dist: 1.147\n",
      "    step: 100; loss: 1.123; l2dist: 0.924\n",
      "    step: 150; loss: 0.761; l2dist: 0.798\n",
      "    step: 200; loss: 0.668; l2dist: 0.751\n",
      "    step: 250; loss: 0.628; l2dist: 0.733\n",
      "    step: 300; loss: 0.606; l2dist: 0.721\n",
      "    step: 350; loss: 0.594; l2dist: 0.711\n",
      "    step: 400; loss: 0.589; l2dist: 0.712\n",
      "    step: 450; loss: 0.585; l2dist: 0.711\n",
      "binary step: 4; number of successful adv: 100/100\n",
      "    step: 0; loss: 6.306; l2dist: 0.000\n",
      "    step: 50; loss: 2.223; l2dist: 1.298\n",
      "    step: 100; loss: 1.141; l2dist: 0.977\n",
      "    step: 150; loss: 0.787; l2dist: 0.825\n",
      "    step: 200; loss: 0.694; l2dist: 0.782\n",
      "    step: 250; loss: 0.657; l2dist: 0.760\n",
      "    step: 300; loss: 0.636; l2dist: 0.746\n",
      "    step: 350; loss: 0.624; l2dist: 0.735\n",
      "    step: 400; loss: 0.618; l2dist: 0.729\n",
      "    step: 450; loss: 0.622; l2dist: 0.729\n",
      "binary step: 0; number of successful adv: 70/100\n",
      "    step: 0; loss: 22.016; l2dist: 0.000\n",
      "    step: 50; loss: 2.597; l2dist: 1.438\n",
      "    step: 100; loss: 1.274; l2dist: 1.047\n",
      "    step: 150; loss: 0.883; l2dist: 0.875\n",
      "    step: 200; loss: 0.768; l2dist: 0.811\n",
      "    step: 250; loss: 0.725; l2dist: 0.788\n",
      "    step: 300; loss: 0.693; l2dist: 0.774\n",
      "    step: 350; loss: 0.684; l2dist: 0.768\n",
      "    step: 400; loss: 0.669; l2dist: 0.761\n",
      "    step: 450; loss: 0.682; l2dist: 0.763\n",
      "binary step: 1; number of successful adv: 99/100\n",
      "    step: 0; loss: 18.563; l2dist: 0.000\n",
      "    step: 50; loss: 2.404; l2dist: 1.347\n",
      "    step: 100; loss: 1.251; l2dist: 1.012\n",
      "    step: 150; loss: 0.878; l2dist: 0.855\n",
      "    step: 200; loss: 0.753; l2dist: 0.795\n",
      "    step: 250; loss: 0.719; l2dist: 0.777\n",
      "    step: 300; loss: 0.680; l2dist: 0.757\n",
      "    step: 350; loss: 0.699; l2dist: 0.772\n",
      "binary step: 2; number of successful adv: 100/100\n",
      "    step: 0; loss: 11.463; l2dist: 0.000\n",
      "    step: 50; loss: 2.179; l2dist: 1.264\n",
      "    step: 100; loss: 1.161; l2dist: 0.972\n",
      "    step: 150; loss: 0.814; l2dist: 0.822\n",
      "    step: 200; loss: 0.708; l2dist: 0.769\n",
      "    step: 250; loss: 0.676; l2dist: 0.756\n",
      "    step: 300; loss: 0.651; l2dist: 0.736\n",
      "    step: 350; loss: 0.644; l2dist: 0.731\n",
      "    step: 400; loss: 0.637; l2dist: 0.727\n",
      "    step: 450; loss: 0.640; l2dist: 0.736\n",
      "binary step: 3; number of successful adv: 100/100\n",
      "    step: 0; loss: 7.761; l2dist: 0.000\n",
      "    step: 50; loss: 2.061; l2dist: 1.195\n",
      "    step: 100; loss: 1.130; l2dist: 0.956\n",
      "    step: 150; loss: 0.778; l2dist: 0.801\n",
      "    step: 200; loss: 0.688; l2dist: 0.753\n",
      "    step: 250; loss: 0.648; l2dist: 0.735\n",
      "    step: 300; loss: 0.628; l2dist: 0.721\n",
      "    step: 350; loss: 0.617; l2dist: 0.721\n",
      "    step: 400; loss: 0.611; l2dist: 0.716\n",
      "    step: 450; loss: 0.604; l2dist: 0.714\n",
      "binary step: 4; number of successful adv: 100/100\n",
      "    step: 0; loss: 6.256; l2dist: 0.000\n",
      "    step: 50; loss: 2.203; l2dist: 1.290\n",
      "    step: 100; loss: 1.037; l2dist: 0.935\n",
      "    step: 150; loss: 0.687; l2dist: 0.773\n",
      "    step: 200; loss: 0.608; l2dist: 0.728\n",
      "    step: 250; loss: 0.575; l2dist: 0.705\n",
      "    step: 300; loss: 0.555; l2dist: 0.698\n",
      "    step: 350; loss: 0.546; l2dist: 0.693\n",
      "    step: 400; loss: 0.541; l2dist: 0.688\n",
      "    step: 450; loss: 0.536; l2dist: 0.681\n",
      "binary step: 0; number of successful adv: 81/100\n",
      "    step: 0; loss: 15.156; l2dist: 0.000\n",
      "    step: 50; loss: 2.453; l2dist: 1.345\n",
      "    step: 100; loss: 1.163; l2dist: 0.985\n",
      "    step: 150; loss: 0.788; l2dist: 0.814\n",
      "    step: 200; loss: 0.674; l2dist: 0.762\n",
      "    step: 250; loss: 0.631; l2dist: 0.733\n",
      "    step: 300; loss: 0.618; l2dist: 0.725\n",
      "    step: 350; loss: 0.595; l2dist: 0.712\n",
      "    step: 400; loss: 0.591; l2dist: 0.708\n",
      "    step: 450; loss: 0.600; l2dist: 0.715\n",
      "binary step: 1; number of successful adv: 100/100\n",
      "    step: 0; loss: 9.121; l2dist: 0.000\n",
      "    step: 50; loss: 2.229; l2dist: 1.261\n",
      "    step: 100; loss: 1.082; l2dist: 0.947\n",
      "    step: 150; loss: 0.730; l2dist: 0.780\n",
      "    step: 200; loss: 0.631; l2dist: 0.732\n",
      "    step: 250; loss: 0.603; l2dist: 0.718\n",
      "    step: 300; loss: 0.582; l2dist: 0.701\n",
      "    step: 350; loss: 0.571; l2dist: 0.697\n",
      "    step: 400; loss: 0.564; l2dist: 0.690\n",
      "    step: 450; loss: 0.561; l2dist: 0.692\n",
      "binary step: 2; number of successful adv: 100/100\n",
      "    step: 0; loss: 5.950; l2dist: 0.000\n",
      "    step: 50; loss: 2.049; l2dist: 1.148\n",
      "    step: 100; loss: 1.081; l2dist: 0.933\n",
      "    step: 150; loss: 0.704; l2dist: 0.763\n",
      "    step: 200; loss: 0.622; l2dist: 0.721\n",
      "    step: 250; loss: 0.583; l2dist: 0.704\n",
      "    step: 300; loss: 0.562; l2dist: 0.692\n",
      "    step: 350; loss: 0.553; l2dist: 0.689\n",
      "    step: 400; loss: 0.549; l2dist: 0.686\n",
      "    step: 450; loss: 0.542; l2dist: 0.685\n",
      "binary step: 3; number of successful adv: 100/100\n",
      "    step: 0; loss: 5.407; l2dist: 0.000\n",
      "    step: 50; loss: 2.003; l2dist: 1.123\n",
      "    step: 100; loss: 1.090; l2dist: 0.931\n",
      "    step: 150; loss: 0.703; l2dist: 0.769\n",
      "    step: 200; loss: 0.615; l2dist: 0.716\n",
      "    step: 250; loss: 0.578; l2dist: 0.699\n",
      "    step: 300; loss: 0.563; l2dist: 0.691\n",
      "    step: 350; loss: 0.553; l2dist: 0.689\n",
      "    step: 400; loss: 0.541; l2dist: 0.680\n",
      "    step: 450; loss: 0.542; l2dist: 0.675\n",
      "binary step: 4; number of successful adv: 100/100\n"
     ]
    }
   ],
   "source": [
    "attack = CWL2Attack()\n",
    "\n",
    "def attack_batch(x, y, batch_size):\n",
    "    x_adv = torch.zeros_like(x)\n",
    "    total_num = x.size(0)\n",
    "    num_batches = total_num // batch_size\n",
    "    for i in range(num_batches):\n",
    "        begin = i * batch_size\n",
    "        end = (i + 1) * batch_size\n",
    "        x_adv[begin:end] = attack(\n",
    "            net, x[begin:end], y[begin:end], targeted=False,\n",
    "            binary_search_steps=5, max_iterations=500,\n",
    "            confidence=0, learning_rate=1e-1,\n",
    "            initial_const=1, abort_early=True)\n",
    "    return x_adv\n",
    "\n",
    "x_adv = attack_batch(x_test[:1000].cuda(), y_test[:1000].cuda(), 100)"
   ]
  },
  {
   "cell_type": "code",
   "execution_count": 94,
   "metadata": {},
   "outputs": [
    {
     "data": {
      "text/plain": [
       "0.0"
      ]
     },
     "execution_count": 94,
     "metadata": {},
     "output_type": "execute_result"
    }
   ],
   "source": [
    "y_pred = net(x_adv)\n",
    "(y_pred.argmax(1).cpu() == y_test[:1000]).numpy().sum() / y_pred.size(0)"
   ]
  },
  {
   "cell_type": "code",
   "execution_count": 95,
   "metadata": {},
   "outputs": [
    {
     "data": {
      "text/plain": [
       "0.756"
      ]
     },
     "execution_count": 95,
     "metadata": {},
     "output_type": "execute_result"
    }
   ],
   "source": [
    "y_pred = dknn.classify(x_adv)\n",
    "(y_pred.argmax(1) == y_test[:1000].numpy()).sum() / len(y_pred)"
   ]
  },
  {
   "cell_type": "code",
   "execution_count": 90,
   "metadata": {},
   "outputs": [
    {
     "data": {
      "text/plain": [
       "(array([139.,  46.,  23.,  19.,   3.,   3.,   4.,   2.,   2.,   3.]),\n",
       " array([0.0165    , 0.08763333, 0.15876667, 0.2299    , 0.30103333,\n",
       "        0.37216667, 0.4433    , 0.51443333, 0.58556667, 0.6567    ,\n",
       "        0.72783333]),\n",
       " <a list of 10 Patch objects>)"
      ]
     },
     "execution_count": 90,
     "metadata": {},
     "output_type": "execute_result"
    },
    {
     "data": {
      "image/png": "[encoded data removed]",
      "text/plain": [
       "<Figure size 432x288 with 1 Axes>"
      ]
     },
     "metadata": {
      "needs_background": "light"
     },
     "output_type": "display_data"
    }
   ],
   "source": [
    "cred = dknn.credibility(y_pred)\n",
    "suc_ind = y_pred.argmax(1) != y_test[:1000].numpy()\n",
    "plt.hist(cred[suc_ind])"
   ]
  },
  {
   "cell_type": "code",
   "execution_count": 87,
   "metadata": {},
   "outputs": [
    {
     "data": {
      "text/plain": [
       "<matplotlib.image.AxesImage at 0x7f5e5ddbbac8>"
      ]
     },
     "execution_count": 87,
     "metadata": {},
     "output_type": "execute_result"
    },
    {
     "data": {
      "image/png": "[encoded data removed]",
      "text/plain": [
       "<Figure size 432x288 with 1 Axes>"
      ]
     },
     "metadata": {
      "needs_background": "light"
     },
     "output_type": "display_data"
    }
   ],
   "source": [
    "plt.imshow(x_adv[0].cpu().detach().numpy().squeeze(), cmap='gray')"
   ]
  },
  {
   "cell_type": "code",
   "execution_count": 88,
   "metadata": {},
   "outputs": [
    {
     "data": {
      "text/plain": [
       "tensor(0.7349, grad_fn=<MeanBackward1>)"
      ]
     },
     "execution_count": 88,
     "metadata": {},
     "output_type": "execute_result"
    }
   ],
   "source": [
    "(x_adv.cpu() - x_test[:1000]).view(1000, -1).norm(dim=0).mean()"
   ]
  },
  {
   "cell_type": "markdown",
   "metadata": {},
   "source": [
    "---"
   ]
  },
  {
   "cell_type": "code",
   "execution_count": 27,
   "metadata": {},
   "outputs": [],
   "source": [
    "# Set all random seeds\n",
    "exp_id = 0\n",
    "seed = 2019\n",
    "np.random.seed(seed)\n",
    "torch.manual_seed(seed)\n",
    "\n",
    "device = 'cuda' if torch.cuda.is_available() else 'cpu'\n",
    "\n",
    "# Set up model directory\n",
    "save_dir = os.path.join(os.getcwd(), 'saved_models')\n",
    "model_name = 'train_mnist_cav_exp%d.h5' % exp_id\n",
    "if not os.path.isdir(save_dir):\n",
    "    os.makedirs(save_dir)\n",
    "model_path = os.path.join(save_dir, model_name)\n",
    "\n",
    "net = ClassAuxVAE((1, 28, 28), num_classes=10, latent_dim=20)\n",
    "net = net.to(device)\n",
    "if device == 'cuda':\n",
    "    net = torch.nn.DataParallel(net)\n",
    "    cudnn.benchmark = True\n",
    "net.load_state_dict(torch.load(model_path))\n",
    "net = net.module\n",
    "net.eval()\n",
    "\n",
    "(x_train, y_train), (x_valid, y_valid), (x_test, y_test) = load_mnist_all(\n",
    "    '/data', val_size=0.1, seed=seed)"
   ]
  },
  {
   "cell_type": "code",
   "execution_count": 32,
   "metadata": {},
   "outputs": [],
   "source": [
    "x_train = x_train.to(device)\n",
    "x_test = x_test.to(device)\n",
    "x_valid = x_valid.to(device)"
   ]
  },
  {
   "cell_type": "code",
   "execution_count": 28,
   "metadata": {},
   "outputs": [
    {
     "data": {
      "text/plain": [
       "ClassAuxVAE(\n",
       "  (en_conv1): Conv2d(1, 64, kernel_size=(8, 8), stride=(2, 2), padding=(3, 3))\n",
       "  (relu1): ReLU(inplace)\n",
       "  (en_conv2): Conv2d(64, 128, kernel_size=(6, 6), stride=(2, 2), padding=(3, 3))\n",
       "  (relu2): ReLU(inplace)\n",
       "  (en_conv3): Conv2d(128, 128, kernel_size=(5, 5), stride=(1, 1))\n",
       "  (relu3): ReLU(inplace)\n",
       "  (en_fc1): Linear(in_features=2048, out_features=128, bias=True)\n",
       "  (relu4): ReLU(inplace)\n",
       "  (en_mu): Linear(in_features=128, out_features=20, bias=True)\n",
       "  (en_logvar): Linear(in_features=128, out_features=20, bias=True)\n",
       "  (de_fc1): Linear(in_features=20, out_features=128, bias=True)\n",
       "  (de_fc2): Linear(in_features=128, out_features=1568, bias=True)\n",
       "  (ax_fc1): Linear(in_features=20, out_features=128, bias=True)\n",
       "  (ax_fc2): Linear(in_features=128, out_features=10, bias=True)\n",
       ")"
      ]
     },
     "execution_count": 28,
     "metadata": {},
     "output_type": "execute_result"
    }
   ],
   "source": [
    "net"
   ]
  },
  {
   "cell_type": "code",
   "execution_count": 59,
   "metadata": {
    "scrolled": true
   },
   "outputs": [],
   "source": [
    "layers = ['en_mu']\n",
    "net = net.to(device)\n",
    "with torch.no_grad():\n",
    "    dknn = DKNN(net, x_train, y_train, x_valid, y_valid, layers, \n",
    "                k=10, num_classes=10)\n",
    "    y_pred = dknn.classify(x_test)"
   ]
  },
  {
   "cell_type": "code",
   "execution_count": 60,
   "metadata": {},
   "outputs": [
    {
     "data": {
      "text/plain": [
       "0.964"
      ]
     },
     "execution_count": 60,
     "metadata": {},
     "output_type": "execute_result"
    }
   ],
   "source": [
    "(y_pred.argmax(1) == y_test.numpy()).sum() / y_test.size(0)"
   ]
  },
  {
   "cell_type": "code",
   "execution_count": 61,
   "metadata": {},
   "outputs": [
    {
     "data": {
      "text/plain": [
       "(array([ 741., 1243.,    0.,    0.,    0.,    0.,    0.,    0.,    0.,\n",
       "        8016.]),\n",
       " array([0.01683333, 0.11515   , 0.21346667, 0.31178333, 0.4101    ,\n",
       "        0.50841667, 0.60673333, 0.70505   , 0.80336667, 0.90168333,\n",
       "        1.        ]),\n",
       " <a list of 10 Patch objects>)"
      ]
     },
     "execution_count": 61,
     "metadata": {},
     "output_type": "execute_result"
    },
    {
     "data": {
      "image/png": "[encoded data removed]",
      "text/plain": [
       "<Figure size 432x288 with 1 Axes>"
      ]
     },
     "metadata": {
      "needs_background": "light"
     },
     "output_type": "display_data"
    }
   ],
   "source": [
    "cred = dknn.credibility(y_pred)\n",
    "plt.hist(cred)"
   ]
  },
  {
   "cell_type": "code",
   "execution_count": 62,
   "metadata": {
    "scrolled": true
   },
   "outputs": [
    {
     "name": "stdout",
     "output_type": "stream",
     "text": [
      "    step: 0; loss: -10.374; l2dist: 0.000\n",
      "    step: 50; loss: -16.516; l2dist: 2.206\n",
      "    step: 100; loss: -17.532; l2dist: 2.233\n",
      "    step: 150; loss: -21.379; l2dist: 2.383\n",
      "    step: 200; loss: -23.950; l2dist: 2.461\n",
      "    step: 250; loss: -25.525; l2dist: 2.522\n",
      "    step: 300; loss: -26.562; l2dist: 2.575\n",
      "    step: 350; loss: -27.237; l2dist: 2.610\n",
      "    step: 400; loss: -27.690; l2dist: 2.641\n",
      "    step: 450; loss: -27.980; l2dist: 2.662\n",
      "binary step: 0; number of successful adv: 732/1000\n",
      "    step: 0; loss: -31.082; l2dist: 0.000\n",
      "    step: 50; loss: -80.035; l2dist: 2.555\n",
      "    step: 100; loss: -102.080; l2dist: 2.891\n",
      "    step: 150; loss: -113.852; l2dist: 3.048\n",
      "    step: 200; loss: -119.545; l2dist: 3.074\n",
      "    step: 250; loss: -122.952; l2dist: 3.069\n",
      "    step: 300; loss: -125.118; l2dist: 3.057\n",
      "    step: 350; loss: -126.465; l2dist: 3.052\n",
      "    step: 400; loss: -127.398; l2dist: 3.048\n",
      "    step: 450; loss: -127.963; l2dist: 3.048\n",
      "binary step: 1; number of successful adv: 1000/1000\n",
      "    step: 0; loss: -18.453; l2dist: 0.000\n",
      "    step: 50; loss: -41.968; l2dist: 2.307\n",
      "    step: 100; loss: -50.826; l2dist: 2.505\n",
      "    step: 150; loss: -58.404; l2dist: 2.650\n",
      "    step: 200; loss: -62.506; l2dist: 2.697\n",
      "    step: 250; loss: -64.977; l2dist: 2.730\n",
      "    step: 300; loss: -66.444; l2dist: 2.758\n",
      "    step: 350; loss: -67.368; l2dist: 2.784\n",
      "    step: 400; loss: -68.046; l2dist: 2.805\n",
      "    step: 450; loss: -68.504; l2dist: 2.821\n",
      "binary step: 2; number of successful adv: 1000/1000\n",
      "    step: 0; loss: -12.291; l2dist: 0.000\n",
      "    step: 50; loss: -23.981; l2dist: 2.042\n",
      "    step: 100; loss: -27.347; l2dist: 2.139\n",
      "    step: 150; loss: -31.913; l2dist: 2.274\n",
      "    step: 200; loss: -34.881; l2dist: 2.359\n",
      "    step: 250; loss: -36.645; l2dist: 2.417\n",
      "    step: 300; loss: -37.730; l2dist: 2.470\n",
      "    step: 350; loss: -38.446; l2dist: 2.513\n",
      "    step: 400; loss: -38.975; l2dist: 2.552\n",
      "    step: 450; loss: -39.337; l2dist: 2.582\n",
      "binary step: 3; number of successful adv: 1000/1000\n",
      "    step: 0; loss: -9.416; l2dist: 0.000\n",
      "    step: 50; loss: -16.268; l2dist: 1.800\n",
      "    step: 100; loss: -17.725; l2dist: 1.852\n",
      "    step: 150; loss: -20.717; l2dist: 1.967\n",
      "    step: 200; loss: -22.756; l2dist: 2.050\n",
      "    step: 250; loss: -24.101; l2dist: 2.127\n",
      "    step: 300; loss: -24.973; l2dist: 2.191\n",
      "    step: 350; loss: -25.603; l2dist: 2.247\n",
      "    step: 400; loss: -26.060; l2dist: 2.291\n",
      "    step: 450; loss: -26.376; l2dist: 2.325\n",
      "binary step: 4; number of successful adv: 1000/1000\n"
     ]
    }
   ],
   "source": [
    "from lib.dknn_attack import DKNNAttack\n",
    "\n",
    "attack = DKNNAttack()\n",
    "x_adv = attack(dknn, x_test[:1000], y_test[:1000],\n",
    "               guide_layer='en_mu', binary_search_steps=5,\n",
    "               max_iterations=500, learning_rate=1e-1,\n",
    "               initial_const=1, abort_early=True)"
   ]
  },
  {
   "cell_type": "code",
   "execution_count": 18,
   "metadata": {},
   "outputs": [
    {
     "data": {
      "text/plain": [
       "0"
      ]
     },
     "execution_count": 18,
     "metadata": {},
     "output_type": "execute_result"
    }
   ],
   "source": [
    "y_pred = dknn.classify(x_adv)\n",
    "(y_pred.argmax(1) == y_test[:1000].numpy()).sum()"
   ]
  },
  {
   "cell_type": "code",
   "execution_count": 56,
   "metadata": {},
   "outputs": [
    {
     "data": {
      "text/plain": [
       "<matplotlib.image.AxesImage at 0x7f452c17f7f0>"
      ]
     },
     "execution_count": 56,
     "metadata": {},
     "output_type": "execute_result"
    },
    {
     "data": {
      "image/png": "[encoded data removed]",
      "text/plain": [
       "<Figure size 432x288 with 1 Axes>"
      ]
     },
     "metadata": {
      "needs_background": "light"
     },
     "output_type": "display_data"
    }
   ],
   "source": [
    "plt.imshow(x_adv[3].cpu().detach().numpy().squeeze(), cmap='gray')"
   ]
  },
  {
   "cell_type": "code",
   "execution_count": 20,
   "metadata": {},
   "outputs": [
    {
     "data": {
      "text/plain": [
       "tensor(1.9813, grad_fn=<MeanBackward1>)"
      ]
     },
     "execution_count": 20,
     "metadata": {},
     "output_type": "execute_result"
    }
   ],
   "source": [
    "(x_adv.cpu() - x_test[:1000]).view(1000, -1).norm(dim=0).mean()"
   ]
  },
  {
   "cell_type": "code",
   "execution_count": null,
   "metadata": {},
   "outputs": [],
   "source": []
  }
 ],
 "metadata": {
  "kernelspec": {
   "display_name": "Python 3",
   "language": "python",
   "name": "python3"
  },
  "language_info": {
   "codemirror_mode": {
    "name": "ipython",
    "version": 3
   },
   "file_extension": ".py",
   "mimetype": "text/x-python",
   "name": "python",
   "nbconvert_exporter": "python",
   "pygments_lexer": "ipython3",
   "version": "3.6.5"
  }
 },
 "nbformat": 4,
 "nbformat_minor": 2
}
