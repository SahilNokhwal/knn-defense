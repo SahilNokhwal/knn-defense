{
 "cells": [
  {
   "cell_type": "code",
   "execution_count": 1,
   "metadata": {},
   "outputs": [],
   "source": [
    "%matplotlib inline\n",
    "\n",
    "%load_ext autoreload\n",
    "%autoreload 2"
   ]
  },
  {
   "cell_type": "code",
   "execution_count": 2,
   "metadata": {},
   "outputs": [
    {
     "name": "stderr",
     "output_type": "stream",
     "text": [
      "Loading faiss with AVX2 support.\n"
     ]
    }
   ],
   "source": [
    "import logging\n",
    "import os\n",
    "import time\n",
    "\n",
    "import numpy as np\n",
    "import matplotlib.pyplot as plt\n",
    "import foolbox\n",
    "import torch\n",
    "import torch.backends.cudnn as cudnn\n",
    "import torch.nn as nn\n",
    "import torch.optim as optim\n",
    "\n",
    "from lib.dataset_utils import *\n",
    "from lib.cifar_resnet import *\n",
    "from lib.adv_model import *\n",
    "from lib.dknn_attack import DKNNAttack\n",
    "from lib.cwl2_attack import CWL2Attack\n",
    "from lib.dknn import DKNNL2\n",
    "from lib.utils import *\n",
    "from lib.lip_model import *\n",
    "from lib.cifar10_model import *\n",
    "\n",
    "# from lib.cifar10_dcgan import Discriminator, Generator"
   ]
  },
  {
   "cell_type": "code",
   "execution_count": 3,
   "metadata": {},
   "outputs": [],
   "source": [
    "import os\n",
    "os.environ[\"CUDA_DEVICE_ORDER\"] = \"PCI_BUS_ID\"\n",
    "os.environ[\"CUDA_VISIBLE_DEVICES\"] = \"1\""
   ]
  },
  {
   "cell_type": "code",
   "execution_count": 4,
   "metadata": {},
   "outputs": [
    {
     "data": {
      "text/plain": [
       "<torch._C.Generator at 0x7f5c017c4270>"
      ]
     },
     "execution_count": 4,
     "metadata": {},
     "output_type": "execute_result"
    }
   ],
   "source": [
    "# Set all random seeds\n",
    "seed = 2019\n",
    "np.random.seed(seed)\n",
    "torch.manual_seed(seed)"
   ]
  },
  {
   "cell_type": "code",
   "execution_count": 5,
   "metadata": {},
   "outputs": [
    {
     "name": "stdout",
     "output_type": "stream",
     "text": [
      "Files already downloaded and verified\n",
      "Files already downloaded and verified\n",
      "Files already downloaded and verified\n"
     ]
    }
   ],
   "source": [
    "(x_train, y_train), (x_valid, y_valid), (x_test, y_test) = load_cifar10_all(\n",
    "    '/data', val_size=0.1, seed=seed)"
   ]
  },
  {
   "cell_type": "markdown",
   "metadata": {},
   "source": [
    "---\n",
    "\n",
    "Load Models"
   ]
  },
  {
   "cell_type": "code",
   "execution_count": 6,
   "metadata": {},
   "outputs": [],
   "source": [
    "# model_name = 'cifar10_basic_rn.h5'\n",
    "model_name = 'cifar10_at_rn.h5'\n",
    "# model_name = 'adv_cifar10_exp%d.h5' % exp_id\n",
    "# model_name = 'train_cifar10_vae_exp%d.h5' % exp_id\n",
    "# model_name = 'rot_cifar10_exp%d.h5' % exp_id\n",
    "# model_name = 'ae_cifar10_exp%d.h5' % exp_id"
   ]
  },
  {
   "cell_type": "code",
   "execution_count": 14,
   "metadata": {},
   "outputs": [],
   "source": [
    "net = PreActResNet(PreActBlock, [2, 2, 2, 2], num_classes=10)\n",
    "net = torch.nn.DataParallel(net)\n",
    "cudnn.benchmark = True\n",
    "net.load_state_dict(torch.load('saved_models/cifar10/' + model_name))\n",
    "net = net.module\n",
    "net = net.eval().to('cuda')"
   ]
  },
  {
   "cell_type": "code",
   "execution_count": 8,
   "metadata": {
    "scrolled": true
   },
   "outputs": [],
   "source": [
    "net = PreActResNet(PreActBlock, [2, 2, 2, 2]).eval()\n",
    "config = {'num_steps': 8,\n",
    "          'step_size': 0.05,\n",
    "          'random_start': True,\n",
    "          'loss_func': 'xent'}\n",
    "net = PGDL2Model(net, config)\n",
    "\n",
    "net.load_state_dict(torch.load('saved_models/cifar10/' + model_name))\n",
    "net = net.basic_net\n",
    "net = net.eval().to('cuda')"
   ]
  },
  {
   "cell_type": "code",
   "execution_count": null,
   "metadata": {},
   "outputs": [],
   "source": [
    "net = CIFAR10_VAE((3, 32, 32), latent_dim=128)\n",
    "net.load_state_dict(torch.load('saved_models/' + model_name))\n",
    "net = net.eval().to('cuda')"
   ]
  },
  {
   "cell_type": "code",
   "execution_count": 57,
   "metadata": {},
   "outputs": [],
   "source": [
    "net = PreActResNet(PreActBlock, [2, 2, 2, 2], num_classes=4)\n",
    "net.load_state_dict(torch.load('saved_models/' + model_name))\n",
    "net = net.eval().to('cuda')"
   ]
  },
  {
   "cell_type": "code",
   "execution_count": 44,
   "metadata": {},
   "outputs": [],
   "source": [
    "net = CIFAR10_AE((3, 32, 32), latent_dim=128)\n",
    "net.load_state_dict(torch.load('saved_models/' + model_name))\n",
    "net = net.eval().to('cuda')"
   ]
  },
  {
   "cell_type": "code",
   "execution_count": 9,
   "metadata": {
    "scrolled": true
   },
   "outputs": [
    {
     "data": {
      "text/plain": [
       "PreActResNet(\n",
       "  (conv1): Conv2d(3, 64, kernel_size=(3, 3), stride=(1, 1), padding=(1, 1), bias=False)\n",
       "  (layer1): Sequential(\n",
       "    (0): PreActBlock(\n",
       "      (bn1): BatchNorm2d(64, eps=1e-05, momentum=0.1, affine=True, track_running_stats=True)\n",
       "      (conv1): Conv2d(64, 64, kernel_size=(3, 3), stride=(1, 1), padding=(1, 1), bias=False)\n",
       "      (bn2): BatchNorm2d(64, eps=1e-05, momentum=0.1, affine=True, track_running_stats=True)\n",
       "      (conv2): Conv2d(64, 64, kernel_size=(3, 3), stride=(1, 1), padding=(1, 1), bias=False)\n",
       "    )\n",
       "    (1): PreActBlock(\n",
       "      (bn1): BatchNorm2d(64, eps=1e-05, momentum=0.1, affine=True, track_running_stats=True)\n",
       "      (conv1): Conv2d(64, 64, kernel_size=(3, 3), stride=(1, 1), padding=(1, 1), bias=False)\n",
       "      (bn2): BatchNorm2d(64, eps=1e-05, momentum=0.1, affine=True, track_running_stats=True)\n",
       "      (conv2): Conv2d(64, 64, kernel_size=(3, 3), stride=(1, 1), padding=(1, 1), bias=False)\n",
       "    )\n",
       "  )\n",
       "  (layer2): Sequential(\n",
       "    (0): PreActBlock(\n",
       "      (bn1): BatchNorm2d(64, eps=1e-05, momentum=0.1, affine=True, track_running_stats=True)\n",
       "      (conv1): Conv2d(64, 128, kernel_size=(3, 3), stride=(2, 2), padding=(1, 1), bias=False)\n",
       "      (bn2): BatchNorm2d(128, eps=1e-05, momentum=0.1, affine=True, track_running_stats=True)\n",
       "      (conv2): Conv2d(128, 128, kernel_size=(3, 3), stride=(1, 1), padding=(1, 1), bias=False)\n",
       "      (shortcut): Sequential(\n",
       "        (0): Conv2d(64, 128, kernel_size=(1, 1), stride=(2, 2), bias=False)\n",
       "      )\n",
       "    )\n",
       "    (1): PreActBlock(\n",
       "      (bn1): BatchNorm2d(128, eps=1e-05, momentum=0.1, affine=True, track_running_stats=True)\n",
       "      (conv1): Conv2d(128, 128, kernel_size=(3, 3), stride=(1, 1), padding=(1, 1), bias=False)\n",
       "      (bn2): BatchNorm2d(128, eps=1e-05, momentum=0.1, affine=True, track_running_stats=True)\n",
       "      (conv2): Conv2d(128, 128, kernel_size=(3, 3), stride=(1, 1), padding=(1, 1), bias=False)\n",
       "    )\n",
       "  )\n",
       "  (layer3): Sequential(\n",
       "    (0): PreActBlock(\n",
       "      (bn1): BatchNorm2d(128, eps=1e-05, momentum=0.1, affine=True, track_running_stats=True)\n",
       "      (conv1): Conv2d(128, 256, kernel_size=(3, 3), stride=(2, 2), padding=(1, 1), bias=False)\n",
       "      (bn2): BatchNorm2d(256, eps=1e-05, momentum=0.1, affine=True, track_running_stats=True)\n",
       "      (conv2): Conv2d(256, 256, kernel_size=(3, 3), stride=(1, 1), padding=(1, 1), bias=False)\n",
       "      (shortcut): Sequential(\n",
       "        (0): Conv2d(128, 256, kernel_size=(1, 1), stride=(2, 2), bias=False)\n",
       "      )\n",
       "    )\n",
       "    (1): PreActBlock(\n",
       "      (bn1): BatchNorm2d(256, eps=1e-05, momentum=0.1, affine=True, track_running_stats=True)\n",
       "      (conv1): Conv2d(256, 256, kernel_size=(3, 3), stride=(1, 1), padding=(1, 1), bias=False)\n",
       "      (bn2): BatchNorm2d(256, eps=1e-05, momentum=0.1, affine=True, track_running_stats=True)\n",
       "      (conv2): Conv2d(256, 256, kernel_size=(3, 3), stride=(1, 1), padding=(1, 1), bias=False)\n",
       "    )\n",
       "  )\n",
       "  (layer4): Sequential(\n",
       "    (0): PreActBlock(\n",
       "      (bn1): BatchNorm2d(256, eps=1e-05, momentum=0.1, affine=True, track_running_stats=True)\n",
       "      (conv1): Conv2d(256, 512, kernel_size=(3, 3), stride=(2, 2), padding=(1, 1), bias=False)\n",
       "      (bn2): BatchNorm2d(512, eps=1e-05, momentum=0.1, affine=True, track_running_stats=True)\n",
       "      (conv2): Conv2d(512, 512, kernel_size=(3, 3), stride=(1, 1), padding=(1, 1), bias=False)\n",
       "      (shortcut): Sequential(\n",
       "        (0): Conv2d(256, 512, kernel_size=(1, 1), stride=(2, 2), bias=False)\n",
       "      )\n",
       "    )\n",
       "    (1): PreActBlock(\n",
       "      (bn1): BatchNorm2d(512, eps=1e-05, momentum=0.1, affine=True, track_running_stats=True)\n",
       "      (conv1): Conv2d(512, 512, kernel_size=(3, 3), stride=(1, 1), padding=(1, 1), bias=False)\n",
       "      (bn2): BatchNorm2d(512, eps=1e-05, momentum=0.1, affine=True, track_running_stats=True)\n",
       "      (conv2): Conv2d(512, 512, kernel_size=(3, 3), stride=(1, 1), padding=(1, 1), bias=False)\n",
       "    )\n",
       "  )\n",
       "  (linear): Linear(in_features=512, out_features=10, bias=True)\n",
       ")"
      ]
     },
     "execution_count": 9,
     "metadata": {},
     "output_type": "execute_result"
    }
   ],
   "source": [
    "net"
   ]
  },
  {
   "cell_type": "code",
   "execution_count": 20,
   "metadata": {},
   "outputs": [
    {
     "name": "stdout",
     "output_type": "stream",
     "text": [
      "0.8045\n"
     ]
    }
   ],
   "source": [
    "ind = np.zeros(x_test.size(0))\n",
    "with torch.no_grad():\n",
    "    num = 0\n",
    "    for i in range(x_test.size(0) // 100):\n",
    "        begin = i * 100\n",
    "        end = (i + 1) * 100\n",
    "        y_pred = net(x_test[begin:end].to('cuda'))\n",
    "        ind[begin:end] = (y_pred.argmax(1).cpu() == y_test[begin:end]).numpy()\n",
    "        num += (y_pred.argmax(1).cpu() == y_test[begin:end]).sum().numpy()\n",
    "    print(num / y_test.size(0))\n",
    "ind = np.where(ind)[0]"
   ]
  },
  {
   "cell_type": "code",
   "execution_count": 21,
   "metadata": {},
   "outputs": [],
   "source": [
    "ind = ind[:100]"
   ]
  },
  {
   "cell_type": "code",
   "execution_count": 24,
   "metadata": {
    "scrolled": true
   },
   "outputs": [
    {
     "name": "stdout",
     "output_type": "stream",
     "text": [
      "    step: 0; loss: 30.836; l2dist: 0.000\n",
      "    step: 100; loss: 2.474; l2dist: 1.385\n",
      "    step: 200; loss: 2.265; l2dist: 1.348\n",
      "    step: 300; loss: 2.224; l2dist: 1.343\n",
      "    step: 400; loss: 2.202; l2dist: 1.337\n",
      "    step: 500; loss: 2.192; l2dist: 1.337\n",
      "    step: 600; loss: 2.185; l2dist: 1.330\n",
      "    step: 700; loss: 2.181; l2dist: 1.337\n",
      "    step: 800; loss: 2.168; l2dist: 1.329\n",
      "    step: 900; loss: 2.157; l2dist: 1.325\n",
      "binary step: 0; number of successful adv: 89/100\n",
      "    step: 0; loss: 51.983; l2dist: 0.000\n",
      "    step: 100; loss: 2.878; l2dist: 1.433\n",
      "    step: 200; loss: 2.404; l2dist: 1.359\n",
      "    step: 300; loss: 2.346; l2dist: 1.352\n",
      "    step: 400; loss: 2.303; l2dist: 1.346\n",
      "    step: 500; loss: 2.298; l2dist: 1.352\n",
      "    step: 600; loss: 2.263; l2dist: 1.339\n",
      "    step: 700; loss: 2.253; l2dist: 1.338\n",
      "    step: 800; loss: 2.237; l2dist: 1.336\n",
      "    step: 900; loss: 2.202; l2dist: 1.332\n",
      "binary step: 1; number of successful adv: 100/100\n",
      "    step: 0; loss: 30.527; l2dist: 0.000\n",
      "    step: 100; loss: 2.580; l2dist: 1.362\n",
      "    step: 200; loss: 2.316; l2dist: 1.334\n",
      "    step: 300; loss: 2.255; l2dist: 1.327\n",
      "    step: 400; loss: 2.201; l2dist: 1.319\n",
      "    step: 500; loss: 2.173; l2dist: 1.320\n",
      "    step: 600; loss: 2.167; l2dist: 1.318\n",
      "    step: 700; loss: 2.152; l2dist: 1.314\n",
      "    step: 800; loss: 2.154; l2dist: 1.311\n",
      "    step: 900; loss: 2.161; l2dist: 1.314\n",
      "binary step: 2; number of successful adv: 100/100\n",
      "    step: 0; loss: 19.551; l2dist: 0.000\n",
      "    step: 100; loss: 2.371; l2dist: 1.290\n",
      "    step: 200; loss: 2.239; l2dist: 1.276\n",
      "    step: 300; loss: 2.210; l2dist: 1.277\n",
      "    step: 400; loss: 2.195; l2dist: 1.278\n",
      "    step: 500; loss: 2.175; l2dist: 1.275\n",
      "    step: 600; loss: 2.164; l2dist: 1.273\n",
      "    step: 700; loss: 2.163; l2dist: 1.272\n",
      "    step: 800; loss: 2.166; l2dist: 1.275\n",
      "    step: 900; loss: 2.156; l2dist: 1.275\n",
      "binary step: 3; number of successful adv: 100/100\n",
      "    step: 0; loss: 16.960; l2dist: 0.000\n",
      "    step: 100; loss: 2.297; l2dist: 1.237\n",
      "    step: 200; loss: 2.174; l2dist: 1.234\n",
      "    step: 300; loss: 2.145; l2dist: 1.237\n",
      "    step: 400; loss: 2.130; l2dist: 1.233\n",
      "    step: 500; loss: 2.132; l2dist: 1.236\n",
      "    step: 600; loss: 2.124; l2dist: 1.234\n",
      "    step: 700; loss: 2.124; l2dist: 1.240\n",
      "    step: 800; loss: 2.120; l2dist: 1.239\n",
      "    step: 900; loss: 2.112; l2dist: 1.235\n",
      "binary step: 4; number of successful adv: 100/100\n",
      "    step: 0; loss: 15.216; l2dist: 0.000\n",
      "    step: 100; loss: 2.273; l2dist: 1.231\n",
      "    step: 200; loss: 2.165; l2dist: 1.227\n",
      "    step: 300; loss: 2.138; l2dist: 1.229\n",
      "    step: 400; loss: 2.133; l2dist: 1.230\n",
      "    step: 500; loss: 2.130; l2dist: 1.227\n",
      "    step: 600; loss: 2.129; l2dist: 1.226\n",
      "    step: 700; loss: 2.123; l2dist: 1.232\n",
      "    step: 800; loss: 2.123; l2dist: 1.238\n",
      "    step: 900; loss: 2.115; l2dist: 1.235\n",
      "binary step: 5; number of successful adv: 100/100\n",
      "    step: 0; loss: 14.526; l2dist: 0.000\n",
      "    step: 100; loss: 2.256; l2dist: 1.236\n",
      "    step: 200; loss: 2.171; l2dist: 1.230\n",
      "    step: 300; loss: 2.140; l2dist: 1.236\n",
      "    step: 400; loss: 2.130; l2dist: 1.235\n",
      "    step: 500; loss: 2.128; l2dist: 1.238\n",
      "    step: 600; loss: 2.131; l2dist: 1.242\n",
      "    step: 700; loss: 2.122; l2dist: 1.236\n",
      "    step: 800; loss: 2.118; l2dist: 1.237\n",
      "    step: 900; loss: 2.117; l2dist: 1.239\n",
      "binary step: 6; number of successful adv: 100/100\n",
      "    step: 0; loss: 14.199; l2dist: 0.000\n",
      "    step: 100; loss: 2.250; l2dist: 1.230\n",
      "    step: 200; loss: 2.176; l2dist: 1.225\n",
      "    step: 300; loss: 2.134; l2dist: 1.231\n",
      "    step: 400; loss: 2.131; l2dist: 1.233\n",
      "    step: 500; loss: 2.128; l2dist: 1.230\n",
      "    step: 600; loss: 2.125; l2dist: 1.232\n",
      "    step: 700; loss: 2.124; l2dist: 1.229\n",
      "    step: 800; loss: 2.116; l2dist: 1.232\n",
      "    step: 900; loss: 2.115; l2dist: 1.238\n",
      "binary step: 7; number of successful adv: 100/100\n",
      "    step: 0; loss: 14.023; l2dist: 0.000\n",
      "    step: 100; loss: 2.257; l2dist: 1.233\n",
      "    step: 200; loss: 2.179; l2dist: 1.228\n",
      "    step: 300; loss: 2.142; l2dist: 1.233\n",
      "    step: 400; loss: 2.133; l2dist: 1.233\n",
      "    step: 500; loss: 2.129; l2dist: 1.235\n",
      "    step: 600; loss: 2.114; l2dist: 1.231\n",
      "    step: 700; loss: 2.115; l2dist: 1.230\n",
      "    step: 800; loss: 2.109; l2dist: 1.231\n",
      "    step: 900; loss: 2.103; l2dist: 1.234\n",
      "binary step: 8; number of successful adv: 100/100\n",
      "    step: 0; loss: 14.131; l2dist: 0.000\n",
      "    step: 100; loss: 2.253; l2dist: 1.237\n",
      "    step: 200; loss: 2.167; l2dist: 1.231\n",
      "    step: 300; loss: 2.137; l2dist: 1.237\n",
      "    step: 400; loss: 2.126; l2dist: 1.237\n",
      "    step: 500; loss: 2.118; l2dist: 1.238\n",
      "    step: 600; loss: 2.112; l2dist: 1.236\n",
      "    step: 700; loss: 2.116; l2dist: 1.235\n",
      "    step: 800; loss: 2.116; l2dist: 1.237\n",
      "    step: 900; loss: 2.103; l2dist: 1.239\n",
      "binary step: 9; number of successful adv: 100/100\n"
     ]
    }
   ],
   "source": [
    "attack = CWL2Attack()\n",
    "\n",
    "def attack_batch(x, y, batch_size):\n",
    "    x_adv = torch.zeros_like(x)\n",
    "    total_num = x.size(0)\n",
    "    num_batches = total_num // batch_size\n",
    "    for i in range(num_batches):\n",
    "        begin = i * batch_size\n",
    "        end = (i + 1) * batch_size\n",
    "        x_adv[begin:end] = attack(\n",
    "            net, x[begin:end], y[begin:end], targeted=False,\n",
    "            binary_search_steps=10, max_iterations=1000,\n",
    "            confidence=0, learning_rate=1e-2,\n",
    "            initial_const=1e1, abort_early=False)\n",
    "    return x_adv\n",
    "\n",
    "x_adv = attack_batch(x_test[ind].cuda(), y_test[ind].cuda(), 100)"
   ]
  },
  {
   "cell_type": "code",
   "execution_count": 25,
   "metadata": {},
   "outputs": [
    {
     "name": "stdout",
     "output_type": "stream",
     "text": [
      "0.0\n"
     ]
    }
   ],
   "source": [
    "ind_adv = np.zeros(x_adv.size(0))\n",
    "with torch.no_grad():\n",
    "    num = 0\n",
    "    for i in range(x_adv.size(0) // 100):\n",
    "        begin = i * 100\n",
    "        end = (i + 1) * 100\n",
    "        y_pred = net(x_adv[begin:end].to('cuda'))\n",
    "        ind_adv[begin:end] = (y_pred.argmax(1).cpu() != y_test[ind][begin:end]).numpy()\n",
    "        num += (y_pred.argmax(1).cpu() == y_test[ind][begin:end]).sum().numpy()\n",
    "    print(num / x_adv.size(0))\n",
    "ind_adv = np.where(ind_adv)[0]"
   ]
  },
  {
   "cell_type": "code",
   "execution_count": 26,
   "metadata": {},
   "outputs": [
    {
     "name": "stdout",
     "output_type": "stream",
     "text": [
      "& 0.0083 & 0.0063 & 0.0033\n"
     ]
    }
   ],
   "source": [
    "pert = (x_adv.cpu() - x_test[ind]).view(x_adv.size(0), -1).norm(2, 1)\n",
    "d1 = (len(ind) - (pert[ind_adv] < 0.5).sum().numpy()) / y_test.size(0)\n",
    "d2 = (len(ind) - (pert[ind_adv] < 1).sum().numpy()) / y_test.size(0)\n",
    "d3 = (len(ind) - (pert[ind_adv] < 1.5).sum().numpy()) / y_test.size(0)\n",
    "print('& %.4f & %.4f & %.4f' % (d1, d2, d3))"
   ]
  },
  {
   "cell_type": "code",
   "execution_count": 27,
   "metadata": {},
   "outputs": [
    {
     "data": {
      "text/plain": [
       "tensor(1.2168, grad_fn=<MeanBackward0>)"
      ]
     },
     "execution_count": 27,
     "metadata": {},
     "output_type": "execute_result"
    }
   ],
   "source": [
    "pert[ind_adv].mean()"
   ]
  },
  {
   "cell_type": "markdown",
   "metadata": {},
   "source": [
    "---\n",
    "\n",
    "## DkNN"
   ]
  },
  {
   "cell_type": "code",
   "execution_count": 28,
   "metadata": {
    "scrolled": true
   },
   "outputs": [],
   "source": [
    "layers = ['layer4']\n",
    "\n",
    "dknn = DKNNL2(net, x_train, y_train, x_valid, y_valid, layers, \n",
    "              k=5, num_classes=10)"
   ]
  },
  {
   "cell_type": "code",
   "execution_count": 29,
   "metadata": {},
   "outputs": [
    {
     "name": "stdout",
     "output_type": "stream",
     "text": [
      "0.7825\n"
     ]
    }
   ],
   "source": [
    "with torch.no_grad():\n",
    "    y_pred = dknn.classify(x_test)\n",
    "    ind = np.where(y_pred.argmax(1) == y_test.numpy())[0]\n",
    "    print((y_pred.argmax(1) == y_test.numpy()).sum() / y_test.size(0))"
   ]
  },
  {
   "cell_type": "code",
   "execution_count": 47,
   "metadata": {},
   "outputs": [],
   "source": [
    "# Load x_adv from file\n",
    "# Skip this if you you want to generate attacks on the notebook\n",
    "\n",
    "x_adv = pickle.load(open('x_adv/x_adv_cifar10_resnet_exp2.h5.p', 'rb'))\n",
    "\n",
    "with torch.no_grad():\n",
    "    y_pred = dknn.classify(x_adv)\n",
    "    ind_adv = np.where(y_pred.argmax(1) != y_test[ind].numpy())[0]\n",
    "    print((y_pred.argmax(1) == y_test[ind].numpy()).sum() / y_pred.shape[0])"
   ]
  },
  {
   "cell_type": "code",
   "execution_count": 14,
   "metadata": {
    "scrolled": true
   },
   "outputs": [
    {
     "ename": "KeyboardInterrupt",
     "evalue": "",
     "output_type": "error",
     "traceback": [
      "\u001b[0;31m---------------------------------------------------------------------------\u001b[0m",
      "\u001b[0;31mKeyboardInterrupt\u001b[0m                         Traceback (most recent call last)",
      "\u001b[0;32m<ipython-input-14-a2f7d302ab0f>\u001b[0m in \u001b[0;36m<module>\u001b[0;34m\u001b[0m\n\u001b[1;32m     18\u001b[0m \u001b[0mnum\u001b[0m \u001b[0;34m=\u001b[0m \u001b[0;36m100\u001b[0m\u001b[0;34m\u001b[0m\u001b[0m\n\u001b[1;32m     19\u001b[0m \u001b[0mind\u001b[0m \u001b[0;34m=\u001b[0m \u001b[0mnp\u001b[0m\u001b[0;34m.\u001b[0m\u001b[0mwhere\u001b[0m\u001b[0;34m(\u001b[0m\u001b[0my_pred\u001b[0m\u001b[0;34m.\u001b[0m\u001b[0margmax\u001b[0m\u001b[0;34m(\u001b[0m\u001b[0;36m1\u001b[0m\u001b[0;34m)\u001b[0m \u001b[0;34m==\u001b[0m \u001b[0my_test\u001b[0m\u001b[0;34m.\u001b[0m\u001b[0mnumpy\u001b[0m\u001b[0;34m(\u001b[0m\u001b[0;34m)\u001b[0m\u001b[0;34m)\u001b[0m\u001b[0;34m[\u001b[0m\u001b[0;36m0\u001b[0m\u001b[0;34m]\u001b[0m\u001b[0;34m\u001b[0m\u001b[0m\n\u001b[0;32m---> 20\u001b[0;31m \u001b[0mx_adv\u001b[0m \u001b[0;34m=\u001b[0m \u001b[0mattack_batch\u001b[0m\u001b[0;34m(\u001b[0m\u001b[0mx_test\u001b[0m\u001b[0;34m[\u001b[0m\u001b[0mind\u001b[0m\u001b[0;34m]\u001b[0m\u001b[0;34m[\u001b[0m\u001b[0;34m:\u001b[0m\u001b[0mnum\u001b[0m\u001b[0;34m]\u001b[0m\u001b[0;34m.\u001b[0m\u001b[0mcuda\u001b[0m\u001b[0;34m(\u001b[0m\u001b[0;34m)\u001b[0m\u001b[0;34m,\u001b[0m \u001b[0my_test\u001b[0m\u001b[0;34m[\u001b[0m\u001b[0mind\u001b[0m\u001b[0;34m]\u001b[0m\u001b[0;34m[\u001b[0m\u001b[0;34m:\u001b[0m\u001b[0mnum\u001b[0m\u001b[0;34m]\u001b[0m\u001b[0;34m,\u001b[0m \u001b[0;36m100\u001b[0m\u001b[0;34m,\u001b[0m \u001b[0mlayers\u001b[0m\u001b[0;34m[\u001b[0m\u001b[0;36m0\u001b[0m\u001b[0;34m]\u001b[0m\u001b[0;34m)\u001b[0m\u001b[0;34m\u001b[0m\u001b[0m\n\u001b[0m",
      "\u001b[0;32m<ipython-input-14-a2f7d302ab0f>\u001b[0m in \u001b[0;36mattack_batch\u001b[0;34m(x, y, batch_size, layer)\u001b[0m\n\u001b[1;32m     13\u001b[0m             \u001b[0mguide_layer\u001b[0m\u001b[0;34m=\u001b[0m\u001b[0mlayer\u001b[0m\u001b[0;34m,\u001b[0m \u001b[0mm\u001b[0m\u001b[0;34m=\u001b[0m\u001b[0;36m300\u001b[0m\u001b[0;34m,\u001b[0m \u001b[0mbinary_search_steps\u001b[0m\u001b[0;34m=\u001b[0m\u001b[0;36m10\u001b[0m\u001b[0;34m,\u001b[0m\u001b[0;34m\u001b[0m\u001b[0m\n\u001b[1;32m     14\u001b[0m             \u001b[0mmax_iterations\u001b[0m\u001b[0;34m=\u001b[0m\u001b[0;36m500\u001b[0m\u001b[0;34m,\u001b[0m \u001b[0mlearning_rate\u001b[0m\u001b[0;34m=\u001b[0m\u001b[0;36m1e-2\u001b[0m\u001b[0;34m,\u001b[0m \u001b[0minitial_const\u001b[0m\u001b[0;34m=\u001b[0m\u001b[0;36m1e-5\u001b[0m\u001b[0;34m,\u001b[0m\u001b[0;34m\u001b[0m\u001b[0m\n\u001b[0;32m---> 15\u001b[0;31m             abort_early=False, random_start=True, guide_mode=2)\n\u001b[0m\u001b[1;32m     16\u001b[0m     \u001b[0;32mreturn\u001b[0m \u001b[0mx_a\u001b[0m\u001b[0;34m\u001b[0m\u001b[0m\n\u001b[1;32m     17\u001b[0m \u001b[0;34m\u001b[0m\u001b[0m\n",
      "\u001b[0;32m/home/research/knn-defense/lib/dknn_attack_l2.py\u001b[0m in \u001b[0;36m__call__\u001b[0;34m(self, dknn, x_orig, label, guide_layer, m, binary_search_steps, max_iterations, learning_rate, initial_const, abort_early, max_linf, random_start, guide_mode)\u001b[0m\n\u001b[1;32m    127\u001b[0m             \u001b[0;32melif\u001b[0m \u001b[0mguide_mode\u001b[0m \u001b[0;34m==\u001b[0m \u001b[0;36m2\u001b[0m\u001b[0;34m:\u001b[0m\u001b[0;34m\u001b[0m\u001b[0m\n\u001b[1;32m    128\u001b[0m                 x_guide = self.find_guide_samples_v2(\n\u001b[0;32m--> 129\u001b[0;31m                     dknn, x_orig, label, k=m, layer=guide_layer)\n\u001b[0m\u001b[1;32m    130\u001b[0m             \u001b[0;32melse\u001b[0m\u001b[0;34m:\u001b[0m\u001b[0;34m\u001b[0m\u001b[0m\n\u001b[1;32m    131\u001b[0m                 \u001b[0;32mraise\u001b[0m \u001b[0mValueError\u001b[0m\u001b[0;34m(\u001b[0m\u001b[0;34m\"Invalid guide_mode (choose between 1 and 2)\"\u001b[0m\u001b[0;34m)\u001b[0m\u001b[0;34m\u001b[0m\u001b[0m\n",
      "\u001b[0;32m/home/research/knn-defense/lib/dknn_attack_l2.py\u001b[0m in \u001b[0;36mfind_guide_samples_v2\u001b[0;34m(cls, dknn, x, label, k, layer)\u001b[0m\n\u001b[1;32m    276\u001b[0m         \"\"\"\n\u001b[1;32m    277\u001b[0m         \u001b[0;31m# find nearest sample with different class\u001b[0m\u001b[0;34m\u001b[0m\u001b[0;34m\u001b[0m\u001b[0m\n\u001b[0;32m--> 278\u001b[0;31m         \u001b[0mnn\u001b[0m \u001b[0;34m=\u001b[0m \u001b[0mdknn\u001b[0m\u001b[0;34m.\u001b[0m\u001b[0mfind_nn_diff_class\u001b[0m\u001b[0;34m(\u001b[0m\u001b[0mx\u001b[0m\u001b[0;34m,\u001b[0m \u001b[0mlabel\u001b[0m\u001b[0;34m)\u001b[0m\u001b[0;34m\u001b[0m\u001b[0m\n\u001b[0m\u001b[1;32m    279\u001b[0m         \u001b[0;31m# now find k neighbors that has the same class as x_nn\u001b[0m\u001b[0;34m\u001b[0m\u001b[0;34m\u001b[0m\u001b[0m\n\u001b[1;32m    280\u001b[0m         \u001b[0mx_nn\u001b[0m \u001b[0;34m=\u001b[0m \u001b[0mcls\u001b[0m\u001b[0;34m.\u001b[0m\u001b[0mfind_nn_same_class\u001b[0m\u001b[0;34m(\u001b[0m\u001b[0mdknn\u001b[0m\u001b[0;34m,\u001b[0m \u001b[0mnn\u001b[0m\u001b[0;34m,\u001b[0m \u001b[0mk\u001b[0m\u001b[0;34m=\u001b[0m\u001b[0mk\u001b[0m\u001b[0;34m,\u001b[0m \u001b[0mlayer\u001b[0m\u001b[0;34m=\u001b[0m\u001b[0mlayer\u001b[0m\u001b[0;34m)\u001b[0m\u001b[0;34m\u001b[0m\u001b[0m\n",
      "\u001b[0;32m/home/research/knn-defense/lib/dknn.py\u001b[0m in \u001b[0;36mfind_nn_diff_class\u001b[0;34m(self, x, label)\u001b[0m\n\u001b[1;32m    302\u001b[0m             \u001b[0;31m# least one sample of a different class is found\u001b[0m\u001b[0;34m\u001b[0m\u001b[0;34m\u001b[0m\u001b[0m\n\u001b[1;32m    303\u001b[0m             \u001b[0;32mwhile\u001b[0m \u001b[0;32mnot\u001b[0m \u001b[0mfound_diff_class\u001b[0m\u001b[0;34m:\u001b[0m\u001b[0;34m\u001b[0m\u001b[0m\n\u001b[0;32m--> 304\u001b[0;31m                 \u001b[0m_\u001b[0m\u001b[0;34m,\u001b[0m \u001b[0mI\u001b[0m \u001b[0;34m=\u001b[0m \u001b[0mself\u001b[0m\u001b[0;34m.\u001b[0m\u001b[0mget_neighbors\u001b[0m\u001b[0;34m(\u001b[0m\u001b[0mx\u001b[0m\u001b[0;34m[\u001b[0m\u001b[0mi\u001b[0m\u001b[0;34m]\u001b[0m\u001b[0;34m.\u001b[0m\u001b[0munsqueeze\u001b[0m\u001b[0;34m(\u001b[0m\u001b[0;36m0\u001b[0m\u001b[0;34m)\u001b[0m\u001b[0;34m,\u001b[0m \u001b[0mk\u001b[0m\u001b[0;34m=\u001b[0m\u001b[0mint\u001b[0m\u001b[0;34m(\u001b[0m\u001b[0mk\u001b[0m\u001b[0;34m)\u001b[0m\u001b[0;34m)\u001b[0m\u001b[0;34m[\u001b[0m\u001b[0;36m0\u001b[0m\u001b[0;34m]\u001b[0m\u001b[0;34m\u001b[0m\u001b[0m\n\u001b[0m\u001b[1;32m    305\u001b[0m                 \u001b[0mI\u001b[0m \u001b[0;34m=\u001b[0m \u001b[0mI\u001b[0m\u001b[0;34m[\u001b[0m\u001b[0;36m0\u001b[0m\u001b[0;34m]\u001b[0m\u001b[0;34m\u001b[0m\u001b[0m\n\u001b[1;32m    306\u001b[0m                 \u001b[0mind\u001b[0m \u001b[0;34m=\u001b[0m \u001b[0mnp\u001b[0m\u001b[0;34m.\u001b[0m\u001b[0mwhere\u001b[0m\u001b[0;34m(\u001b[0m\u001b[0mlabel\u001b[0m\u001b[0;34m[\u001b[0m\u001b[0mi\u001b[0m\u001b[0;34m]\u001b[0m \u001b[0;34m!=\u001b[0m \u001b[0mself\u001b[0m\u001b[0;34m.\u001b[0m\u001b[0my_train\u001b[0m\u001b[0;34m[\u001b[0m\u001b[0mI\u001b[0m\u001b[0;34m]\u001b[0m\u001b[0;34m)\u001b[0m\u001b[0;34m[\u001b[0m\u001b[0;36m0\u001b[0m\u001b[0;34m]\u001b[0m\u001b[0;34m\u001b[0m\u001b[0m\n",
      "\u001b[0;32m/home/research/knn-defense/lib/dknn.py\u001b[0m in \u001b[0;36mget_neighbors\u001b[0;34m(self, x, k, layers)\u001b[0m\n\u001b[1;32m    196\u001b[0m                 \u001b[0mrep\u001b[0m \u001b[0;34m=\u001b[0m \u001b[0mreps\u001b[0m\u001b[0;34m[\u001b[0m\u001b[0mlayer\u001b[0m\u001b[0;34m]\u001b[0m\u001b[0;34m.\u001b[0m\u001b[0mview\u001b[0m\u001b[0;34m(\u001b[0m\u001b[0mx\u001b[0m\u001b[0;34m.\u001b[0m\u001b[0msize\u001b[0m\u001b[0;34m(\u001b[0m\u001b[0;36m0\u001b[0m\u001b[0;34m)\u001b[0m\u001b[0;34m,\u001b[0m \u001b[0;34m-\u001b[0m\u001b[0;36m1\u001b[0m\u001b[0;34m)\u001b[0m\u001b[0;34m\u001b[0m\u001b[0m\n\u001b[1;32m    197\u001b[0m                 \u001b[0mrep\u001b[0m \u001b[0;34m=\u001b[0m \u001b[0mrep\u001b[0m\u001b[0;34m.\u001b[0m\u001b[0mdetach\u001b[0m\u001b[0;34m(\u001b[0m\u001b[0;34m)\u001b[0m\u001b[0;34m.\u001b[0m\u001b[0mcpu\u001b[0m\u001b[0;34m(\u001b[0m\u001b[0;34m)\u001b[0m\u001b[0;34m.\u001b[0m\u001b[0mnumpy\u001b[0m\u001b[0;34m(\u001b[0m\u001b[0;34m)\u001b[0m\u001b[0;34m\u001b[0m\u001b[0m\n\u001b[0;32m--> 198\u001b[0;31m                 \u001b[0mD\u001b[0m\u001b[0;34m,\u001b[0m \u001b[0mI\u001b[0m \u001b[0;34m=\u001b[0m \u001b[0mindex\u001b[0m\u001b[0;34m.\u001b[0m\u001b[0msearch\u001b[0m\u001b[0;34m(\u001b[0m\u001b[0mrep\u001b[0m\u001b[0;34m,\u001b[0m \u001b[0mk\u001b[0m\u001b[0;34m)\u001b[0m\u001b[0;34m\u001b[0m\u001b[0m\n\u001b[0m\u001b[1;32m    199\u001b[0m                 \u001b[0;31m# D, I = search_index_pytorch(index, reps[layer], k)\u001b[0m\u001b[0;34m\u001b[0m\u001b[0;34m\u001b[0m\u001b[0m\n\u001b[1;32m    200\u001b[0m                 \u001b[0;31m# uncomment when using GPU\u001b[0m\u001b[0;34m\u001b[0m\u001b[0;34m\u001b[0m\u001b[0m\n",
      "\u001b[0;32m~/miniconda/envs/py36/lib/python3.6/site-packages/faiss/__init__.py\u001b[0m in \u001b[0;36mreplacement_search\u001b[0;34m(self, x, k)\u001b[0m\n\u001b[1;32m    149\u001b[0m         self.search_c(n, swig_ptr(x),\n\u001b[1;32m    150\u001b[0m                       \u001b[0mk\u001b[0m\u001b[0;34m,\u001b[0m \u001b[0mswig_ptr\u001b[0m\u001b[0;34m(\u001b[0m\u001b[0mdistances\u001b[0m\u001b[0;34m)\u001b[0m\u001b[0;34m,\u001b[0m\u001b[0;34m\u001b[0m\u001b[0m\n\u001b[0;32m--> 151\u001b[0;31m                       swig_ptr(labels))\n\u001b[0m\u001b[1;32m    152\u001b[0m         \u001b[0;32mreturn\u001b[0m \u001b[0mdistances\u001b[0m\u001b[0;34m,\u001b[0m \u001b[0mlabels\u001b[0m\u001b[0;34m\u001b[0m\u001b[0m\n\u001b[1;32m    153\u001b[0m \u001b[0;34m\u001b[0m\u001b[0m\n",
      "\u001b[0;32m~/miniconda/envs/py36/lib/python3.6/site-packages/faiss/swigfaiss_avx2.py\u001b[0m in \u001b[0;36msearch\u001b[0;34m(self, n, x, k, distances, labels)\u001b[0m\n\u001b[1;32m   2021\u001b[0m \u001b[0;34m\u001b[0m\u001b[0m\n\u001b[1;32m   2022\u001b[0m     \u001b[0;32mdef\u001b[0m \u001b[0msearch\u001b[0m\u001b[0;34m(\u001b[0m\u001b[0mself\u001b[0m\u001b[0;34m,\u001b[0m \u001b[0mn\u001b[0m\u001b[0;34m,\u001b[0m \u001b[0mx\u001b[0m\u001b[0;34m,\u001b[0m \u001b[0mk\u001b[0m\u001b[0;34m,\u001b[0m \u001b[0mdistances\u001b[0m\u001b[0;34m,\u001b[0m \u001b[0mlabels\u001b[0m\u001b[0;34m)\u001b[0m\u001b[0;34m:\u001b[0m\u001b[0;34m\u001b[0m\u001b[0m\n\u001b[0;32m-> 2023\u001b[0;31m         \u001b[0;32mreturn\u001b[0m \u001b[0m_swigfaiss_avx2\u001b[0m\u001b[0;34m.\u001b[0m\u001b[0mIndexFlat_search\u001b[0m\u001b[0;34m(\u001b[0m\u001b[0mself\u001b[0m\u001b[0;34m,\u001b[0m \u001b[0mn\u001b[0m\u001b[0;34m,\u001b[0m \u001b[0mx\u001b[0m\u001b[0;34m,\u001b[0m \u001b[0mk\u001b[0m\u001b[0;34m,\u001b[0m \u001b[0mdistances\u001b[0m\u001b[0;34m,\u001b[0m \u001b[0mlabels\u001b[0m\u001b[0;34m)\u001b[0m\u001b[0;34m\u001b[0m\u001b[0m\n\u001b[0m\u001b[1;32m   2024\u001b[0m \u001b[0;34m\u001b[0m\u001b[0m\n\u001b[1;32m   2025\u001b[0m     \u001b[0;32mdef\u001b[0m \u001b[0mrange_search\u001b[0m\u001b[0;34m(\u001b[0m\u001b[0mself\u001b[0m\u001b[0;34m,\u001b[0m \u001b[0mn\u001b[0m\u001b[0;34m,\u001b[0m \u001b[0mx\u001b[0m\u001b[0;34m,\u001b[0m \u001b[0mradius\u001b[0m\u001b[0;34m,\u001b[0m \u001b[0mresult\u001b[0m\u001b[0;34m)\u001b[0m\u001b[0;34m:\u001b[0m\u001b[0;34m\u001b[0m\u001b[0m\n",
      "\u001b[0;31mKeyboardInterrupt\u001b[0m: "
     ]
    }
   ],
   "source": [
    "from lib.dknn_attack_l2 import DKNNL2Attack\n",
    "attack = DKNNL2Attack()\n",
    "\n",
    "def attack_batch(x, y, batch_size, layer):\n",
    "    x_a = torch.zeros_like(x)\n",
    "    total_num = x.size(0)\n",
    "    num_batches = total_num // batch_size\n",
    "    for i in range(num_batches):\n",
    "        begin = i * batch_size\n",
    "        end = (i + 1) * batch_size\n",
    "        x_a[begin:end] = attack(\n",
    "            dknn, x[begin:end], y[begin:end],\n",
    "            guide_layer=layer, m=300, binary_search_steps=10,\n",
    "            max_iterations=500, learning_rate=1e-2, initial_const=1e-5,\n",
    "            abort_early=False, random_start=True, guide_mode=2)\n",
    "    return x_a\n",
    "\n",
    "num = 100\n",
    "ind = np.where(y_pred.argmax(1) == y_test.numpy())[0]\n",
    "x_adv = attack_batch(x_test[ind][:num].cuda(), y_test[ind][:num], 100, layers[0])"
   ]
  },
  {
   "cell_type": "code",
   "execution_count": null,
   "metadata": {
    "scrolled": true
   },
   "outputs": [
    {
     "name": "stdout",
     "output_type": "stream",
     "text": [
      "    step: 0; loss: 21.100; l2dist: 0.000\n",
      "    step: 100; loss: 2.900; l2dist: 1.321\n",
      "    step: 200; loss: 5.201; l2dist: 1.305\n",
      "    step: 300; loss: 2.720; l2dist: 1.291\n",
      "    step: 400; loss: 3.637; l2dist: 1.284\n",
      "    step: 500; loss: 2.557; l2dist: 1.299\n",
      "    step: 600; loss: 3.194; l2dist: 1.308\n",
      "    step: 700; loss: 2.531; l2dist: 1.281\n",
      "    step: 800; loss: 3.008; l2dist: 1.283\n",
      "    step: 900; loss: 2.393; l2dist: 1.273\n",
      "tensor(68., device='cuda:0')\n",
      "binary step: 0; number of successful adv: 86/100\n",
      "    step: 0; loss: 86.745; l2dist: 0.000\n",
      "    step: 100; loss: 3.584; l2dist: 1.420\n",
      "    step: 200; loss: 14.398; l2dist: 1.390\n",
      "    step: 300; loss: 3.533; l2dist: 1.397\n",
      "    step: 400; loss: 8.149; l2dist: 1.367\n",
      "    step: 500; loss: 3.216; l2dist: 1.376\n",
      "    step: 600; loss: 6.926; l2dist: 1.363\n",
      "    step: 700; loss: 2.996; l2dist: 1.353\n",
      "    step: 800; loss: 6.676; l2dist: 1.374\n",
      "    step: 900; loss: 3.086; l2dist: 1.388\n",
      "tensor(78., device='cuda:0')\n",
      "binary step: 1; number of successful adv: 97/100\n",
      "    step: 0; loss: 204.001; l2dist: 0.000\n",
      "    step: 100; loss: 3.491; l2dist: 1.367\n",
      "    step: 200; loss: 39.980; l2dist: 1.328\n",
      "    step: 300; loss: 3.528; l2dist: 1.374\n",
      "    step: 400; loss: 14.203; l2dist: 1.370\n",
      "    step: 500; loss: 3.485; l2dist: 1.370\n",
      "    step: 600; loss: 7.338; l2dist: 1.365\n",
      "    step: 700; loss: 2.937; l2dist: 1.337\n",
      "    step: 800; loss: 10.796; l2dist: 1.329\n",
      "    step: 900; loss: 3.074; l2dist: 1.355\n",
      "tensor(69., device='cuda:0')\n",
      "binary step: 2; number of successful adv: 100/100\n",
      "    step: 0; loss: 126.025; l2dist: 0.000\n",
      "    step: 100; loss: 3.368; l2dist: 1.292\n",
      "    step: 200; loss: 22.284; l2dist: 1.249\n",
      "    step: 300; loss: 4.296; l2dist: 1.290\n",
      "    step: 400; loss: 10.309; l2dist: 1.279\n",
      "    step: 500; loss: 3.140; l2dist: 1.316\n",
      "    step: 600; loss: 7.657; l2dist: 1.296\n",
      "    step: 700; loss: 3.473; l2dist: 1.314\n",
      "    step: 800; loss: 7.606; l2dist: 1.293\n",
      "    step: 900; loss: 2.909; l2dist: 1.301\n",
      "tensor(65., device='cuda:0')\n",
      "binary step: 3; number of successful adv: 100/100\n",
      "    step: 0; loss: 117.700; l2dist: 0.000\n",
      "    step: 100; loss: 3.093; l2dist: 1.231\n",
      "    step: 200; loss: 17.196; l2dist: 1.210\n",
      "    step: 300; loss: 3.100; l2dist: 1.221\n",
      "    step: 400; loss: 6.240; l2dist: 1.218\n",
      "    step: 500; loss: 2.781; l2dist: 1.227\n",
      "    step: 600; loss: 4.721; l2dist: 1.233\n",
      "    step: 700; loss: 2.868; l2dist: 1.209\n",
      "    step: 800; loss: 5.310; l2dist: 1.209\n",
      "    step: 900; loss: 2.556; l2dist: 1.221\n",
      "tensor(66., device='cuda:0')\n",
      "binary step: 4; number of successful adv: 100/100\n",
      "    step: 0; loss: 102.282; l2dist: 0.000\n",
      "    step: 100; loss: 3.180; l2dist: 1.217\n",
      "    step: 200; loss: 21.679; l2dist: 1.188\n",
      "    step: 300; loss: 3.307; l2dist: 1.225\n",
      "    step: 400; loss: 9.907; l2dist: 1.230\n",
      "    step: 500; loss: 2.842; l2dist: 1.228\n",
      "    step: 600; loss: 4.812; l2dist: 1.216\n",
      "    step: 700; loss: 2.742; l2dist: 1.238\n",
      "    step: 800; loss: 4.793; l2dist: 1.226\n",
      "    step: 900; loss: 2.720; l2dist: 1.212\n",
      "tensor(57., device='cuda:0')\n",
      "binary step: 5; number of successful adv: 100/100\n",
      "    step: 0; loss: 95.338; l2dist: 0.000\n",
      "    step: 100; loss: 3.076; l2dist: 1.197\n",
      "    step: 200; loss: 21.158; l2dist: 1.175\n",
      "    step: 300; loss: 3.808; l2dist: 1.225\n",
      "    step: 400; loss: 7.385; l2dist: 1.218\n",
      "    step: 500; loss: 2.813; l2dist: 1.225\n",
      "    step: 600; loss: 4.456; l2dist: 1.214\n",
      "    step: 700; loss: 2.705; l2dist: 1.232\n",
      "    step: 800; loss: 5.313; l2dist: 1.218\n",
      "    step: 900; loss: 2.744; l2dist: 1.225\n",
      "tensor(56., device='cuda:0')\n",
      "binary step: 6; number of successful adv: 100/100\n",
      "    step: 0; loss: 90.572; l2dist: 0.000\n",
      "    step: 100; loss: 2.942; l2dist: 1.184\n",
      "    step: 200; loss: 20.036; l2dist: 1.176\n",
      "    step: 300; loss: 2.852; l2dist: 1.196\n",
      "    step: 400; loss: 7.243; l2dist: 1.197\n",
      "    step: 500; loss: 2.621; l2dist: 1.199\n",
      "    step: 600; loss: 5.222; l2dist: 1.201\n",
      "    step: 700; loss: 2.561; l2dist: 1.208\n",
      "    step: 800; loss: 6.241; l2dist: 1.189\n"
     ]
    }
   ],
   "source": [
    "from lib.dknn_attack_exp import DKNNExpAttack\n",
    "\n",
    "attack = DKNNExpAttack(dknn)\n",
    "\n",
    "def attack_batch(x, y, batch_size):\n",
    "    x_adv = torch.zeros_like(x)\n",
    "    total_num = x.size(0)\n",
    "    num_batches = total_num // batch_size\n",
    "    for i in range(num_batches):\n",
    "        begin = i * batch_size\n",
    "        end = (i + 1) * batch_size\n",
    "        x_adv[begin:end] = attack(\n",
    "            x[begin:end], y[begin:end],\n",
    "            guide_layer=layers[0], m=6, binary_search_steps=10,\n",
    "            max_iterations=1000, learning_rate=1e-2,\n",
    "            initial_const=1e-2, random_start=False,\n",
    "            thres_steps=200, check_adv_steps=200, verbose=True)\n",
    "    return x_adv\n",
    "\n",
    "num = 100\n",
    "x_adv = attack_batch(x_test[ind][:num].cuda(), y_test[ind][:num], 100)"
   ]
  },
  {
   "cell_type": "code",
   "execution_count": 38,
   "metadata": {},
   "outputs": [
    {
     "data": {
      "text/plain": [
       "(array([93.,  6.,  0.,  0.,  0.,  0.,  0.,  0.,  0.,  1.]),\n",
       " array([0.0584 , 0.15256, 0.24672, 0.34088, 0.43504, 0.5292 , 0.62336,\n",
       "        0.71752, 0.81168, 0.90584, 1.     ]),\n",
       " <a list of 10 Patch objects>)"
      ]
     },
     "execution_count": 38,
     "metadata": {},
     "output_type": "execute_result"
    },
    {
     "data": {
      "image/png": "[encoded data removed]",
      "text/plain": [
       "<Figure size 432x288 with 1 Axes>"
      ]
     },
     "metadata": {
      "needs_background": "light"
     },
     "output_type": "display_data"
    }
   ],
   "source": [
    "cred = dknn.credibility(y_pred)\n",
    "plt.hist(cred)"
   ]
  },
  {
   "cell_type": "code",
   "execution_count": 34,
   "metadata": {},
   "outputs": [
    {
     "name": "stdout",
     "output_type": "stream",
     "text": [
      "Accuracy on x_adv: 0.0000\n",
      "Mean distance: 1.0605\n"
     ]
    }
   ],
   "source": [
    "y_pred = dknn.classify(x_adv)\n",
    "acc = (y_pred.argmax(1) == y_test[ind][:num].numpy()).sum() / len(y_pred)\n",
    "print('Accuracy on x_adv: %.4f' % acc)\n",
    "\n",
    "ind_adv = np.where(y_pred.argmax(1) != y_test[ind][:num].numpy())[0]\n",
    "dist = np.sqrt(np.sum((x_adv.cpu().detach().numpy() - x_test.numpy()[ind][:num])[ind_adv]**2, (1, 2, 3)))\n",
    "print('Mean distance: %.4f' % np.mean(dist))"
   ]
  },
  {
   "cell_type": "code",
   "execution_count": 34,
   "metadata": {
    "scrolled": true
   },
   "outputs": [
    {
     "data": {
      "image/png": "[encoded data removed]",
      "text/plain": [
       "<Figure size 432x288 with 1 Axes>"
      ]
     },
     "metadata": {
      "needs_background": "light"
     },
     "output_type": "display_data"
    },
    {
     "data": {
      "image/png": "[encoded data removed]",
      "text/plain": [
       "<Figure size 432x288 with 1 Axes>"
      ]
     },
     "metadata": {
      "needs_background": "light"
     },
     "output_type": "display_data"
    },
    {
     "data": {
      "image/png": "[encoded data removed]",
      "text/plain": [
       "<Figure size 432x288 with 1 Axes>"
      ]
     },
     "metadata": {
      "needs_background": "light"
     },
     "output_type": "display_data"
    },
    {
     "data": {
      "image/png": "[encoded data removed]",
      "text/plain": [
       "<Figure size 432x288 with 1 Axes>"
      ]
     },
     "metadata": {
      "needs_background": "light"
     },
     "output_type": "display_data"
    },
    {
     "data": {
      "image/png": "[encoded data removed]",
      "text/plain": [
       "<Figure size 432x288 with 1 Axes>"
      ]
     },
     "metadata": {
      "needs_background": "light"
     },
     "output_type": "display_data"
    }
   ],
   "source": [
    "for i in range(5):\n",
    "    plt.imshow(x_adv[i].cpu().detach().permute(1, 2, 0).numpy())\n",
    "    plt.show()"
   ]
  },
  {
   "cell_type": "markdown",
   "metadata": {},
   "source": [
    "---\n",
    "\n",
    "## RotNet\n",
    "\n",
    "Train small network on top of pre-trained rotation network"
   ]
  },
  {
   "cell_type": "code",
   "execution_count": 27,
   "metadata": {},
   "outputs": [],
   "source": [
    "opt = {'num_classes': 4, 'num_stages': 4}\n",
    "net = NetworkInNetwork(opt)"
   ]
  },
  {
   "cell_type": "code",
   "execution_count": 28,
   "metadata": {},
   "outputs": [],
   "source": [
    "net.load_state_dict(torch.load('saved_models/model_net_epoch200')['network'])"
   ]
  },
  {
   "cell_type": "code",
   "execution_count": 29,
   "metadata": {},
   "outputs": [],
   "source": [
    "net = net._feature_blocks"
   ]
  },
  {
   "cell_type": "code",
   "execution_count": 30,
   "metadata": {
    "scrolled": true
   },
   "outputs": [],
   "source": [
    "net_wrap = NINWrapper(net, block=2)\n",
    "net_wrap = net_wrap.cuda().eval()"
   ]
  },
  {
   "cell_type": "code",
   "execution_count": 33,
   "metadata": {},
   "outputs": [],
   "source": [
    "# net_wrap.fc = nn.Sequential(\n",
    "#     nn.Linear(12288, 200),\n",
    "#     nn.ReLU(inplace=True),\n",
    "#     nn.Linear(200, 200),\n",
    "#     nn.ReLU(inplace=True),\n",
    "#     nn.Linear(200, 128))\n",
    "net_wrap.fc = nn.Sequential(\n",
    "    nn.Linear(12288, 2000),\n",
    "    nn.ReLU(inplace=True),\n",
    "    nn.Linear(2000, 400),\n",
    "    nn.ReLU(inplace=True),\n",
    "    nn.Linear(400, 128))\n",
    "net_wrap = net_wrap.to('cuda')"
   ]
  },
  {
   "cell_type": "code",
   "execution_count": 44,
   "metadata": {},
   "outputs": [],
   "source": [
    "net_wrap.load_state_dict(torch.load('saved_models/transfer_cifar10_exp11.h5'))"
   ]
  },
  {
   "cell_type": "code",
   "execution_count": 81,
   "metadata": {},
   "outputs": [],
   "source": [
    "net = PreActResNet(PreActBlock, [2, 2, 2, 2], num_classes=4)\n",
    "net.load_state_dict(torch.load('saved_models/rot_cifar10_exp0.h5'))\n",
    "net_wrap = ResNetWrapper(net, block=3, dim=16384)\n",
    "for param in net_wrap.parameters():\n",
    "    param.requires_grad = False\n",
    "# net_wrap.fc = nn.Sequential(\n",
    "#     nn.Linear(16384, 2000),\n",
    "#     nn.ReLU(inplace=True),\n",
    "#     nn.Linear(2000, 400),\n",
    "#     nn.ReLU(inplace=True),\n",
    "#     nn.Linear(400, 128),\n",
    "# )\n",
    "net_wrap.fc = nn.Sequential(\n",
    "    nn.BatchNorm1d(16384),\n",
    "    nn.Linear(16384, 2000),\n",
    "    nn.ReLU(inplace=True),\n",
    "    nn.BatchNorm1d(2000),\n",
    "    nn.Linear(2000, 400),\n",
    "    nn.ReLU(inplace=True),\n",
    "    nn.BatchNorm1d(400),\n",
    "    nn.Linear(400, 128),\n",
    ")\n",
    "net_wrap.load_state_dict(torch.load('saved_models/transfer_cifar10_exp18.h5'))\n",
    "net_wrap = net_wrap.to('cuda').eval()"
   ]
  },
  {
   "cell_type": "code",
   "execution_count": 82,
   "metadata": {
    "scrolled": true
   },
   "outputs": [],
   "source": [
    "layers = ['fc']\n",
    "\n",
    "dknn = DKNNL2(net_wrap, x_train, y_train, x_valid, y_valid, layers, \n",
    "              k=1, num_classes=10)"
   ]
  },
  {
   "cell_type": "code",
   "execution_count": 101,
   "metadata": {},
   "outputs": [
    {
     "name": "stdout",
     "output_type": "stream",
     "text": [
      "0.7015\n"
     ]
    }
   ],
   "source": [
    "with torch.no_grad():\n",
    "    y_pred = dknn.classify(x_test)\n",
    "    print((y_pred.argmax(1) == y_test.numpy()).sum() / y_test.size(0))"
   ]
  },
  {
   "cell_type": "code",
   "execution_count": 99,
   "metadata": {},
   "outputs": [
    {
     "name": "stdout",
     "output_type": "stream",
     "text": [
      "0.0011\n"
     ]
    }
   ],
   "source": [
    "with torch.no_grad():\n",
    "    num = 0\n",
    "    for i in range(x_test.size(0) // 100):\n",
    "        begin = i * 100\n",
    "        end = (i + 1) * 100\n",
    "        y_pred = net_wrap(x_test[begin:end].to('cuda'))\n",
    "        num += (y_pred.argmax(1).cpu() == y_test[begin:end]).sum().numpy()\n",
    "    print(num / y_test.size(0))"
   ]
  },
  {
   "cell_type": "code",
   "execution_count": 59,
   "metadata": {},
   "outputs": [],
   "source": [
    "x_adv = pickle.load(open('x_adv/x_adv_adv_cifar10_exp0.h5.p', 'rb'))\n",
    "# x_adv = pickle.load(open('x_adv/x_ba_cifar10_adv2_0.2_0.001.p', 'rb'))\n",
    "# x_adv = pickle.load(open('x_adv/x_adv_cifar10_resnet_exp2.h5.p', 'rb'))"
   ]
  },
  {
   "cell_type": "code",
   "execution_count": 56,
   "metadata": {},
   "outputs": [],
   "source": [
    "torchvision.utils.save_image(x_adv[:10], 'cifar10_cw_adv.png', nrow=10, padding=0)"
   ]
  },
  {
   "cell_type": "code",
   "execution_count": 10,
   "metadata": {},
   "outputs": [],
   "source": [
    "torchvision.utils.save_image(x_test[:10], 'cifar10_test.png', nrow=10, padding=0)"
   ]
  },
  {
   "cell_type": "code",
   "execution_count": 60,
   "metadata": {},
   "outputs": [],
   "source": []
  },
  {
   "cell_type": "code",
   "execution_count": 75,
   "metadata": {},
   "outputs": [],
   "source": [
    "diff = x_adv[:10].cpu() - x_test[:10]\n",
    "torchvision.utils.save_image(diff, 'diff_cw_adv.png', nrow=10, padding=0, normalize=True)"
   ]
  },
  {
   "cell_type": "code",
   "execution_count": 50,
   "metadata": {},
   "outputs": [
    {
     "data": {
      "text/plain": [
       "tensor([0.1601, 0.1639, 0.0439, 0.0925, 0.2344, 0.1875, 0.1263, 0.0629, 0.1313,\n",
       "        0.0308, 0.1699, 0.2601, 0.1186, 0.2549, 0.2104, 0.0949, 0.0168, 0.1908,\n",
       "        0.2373, 0.2276, 0.0749, 0.1144, 0.0599, 0.3487, 0.0113, 0.1286, 0.0399,\n",
       "        0.1052, 0.1184, 0.1812, 0.1033, 0.1054, 0.1015, 0.0491, 0.2473, 0.1405,\n",
       "        0.1351, 0.3051, 0.2656, 0.1246, 0.1826, 0.1177, 0.1306, 0.2810, 0.2485,\n",
       "        0.0251, 0.0446, 0.2726, 0.0799, 0.2484, 0.1870, 0.0150, 0.0376, 0.1555,\n",
       "        0.1845, 0.0784, 0.0302, 0.0403, 0.0080, 0.1847, 0.1957, 0.1100, 0.0935,\n",
       "        0.1443, 0.0339, 0.1736, 0.0629, 0.1216, 0.0863, 0.1177, 0.0650, 0.1191,\n",
       "        0.1149, 0.3842, 0.2538, 0.1573, 0.1572, 0.1589, 0.0625, 0.2314, 0.1450,\n",
       "        0.0575, 0.0426, 0.0426, 0.0458, 0.2055, 0.2434, 0.1804, 0.0808, 0.2458,\n",
       "        0.2491, 0.0758, 0.0949, 0.1004, 0.0661, 0.2742, 0.2168, 0.0666, 0.0765,\n",
       "        0.2380])"
      ]
     },
     "execution_count": 50,
     "metadata": {},
     "output_type": "execute_result"
    }
   ],
   "source": [
    "(x_adv - x_test[ind])[:100].view(100, -1).norm(2, 1)"
   ]
  },
  {
   "cell_type": "code",
   "execution_count": null,
   "metadata": {},
   "outputs": [],
   "source": [
    "(x_adv.cpu() - x_test[ind][:100]).view(100, -1).norm(2, 1)"
   ]
  }
 ],
 "metadata": {
  "kernelspec": {
   "display_name": "Python 3",
   "language": "python",
   "name": "python3"
  },
  "language_info": {
   "codemirror_mode": {
    "name": "ipython",
    "version": 3
   },
   "file_extension": ".py",
   "mimetype": "text/x-python",
   "name": "python",
   "nbconvert_exporter": "python",
   "pygments_lexer": "ipython3",
   "version": "3.6.5"
  }
 },
 "nbformat": 4,
 "nbformat_minor": 4
}
