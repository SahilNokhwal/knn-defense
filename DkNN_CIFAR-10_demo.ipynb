{
 "cells": [
  {
   "cell_type": "code",
   "execution_count": 1,
   "metadata": {},
   "outputs": [],
   "source": [
    "%matplotlib inline\n",
    "\n",
    "%load_ext autoreload\n",
    "%autoreload 2"
   ]
  },
  {
   "cell_type": "code",
   "execution_count": 2,
   "metadata": {},
   "outputs": [],
   "source": [
    "import logging\n",
    "import os\n",
    "import time\n",
    "\n",
    "import numpy as np\n",
    "import matplotlib.pyplot as plt\n",
    "import foolbox\n",
    "import torch\n",
    "import torch.backends.cudnn as cudnn\n",
    "import torch.nn as nn\n",
    "import torch.optim as optim\n",
    "\n",
    "from lib.dataset_utils import *\n",
    "from lib.cifar_resnet import *\n",
    "from lib.adv_model import *\n",
    "from lib.dknn_attack import DKNNAttack\n",
    "from lib.cwl2_attack import CWL2Attack\n",
    "from lib.dknn import DKNN, DKNNL2\n",
    "from lib.utils import *\n",
    "from lib.lip_model import *\n",
    "from lib.knn import *\n",
    "from lib.nin import *\n",
    "from lib.cifar10_model import *\n",
    "\n",
    "from lib.cifar10_dcgan import Discriminator, Generator"
   ]
  },
  {
   "cell_type": "code",
   "execution_count": 3,
   "metadata": {},
   "outputs": [],
   "source": [
    "import os\n",
    "os.environ[\"CUDA_DEVICE_ORDER\"] = \"PCI_BUS_ID\"\n",
    "os.environ[\"CUDA_VISIBLE_DEVICES\"] = \"1\""
   ]
  },
  {
   "cell_type": "code",
   "execution_count": 4,
   "metadata": {},
   "outputs": [
    {
     "data": {
      "text/plain": [
       "<torch._C.Generator at 0x7f92fff37650>"
      ]
     },
     "execution_count": 4,
     "metadata": {},
     "output_type": "execute_result"
    }
   ],
   "source": [
    "# Set all random seeds\n",
    "seed = 2019\n",
    "np.random.seed(seed)\n",
    "torch.manual_seed(seed)"
   ]
  },
  {
   "cell_type": "code",
   "execution_count": 5,
   "metadata": {},
   "outputs": [
    {
     "name": "stdout",
     "output_type": "stream",
     "text": [
      "Files already downloaded and verified\n",
      "Files already downloaded and verified\n",
      "Files already downloaded and verified\n"
     ]
    }
   ],
   "source": [
    "(x_train, y_train), (x_valid, y_valid), (x_test, y_test) = load_cifar10_all(\n",
    "    '/data', val_size=0.1, seed=seed)"
   ]
  },
  {
   "cell_type": "markdown",
   "metadata": {},
   "source": [
    "---\n",
    "\n",
    "Load Models"
   ]
  },
  {
   "cell_type": "code",
   "execution_count": 6,
   "metadata": {},
   "outputs": [],
   "source": [
    "exp_id = 2\n",
    "\n",
    "model_name = 'cifar10_resnet_exp%d.h5' % exp_id\n",
    "# model_name = 'adv_cifar10_exp%d.h5' % exp_id\n",
    "# model_name = 'train_cifar10_vae_exp%d.h5' % exp_id\n",
    "# model_name = 'rot_cifar10_exp%d.h5' % exp_id\n",
    "# model_name = 'ae_cifar10_exp%d.h5' % exp_id"
   ]
  },
  {
   "cell_type": "code",
   "execution_count": 7,
   "metadata": {},
   "outputs": [],
   "source": [
    "net = PreActResNet(PreActBlock, [2, 2, 2, 2], num_classes=10)\n",
    "net = torch.nn.DataParallel(net)\n",
    "cudnn.benchmark = True\n",
    "net.load_state_dict(torch.load('saved_models/' + model_name))\n",
    "net = net.module\n",
    "net = net.eval().to('cuda')"
   ]
  },
  {
   "cell_type": "code",
   "execution_count": 52,
   "metadata": {
    "scrolled": true
   },
   "outputs": [],
   "source": [
    "net = PreActResNet(PreActBlock, [2, 2, 2, 2]).eval()\n",
    "config = {'num_steps': 8,\n",
    "          'step_size': 0.05,\n",
    "          'random_start': True,\n",
    "          'loss_func': 'xent'}\n",
    "net = PGDL2Model(net, config)\n",
    "\n",
    "net.load_state_dict(torch.load('saved_models/' + model_name))\n",
    "net = net.basic_net\n",
    "net = net.eval().to('cuda')"
   ]
  },
  {
   "cell_type": "code",
   "execution_count": null,
   "metadata": {},
   "outputs": [],
   "source": [
    "net = CIFAR10_VAE((3, 32, 32), latent_dim=128)\n",
    "net.load_state_dict(torch.load('saved_models/' + model_name))\n",
    "net = net.eval().to('cuda')"
   ]
  },
  {
   "cell_type": "code",
   "execution_count": 57,
   "metadata": {},
   "outputs": [],
   "source": [
    "net = PreActResNet(PreActBlock, [2, 2, 2, 2], num_classes=4)\n",
    "net.load_state_dict(torch.load('saved_models/' + model_name))\n",
    "net = net.eval().to('cuda')"
   ]
  },
  {
   "cell_type": "code",
   "execution_count": 44,
   "metadata": {},
   "outputs": [],
   "source": [
    "net = CIFAR10_AE((3, 32, 32), latent_dim=128)\n",
    "net.load_state_dict(torch.load('saved_models/' + model_name))\n",
    "net = net.eval().to('cuda')"
   ]
  },
  {
   "cell_type": "code",
   "execution_count": 8,
   "metadata": {
    "scrolled": true
   },
   "outputs": [
    {
     "data": {
      "text/plain": [
       "PreActResNet(\n",
       "  (conv1): Conv2d(3, 64, kernel_size=(3, 3), stride=(1, 1), padding=(1, 1), bias=False)\n",
       "  (layer1): Sequential(\n",
       "    (0): PreActBlock(\n",
       "      (bn1): BatchNorm2d(64, eps=1e-05, momentum=0.1, affine=True, track_running_stats=True)\n",
       "      (conv1): Conv2d(64, 64, kernel_size=(3, 3), stride=(1, 1), padding=(1, 1), bias=False)\n",
       "      (bn2): BatchNorm2d(64, eps=1e-05, momentum=0.1, affine=True, track_running_stats=True)\n",
       "      (conv2): Conv2d(64, 64, kernel_size=(3, 3), stride=(1, 1), padding=(1, 1), bias=False)\n",
       "    )\n",
       "    (1): PreActBlock(\n",
       "      (bn1): BatchNorm2d(64, eps=1e-05, momentum=0.1, affine=True, track_running_stats=True)\n",
       "      (conv1): Conv2d(64, 64, kernel_size=(3, 3), stride=(1, 1), padding=(1, 1), bias=False)\n",
       "      (bn2): BatchNorm2d(64, eps=1e-05, momentum=0.1, affine=True, track_running_stats=True)\n",
       "      (conv2): Conv2d(64, 64, kernel_size=(3, 3), stride=(1, 1), padding=(1, 1), bias=False)\n",
       "    )\n",
       "  )\n",
       "  (layer2): Sequential(\n",
       "    (0): PreActBlock(\n",
       "      (bn1): BatchNorm2d(64, eps=1e-05, momentum=0.1, affine=True, track_running_stats=True)\n",
       "      (conv1): Conv2d(64, 128, kernel_size=(3, 3), stride=(2, 2), padding=(1, 1), bias=False)\n",
       "      (bn2): BatchNorm2d(128, eps=1e-05, momentum=0.1, affine=True, track_running_stats=True)\n",
       "      (conv2): Conv2d(128, 128, kernel_size=(3, 3), stride=(1, 1), padding=(1, 1), bias=False)\n",
       "      (shortcut): Sequential(\n",
       "        (0): Conv2d(64, 128, kernel_size=(1, 1), stride=(2, 2), bias=False)\n",
       "      )\n",
       "    )\n",
       "    (1): PreActBlock(\n",
       "      (bn1): BatchNorm2d(128, eps=1e-05, momentum=0.1, affine=True, track_running_stats=True)\n",
       "      (conv1): Conv2d(128, 128, kernel_size=(3, 3), stride=(1, 1), padding=(1, 1), bias=False)\n",
       "      (bn2): BatchNorm2d(128, eps=1e-05, momentum=0.1, affine=True, track_running_stats=True)\n",
       "      (conv2): Conv2d(128, 128, kernel_size=(3, 3), stride=(1, 1), padding=(1, 1), bias=False)\n",
       "    )\n",
       "  )\n",
       "  (layer3): Sequential(\n",
       "    (0): PreActBlock(\n",
       "      (bn1): BatchNorm2d(128, eps=1e-05, momentum=0.1, affine=True, track_running_stats=True)\n",
       "      (conv1): Conv2d(128, 256, kernel_size=(3, 3), stride=(2, 2), padding=(1, 1), bias=False)\n",
       "      (bn2): BatchNorm2d(256, eps=1e-05, momentum=0.1, affine=True, track_running_stats=True)\n",
       "      (conv2): Conv2d(256, 256, kernel_size=(3, 3), stride=(1, 1), padding=(1, 1), bias=False)\n",
       "      (shortcut): Sequential(\n",
       "        (0): Conv2d(128, 256, kernel_size=(1, 1), stride=(2, 2), bias=False)\n",
       "      )\n",
       "    )\n",
       "    (1): PreActBlock(\n",
       "      (bn1): BatchNorm2d(256, eps=1e-05, momentum=0.1, affine=True, track_running_stats=True)\n",
       "      (conv1): Conv2d(256, 256, kernel_size=(3, 3), stride=(1, 1), padding=(1, 1), bias=False)\n",
       "      (bn2): BatchNorm2d(256, eps=1e-05, momentum=0.1, affine=True, track_running_stats=True)\n",
       "      (conv2): Conv2d(256, 256, kernel_size=(3, 3), stride=(1, 1), padding=(1, 1), bias=False)\n",
       "    )\n",
       "  )\n",
       "  (layer4): Sequential(\n",
       "    (0): PreActBlock(\n",
       "      (bn1): BatchNorm2d(256, eps=1e-05, momentum=0.1, affine=True, track_running_stats=True)\n",
       "      (conv1): Conv2d(256, 512, kernel_size=(3, 3), stride=(2, 2), padding=(1, 1), bias=False)\n",
       "      (bn2): BatchNorm2d(512, eps=1e-05, momentum=0.1, affine=True, track_running_stats=True)\n",
       "      (conv2): Conv2d(512, 512, kernel_size=(3, 3), stride=(1, 1), padding=(1, 1), bias=False)\n",
       "      (shortcut): Sequential(\n",
       "        (0): Conv2d(256, 512, kernel_size=(1, 1), stride=(2, 2), bias=False)\n",
       "      )\n",
       "    )\n",
       "    (1): PreActBlock(\n",
       "      (bn1): BatchNorm2d(512, eps=1e-05, momentum=0.1, affine=True, track_running_stats=True)\n",
       "      (conv1): Conv2d(512, 512, kernel_size=(3, 3), stride=(1, 1), padding=(1, 1), bias=False)\n",
       "      (bn2): BatchNorm2d(512, eps=1e-05, momentum=0.1, affine=True, track_running_stats=True)\n",
       "      (conv2): Conv2d(512, 512, kernel_size=(3, 3), stride=(1, 1), padding=(1, 1), bias=False)\n",
       "    )\n",
       "  )\n",
       "  (linear): Linear(in_features=512, out_features=10, bias=True)\n",
       ")"
      ]
     },
     "execution_count": 8,
     "metadata": {},
     "output_type": "execute_result"
    }
   ],
   "source": [
    "net"
   ]
  },
  {
   "cell_type": "code",
   "execution_count": 8,
   "metadata": {},
   "outputs": [
    {
     "name": "stdout",
     "output_type": "stream",
     "text": [
      "0.9303\n"
     ]
    }
   ],
   "source": [
    "ind = np.zeros(x_test.size(0))\n",
    "with torch.no_grad():\n",
    "    num = 0\n",
    "    for i in range(x_test.size(0) // 100):\n",
    "        begin = i * 100\n",
    "        end = (i + 1) * 100\n",
    "        y_pred = net(x_test[begin:end].to('cuda'))\n",
    "        ind[begin:end] = (y_pred.argmax(1).cpu() == y_test[begin:end]).numpy()\n",
    "        num += (y_pred.argmax(1).cpu() == y_test[begin:end]).sum().numpy()\n",
    "    print(num / y_test.size(0))\n",
    "ind = np.where(ind)[0]"
   ]
  },
  {
   "cell_type": "code",
   "execution_count": 73,
   "metadata": {},
   "outputs": [],
   "source": [
    "ind = ind[:100]"
   ]
  },
  {
   "cell_type": "code",
   "execution_count": 74,
   "metadata": {
    "scrolled": true
   },
   "outputs": [
    {
     "name": "stdout",
     "output_type": "stream",
     "text": [
      "    step: 0; loss: 0.031; l2dist: 0.000\n",
      "    step: 50; loss: 0.037; l2dist: 0.082\n",
      "binary step: 0; number of successful adv: 0/100\n",
      "    step: 0; loss: 0.308; l2dist: 0.000\n",
      "    step: 50; loss: 0.301; l2dist: 0.155\n",
      "    step: 100; loss: 0.293; l2dist: 0.113\n",
      "    step: 150; loss: 0.293; l2dist: 0.113\n",
      "    step: 200; loss: 0.293; l2dist: 0.113\n",
      "binary step: 1; number of successful adv: 2/100\n",
      "    step: 0; loss: 3.035; l2dist: 0.000\n",
      "    step: 50; loss: 1.732; l2dist: 0.924\n",
      "    step: 100; loss: 1.723; l2dist: 0.918\n",
      "    step: 150; loss: 1.726; l2dist: 0.918\n",
      "binary step: 2; number of successful adv: 42/100\n",
      "    step: 0; loss: 19.278; l2dist: 0.000\n",
      "    step: 50; loss: 2.523; l2dist: 1.353\n",
      "    step: 100; loss: 2.549; l2dist: 1.363\n",
      "binary step: 3; number of successful adv: 90/100\n",
      "    step: 0; loss: 36.908; l2dist: 0.000\n",
      "    step: 50; loss: 2.900; l2dist: 1.422\n",
      "    step: 100; loss: 2.746; l2dist: 1.384\n",
      "    step: 150; loss: 2.665; l2dist: 1.378\n",
      "    step: 200; loss: 2.779; l2dist: 1.435\n",
      "binary step: 4; number of successful adv: 100/100\n"
     ]
    }
   ],
   "source": [
    "attack = CWL2Attack()\n",
    "\n",
    "def attack_batch(x, y, batch_size):\n",
    "    x_adv = torch.zeros_like(x)\n",
    "    total_num = x.size(0)\n",
    "    num_batches = total_num // batch_size\n",
    "    for i in range(num_batches):\n",
    "        begin = i * batch_size\n",
    "        end = (i + 1) * batch_size\n",
    "        x_adv[begin:end] = attack(\n",
    "            net, x[begin:end], y[begin:end], targeted=False,\n",
    "            binary_search_steps=5, max_iterations=500,\n",
    "            confidence=0, learning_rate=1e-1,\n",
    "            initial_const=1e-2, abort_early=True)\n",
    "    return x_adv\n",
    "\n",
    "x_adv = attack_batch(x_test[ind].cuda(), y_test[ind].cuda(), 100)"
   ]
  },
  {
   "cell_type": "code",
   "execution_count": 18,
   "metadata": {},
   "outputs": [
    {
     "name": "stdout",
     "output_type": "stream",
     "text": [
      "0.0\n"
     ]
    }
   ],
   "source": [
    "ind_adv = np.zeros(x_adv.size(0))\n",
    "with torch.no_grad():\n",
    "    num = 0\n",
    "    for i in range(x_adv.size(0) // 100):\n",
    "        begin = i * 100\n",
    "        end = (i + 1) * 100\n",
    "        y_pred = net(x_adv[begin:end].to('cuda'))\n",
    "        ind_adv[begin:end] = (y_pred.argmax(1).cpu() != y_test[ind][begin:end]).numpy()\n",
    "        num += (y_pred.argmax(1).cpu() == y_test[ind][begin:end]).sum().numpy()\n",
    "    print(num / x_adv.size(0))\n",
    "ind_adv = np.where(ind_adv)[0]"
   ]
  },
  {
   "cell_type": "code",
   "execution_count": 18,
   "metadata": {},
   "outputs": [
    {
     "name": "stdout",
     "output_type": "stream",
     "text": [
      "& 0.0012 & 0.0001 & 0.0001\n"
     ]
    }
   ],
   "source": [
    "pert = (x_adv.cpu() - x_test[ind]).view(x_adv.size(0), -1).norm(2, 1)\n",
    "d1 = (len(ind) - (pert[ind_adv] < 0.5).sum().numpy()) / y_test.size(0)\n",
    "d2 = (len(ind) - (pert[ind_adv] < 1).sum().numpy()) / y_test.size(0)\n",
    "d3 = (len(ind) - (pert[ind_adv] < 1.5).sum().numpy()) / y_test.size(0)\n",
    "print('& %.4f & %.4f & %.4f' % (d1, d2, d3))"
   ]
  },
  {
   "cell_type": "code",
   "execution_count": 19,
   "metadata": {},
   "outputs": [
    {
     "data": {
      "text/plain": [
       "tensor(0.1429)"
      ]
     },
     "execution_count": 19,
     "metadata": {},
     "output_type": "execute_result"
    }
   ],
   "source": [
    "pert[ind_adv].mean()"
   ]
  },
  {
   "cell_type": "markdown",
   "metadata": {},
   "source": [
    "---\n",
    "\n",
    "## DkNN"
   ]
  },
  {
   "cell_type": "code",
   "execution_count": 9,
   "metadata": {
    "scrolled": true
   },
   "outputs": [],
   "source": [
    "layers = ['layer4']\n",
    "\n",
    "dknn = DKNNL2(net, x_train, y_train, x_valid, y_valid, layers, \n",
    "              k=75, num_classes=10)"
   ]
  },
  {
   "cell_type": "code",
   "execution_count": 10,
   "metadata": {},
   "outputs": [
    {
     "name": "stdout",
     "output_type": "stream",
     "text": [
      "0.9301\n"
     ]
    }
   ],
   "source": [
    "with torch.no_grad():\n",
    "    y_pred = dknn.classify(x_test)\n",
    "    ind = np.where(y_pred.argmax(1) == y_test.numpy())[0]\n",
    "    print((y_pred.argmax(1) == y_test.numpy()).sum() / y_test.size(0))"
   ]
  },
  {
   "cell_type": "code",
   "execution_count": 47,
   "metadata": {},
   "outputs": [],
   "source": [
    "# Load x_adv from file\n",
    "# Skip this if you you want to generate attacks on the notebook\n",
    "\n",
    "x_adv = pickle.load(open('x_adv/x_adv_cifar10_resnet_exp2.h5.p', 'rb'))\n",
    "\n",
    "with torch.no_grad():\n",
    "    y_pred = dknn.classify(x_adv)\n",
    "    ind_adv = np.where(y_pred.argmax(1) != y_test[ind].numpy())[0]\n",
    "    print((y_pred.argmax(1) == y_test[ind].numpy()).sum() / y_pred.shape[0])"
   ]
  },
  {
   "cell_type": "code",
   "execution_count": 12,
   "metadata": {
    "scrolled": true
   },
   "outputs": [
    {
     "name": "stdout",
     "output_type": "stream",
     "text": [
      "    step: 0; loss: 12.708; l2dist: 0.217\n",
      "    step: 50; loss: 2.808; l2dist: 0.588\n",
      "    step: 100; loss: 2.620; l2dist: 0.459\n",
      "    step: 150; loss: 2.592; l2dist: 0.442\n",
      "    step: 200; loss: 2.583; l2dist: 0.436\n",
      "    step: 250; loss: 2.578; l2dist: 0.434\n",
      "    step: 300; loss: 2.575; l2dist: 0.433\n",
      "    step: 350; loss: 2.574; l2dist: 0.432\n",
      "    step: 400; loss: 2.573; l2dist: 0.432\n",
      "    step: 450; loss: 2.573; l2dist: 0.432\n",
      "tensor(100., device='cuda:0')\n",
      "binary step: 0; number of successful adv: 100/100\n",
      "    step: 0; loss: 6.368; l2dist: 0.217\n",
      "    step: 50; loss: 1.452; l2dist: 0.438\n",
      "    step: 100; loss: 1.384; l2dist: 0.381\n",
      "    step: 150; loss: 1.375; l2dist: 0.375\n",
      "    step: 200; loss: 1.372; l2dist: 0.374\n",
      "    step: 250; loss: 1.371; l2dist: 0.373\n",
      "    step: 300; loss: 1.369; l2dist: 0.372\n",
      "    step: 350; loss: 1.369; l2dist: 0.372\n",
      "    step: 400; loss: 1.370; l2dist: 0.373\n",
      "    step: 450; loss: 1.370; l2dist: 0.373\n",
      "tensor(100., device='cuda:0')\n",
      "binary step: 1; number of successful adv: 100/100\n",
      "    step: 0; loss: 3.205; l2dist: 0.217\n",
      "    step: 50; loss: 0.777; l2dist: 0.350\n",
      "    step: 100; loss: 0.752; l2dist: 0.325\n",
      "    step: 150; loss: 0.749; l2dist: 0.322\n",
      "    step: 200; loss: 0.748; l2dist: 0.322\n",
      "    step: 250; loss: 0.748; l2dist: 0.322\n",
      "    step: 300; loss: 0.747; l2dist: 0.322\n",
      "    step: 350; loss: 0.747; l2dist: 0.322\n",
      "    step: 400; loss: 0.747; l2dist: 0.322\n",
      "    step: 450; loss: 0.747; l2dist: 0.323\n",
      "tensor(100., device='cuda:0')\n",
      "binary step: 2; number of successful adv: 100/100\n",
      "    step: 0; loss: 1.622; l2dist: 0.217\n",
      "    step: 50; loss: 0.432; l2dist: 0.288\n",
      "    step: 100; loss: 0.423; l2dist: 0.278\n",
      "    step: 150; loss: 0.422; l2dist: 0.278\n",
      "    step: 200; loss: 0.422; l2dist: 0.278\n",
      "    step: 250; loss: 0.422; l2dist: 0.278\n",
      "    step: 300; loss: 0.422; l2dist: 0.278\n",
      "    step: 350; loss: 0.422; l2dist: 0.278\n",
      "    step: 400; loss: 0.422; l2dist: 0.278\n",
      "    step: 450; loss: 0.422; l2dist: 0.278\n",
      "tensor(100., device='cuda:0')\n",
      "binary step: 3; number of successful adv: 100/100\n",
      "    step: 0; loss: 0.836; l2dist: 0.217\n",
      "    step: 50; loss: 0.250; l2dist: 0.243\n",
      "    step: 100; loss: 0.247; l2dist: 0.238\n",
      "    step: 150; loss: 0.246; l2dist: 0.238\n",
      "    step: 200; loss: 0.246; l2dist: 0.238\n",
      "    step: 250; loss: 0.246; l2dist: 0.238\n",
      "    step: 300; loss: 0.246; l2dist: 0.239\n",
      "    step: 350; loss: 0.247; l2dist: 0.238\n",
      "    step: 400; loss: 0.246; l2dist: 0.238\n",
      "    step: 450; loss: 0.246; l2dist: 0.238\n",
      "tensor(99., device='cuda:0')\n",
      "binary step: 4; number of successful adv: 100/100\n",
      "    step: 0; loss: 0.446; l2dist: 0.217\n",
      "    step: 50; loss: 0.154; l2dist: 0.202\n",
      "    step: 100; loss: 0.152; l2dist: 0.200\n",
      "    step: 150; loss: 0.152; l2dist: 0.200\n",
      "    step: 200; loss: 0.152; l2dist: 0.200\n",
      "    step: 250; loss: 0.152; l2dist: 0.201\n",
      "    step: 300; loss: 0.152; l2dist: 0.201\n",
      "    step: 350; loss: 0.152; l2dist: 0.201\n",
      "    step: 400; loss: 0.152; l2dist: 0.201\n",
      "    step: 450; loss: 0.152; l2dist: 0.201\n",
      "tensor(98., device='cuda:0')\n",
      "binary step: 5; number of successful adv: 100/100\n",
      "    step: 0; loss: 0.262; l2dist: 0.216\n",
      "    step: 50; loss: 0.099; l2dist: 0.166\n",
      "    step: 100; loss: 0.098; l2dist: 0.165\n",
      "    step: 150; loss: 0.098; l2dist: 0.165\n",
      "    step: 200; loss: 0.098; l2dist: 0.165\n",
      "    step: 250; loss: 0.098; l2dist: 0.166\n",
      "    step: 300; loss: 0.098; l2dist: 0.166\n",
      "    step: 350; loss: 0.098; l2dist: 0.166\n",
      "    step: 400; loss: 0.098; l2dist: 0.166\n",
      "    step: 450; loss: 0.098; l2dist: 0.166\n",
      "tensor(81., device='cuda:0')\n",
      "binary step: 6; number of successful adv: 100/100\n",
      "    step: 0; loss: 0.215; l2dist: 0.216\n",
      "    step: 50; loss: 0.080; l2dist: 0.145\n",
      "    step: 100; loss: 0.079; l2dist: 0.144\n",
      "    step: 150; loss: 0.079; l2dist: 0.145\n",
      "    step: 200; loss: 0.079; l2dist: 0.145\n",
      "    step: 250; loss: 0.079; l2dist: 0.145\n",
      "    step: 300; loss: 0.079; l2dist: 0.145\n",
      "    step: 350; loss: 0.079; l2dist: 0.145\n",
      "    step: 400; loss: 0.079; l2dist: 0.145\n",
      "    step: 450; loss: 0.079; l2dist: 0.145\n",
      "tensor(64., device='cuda:0')\n",
      "binary step: 7; number of successful adv: 100/100\n",
      "    step: 0; loss: 0.205; l2dist: 0.216\n",
      "    step: 50; loss: 0.076; l2dist: 0.139\n",
      "    step: 100; loss: 0.075; l2dist: 0.138\n",
      "    step: 150; loss: 0.075; l2dist: 0.138\n",
      "    step: 200; loss: 0.075; l2dist: 0.138\n",
      "    step: 250; loss: 0.075; l2dist: 0.139\n",
      "    step: 300; loss: 0.075; l2dist: 0.139\n",
      "    step: 350; loss: 0.075; l2dist: 0.139\n",
      "    step: 400; loss: 0.075; l2dist: 0.139\n",
      "    step: 450; loss: 0.075; l2dist: 0.139\n",
      "tensor(56., device='cuda:0')\n",
      "binary step: 8; number of successful adv: 100/100\n",
      "    step: 0; loss: 0.229; l2dist: 0.216\n",
      "    step: 50; loss: 0.084; l2dist: 0.151\n",
      "    step: 100; loss: 0.083; l2dist: 0.150\n",
      "    step: 150; loss: 0.083; l2dist: 0.150\n",
      "    step: 200; loss: 0.083; l2dist: 0.150\n",
      "    step: 250; loss: 0.083; l2dist: 0.150\n",
      "    step: 300; loss: 0.083; l2dist: 0.150\n",
      "    step: 350; loss: 0.083; l2dist: 0.150\n",
      "    step: 400; loss: 0.083; l2dist: 0.150\n",
      "    step: 450; loss: 0.083; l2dist: 0.150\n",
      "tensor(92., device='cuda:0')\n",
      "binary step: 9; number of successful adv: 100/100\n"
     ]
    }
   ],
   "source": [
    "from lib.dknn_attack_l2 import DKNNL2Attack\n",
    "attack = DKNNL2Attack()\n",
    "\n",
    "def attack_batch(x, y, batch_size, layer):\n",
    "    x_a = torch.zeros_like(x)\n",
    "    total_num = x.size(0)\n",
    "    num_batches = total_num // batch_size\n",
    "    for i in range(num_batches):\n",
    "        begin = i * batch_size\n",
    "        end = (i + 1) * batch_size\n",
    "        x_a[begin:end] = attack(\n",
    "            dknn, x[begin:end], y[begin:end],\n",
    "            guide_layer=layer, m=300, binary_search_steps=10,\n",
    "            max_iterations=500, learning_rate=1e-2, initial_const=1e-5,\n",
    "            abort_early=False, random_start=True, guide=2)\n",
    "    return x_a\n",
    "\n",
    "num = 100\n",
    "ind = np.where(y_pred.argmax(1) == y_test.numpy())[0]\n",
    "x_adv = attack_batch(x_test[ind][:num].cuda(), y_test[ind][:num], 100, layers[0])"
   ]
  },
  {
   "cell_type": "code",
   "execution_count": 14,
   "metadata": {},
   "outputs": [
    {
     "data": {
      "text/plain": [
       "(array([97.,  2.,  0.,  0.,  0.,  0.,  0.,  0.,  0.,  1.]),\n",
       " array([0.065 , 0.1585, 0.252 , 0.3455, 0.439 , 0.5325, 0.626 , 0.7195,\n",
       "        0.813 , 0.9065, 1.    ]),\n",
       " <a list of 10 Patch objects>)"
      ]
     },
     "execution_count": 14,
     "metadata": {},
     "output_type": "execute_result"
    },
    {
     "data": {
      "image/png": "[encoded data removed]",
      "text/plain": [
       "<Figure size 432x288 with 1 Axes>"
      ]
     },
     "metadata": {
      "needs_background": "light"
     },
     "output_type": "display_data"
    }
   ],
   "source": [
    "cred = dknn.credibility(y_pred)\n",
    "plt.hist(cred)"
   ]
  },
  {
   "cell_type": "code",
   "execution_count": 22,
   "metadata": {},
   "outputs": [
    {
     "name": "stdout",
     "output_type": "stream",
     "text": [
      "Accuracy on x_adv: 0.0000\n",
      "Mean distance: 0.1499\n"
     ]
    }
   ],
   "source": [
    "y_pred = dknn.classify(x_adv)\n",
    "acc = (y_pred.argmax(1) == y_test[ind][:num].numpy()).sum() / len(y_pred)\n",
    "print('Accuracy on x_adv: %.4f' % acc)\n",
    "\n",
    "ind_adv = np.where(y_pred.argmax(1) != y_test[ind][:num].numpy())[0]\n",
    "dist = np.sqrt(np.sum((x_adv.cpu().detach().numpy() - x_test.numpy()[ind][:num])[ind_adv]**2, (1, 2, 3)))\n",
    "print('Mean distance: %.4f' % np.mean(dist))"
   ]
  },
  {
   "cell_type": "code",
   "execution_count": 23,
   "metadata": {
    "scrolled": true
   },
   "outputs": [
    {
     "data": {
      "image/png": "[encoded data removed]",
      "text/plain": [
       "<Figure size 432x288 with 1 Axes>"
      ]
     },
     "metadata": {
      "needs_background": "light"
     },
     "output_type": "display_data"
    },
    {
     "data": {
      "image/png": "[encoded data removed]",
      "text/plain": [
       "<Figure size 432x288 with 1 Axes>"
      ]
     },
     "metadata": {
      "needs_background": "light"
     },
     "output_type": "display_data"
    },
    {
     "data": {
      "image/png": "[encoded data removed]",
      "text/plain": [
       "<Figure size 432x288 with 1 Axes>"
      ]
     },
     "metadata": {
      "needs_background": "light"
     },
     "output_type": "display_data"
    },
    {
     "data": {
      "image/png": "[encoded data removed]",
      "text/plain": [
       "<Figure size 432x288 with 1 Axes>"
      ]
     },
     "metadata": {
      "needs_background": "light"
     },
     "output_type": "display_data"
    },
    {
     "data": {
      "image/png": "[encoded data removed]",
      "text/plain": [
       "<Figure size 432x288 with 1 Axes>"
      ]
     },
     "metadata": {
      "needs_background": "light"
     },
     "output_type": "display_data"
    }
   ],
   "source": [
    "for i in range(5):\n",
    "    plt.imshow(x_adv[i].cpu().detach().permute(1, 2, 0).numpy())\n",
    "    plt.show()"
   ]
  },
  {
   "cell_type": "markdown",
   "metadata": {},
   "source": [
    "---\n",
    "\n",
    "## RotNet\n",
    "\n",
    "Train small network on top of pre-trained rotation network"
   ]
  },
  {
   "cell_type": "code",
   "execution_count": 27,
   "metadata": {},
   "outputs": [],
   "source": [
    "opt = {'num_classes': 4, 'num_stages': 4}\n",
    "net = NetworkInNetwork(opt)"
   ]
  },
  {
   "cell_type": "code",
   "execution_count": 28,
   "metadata": {},
   "outputs": [],
   "source": [
    "net.load_state_dict(torch.load('saved_models/model_net_epoch200')['network'])"
   ]
  },
  {
   "cell_type": "code",
   "execution_count": 29,
   "metadata": {},
   "outputs": [],
   "source": [
    "net = net._feature_blocks"
   ]
  },
  {
   "cell_type": "code",
   "execution_count": 30,
   "metadata": {
    "scrolled": true
   },
   "outputs": [],
   "source": [
    "net_wrap = NINWrapper(net, block=2)\n",
    "net_wrap = net_wrap.cuda().eval()"
   ]
  },
  {
   "cell_type": "code",
   "execution_count": 33,
   "metadata": {},
   "outputs": [],
   "source": [
    "# net_wrap.fc = nn.Sequential(\n",
    "#     nn.Linear(12288, 200),\n",
    "#     nn.ReLU(inplace=True),\n",
    "#     nn.Linear(200, 200),\n",
    "#     nn.ReLU(inplace=True),\n",
    "#     nn.Linear(200, 128))\n",
    "net_wrap.fc = nn.Sequential(\n",
    "    nn.Linear(12288, 2000),\n",
    "    nn.ReLU(inplace=True),\n",
    "    nn.Linear(2000, 400),\n",
    "    nn.ReLU(inplace=True),\n",
    "    nn.Linear(400, 128))\n",
    "net_wrap = net_wrap.to('cuda')"
   ]
  },
  {
   "cell_type": "code",
   "execution_count": 44,
   "metadata": {},
   "outputs": [],
   "source": [
    "net_wrap.load_state_dict(torch.load('saved_models/transfer_cifar10_exp11.h5'))"
   ]
  },
  {
   "cell_type": "code",
   "execution_count": 81,
   "metadata": {},
   "outputs": [],
   "source": [
    "net = PreActResNet(PreActBlock, [2, 2, 2, 2], num_classes=4)\n",
    "net.load_state_dict(torch.load('saved_models/rot_cifar10_exp0.h5'))\n",
    "net_wrap = ResNetWrapper(net, block=3, dim=16384)\n",
    "for param in net_wrap.parameters():\n",
    "    param.requires_grad = False\n",
    "# net_wrap.fc = nn.Sequential(\n",
    "#     nn.Linear(16384, 2000),\n",
    "#     nn.ReLU(inplace=True),\n",
    "#     nn.Linear(2000, 400),\n",
    "#     nn.ReLU(inplace=True),\n",
    "#     nn.Linear(400, 128),\n",
    "# )\n",
    "net_wrap.fc = nn.Sequential(\n",
    "    nn.BatchNorm1d(16384),\n",
    "    nn.Linear(16384, 2000),\n",
    "    nn.ReLU(inplace=True),\n",
    "    nn.BatchNorm1d(2000),\n",
    "    nn.Linear(2000, 400),\n",
    "    nn.ReLU(inplace=True),\n",
    "    nn.BatchNorm1d(400),\n",
    "    nn.Linear(400, 128),\n",
    ")\n",
    "net_wrap.load_state_dict(torch.load('saved_models/transfer_cifar10_exp18.h5'))\n",
    "net_wrap = net_wrap.to('cuda').eval()"
   ]
  },
  {
   "cell_type": "code",
   "execution_count": 82,
   "metadata": {
    "scrolled": true
   },
   "outputs": [],
   "source": [
    "layers = ['fc']\n",
    "\n",
    "dknn = DKNNL2(net_wrap, x_train, y_train, x_valid, y_valid, layers, \n",
    "              k=1, num_classes=10)"
   ]
  },
  {
   "cell_type": "code",
   "execution_count": 101,
   "metadata": {},
   "outputs": [
    {
     "name": "stdout",
     "output_type": "stream",
     "text": [
      "0.7015\n"
     ]
    }
   ],
   "source": [
    "with torch.no_grad():\n",
    "    y_pred = dknn.classify(x_test)\n",
    "    print((y_pred.argmax(1) == y_test.numpy()).sum() / y_test.size(0))"
   ]
  },
  {
   "cell_type": "code",
   "execution_count": 99,
   "metadata": {},
   "outputs": [
    {
     "name": "stdout",
     "output_type": "stream",
     "text": [
      "0.0011\n"
     ]
    }
   ],
   "source": [
    "with torch.no_grad():\n",
    "    num = 0\n",
    "    for i in range(x_test.size(0) // 100):\n",
    "        begin = i * 100\n",
    "        end = (i + 1) * 100\n",
    "        y_pred = net_wrap(x_test[begin:end].to('cuda'))\n",
    "        num += (y_pred.argmax(1).cpu() == y_test[begin:end]).sum().numpy()\n",
    "    print(num / y_test.size(0))"
   ]
  },
  {
   "cell_type": "code",
   "execution_count": 59,
   "metadata": {},
   "outputs": [],
   "source": [
    "x_adv = pickle.load(open('x_adv/x_adv_adv_cifar10_exp0.h5.p', 'rb'))\n",
    "# x_adv = pickle.load(open('x_adv/x_ba_cifar10_adv2_0.2_0.001.p', 'rb'))\n",
    "# x_adv = pickle.load(open('x_adv/x_adv_cifar10_resnet_exp2.h5.p', 'rb'))"
   ]
  },
  {
   "cell_type": "code",
   "execution_count": 56,
   "metadata": {},
   "outputs": [],
   "source": [
    "torchvision.utils.save_image(x_adv[:10], 'cifar10_cw_adv.png', nrow=10, padding=0)"
   ]
  },
  {
   "cell_type": "code",
   "execution_count": 10,
   "metadata": {},
   "outputs": [],
   "source": [
    "torchvision.utils.save_image(x_test[:10], 'cifar10_test.png', nrow=10, padding=0)"
   ]
  },
  {
   "cell_type": "code",
   "execution_count": 60,
   "metadata": {},
   "outputs": [],
   "source": []
  },
  {
   "cell_type": "code",
   "execution_count": 75,
   "metadata": {},
   "outputs": [],
   "source": [
    "diff = x_adv[:10].cpu() - x_test[:10]\n",
    "torchvision.utils.save_image(diff, 'diff_cw_adv.png', nrow=10, padding=0, normalize=True)"
   ]
  },
  {
   "cell_type": "code",
   "execution_count": 50,
   "metadata": {},
   "outputs": [
    {
     "data": {
      "text/plain": [
       "tensor([0.1601, 0.1639, 0.0439, 0.0925, 0.2344, 0.1875, 0.1263, 0.0629, 0.1313,\n",
       "        0.0308, 0.1699, 0.2601, 0.1186, 0.2549, 0.2104, 0.0949, 0.0168, 0.1908,\n",
       "        0.2373, 0.2276, 0.0749, 0.1144, 0.0599, 0.3487, 0.0113, 0.1286, 0.0399,\n",
       "        0.1052, 0.1184, 0.1812, 0.1033, 0.1054, 0.1015, 0.0491, 0.2473, 0.1405,\n",
       "        0.1351, 0.3051, 0.2656, 0.1246, 0.1826, 0.1177, 0.1306, 0.2810, 0.2485,\n",
       "        0.0251, 0.0446, 0.2726, 0.0799, 0.2484, 0.1870, 0.0150, 0.0376, 0.1555,\n",
       "        0.1845, 0.0784, 0.0302, 0.0403, 0.0080, 0.1847, 0.1957, 0.1100, 0.0935,\n",
       "        0.1443, 0.0339, 0.1736, 0.0629, 0.1216, 0.0863, 0.1177, 0.0650, 0.1191,\n",
       "        0.1149, 0.3842, 0.2538, 0.1573, 0.1572, 0.1589, 0.0625, 0.2314, 0.1450,\n",
       "        0.0575, 0.0426, 0.0426, 0.0458, 0.2055, 0.2434, 0.1804, 0.0808, 0.2458,\n",
       "        0.2491, 0.0758, 0.0949, 0.1004, 0.0661, 0.2742, 0.2168, 0.0666, 0.0765,\n",
       "        0.2380])"
      ]
     },
     "execution_count": 50,
     "metadata": {},
     "output_type": "execute_result"
    }
   ],
   "source": [
    "(x_adv - x_test[ind])[:100].view(100, -1).norm(2, 1)"
   ]
  },
  {
   "cell_type": "code",
   "execution_count": null,
   "metadata": {},
   "outputs": [],
   "source": [
    "(x_adv.cpu() - x_test[ind][:100]).view(100, -1).norm(2, 1)"
   ]
  }
 ],
 "metadata": {
  "kernelspec": {
   "display_name": "Python 3",
   "language": "python",
   "name": "python3"
  },
  "language_info": {
   "codemirror_mode": {
    "name": "ipython",
    "version": 3
   },
   "file_extension": ".py",
   "mimetype": "text/x-python",
   "name": "python",
   "nbconvert_exporter": "python",
   "pygments_lexer": "ipython3",
   "version": "3.6.8"
  }
 },
 "nbformat": 4,
 "nbformat_minor": 2
}
